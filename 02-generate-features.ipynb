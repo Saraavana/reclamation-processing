{
 "cells": [
  {
   "cell_type": "code",
   "execution_count": null,
   "id": "bottom-seminar",
   "metadata": {
    "ExecuteTime": {
     "end_time": "2021-08-25T05:54:52.816759Z",
     "start_time": "2021-08-25T05:54:52.801451Z"
    }
   },
   "outputs": [],
   "source": [
    "# Enable autoreload\n",
    "%load_ext autoreload\n",
    "%autoreload 2"
   ]
  },
  {
   "cell_type": "code",
   "execution_count": null,
   "id": "earned-chair",
   "metadata": {
    "ExecuteTime": {
     "end_time": "2021-08-25T05:54:53.886754Z",
     "start_time": "2021-08-25T05:54:52.818982Z"
    }
   },
   "outputs": [],
   "source": [
    "import pandas as pd\n",
    "from tqdm.auto import tqdm\n",
    "import pickle\n",
    "from pathlib import Path\n",
    "import numpy as np\n",
    "from math import floor\n",
    "import re\n",
    "import nltk\n",
    "from nltk.tokenize import word_tokenize\n",
    "from nltk.corpus import stopwords\n",
    "from nltk.probability import FreqDist\n",
    "import matplotlib.pyplot as plt\n",
    "\n",
    "pd.set_option('max_columns',None)\n",
    "tqdm.pandas()"
   ]
  },
  {
   "cell_type": "markdown",
   "id": "tracked-bulletin",
   "metadata": {},
   "source": [
    "# Import Data"
   ]
  },
  {
   "cell_type": "code",
   "execution_count": null,
   "id": "practical-bidder",
   "metadata": {
    "ExecuteTime": {
     "end_time": "2021-08-25T05:55:27.316289Z",
     "start_time": "2021-08-25T05:54:53.888418Z"
    }
   },
   "outputs": [],
   "source": [
    "data_path = Path('./data/export_rech_2016_2020.pkl.bz2')\n",
    "\n",
    "if data_path.exists():\n",
    "    df_raw = pd.read_pickle(data_path)\n",
    "    \n",
    "display(df_raw.head(10))\n",
    "display(df_raw.info())"
   ]
  },
  {
   "cell_type": "code",
   "execution_count": null,
   "id": "stainless-therapy",
   "metadata": {
    "ExecuteTime": {
     "end_time": "2021-08-25T05:55:28.056415Z",
     "start_time": "2021-08-25T05:55:27.317878Z"
    }
   },
   "outputs": [],
   "source": [
    "df_featurize = df_raw[[\n",
    "    'VG_INKASSO', 'VERANST_SEGMENT', 'VG_ORT', 'VG_RAUM', 'VG_DATUM_VON', 'KAPELLE_NAME',\n",
    "    'VERANST_NAME', 'VERANST_PLZ', 'TARIF_NR', 'LOCATION', 'BAND', 'PROMOTER'\n",
    "]].copy()\n",
    "\n",
    "display(df_featurize.head(10))"
   ]
  },
  {
   "cell_type": "markdown",
   "id": "automated-tuesday",
   "metadata": {},
   "source": [
    "# Add Descriptive Statistics"
   ]
  },
  {
   "cell_type": "code",
   "execution_count": null,
   "id": "consecutive-length",
   "metadata": {
    "ExecuteTime": {
     "end_time": "2021-08-25T05:56:21.435055Z",
     "start_time": "2021-08-25T05:55:28.058633Z"
    }
   },
   "outputs": [],
   "source": [
    "data_path_descr_stat=Path('./data/export_descr_stat_2016_2020.pkl.bz2')\n",
    "\n",
    "data_path_loc = Path('./data/export_descr_stat_location_2016_2020.pkl.zip')\n",
    "data_path_band = Path('./data/export_descr_stat_band_2016_2020.pkl.zip')\n",
    "data_path_promoter = Path('./data/export_descr_stat_promoter_2016_2020.pkl.zip')\n",
    "\n",
    "stat_var = ['LOCATION', 'BAND', 'PROMOTER']\n",
    "df_stat = {}\n",
    "\n",
    "\n",
    "def get_descr_stat(row):\n",
    "    def descr_stat(row, var):\n",
    "        result = pd.Series(dtype='float64')\n",
    "\n",
    "        if not pd.isnull(row[var]):\n",
    "            inkasso = df_stat[var].loc[row[var]].copy()\n",
    "            if len(inkasso) > 1:\n",
    "                inkasso.remove(row['VG_INKASSO'])\n",
    "                result = pd.Series(inkasso).describe(percentiles=percentiles)\n",
    "                result = result.add_prefix('{}_'.format(var))\n",
    "\n",
    "        result.name = row.name\n",
    "        return result\n",
    "\n",
    "    descr_stat_result = pd.Series(dtype='float64')\n",
    "    for v in stat_var:\n",
    "        descr_stat_result = descr_stat_result.append(descr_stat(row, v))\n",
    "\n",
    "    return descr_stat_result\n",
    "\n",
    "\n",
    "if data_path_descr_stat.exists() :\n",
    "    df_featurize_descr_stat = pd.read_pickle(data_path_descr_stat)\n",
    "    \n",
    "elif data_path_loc.exists() and data_path_band.exists() and data_path_promoter.exists():\n",
    "    df_loc = pd.read_pickle(data_path_loc)\n",
    "    df_band = pd.read_pickle(data_path_band)\n",
    "    df_promoter = pd.read_pickle(data_path_promoter)\n",
    "\n",
    "    df_featurize_descr_stat = df_loc.merge(df_band, how='outer', on='ID').merge(df_promoter,\n",
    "                                                                                how='outer',\n",
    "                                                                                on='ID')\n",
    "else:\n",
    "\n",
    "    for v in tqdm(stat_var):\n",
    "        df_stat[v] = df_featurize.groupby(v)['VG_INKASSO'].apply(list)\n",
    "\n",
    "    percentiles = [round(x, 2) for x in np.linspace(0, 1, 21)[1:-1].tolist()]\n",
    "\n",
    "    df_featurize_descr_stat = df_featurize.progress_apply(get_descr_stat, axis=1)\n",
    "    df_featurize_descr_stat.to_pickle('./data/export_descr_stat_2016_2020.pkl.bz2', protocol=4)\n",
    "\n",
    "display(df_featurize_descr_stat)"
   ]
  },
  {
   "cell_type": "markdown",
   "id": "shared-organ",
   "metadata": {},
   "source": [
    "# NLTK Analysis"
   ]
  },
  {
   "cell_type": "code",
   "execution_count": null,
   "id": "modified-municipality",
   "metadata": {
    "ExecuteTime": {
     "end_time": "2021-08-25T05:56:21.732882Z",
     "start_time": "2021-08-25T05:56:21.440337Z"
    }
   },
   "outputs": [],
   "source": [
    "nltk.download('stopwords')"
   ]
  },
  {
   "cell_type": "markdown",
   "id": "quiet-vinyl",
   "metadata": {},
   "source": [
    "## VG_RAUM"
   ]
  },
  {
   "cell_type": "code",
   "execution_count": null,
   "id": "medieval-norman",
   "metadata": {
    "ExecuteTime": {
     "end_time": "2021-08-25T05:59:39.492235Z",
     "start_time": "2021-08-25T05:56:21.735217Z"
    }
   },
   "outputs": [],
   "source": [
    "df_raw['VG_RAUM_clean']=df_raw['VG_RAUM'].astype(str).fillna('').map(lambda x: re.sub(r'\\W+', ' ', x))\n",
    "df_raw['VG_RAUM_tokenized']=df_raw['VG_RAUM_clean'].apply(word_tokenize, language='german')\n",
    "\n",
    "flat_list = [item for sublist in df_raw['VG_RAUM_tokenized'].tolist() for item in sublist]\n",
    "\n",
    "german_stop_words = stopwords.words('german')\n",
    "\n",
    "text_wo_stop_words = [word for word in flat_list if word.lower() not in german_stop_words]\n",
    "\n",
    "stopwords = [\n",
    "    'ST', 'FREIEN', 'BAD', 'HAUS', 'EV', 'BERLIN', 'KATH', 'S', 'HOF', 'ALTE', 'MITTE', 'LUTH', 'MUENCHEN',\n",
    "    'IRISH', 'MUSIK', 'KULTUR', 'FUER', 'EVANG', 'MARITIM', 'KOELN', 'U', 'TURN', 'E', 'STUTTGART', 'ALTES',\n",
    "    'A', 'GASTES', 'THE', 'EUROPA', 'HANNOVER', 'STADT', 'BADEN', 'NUERNBERG', 'HAMBURG', 'NEUE',\n",
    "    'EVANGELISCHE', 'LEIPZIG', 'B', 'DRESDEN', 'BREMEN', 'PETER', '1','ALTER'\n",
    "]\n",
    "\n",
    "text_wo_stop_words_2 = [word for word in text_wo_stop_words if word not in stopwords]\n",
    "\n",
    "text_wo_stop_words_3 = ['KIRCHE' if 'KIRCHE' in word else word for word in text_wo_stop_words_2 ]\n",
    "\n",
    "display(text_wo_stop_words_3)"
   ]
  },
  {
   "cell_type": "code",
   "execution_count": null,
   "id": "healthy-crash",
   "metadata": {
    "ExecuteTime": {
     "end_time": "2021-08-25T05:59:43.167185Z",
     "start_time": "2021-08-25T05:59:39.497351Z"
    }
   },
   "outputs": [],
   "source": [
    "fdist = FreqDist(text_wo_stop_words_3)\n",
    "print(fdist)\n",
    "#display(fdist.most_common(60))\n",
    "\n",
    "fdist.plot(30,cumulative=False)\n",
    "plt.show()"
   ]
  },
  {
   "cell_type": "code",
   "execution_count": null,
   "id": "elementary-services",
   "metadata": {
    "ExecuteTime": {
     "end_time": "2021-08-25T06:00:07.213983Z",
     "start_time": "2021-08-25T05:59:43.169150Z"
    }
   },
   "outputs": [],
   "source": [
    "most_common_terms_vg_raum = [i[0] for i in fdist.most_common(30)] \n",
    "df_featurize_vg_raum_keywords = pd.DataFrame(df_raw['VG_RAUM_clean'])\n",
    "\n",
    "for term in most_common_terms_vg_raum :\n",
    "    df_featurize_vg_raum_keywords['location_'+term]=df_featurize_vg_raum_keywords['VG_RAUM_clean'].apply(lambda x: 1 if term in x else 0)\n",
    "\n",
    "display(df_featurize_vg_raum_keywords.head(10))"
   ]
  },
  {
   "cell_type": "code",
   "execution_count": null,
   "id": "published-possibility",
   "metadata": {
    "ExecuteTime": {
     "end_time": "2021-08-25T06:00:20.505225Z",
     "start_time": "2021-08-25T06:00:07.216059Z"
    }
   },
   "outputs": [],
   "source": [
    "df_featurize_vg_raum_keywords.to_pickle('./data/export_vg_raum_keywords_2016_2020.pkl.bz2', protocol=4)"
   ]
  },
  {
   "cell_type": "markdown",
   "id": "noted-dance",
   "metadata": {},
   "source": [
    "## Kapelle Name"
   ]
  },
  {
   "cell_type": "code",
   "execution_count": null,
   "id": "secondary-shower",
   "metadata": {
    "ExecuteTime": {
     "end_time": "2021-08-25T06:02:36.510845Z",
     "start_time": "2021-08-25T06:00:20.506945Z"
    }
   },
   "outputs": [],
   "source": [
    "from nltk.corpus import stopwords\n",
    "\n",
    "df_raw['KAPELLE_NAME_clean']=df_raw['KAPELLE_NAME'].fillna('').map(lambda x: re.sub(r'\\W+', ' ', x))\n",
    "df_raw['KAPELLE_NAME_tokenized'] = df_raw['KAPELLE_NAME_clean'].apply(word_tokenize, language='german')\n",
    "\n",
    "flat_list_kapelle = [item for sublist in df_raw['KAPELLE_NAME_tokenized'].tolist() for item in sublist]\n",
    "\n",
    "german_stop_words = stopwords.words('german')\n",
    "english_stop_words = stopwords.words('english')\n",
    "\n",
    "kapelle_wo_stop_words = [word for word in flat_list_kapelle if word.lower() not in german_stop_words]\n",
    "\n",
    "kapelle_wo_stop_words_1 = [word for word in kapelle_wo_stop_words if word.lower() not in english_stop_words]\n",
    "\n",
    "stopwords = [\n",
    "    'BAD', 'E', 'DE', 'BIG', 'B', 'PETER', 'MARTIN', 'MICHAEL', 'MUSIC', 'MUSIK', 'THOMAS', 'BLUE', 'STEFAN',\n",
    "    'N', 'ANDREAS', 'V', 'FRANK', 'U', 'KLAUS', 'TOM', 'G', 'PAUL', 'HANS', 'CHRISTIAN', 'WOLFGANG'\n",
    "]\n",
    " \n",
    "kapelle_wo_stop_words_2 = [word for word in kapelle_wo_stop_words_1 if word not in stopwords]\n",
    "\n",
    "display(kapelle_wo_stop_words_2)"
   ]
  },
  {
   "cell_type": "code",
   "execution_count": null,
   "id": "patent-underground",
   "metadata": {
    "ExecuteTime": {
     "end_time": "2021-08-25T06:02:39.301424Z",
     "start_time": "2021-08-25T06:02:36.513224Z"
    }
   },
   "outputs": [],
   "source": [
    "fdist_kapelle = FreqDist(kapelle_wo_stop_words_2)\n",
    "print(fdist_kapelle)\n",
    "#display(fdist_kapelle.most_common(60))\n",
    "\n",
    "fdist_kapelle.plot(30,cumulative=False)\n",
    "plt.show()"
   ]
  },
  {
   "cell_type": "code",
   "execution_count": null,
   "id": "cleared-tackle",
   "metadata": {
    "ExecuteTime": {
     "end_time": "2021-08-25T06:03:02.609599Z",
     "start_time": "2021-08-25T06:02:39.304270Z"
    }
   },
   "outputs": [],
   "source": [
    "most_common_terms_kapelle = [i[0] for i in fdist_kapelle.most_common(30)] \n",
    "df_featurize_kapelle_keywords = pd.DataFrame(df_raw['KAPELLE_NAME_clean'])\n",
    "\n",
    "for term in most_common_terms_kapelle :\n",
    "    df_featurize_kapelle_keywords['band_'+term]=df_featurize_kapelle_keywords['KAPELLE_NAME_clean'].apply(lambda x: 1 if term in x else 0)\n",
    "\n",
    "display(df_featurize_kapelle_keywords.head(20))"
   ]
  },
  {
   "cell_type": "code",
   "execution_count": null,
   "id": "demonstrated-resistance",
   "metadata": {
    "ExecuteTime": {
     "end_time": "2021-08-25T06:03:14.201867Z",
     "start_time": "2021-08-25T06:03:02.611019Z"
    }
   },
   "outputs": [],
   "source": [
    "df_featurize_kapelle_keywords.to_pickle('./data/export_kapelle_keywords_2016_2020.pkl.bz2', protocol=4)"
   ]
  },
  {
   "cell_type": "code",
   "execution_count": null,
   "id": "english-alliance",
   "metadata": {
    "ExecuteTime": {
     "end_time": "2021-08-25T06:03:14.862105Z",
     "start_time": "2021-08-25T06:03:14.203238Z"
    }
   },
   "outputs": [],
   "source": [
    "display(df_featurize_kapelle_keywords.info())\n",
    "display(df_featurize.info())"
   ]
  },
  {
   "cell_type": "markdown",
   "id": "bored-racing",
   "metadata": {},
   "source": [
    "# Time"
   ]
  },
  {
   "cell_type": "code",
   "execution_count": null,
   "id": "horizontal-sample",
   "metadata": {
    "ExecuteTime": {
     "end_time": "2021-08-25T06:03:15.302514Z",
     "start_time": "2021-08-25T06:03:14.863790Z"
    }
   },
   "outputs": [],
   "source": [
    "df_featurize['VG_DATUM_YEAR'] = df_featurize['VG_DATUM_VON'].dt.year\n",
    "df_featurize['VG_DATUM_MONTH'] = df_featurize['VG_DATUM_VON'].dt.month\n",
    "df_featurize['VG_DATUM_DAY_OF_WEEK']=df_featurize['VG_DATUM_VON'].dt.dayofweek\n",
    "\n",
    "display(df_featurize.head(5))"
   ]
  },
  {
   "cell_type": "markdown",
   "id": "forced-indication",
   "metadata": {},
   "source": [
    "# Merge all Features"
   ]
  },
  {
   "cell_type": "code",
   "execution_count": null,
   "id": "adverse-workstation",
   "metadata": {
    "ExecuteTime": {
     "end_time": "2021-08-25T06:03:15.326639Z",
     "start_time": "2021-08-25T06:03:15.304786Z"
    }
   },
   "outputs": [],
   "source": [
    "#df_featurize_vg_raum_keywords=pd.read_pickle('./data/export_vg_raum_keywords_2016_2020.pkl.bz2')\n",
    "#df_featurize_kapelle_keywords=pd.read_pickle('./data/export_kapelle_keywords_2016_2020.pkl.bz2')"
   ]
  },
  {
   "cell_type": "code",
   "execution_count": null,
   "id": "inside-above",
   "metadata": {
    "ExecuteTime": {
     "end_time": "2021-08-25T06:03:47.089910Z",
     "start_time": "2021-08-25T06:03:15.328765Z"
    }
   },
   "outputs": [],
   "source": [
    "df_featurized_merged = df_featurize.merge(df_featurize_descr_stat, how='left', on='ID') \n",
    "df_featurized_merged = df_featurized_merged.merge(df_featurize_vg_raum_keywords, how='left', on='ID')\n",
    "df_featurized_merged = df_featurized_merged.merge(df_featurize_kapelle_keywords, how='left', on='ID')"
   ]
  },
  {
   "cell_type": "code",
   "execution_count": null,
   "id": "australian-hierarchy",
   "metadata": {
    "ExecuteTime": {
     "end_time": "2021-08-25T06:04:21.619412Z",
     "start_time": "2021-08-25T06:03:47.095440Z"
    }
   },
   "outputs": [],
   "source": [
    "df_featurized_merged=df_featurized_merged.rename(str.lower, axis='columns')\n",
    "df_featurized_merged=df_featurized_merged.rename(columns={\"vg_inkasso\": \"amount\", \"veranst_segment\": \"amount_segment\", \"tarif_nr\": \"tariff_id\"})\n",
    "df_featurized_merged=df_featurized_merged.drop(columns=['vg_raum_clean', 'kapelle_name_clean'])"
   ]
  },
  {
   "cell_type": "code",
   "execution_count": null,
   "id": "independent-circulation",
   "metadata": {
    "ExecuteTime": {
     "end_time": "2021-08-25T06:04:22.259840Z",
     "start_time": "2021-08-25T06:04:21.626681Z"
    }
   },
   "outputs": [],
   "source": [
    "df_featurized_merged.info()"
   ]
  },
  {
   "cell_type": "code",
   "execution_count": null,
   "id": "continuous-rhythm",
   "metadata": {
    "ExecuteTime": {
     "end_time": "2021-08-25T06:07:28.276494Z",
     "start_time": "2021-08-25T06:04:22.262275Z"
    }
   },
   "outputs": [],
   "source": [
    "df_featurized_merged.to_pickle('./data/export_features_2016_2020.pkl.bz2', protocol=4)"
   ]
  },
  {
   "cell_type": "code",
   "execution_count": null,
   "id": "handled-agreement",
   "metadata": {},
   "outputs": [],
   "source": []
  }
 ],
 "metadata": {
  "kernelspec": {
   "display_name": "intellizenz-model-training-LRwJb8pv-py3.9",
   "language": "python",
   "name": "python3"
  },
  "language_info": {
   "codemirror_mode": {
    "name": "ipython",
    "version": 3
   },
   "file_extension": ".py",
   "mimetype": "text/x-python",
   "name": "python",
   "nbconvert_exporter": "python",
   "pygments_lexer": "ipython3",
   "version": "3.9.13 (tags/v3.9.13:6de2ca5, May 17 2022, 16:36:42) [MSC v.1929 64 bit (AMD64)]"
  },
  "toc": {
   "base_numbering": 1,
   "nav_menu": {},
   "number_sections": true,
   "sideBar": true,
   "skip_h1_title": false,
   "title_cell": "Table of Contents",
   "title_sidebar": "Contents",
   "toc_cell": false,
   "toc_position": {},
   "toc_section_display": true,
   "toc_window_display": false
  },
  "varInspector": {
   "cols": {
    "lenName": 16,
    "lenType": 16,
    "lenVar": 40
   },
   "kernels_config": {
    "python": {
     "delete_cmd_postfix": "",
     "delete_cmd_prefix": "del ",
     "library": "var_list.py",
     "varRefreshCmd": "print(var_dic_list())"
    },
    "r": {
     "delete_cmd_postfix": ") ",
     "delete_cmd_prefix": "rm(",
     "library": "var_list.r",
     "varRefreshCmd": "cat(var_dic_list()) "
    }
   },
   "types_to_exclude": [
    "module",
    "function",
    "builtin_function_or_method",
    "instance",
    "_Feature"
   ],
   "window_display": false
  },
  "vscode": {
   "interpreter": {
    "hash": "17ce7e5e80fa8847c13f468233b8349b1468d0a77f7c99a15d53db37f56b8200"
   }
  }
 },
 "nbformat": 4,
 "nbformat_minor": 5
}
