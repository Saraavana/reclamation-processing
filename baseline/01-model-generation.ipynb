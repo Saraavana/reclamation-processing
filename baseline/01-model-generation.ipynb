{
 "cells": [
  {
   "cell_type": "code",
   "execution_count": null,
   "metadata": {},
   "outputs": [],
   "source": [
    "pip install xgboost"
   ]
  },
  {
   "cell_type": "code",
   "execution_count": 1,
   "metadata": {},
   "outputs": [],
   "source": [
    "from sklearn.model_selection import train_test_split\n",
    "from sklearn.svm import SVC\n",
    "from sklearn.metrics import classification_report, confusion_matrix, accuracy_score\n",
    "import xgboost\n",
    "import pandas as pd\n",
    "import pickle"
   ]
  },
  {
   "cell_type": "code",
   "execution_count": 2,
   "metadata": {},
   "outputs": [],
   "source": [
    "features = ['tarif_u-v ii. 1 (+ii 2)', 'tarif_u-k (musiker)', \n",
    "'tarif_u-k (musiker) mindestverguetung','tarif_u-st i. (musiker)', \n",
    "'tarif_e-p', 'tarif_u-k i (+ ii 2b) - mit sonstigem geldwerten vorteil', \n",
    "'tarif_u-v iii. 1', 'tarif_u-st i (musiker) nl', 'tarif_u-v iii. 2', \n",
    "'tarif_e (musiker)', 'tarif_u-k iii. 2d) (musiker) - vor geladenen gaesten', \n",
    "'tarif_p-k i. (u-musik)', 'tarif_chorverband konzert u-musik', \n",
    "'tarif_u-v vi. b','tarif_variete i (musiker)',\n",
    "'tarif_u-k ii. (musiker) bis 20 min','tarif_u-k ii. (musiker) bis 25 min',\n",
    "'tarif_u-k ii. (musiker) bis 15 min','tarif_u-k ii. (musiker) bis 50 min',\n",
    "'tarif_u-k ii. (musiker) bis 30 min','tarif_u-k ii. (musiker) bis 10 min',\n",
    "'tarif_vk i 3 zirkusunternehmen (musiker)','tarif_p-k i. (e-musik)',\n",
    "'tarif_u-st (musiker)','tarif_u-k ii. (musiker) bis 5 min',\n",
    "'tarif_u-k ii. (musiker) bis 35 min','tarif_u-k ii. (musiker) bis 40 min',\n",
    "'tarif_u-v-ks (musiker)','tarif_u-k ii (musiker) mindestverguetung',\n",
    "'tarif_u-k ii. (musiker) bis 45 min',\n",
    "\n",
    "'place_kirche','place_hotel','place_stadthalle','place_club',\n",
    "'place_buergerhaus','place_theater','place_halle','place_festhalle',\n",
    "'place_kurhaus','place_schloss','place_cafe','place_kulturzentrum',\n",
    "'place_festzelt','place_musikschule','place_mehrzweckhalle','place_pub',\n",
    "'place_bar','place_turnhalle','place_gasthaus','place_gymnasium',\n",
    "'place_rathaus','place_park','place_gasthof','place_kabarett',\n",
    "'place_schuetzenhalle','place_gemeindehalle','place_gaststaette',\n",
    "'place_schule','place_museum','place_vereinsheim',\n",
    "\n",
    "# 'location_berlin','location_muenchen','location_hamburg','location_koeln',\n",
    "# 'location_stuttgart','location_leipzig','location_frankfurt am main',\n",
    "# 'location_dresden','location_hannover','location_nuernberg','location_duesseldorf',\n",
    "# 'location_bremen','location_karlsruhe','location_dortmund','location_essen',\n",
    "# 'location_augsburg','location_mannheim','location_muenster','location_bonn',\n",
    "# 'location_wiesbaden','location_erfurt','location_kiel','location_regensburg',\n",
    "# 'location_freiburg im breisgau','location_chemnitz','location_mainz',\n",
    "# 'location_wuerzburg','location_magdeburg','location_potsdam',\n",
    "# 'location_bielefeld',\n",
    "\n",
    "'state_bavaria','state_rhineland-palatinate',\n",
    "'state_baden-wuerttemberg',\t'state_north rhine-westphalia',\t\n",
    "'state_thuringia','state_hesse',\t\n",
    "'state_brandenburg', 'state_schleswig-holstein',\t\n",
    "'state_berlin',\t'state_mecklenburg-western pomerania',\t\n",
    "'state_lower saxony', 'state_hamburg',\t\n",
    "'state_saarland', 'state_saxony-anhalt',\t\n",
    "'state_saxony',\t'state_bremen',\n",
    "\n",
    "'vg_datum_year','vg_datum_month','vg_datum_day_of_week','vg_datum_season'\n",
    "]"
   ]
  },
  {
   "cell_type": "code",
   "execution_count": 5,
   "metadata": {},
   "outputs": [],
   "source": [
    "# df = pd.read_pickle('C:\\Saravana\\Projects\\Intellizenz\\intellizenz-model-training\\data\\export_features_2016_2020_v1.pkl.bz2')"
   ]
  },
  {
   "cell_type": "code",
   "execution_count": null,
   "metadata": {},
   "outputs": [],
   "source": [
    "df = pd.read_parquet('C:\\Saravana\\Projects\\Intellizenz\\intellizenz-model-training\\data\\export_features_2016_2020_v1.parquet.gzip')"
   ]
  },
  {
   "cell_type": "markdown",
   "metadata": {},
   "source": [
    "Baseline Classifier models to classify event segments"
   ]
  },
  {
   "cell_type": "code",
   "execution_count": null,
   "metadata": {},
   "outputs": [],
   "source": [
    "X = df[features]\n",
    "y = df['veranst_segment']"
   ]
  },
  {
   "cell_type": "code",
   "execution_count": null,
   "metadata": {},
   "outputs": [],
   "source": [
    "X_train, X_test, y_train, y_test = train_test_split(X, y, test_size = 0.20)"
   ]
  },
  {
   "cell_type": "markdown",
   "metadata": {},
   "source": [
    "XGBoost Classifier"
   ]
  },
  {
   "cell_type": "code",
   "execution_count": null,
   "metadata": {},
   "outputs": [],
   "source": [
    "xgboost_classifier = xgboost.XGBClassifier()\n",
    "xgboost_classifier.fit(X_train, y_train)"
   ]
  },
  {
   "cell_type": "code",
   "execution_count": null,
   "metadata": {},
   "outputs": [],
   "source": [
    "# save the model to disk\n",
    "xbg_filename = 'xgb_classifier_model.sav'\n",
    "pickle.dump(xgboost_classifier, open(xbg_filename, 'wb'))"
   ]
  },
  {
   "cell_type": "code",
   "execution_count": null,
   "metadata": {},
   "outputs": [],
   "source": [
    "y_pred = xgboost_classifier.predict(X_test)"
   ]
  },
  {
   "cell_type": "markdown",
   "metadata": {},
   "source": [
    "Evaluation"
   ]
  },
  {
   "cell_type": "code",
   "execution_count": null,
   "metadata": {},
   "outputs": [],
   "source": [
    "print(confusion_matrix(y_test,y_pred))\n",
    "print(classification_report(y_test,y_pred))\n",
    "\n",
    "xgboost_accuracy = accuracy_score(y_test, y_pred, normalize=False)\n",
    "print(xgboost_accuracy)"
   ]
  },
  {
   "cell_type": "markdown",
   "metadata": {},
   "source": [
    "SVC Classifier"
   ]
  },
  {
   "cell_type": "markdown",
   "metadata": {},
   "source": [
    "svclassifier = SVC(kernel='linear')\n",
    "svclassifier.fit(X_train, y_train)"
   ]
  },
  {
   "cell_type": "code",
   "execution_count": null,
   "metadata": {},
   "outputs": [],
   "source": [
    "# save the model to disk\n",
    "filename = 'svc_classifier_model.sav'\n",
    "pickle.dump(svclassifier, open(filename, 'wb'))"
   ]
  },
  {
   "cell_type": "code",
   "execution_count": null,
   "metadata": {},
   "outputs": [],
   "source": [
    "y_pred = svclassifier.predict(X_test)"
   ]
  },
  {
   "cell_type": "markdown",
   "metadata": {},
   "source": [
    "Evaluation"
   ]
  },
  {
   "cell_type": "code",
   "execution_count": null,
   "metadata": {},
   "outputs": [],
   "source": [
    "print(confusion_matrix(y_test,y_pred))\n",
    "print(classification_report(y_test,y_pred))\n",
    "\n",
    "svc_accuracy = accuracy_score(y_test, y_pred, normalize=False)\n",
    "print(svc_accuracy)"
   ]
  }
 ],
 "metadata": {
  "kernelspec": {
   "display_name": "Python 3.9.13 ('.venv': poetry)",
   "language": "python",
   "name": "python3"
  },
  "language_info": {
   "codemirror_mode": {
    "name": "ipython",
    "version": 3
   },
   "file_extension": ".py",
   "mimetype": "text/x-python",
   "name": "python",
   "nbconvert_exporter": "python",
   "pygments_lexer": "ipython3",
   "version": "3.9.13"
  },
  "orig_nbformat": 4,
  "vscode": {
   "interpreter": {
    "hash": "125624270022b3522b0d9fce357b71cad5d467865128e7f38888e7b3f5116099"
   }
  }
 },
 "nbformat": 4,
 "nbformat_minor": 2
}
