{
 "cells": [
  {
   "cell_type": "code",
   "execution_count": null,
   "metadata": {},
   "outputs": [],
   "source": [
    "pip install xgboost"
   ]
  },
  {
   "cell_type": "code",
   "execution_count": 1,
   "metadata": {},
   "outputs": [],
   "source": [
    "from sklearn.model_selection import train_test_split\n",
    "from sklearn.svm import SVC\n",
    "from sklearn.metrics import classification_report, confusion_matrix, accuracy_score\n",
    "import xgboost\n",
    "import pandas as pd\n",
    "import pickle\n",
    "from sklearn.preprocessing import LabelEncoder"
   ]
  },
  {
   "cell_type": "code",
   "execution_count": 2,
   "metadata": {},
   "outputs": [],
   "source": [
    "features = ['tarif_u-v ii. 1 (+ii 2)', 'tarif_u-k (musiker)', \n",
    "'tarif_u-k (musiker) mindestverguetung','tarif_u-st i. (musiker)', \n",
    "'tarif_e-p', 'tarif_u-k i (+ ii 2b) - mit sonstigem geldwerten vorteil', \n",
    "'tarif_u-v iii. 1', 'tarif_u-st i (musiker) nl', 'tarif_u-v iii. 2', \n",
    "'tarif_e (musiker)', \n",
    "            \n",
    "#'tarif_u-k iii. 2d) (musiker) - vor geladenen gaesten', \n",
    "#'tarif_p-k i. (u-musik)', 'tarif_chorverband konzert u-musik', \n",
    "#'tarif_u-v vi. b','tarif_variete i (musiker)',\n",
    "#'tarif_u-k ii. (musiker) bis 20 min','tarif_u-k ii. (musiker) bis 25 min',\n",
    "#'tarif_u-k ii. (musiker) bis 15 min','tarif_u-k ii. (musiker) bis 50 min',\n",
    "#'tarif_u-k ii. (musiker) bis 30 min','tarif_u-k ii. (musiker) bis 10 min',\n",
    "#'tarif_vk i 3 zirkusunternehmen (musiker)','tarif_p-k i. (e-musik)',\n",
    "#'tarif_u-st (musiker)','tarif_u-k ii. (musiker) bis 5 min',\n",
    "#'tarif_u-k ii. (musiker) bis 35 min','tarif_u-k ii. (musiker) bis 40 min',\n",
    "#'tarif_u-v-ks (musiker)','tarif_u-k ii (musiker) mindestverguetung',\n",
    "#'tarif_u-k ii. (musiker) bis 45 min',\n",
    "\n",
    "'place_kirche',\t'place_hotel', 'place_theater',\t\n",
    "'place_cafe', 'place_club', 'place_halle',\t\n",
    "'place_schloss', 'place_gaststaette', 'place_festhalle',\t\n",
    "'place_festzelt', \n",
    "            \n",
    "#'place_kulturzentrum', 'place_musikschule',\t\n",
    "#'place_stadthalle', 'place_pub', 'place_gasthof',\t\n",
    "#'place_park', 'place_buergerhaus', 'place_gymnasium',\t\n",
    "#'place_kabarett', 'place_turnhalle', 'place_rathaus',\t\n",
    "#'place_schule', 'place_museum', 'place_arena',\t\n",
    "#'place_schlachthof', 'place_kurhaus', 'place_zelt',\t\n",
    "#'place_grundschule', 'place_forum', 'place_wandelhalle',\n",
    "\n",
    "# 'location_berlin','location_muenchen','location_hamburg','location_koeln',\n",
    "# 'location_stuttgart','location_leipzig','location_frankfurt am main',\n",
    "# 'location_dresden','location_hannover','location_nuernberg','location_duesseldorf',\n",
    "# 'location_bremen','location_karlsruhe','location_dortmund','location_essen',\n",
    "# 'location_augsburg','location_mannheim','location_muenster','location_bonn',\n",
    "# 'location_wiesbaden','location_erfurt','location_kiel','location_regensburg',\n",
    "# 'location_freiburg im breisgau','location_chemnitz','location_mainz',\n",
    "# 'location_wuerzburg','location_magdeburg','location_potsdam',\n",
    "# 'location_bielefeld',\n",
    "\n",
    "'state_bavaria','state_rhineland-palatinate',\n",
    "'state_baden-wuerttemberg','state_north rhine-westphalia',\t\n",
    "'state_thuringia','state_hesse',\n",
    "'state_brandenburg', 'state_schleswig-holstein',\n",
    "'state_berlin',\t'state_mecklenburg-western pomerania',\n",
    "'state_lower saxony', 'state_hamburg',\n",
    "'state_saarland', 'state_saxony-anhalt',\t\n",
    "'state_saxony',\t'state_bremen',\n",
    "\n",
    "'vg_datum_year','vg_datum_month','vg_datum_day_of_week','vg_datum_season'\n",
    "]"
   ]
  },
  {
   "cell_type": "code",
   "execution_count": null,
   "metadata": {},
   "outputs": [],
   "source": [
    "# df = pd.read_pickle('C:\\Saravana\\Projects\\Intellizenz\\intellizenz-model-training\\data\\export_features_2016_2020_v1.pkl.bz2')"
   ]
  },
  {
   "cell_type": "code",
   "execution_count": 3,
   "metadata": {},
   "outputs": [
    {
     "name": "stdout",
     "output_type": "stream",
     "text": [
      "/home/jupyter/intellizenz-model-training\n"
     ]
    }
   ],
   "source": [
    "cd /home/jupyter/intellizenz-model-training/"
   ]
  },
  {
   "cell_type": "code",
   "execution_count": 4,
   "metadata": {},
   "outputs": [],
   "source": [
    "df = pd.read_parquet('data/export_features_2016_2020_v1.parquet.gzip')"
   ]
  },
  {
   "cell_type": "markdown",
   "metadata": {},
   "source": [
    "Baseline Classifier models to classify event segments"
   ]
  },
  {
   "cell_type": "code",
   "execution_count": 5,
   "metadata": {},
   "outputs": [],
   "source": [
    "X = df[features]\n",
    "y = df['veranst_segment']"
   ]
  },
  {
   "cell_type": "code",
   "execution_count": 6,
   "metadata": {},
   "outputs": [],
   "source": [
    "le = LabelEncoder()\n",
    "y = le.fit_transform(y)"
   ]
  },
  {
   "cell_type": "code",
   "execution_count": 7,
   "metadata": {},
   "outputs": [],
   "source": [
    "X_train, X_test, y_train, y_test = train_test_split(X, y, test_size = 0.20)"
   ]
  },
  {
   "cell_type": "markdown",
   "metadata": {},
   "source": [
    "XGBoost Classifier"
   ]
  },
  {
   "cell_type": "code",
   "execution_count": 8,
   "metadata": {},
   "outputs": [
    {
     "data": {
      "text/plain": [
       "XGBClassifier(base_score=0.5, booster='gbtree', callbacks=None,\n",
       "              colsample_bylevel=1, colsample_bynode=1, colsample_bytree=1,\n",
       "              early_stopping_rounds=None, enable_categorical=False,\n",
       "              eval_metric=None, gamma=0, gpu_id=-1, grow_policy='depthwise',\n",
       "              importance_type=None, interaction_constraints='',\n",
       "              learning_rate=0.300000012, max_bin=256, max_cat_to_onehot=4,\n",
       "              max_delta_step=0, max_depth=6, max_leaves=0, min_child_weight=1,\n",
       "              missing=nan, monotone_constraints='()', n_estimators=100,\n",
       "              n_jobs=0, num_parallel_tree=1, objective='multi:softprob',\n",
       "              predictor='auto', random_state=0, reg_alpha=0, ...)"
      ]
     },
     "execution_count": 8,
     "metadata": {},
     "output_type": "execute_result"
    }
   ],
   "source": [
    "xgboost_classifier = xgboost.XGBClassifier()\n",
    "xgboost_classifier.fit(X_train, y_train)"
   ]
  },
  {
   "cell_type": "code",
   "execution_count": 9,
   "metadata": {},
   "outputs": [],
   "source": [
    "# save the model to disk\n",
    "xbg_filename = 'model/2022-08-23/xgb_classifier_model.sav'\n",
    "pickle.dump(xgboost_classifier, open(xbg_filename, 'wb'))"
   ]
  },
  {
   "cell_type": "code",
   "execution_count": 10,
   "metadata": {},
   "outputs": [],
   "source": [
    "y_pred = xgboost_classifier.predict(X_test)"
   ]
  },
  {
   "cell_type": "markdown",
   "metadata": {},
   "source": [
    "Evaluation"
   ]
  },
  {
   "cell_type": "code",
   "execution_count": 11,
   "metadata": {},
   "outputs": [
    {
     "name": "stdout",
     "output_type": "stream",
     "text": [
      "[[200803   1597  66046]\n",
      " [ 51984   5159  56729]\n",
      " [ 80487   3330 156929]]\n",
      "              precision    recall  f1-score   support\n",
      "\n",
      "           0       0.60      0.75      0.67    268446\n",
      "           1       0.51      0.05      0.08    113872\n",
      "           2       0.56      0.65      0.60    240746\n",
      "\n",
      "    accuracy                           0.58    623064\n",
      "   macro avg       0.56      0.48      0.45    623064\n",
      "weighted avg       0.57      0.58      0.54    623064\n",
      "\n",
      "362891\n"
     ]
    }
   ],
   "source": [
    "print(confusion_matrix(y_test,y_pred))\n",
    "print(classification_report(y_test,y_pred))\n",
    "\n",
    "xgboost_accuracy = accuracy_score(y_test, y_pred, normalize=False)\n",
    "print(xgboost_accuracy)"
   ]
  },
  {
   "cell_type": "markdown",
   "metadata": {},
   "source": [
    "SVC Classifier"
   ]
  },
  {
   "cell_type": "code",
   "execution_count": 8,
   "metadata": {},
   "outputs": [
    {
     "name": "stdout",
     "output_type": "stream",
     "text": [
      "00-Data-Exploration.ipynb                            README.md\n",
      "01-prepare-data.ipynb                                \u001b[0m\u001b[01;34mbaseline\u001b[0m/\n",
      "02-generate-features.ipynb                           \u001b[01;34mdata\u001b[0m/\n",
      "03-model-generation-3-step-model-all-features.ipynb  \u001b[01;34mmodels\u001b[0m/\n",
      "03-model-generation-3-step-model-all-models.ipynb    pyproject.toml\n",
      "03-model-generation.ipynb                            xgb_classifier_model.sav\n"
     ]
    }
   ],
   "source": [
    "ls"
   ]
  },
  {
   "cell_type": "code",
   "execution_count": null,
   "metadata": {},
   "outputs": [],
   "source": [
    "svclassifier = SVC(kernel='linear')\n",
    "svclassifier.fit(X_train, y_train)"
   ]
  },
  {
   "cell_type": "code",
   "execution_count": null,
   "metadata": {},
   "outputs": [],
   "source": [
    "# save the model to disk\n",
    "filename = 'model/svc_classifier_model.sav'\n",
    "pickle.dump(svclassifier, open(filename, 'wb'))"
   ]
  },
  {
   "cell_type": "code",
   "execution_count": null,
   "metadata": {},
   "outputs": [],
   "source": [
    "y_pred = svclassifier.predict(X_test)"
   ]
  },
  {
   "cell_type": "markdown",
   "metadata": {},
   "source": [
    "Evaluation"
   ]
  },
  {
   "cell_type": "code",
   "execution_count": null,
   "metadata": {},
   "outputs": [],
   "source": [
    "print(confusion_matrix(y_test,y_pred))\n",
    "print(classification_report(y_test,y_pred))\n",
    "\n",
    "svc_accuracy = accuracy_score(y_test, y_pred, normalize=False)\n",
    "print(svc_accuracy)"
   ]
  },
  {
   "cell_type": "code",
   "execution_count": null,
   "metadata": {},
   "outputs": [],
   "source": []
  }
 ],
 "metadata": {
  "environment": {
   "kernel": "python3",
   "name": "common-cu110.m95",
   "type": "gcloud",
   "uri": "gcr.io/deeplearning-platform-release/base-cu110:m95"
  },
  "kernelspec": {
   "display_name": "Python 3",
   "language": "python",
   "name": "python3"
  },
  "language_info": {
   "codemirror_mode": {
    "name": "ipython",
    "version": 3
   },
   "file_extension": ".py",
   "mimetype": "text/x-python",
   "name": "python",
   "nbconvert_exporter": "python",
   "pygments_lexer": "ipython3",
   "version": "3.7.12"
  },
  "vscode": {
   "interpreter": {
    "hash": "125624270022b3522b0d9fce357b71cad5d467865128e7f38888e7b3f5116099"
   }
  }
 },
 "nbformat": 4,
 "nbformat_minor": 4
}
