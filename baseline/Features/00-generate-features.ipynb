{
 "cells": [
  {
   "cell_type": "code",
   "execution_count": 2,
   "metadata": {},
   "outputs": [],
   "source": [
    "from sklearn.model_selection import train_test_split\n",
    "from sklearn.svm import SVC\n",
    "from sklearn.metrics import classification_report, confusion_matrix, accuracy_score\n",
    "import xgboost\n",
    "import pandas as pd\n",
    "import numpy as np\n",
    "import pickle\n",
    "from sklearn.preprocessing import LabelEncoder\n",
    "from pathlib import Path\n",
    "from tqdm.auto import tqdm\n",
    "\n",
    "tqdm.pandas()"
   ]
  },
  {
   "cell_type": "code",
   "execution_count": 3,
   "metadata": {},
   "outputs": [],
   "source": [
    "\n",
    "df = pd.read_parquet('C:/Saravana/Projects/Intellizenz/intellizenz-model-training/data/export_features_2016_2020_v2.parquet.gzip')"
   ]
  },
  {
   "cell_type": "code",
   "execution_count": 4,
   "metadata": {},
   "outputs": [],
   "source": [
    "pd.set_option('display.max_columns', None)"
   ]
  },
  {
   "cell_type": "code",
   "execution_count": 5,
   "metadata": {},
   "outputs": [],
   "source": [
    "df=df.rename(columns = {'band_x':'band', 'vg_state_x':'vg_state'})"
   ]
  },
  {
   "cell_type": "code",
   "execution_count": 6,
   "metadata": {},
   "outputs": [],
   "source": [
    "# Split the data set and extract time series features\n",
    "X = df.loc[:,~df.columns.isin(['veranst_segment','vg_inkasso'])]\n",
    "y = df['vg_inkasso']"
   ]
  },
  {
   "cell_type": "code",
   "execution_count": 7,
   "metadata": {},
   "outputs": [],
   "source": [
    "X_train, X_test, y_train, y_test = train_test_split(X, y, test_size = 0.20)"
   ]
  },
  {
   "cell_type": "code",
   "execution_count": 8,
   "metadata": {},
   "outputs": [
    {
     "data": {
      "text/html": [
       "<div>\n",
       "<style scoped>\n",
       "    .dataframe tbody tr th:only-of-type {\n",
       "        vertical-align: middle;\n",
       "    }\n",
       "\n",
       "    .dataframe tbody tr th {\n",
       "        vertical-align: top;\n",
       "    }\n",
       "\n",
       "    .dataframe thead th {\n",
       "        text-align: right;\n",
       "    }\n",
       "</style>\n",
       "<table border=\"1\" class=\"dataframe\">\n",
       "  <thead>\n",
       "    <tr style=\"text-align: right;\">\n",
       "      <th></th>\n",
       "      <th>imp_id</th>\n",
       "      <th>gj</th>\n",
       "      <th>import</th>\n",
       "      <th>mufo_referenz_n</th>\n",
       "      <th>barcode_nr</th>\n",
       "      <th>veranst_segment</th>\n",
       "      <th>rekla_jn</th>\n",
       "      <th>vg_datum_von</th>\n",
       "      <th>vg_ort</th>\n",
       "      <th>vg_raum</th>\n",
       "      <th>nutzfall</th>\n",
       "      <th>nutzfall_raum</th>\n",
       "      <th>musikleiter_name</th>\n",
       "      <th>kapelle_name</th>\n",
       "      <th>tarif_nr</th>\n",
       "      <th>tarif_bez</th>\n",
       "      <th>nutzfall_nr</th>\n",
       "      <th>vg_inkasso</th>\n",
       "      <th>inkasso_netto</th>\n",
       "      <th>inkasso_brutto</th>\n",
       "      <th>veranst_geschaeftszeichen</th>\n",
       "      <th>veranst_name</th>\n",
       "      <th>veranst_strasse</th>\n",
       "      <th>veranst_plz</th>\n",
       "      <th>veranst_ort</th>\n",
       "      <th>nutzliznehm_geschaeftszeichen</th>\n",
       "      <th>nutzliznehm_name</th>\n",
       "      <th>nutzliznehm_vorname</th>\n",
       "      <th>nutzliznehm_strasse</th>\n",
       "      <th>nutzliznehm_ort</th>\n",
       "      <th>location</th>\n",
       "      <th>band</th>\n",
       "      <th>promoter</th>\n",
       "      <th>vg_state</th>\n",
       "      <th>vg_raum_clean</th>\n",
       "      <th>vg_raum_wo_stopwords</th>\n",
       "      <th>vg_raum_keywords_x</th>\n",
       "      <th>vg_datum_year</th>\n",
       "      <th>vg_datum_month</th>\n",
       "      <th>vg_datum_day_of_week</th>\n",
       "      <th>vg_datum_season</th>\n",
       "      <th>vg_raum_keywords_y</th>\n",
       "      <th>place_kirche</th>\n",
       "      <th>place_hotel</th>\n",
       "      <th>place_cafe</th>\n",
       "      <th>place_theater</th>\n",
       "      <th>place_club</th>\n",
       "      <th>place_halle</th>\n",
       "      <th>place_gaststaette</th>\n",
       "      <th>place_festhalle</th>\n",
       "      <th>place_kulturzentrum</th>\n",
       "      <th>place_festzelt</th>\n",
       "      <th>place_schloss</th>\n",
       "      <th>place_pub</th>\n",
       "      <th>place_stadthalle</th>\n",
       "      <th>place_park</th>\n",
       "      <th>place_gasthof</th>\n",
       "      <th>place_kabarett</th>\n",
       "      <th>place_arena</th>\n",
       "      <th>place_schlachthof</th>\n",
       "      <th>place_wandelhalle</th>\n",
       "      <th>place_turnhalle</th>\n",
       "      <th>place_buergerhaus</th>\n",
       "      <th>place_museum</th>\n",
       "      <th>place_rathaus</th>\n",
       "      <th>place_staatsbad</th>\n",
       "      <th>place_zelt</th>\n",
       "      <th>place_jazz</th>\n",
       "      <th>place_forum</th>\n",
       "      <th>place_gymnasium</th>\n",
       "      <th>place_schule</th>\n",
       "      <th>place_sporthalle</th>\n",
       "      <th>vg_state_y</th>\n",
       "      <th>state_bavaria</th>\n",
       "      <th>state_thuringia</th>\n",
       "      <th>state_baden-wuerttemberg</th>\n",
       "      <th>state_rhineland-palatinate</th>\n",
       "      <th>state_brandenburg</th>\n",
       "      <th>state_berlin</th>\n",
       "      <th>state_lower saxony</th>\n",
       "      <th>state_schleswig-holstein</th>\n",
       "      <th>state_hamburg</th>\n",
       "      <th>state_hesse</th>\n",
       "      <th>state_saarland</th>\n",
       "      <th>state_north rhine-westphalia</th>\n",
       "      <th>state_saxony-anhalt</th>\n",
       "      <th>state_saxony</th>\n",
       "      <th>state_mecklenburg-western pomerania</th>\n",
       "      <th>state_bremen</th>\n",
       "      <th>band_y</th>\n",
       "      <th>band_kurorchester bad wil</th>\n",
       "      <th>band_musikverein harmonie</th>\n",
       "      <th>band_kasalla</th>\n",
       "      <th>band_cat ballou</th>\n",
       "      <th>band_roncalli  royal orch</th>\n",
       "      <th>band_jugendblasorchester</th>\n",
       "      <th>band_kurorchester bad pyr</th>\n",
       "      <th>band_hoehner</th>\n",
       "      <th>band_paveier</th>\n",
       "      <th>band_domstuermer</th>\n",
       "      <th>band_kluengelkoepp</th>\n",
       "      <th>band_alleinunterhalter</th>\n",
       "      <th>band_the gregorian voices</th>\n",
       "      <th>band_brings</th>\n",
       "      <th>band_musica hungarica</th>\n",
       "      <th>band_concerto</th>\n",
       "      <th>band_bad salzuflen orches</th>\n",
       "      <th>band_musikverein stadtkap</th>\n",
       "      <th>band_salonorchester hunga</th>\n",
       "      <th>band_miljoe</th>\n",
       "      <th>band_raeuber</th>\n",
       "      <th>band_kabarett leipziger f</th>\n",
       "      <th>band_marita koellner</th>\n",
       "      <th>band_salon-orchester hung</th>\n",
       "      <th>band_blaeck foeoess</th>\n",
       "      <th>band_schuelerinnen und sc</th>\n",
       "      <th>band_romain vicente</th>\n",
       "      <th>band_staatliche kurkapell</th>\n",
       "      <th>band_musikzug der freiwil</th>\n",
       "      <th>band_funky marys</th>\n",
       "    </tr>\n",
       "    <tr>\n",
       "      <th>ID</th>\n",
       "      <th></th>\n",
       "      <th></th>\n",
       "      <th></th>\n",
       "      <th></th>\n",
       "      <th></th>\n",
       "      <th></th>\n",
       "      <th></th>\n",
       "      <th></th>\n",
       "      <th></th>\n",
       "      <th></th>\n",
       "      <th></th>\n",
       "      <th></th>\n",
       "      <th></th>\n",
       "      <th></th>\n",
       "      <th></th>\n",
       "      <th></th>\n",
       "      <th></th>\n",
       "      <th></th>\n",
       "      <th></th>\n",
       "      <th></th>\n",
       "      <th></th>\n",
       "      <th></th>\n",
       "      <th></th>\n",
       "      <th></th>\n",
       "      <th></th>\n",
       "      <th></th>\n",
       "      <th></th>\n",
       "      <th></th>\n",
       "      <th></th>\n",
       "      <th></th>\n",
       "      <th></th>\n",
       "      <th></th>\n",
       "      <th></th>\n",
       "      <th></th>\n",
       "      <th></th>\n",
       "      <th></th>\n",
       "      <th></th>\n",
       "      <th></th>\n",
       "      <th></th>\n",
       "      <th></th>\n",
       "      <th></th>\n",
       "      <th></th>\n",
       "      <th></th>\n",
       "      <th></th>\n",
       "      <th></th>\n",
       "      <th></th>\n",
       "      <th></th>\n",
       "      <th></th>\n",
       "      <th></th>\n",
       "      <th></th>\n",
       "      <th></th>\n",
       "      <th></th>\n",
       "      <th></th>\n",
       "      <th></th>\n",
       "      <th></th>\n",
       "      <th></th>\n",
       "      <th></th>\n",
       "      <th></th>\n",
       "      <th></th>\n",
       "      <th></th>\n",
       "      <th></th>\n",
       "      <th></th>\n",
       "      <th></th>\n",
       "      <th></th>\n",
       "      <th></th>\n",
       "      <th></th>\n",
       "      <th></th>\n",
       "      <th></th>\n",
       "      <th></th>\n",
       "      <th></th>\n",
       "      <th></th>\n",
       "      <th></th>\n",
       "      <th></th>\n",
       "      <th></th>\n",
       "      <th></th>\n",
       "      <th></th>\n",
       "      <th></th>\n",
       "      <th></th>\n",
       "      <th></th>\n",
       "      <th></th>\n",
       "      <th></th>\n",
       "      <th></th>\n",
       "      <th></th>\n",
       "      <th></th>\n",
       "      <th></th>\n",
       "      <th></th>\n",
       "      <th></th>\n",
       "      <th></th>\n",
       "      <th></th>\n",
       "      <th></th>\n",
       "      <th></th>\n",
       "      <th></th>\n",
       "      <th></th>\n",
       "      <th></th>\n",
       "      <th></th>\n",
       "      <th></th>\n",
       "      <th></th>\n",
       "      <th></th>\n",
       "      <th></th>\n",
       "      <th></th>\n",
       "      <th></th>\n",
       "      <th></th>\n",
       "      <th></th>\n",
       "      <th></th>\n",
       "      <th></th>\n",
       "      <th></th>\n",
       "      <th></th>\n",
       "      <th></th>\n",
       "      <th></th>\n",
       "      <th></th>\n",
       "      <th></th>\n",
       "      <th></th>\n",
       "      <th></th>\n",
       "      <th></th>\n",
       "      <th></th>\n",
       "      <th></th>\n",
       "      <th></th>\n",
       "      <th></th>\n",
       "      <th></th>\n",
       "      <th></th>\n",
       "    </tr>\n",
       "  </thead>\n",
       "  <tbody>\n",
       "    <tr>\n",
       "      <th>9938766</th>\n",
       "      <td>24643</td>\n",
       "      <td>2016</td>\n",
       "      <td>ABRE U INKA 2016</td>\n",
       "      <td>None</td>\n",
       "      <td>5027961235</td>\n",
       "      <td>4</td>\n",
       "      <td>NONRekla</td>\n",
       "      <td>2014-02-08</td>\n",
       "      <td>LISBERG</td>\n",
       "      <td>TURNHALLE SV RW LISBERG</td>\n",
       "      <td>20140208.0</td>\n",
       "      <td>TURNHALLE SV RW LISBERG</td>\n",
       "      <td>STAERK REINHOLD</td>\n",
       "      <td>DAS BOEHMISCHE FEUER</td>\n",
       "      <td>892</td>\n",
       "      <td>U-K (MUSIKER)</td>\n",
       "      <td>18293091</td>\n",
       "      <td>210.00</td>\n",
       "      <td>NaN</td>\n",
       "      <td>NaN</td>\n",
       "      <td>1035530900</td>\n",
       "      <td>AURACHTALER BLASMUSIKVEREIN WALSDORF E.V</td>\n",
       "      <td>SCHINDHOLZWEG 17</td>\n",
       "      <td>96194</td>\n",
       "      <td>WALSDORF</td>\n",
       "      <td>1510423300</td>\n",
       "      <td>BAYERISCHER BLASMUSIKVERBAND</td>\n",
       "      <td>None</td>\n",
       "      <td>None</td>\n",
       "      <td>MUENCHEN</td>\n",
       "      <td>LISBERG TURNHALLE SV RW LISBERG</td>\n",
       "      <td>DAS BOEHMISCHE FEUER</td>\n",
       "      <td>AURACHTALER BLASMUSIKVEREIN WALSDORF E.V 96194</td>\n",
       "      <td>BAVARIA</td>\n",
       "      <td>TURNHALLE SV RW LISBERG</td>\n",
       "      <td>turnhalle sv rw lisberg</td>\n",
       "      <td>[turnhalle, sv, rw, lisberg]</td>\n",
       "      <td>2014</td>\n",
       "      <td>2</td>\n",
       "      <td>5</td>\n",
       "      <td>1</td>\n",
       "      <td>[turnhalle, sv, rw, lisberg]</td>\n",
       "      <td>0</td>\n",
       "      <td>0</td>\n",
       "      <td>0</td>\n",
       "      <td>0</td>\n",
       "      <td>0</td>\n",
       "      <td>0</td>\n",
       "      <td>0</td>\n",
       "      <td>0</td>\n",
       "      <td>0</td>\n",
       "      <td>0</td>\n",
       "      <td>0</td>\n",
       "      <td>0</td>\n",
       "      <td>0</td>\n",
       "      <td>0</td>\n",
       "      <td>0</td>\n",
       "      <td>0</td>\n",
       "      <td>0</td>\n",
       "      <td>0</td>\n",
       "      <td>0</td>\n",
       "      <td>1</td>\n",
       "      <td>0</td>\n",
       "      <td>0</td>\n",
       "      <td>0</td>\n",
       "      <td>0</td>\n",
       "      <td>0</td>\n",
       "      <td>0</td>\n",
       "      <td>0</td>\n",
       "      <td>0</td>\n",
       "      <td>0</td>\n",
       "      <td>0</td>\n",
       "      <td>BAVARIA</td>\n",
       "      <td>1</td>\n",
       "      <td>0</td>\n",
       "      <td>0</td>\n",
       "      <td>0</td>\n",
       "      <td>0</td>\n",
       "      <td>0</td>\n",
       "      <td>0</td>\n",
       "      <td>0</td>\n",
       "      <td>0</td>\n",
       "      <td>0</td>\n",
       "      <td>0</td>\n",
       "      <td>0</td>\n",
       "      <td>0</td>\n",
       "      <td>0</td>\n",
       "      <td>0</td>\n",
       "      <td>0</td>\n",
       "      <td>DAS BOEHMISCHE FEUER</td>\n",
       "      <td>0</td>\n",
       "      <td>0</td>\n",
       "      <td>0</td>\n",
       "      <td>0</td>\n",
       "      <td>0</td>\n",
       "      <td>0</td>\n",
       "      <td>0</td>\n",
       "      <td>0</td>\n",
       "      <td>0</td>\n",
       "      <td>0</td>\n",
       "      <td>0</td>\n",
       "      <td>0</td>\n",
       "      <td>0</td>\n",
       "      <td>0</td>\n",
       "      <td>0</td>\n",
       "      <td>0</td>\n",
       "      <td>0</td>\n",
       "      <td>0</td>\n",
       "      <td>0</td>\n",
       "      <td>0</td>\n",
       "      <td>0</td>\n",
       "      <td>0</td>\n",
       "      <td>0</td>\n",
       "      <td>0</td>\n",
       "      <td>0</td>\n",
       "      <td>0</td>\n",
       "      <td>0</td>\n",
       "      <td>0</td>\n",
       "      <td>0</td>\n",
       "      <td>0</td>\n",
       "    </tr>\n",
       "    <tr>\n",
       "      <th>9939272</th>\n",
       "      <td>24643</td>\n",
       "      <td>2016</td>\n",
       "      <td>ABRE U INKA 2016</td>\n",
       "      <td>None</td>\n",
       "      <td>5053180236</td>\n",
       "      <td>3</td>\n",
       "      <td>NONRekla</td>\n",
       "      <td>2014-02-22</td>\n",
       "      <td>WIPPERDORF</td>\n",
       "      <td>STAATLICHE GRUNDSCHULE WIPPERDORF</td>\n",
       "      <td>20140222.0</td>\n",
       "      <td>STAATLICHE GRUNDSCHULE WIPPERDORF</td>\n",
       "      <td>PATSCHKE RAINER</td>\n",
       "      <td>KYFFHAEUSER TANZ BAN</td>\n",
       "      <td>1087</td>\n",
       "      <td>U-V II. 1 (+II 2)</td>\n",
       "      <td>17923031</td>\n",
       "      <td>85.06</td>\n",
       "      <td>NaN</td>\n",
       "      <td>NaN</td>\n",
       "      <td>1374109400</td>\n",
       "      <td>WIPPERDORFER CARNEVAL CLUB E.V</td>\n",
       "      <td>STRASSE DER EINHEIT 6</td>\n",
       "      <td>99752</td>\n",
       "      <td>WIPPERDORF</td>\n",
       "      <td>1374109400</td>\n",
       "      <td>WIPPERDORFER CARNEVAL CLUB</td>\n",
       "      <td>None</td>\n",
       "      <td>STRASSE DER EINHEIT 6</td>\n",
       "      <td>WIPPERDORF</td>\n",
       "      <td>WIPPERDORF STAATLICHE GRUNDSCHULE WIPPERDORF</td>\n",
       "      <td>KYFFHAEUSER TANZ BAN</td>\n",
       "      <td>WIPPERDORFER CARNEVAL CLUB E.V 99752</td>\n",
       "      <td>THURINGIA</td>\n",
       "      <td>STAATLICHE GRUNDSCHULE WIPPERDORF</td>\n",
       "      <td>staatliche grundschule wipperdorf</td>\n",
       "      <td>[grundschule, wipperdorf]</td>\n",
       "      <td>2014</td>\n",
       "      <td>2</td>\n",
       "      <td>5</td>\n",
       "      <td>1</td>\n",
       "      <td>[grundschule, wipperdorf]</td>\n",
       "      <td>0</td>\n",
       "      <td>0</td>\n",
       "      <td>0</td>\n",
       "      <td>0</td>\n",
       "      <td>0</td>\n",
       "      <td>0</td>\n",
       "      <td>0</td>\n",
       "      <td>0</td>\n",
       "      <td>0</td>\n",
       "      <td>0</td>\n",
       "      <td>0</td>\n",
       "      <td>0</td>\n",
       "      <td>0</td>\n",
       "      <td>0</td>\n",
       "      <td>0</td>\n",
       "      <td>0</td>\n",
       "      <td>0</td>\n",
       "      <td>0</td>\n",
       "      <td>0</td>\n",
       "      <td>0</td>\n",
       "      <td>0</td>\n",
       "      <td>0</td>\n",
       "      <td>0</td>\n",
       "      <td>0</td>\n",
       "      <td>0</td>\n",
       "      <td>0</td>\n",
       "      <td>0</td>\n",
       "      <td>0</td>\n",
       "      <td>0</td>\n",
       "      <td>0</td>\n",
       "      <td>THURINGIA</td>\n",
       "      <td>0</td>\n",
       "      <td>1</td>\n",
       "      <td>0</td>\n",
       "      <td>0</td>\n",
       "      <td>0</td>\n",
       "      <td>0</td>\n",
       "      <td>0</td>\n",
       "      <td>0</td>\n",
       "      <td>0</td>\n",
       "      <td>0</td>\n",
       "      <td>0</td>\n",
       "      <td>0</td>\n",
       "      <td>0</td>\n",
       "      <td>0</td>\n",
       "      <td>0</td>\n",
       "      <td>0</td>\n",
       "      <td>KYFFHAEUSER TANZ BAN</td>\n",
       "      <td>0</td>\n",
       "      <td>0</td>\n",
       "      <td>0</td>\n",
       "      <td>0</td>\n",
       "      <td>0</td>\n",
       "      <td>0</td>\n",
       "      <td>0</td>\n",
       "      <td>0</td>\n",
       "      <td>0</td>\n",
       "      <td>0</td>\n",
       "      <td>0</td>\n",
       "      <td>0</td>\n",
       "      <td>0</td>\n",
       "      <td>0</td>\n",
       "      <td>0</td>\n",
       "      <td>0</td>\n",
       "      <td>0</td>\n",
       "      <td>0</td>\n",
       "      <td>0</td>\n",
       "      <td>0</td>\n",
       "      <td>0</td>\n",
       "      <td>0</td>\n",
       "      <td>0</td>\n",
       "      <td>0</td>\n",
       "      <td>0</td>\n",
       "      <td>0</td>\n",
       "      <td>0</td>\n",
       "      <td>0</td>\n",
       "      <td>0</td>\n",
       "      <td>0</td>\n",
       "    </tr>\n",
       "    <tr>\n",
       "      <th>9939279</th>\n",
       "      <td>24643</td>\n",
       "      <td>2016</td>\n",
       "      <td>ABRE U INKA 2016</td>\n",
       "      <td>None</td>\n",
       "      <td>5053345001</td>\n",
       "      <td>3</td>\n",
       "      <td>NONRekla</td>\n",
       "      <td>2014-02-18</td>\n",
       "      <td>DINGOLFING</td>\n",
       "      <td>BMW-WERK DINGOLFING</td>\n",
       "      <td>20140218.0</td>\n",
       "      <td>BMW-WERK DINGOLFING</td>\n",
       "      <td>JUNDMAYER</td>\n",
       "      <td>BERUFSFACHSCHULE</td>\n",
       "      <td>1087</td>\n",
       "      <td>U-V II. 1 (+II 2)</td>\n",
       "      <td>17757433</td>\n",
       "      <td>90.20</td>\n",
       "      <td>NaN</td>\n",
       "      <td>NaN</td>\n",
       "      <td>2000026695</td>\n",
       "      <td>BAYERISCHE MOTORENWERKE AG</td>\n",
       "      <td>MENGKOFENER STR. 13</td>\n",
       "      <td>84130</td>\n",
       "      <td>DINGOLFING</td>\n",
       "      <td>2000026695</td>\n",
       "      <td>BAYERISCHE MOTORENWERKE</td>\n",
       "      <td>None</td>\n",
       "      <td>MENGKOFENER STR. 13</td>\n",
       "      <td>DINGOLFING</td>\n",
       "      <td>DINGOLFING BMW-WERK DINGOLFING</td>\n",
       "      <td>BERUFSFACHSCHULE</td>\n",
       "      <td>BAYERISCHE MOTORENWERKE AG 84130</td>\n",
       "      <td>BAVARIA</td>\n",
       "      <td>BMW WERK DINGOLFING</td>\n",
       "      <td>bmw werk dingolfing</td>\n",
       "      <td>[bmw, werk, dingolfing]</td>\n",
       "      <td>2014</td>\n",
       "      <td>2</td>\n",
       "      <td>1</td>\n",
       "      <td>1</td>\n",
       "      <td>[bmw, werk, dingolfing]</td>\n",
       "      <td>0</td>\n",
       "      <td>0</td>\n",
       "      <td>0</td>\n",
       "      <td>0</td>\n",
       "      <td>0</td>\n",
       "      <td>0</td>\n",
       "      <td>0</td>\n",
       "      <td>0</td>\n",
       "      <td>0</td>\n",
       "      <td>0</td>\n",
       "      <td>0</td>\n",
       "      <td>0</td>\n",
       "      <td>0</td>\n",
       "      <td>0</td>\n",
       "      <td>0</td>\n",
       "      <td>0</td>\n",
       "      <td>0</td>\n",
       "      <td>0</td>\n",
       "      <td>0</td>\n",
       "      <td>0</td>\n",
       "      <td>0</td>\n",
       "      <td>0</td>\n",
       "      <td>0</td>\n",
       "      <td>0</td>\n",
       "      <td>0</td>\n",
       "      <td>0</td>\n",
       "      <td>0</td>\n",
       "      <td>0</td>\n",
       "      <td>0</td>\n",
       "      <td>0</td>\n",
       "      <td>BAVARIA</td>\n",
       "      <td>1</td>\n",
       "      <td>0</td>\n",
       "      <td>0</td>\n",
       "      <td>0</td>\n",
       "      <td>0</td>\n",
       "      <td>0</td>\n",
       "      <td>0</td>\n",
       "      <td>0</td>\n",
       "      <td>0</td>\n",
       "      <td>0</td>\n",
       "      <td>0</td>\n",
       "      <td>0</td>\n",
       "      <td>0</td>\n",
       "      <td>0</td>\n",
       "      <td>0</td>\n",
       "      <td>0</td>\n",
       "      <td>BERUFSFACHSCHULE</td>\n",
       "      <td>0</td>\n",
       "      <td>0</td>\n",
       "      <td>0</td>\n",
       "      <td>0</td>\n",
       "      <td>0</td>\n",
       "      <td>0</td>\n",
       "      <td>0</td>\n",
       "      <td>0</td>\n",
       "      <td>0</td>\n",
       "      <td>0</td>\n",
       "      <td>0</td>\n",
       "      <td>0</td>\n",
       "      <td>0</td>\n",
       "      <td>0</td>\n",
       "      <td>0</td>\n",
       "      <td>0</td>\n",
       "      <td>0</td>\n",
       "      <td>0</td>\n",
       "      <td>0</td>\n",
       "      <td>0</td>\n",
       "      <td>0</td>\n",
       "      <td>0</td>\n",
       "      <td>0</td>\n",
       "      <td>0</td>\n",
       "      <td>0</td>\n",
       "      <td>0</td>\n",
       "      <td>0</td>\n",
       "      <td>0</td>\n",
       "      <td>0</td>\n",
       "      <td>0</td>\n",
       "    </tr>\n",
       "    <tr>\n",
       "      <th>9939280</th>\n",
       "      <td>24643</td>\n",
       "      <td>2016</td>\n",
       "      <td>ABRE U INKA 2016</td>\n",
       "      <td>None</td>\n",
       "      <td>5053345402</td>\n",
       "      <td>4</td>\n",
       "      <td>NONRekla</td>\n",
       "      <td>2014-03-29</td>\n",
       "      <td>MUENCHEN</td>\n",
       "      <td>KULTURHAUS MILBERTSHOFEN</td>\n",
       "      <td>20140329.0</td>\n",
       "      <td>KULTURHAUS MILBERTSHOFEN</td>\n",
       "      <td>SCHULLERUS WERNER</td>\n",
       "      <td>SIEBENBUERGER BLASMU</td>\n",
       "      <td>1087</td>\n",
       "      <td>U-V II. 1 (+II 2)</td>\n",
       "      <td>18051337</td>\n",
       "      <td>206.12</td>\n",
       "      <td>NaN</td>\n",
       "      <td>NaN</td>\n",
       "      <td>910166400</td>\n",
       "      <td>MAENNERCHOR MILBERTSHOFEN-RIESENFELD E.V</td>\n",
       "      <td>KORNWEGERSTR. 10</td>\n",
       "      <td>81375</td>\n",
       "      <td>MUENCHEN</td>\n",
       "      <td>910166400</td>\n",
       "      <td>MAENNERCHOR MILBERTSHOFEN-RIESENFELD</td>\n",
       "      <td>None</td>\n",
       "      <td>KORNWEGERSTR. 10</td>\n",
       "      <td>MUENCHEN</td>\n",
       "      <td>MUENCHEN KULTURHAUS MILBERTSHOFEN</td>\n",
       "      <td>SIEBENBUERGER BLASMU</td>\n",
       "      <td>MAENNERCHOR MILBERTSHOFEN-RIESENFELD E.V 81375</td>\n",
       "      <td>BAVARIA</td>\n",
       "      <td>KULTURHAUS MILBERTSHOFEN</td>\n",
       "      <td>kulturhaus milbertshofen</td>\n",
       "      <td>[milbertshofen]</td>\n",
       "      <td>2014</td>\n",
       "      <td>3</td>\n",
       "      <td>5</td>\n",
       "      <td>2</td>\n",
       "      <td>[milbertshofen]</td>\n",
       "      <td>0</td>\n",
       "      <td>0</td>\n",
       "      <td>0</td>\n",
       "      <td>0</td>\n",
       "      <td>0</td>\n",
       "      <td>0</td>\n",
       "      <td>0</td>\n",
       "      <td>0</td>\n",
       "      <td>0</td>\n",
       "      <td>0</td>\n",
       "      <td>0</td>\n",
       "      <td>0</td>\n",
       "      <td>0</td>\n",
       "      <td>0</td>\n",
       "      <td>0</td>\n",
       "      <td>0</td>\n",
       "      <td>0</td>\n",
       "      <td>0</td>\n",
       "      <td>0</td>\n",
       "      <td>0</td>\n",
       "      <td>0</td>\n",
       "      <td>0</td>\n",
       "      <td>0</td>\n",
       "      <td>0</td>\n",
       "      <td>0</td>\n",
       "      <td>0</td>\n",
       "      <td>0</td>\n",
       "      <td>0</td>\n",
       "      <td>0</td>\n",
       "      <td>0</td>\n",
       "      <td>BAVARIA</td>\n",
       "      <td>1</td>\n",
       "      <td>0</td>\n",
       "      <td>0</td>\n",
       "      <td>0</td>\n",
       "      <td>0</td>\n",
       "      <td>0</td>\n",
       "      <td>0</td>\n",
       "      <td>0</td>\n",
       "      <td>0</td>\n",
       "      <td>0</td>\n",
       "      <td>0</td>\n",
       "      <td>0</td>\n",
       "      <td>0</td>\n",
       "      <td>0</td>\n",
       "      <td>0</td>\n",
       "      <td>0</td>\n",
       "      <td>SIEBENBUERGER BLASMU</td>\n",
       "      <td>0</td>\n",
       "      <td>0</td>\n",
       "      <td>0</td>\n",
       "      <td>0</td>\n",
       "      <td>0</td>\n",
       "      <td>0</td>\n",
       "      <td>0</td>\n",
       "      <td>0</td>\n",
       "      <td>0</td>\n",
       "      <td>0</td>\n",
       "      <td>0</td>\n",
       "      <td>0</td>\n",
       "      <td>0</td>\n",
       "      <td>0</td>\n",
       "      <td>0</td>\n",
       "      <td>0</td>\n",
       "      <td>0</td>\n",
       "      <td>0</td>\n",
       "      <td>0</td>\n",
       "      <td>0</td>\n",
       "      <td>0</td>\n",
       "      <td>0</td>\n",
       "      <td>0</td>\n",
       "      <td>0</td>\n",
       "      <td>0</td>\n",
       "      <td>0</td>\n",
       "      <td>0</td>\n",
       "      <td>0</td>\n",
       "      <td>0</td>\n",
       "      <td>0</td>\n",
       "    </tr>\n",
       "    <tr>\n",
       "      <th>9939281</th>\n",
       "      <td>24643</td>\n",
       "      <td>2016</td>\n",
       "      <td>ABRE U INKA 2016</td>\n",
       "      <td>None</td>\n",
       "      <td>5053345418</td>\n",
       "      <td>4</td>\n",
       "      <td>NONRekla</td>\n",
       "      <td>2014-03-21</td>\n",
       "      <td>MUENCHEN</td>\n",
       "      <td>KULTURHAUS MILBERTSHOFEN</td>\n",
       "      <td>20140321.0</td>\n",
       "      <td>KULTURHAUS MILBERTSHOFEN</td>\n",
       "      <td>SCHULLERUS WERNER</td>\n",
       "      <td>SIEBENBUERGER BLASMU</td>\n",
       "      <td>1087</td>\n",
       "      <td>U-V II. 1 (+II 2)</td>\n",
       "      <td>18051299</td>\n",
       "      <td>206.12</td>\n",
       "      <td>NaN</td>\n",
       "      <td>NaN</td>\n",
       "      <td>910166400</td>\n",
       "      <td>MAENNERCHOR MILBERTSHOFEN-RIESENFELD E.V</td>\n",
       "      <td>KORNWEGERSTR. 10</td>\n",
       "      <td>81375</td>\n",
       "      <td>MUENCHEN</td>\n",
       "      <td>910166400</td>\n",
       "      <td>MAENNERCHOR MILBERTSHOFEN-RIESENFELD</td>\n",
       "      <td>None</td>\n",
       "      <td>KORNWEGERSTR. 10</td>\n",
       "      <td>MUENCHEN</td>\n",
       "      <td>MUENCHEN KULTURHAUS MILBERTSHOFEN</td>\n",
       "      <td>SIEBENBUERGER BLASMU</td>\n",
       "      <td>MAENNERCHOR MILBERTSHOFEN-RIESENFELD E.V 81375</td>\n",
       "      <td>BAVARIA</td>\n",
       "      <td>KULTURHAUS MILBERTSHOFEN</td>\n",
       "      <td>kulturhaus milbertshofen</td>\n",
       "      <td>[milbertshofen]</td>\n",
       "      <td>2014</td>\n",
       "      <td>3</td>\n",
       "      <td>4</td>\n",
       "      <td>2</td>\n",
       "      <td>[milbertshofen]</td>\n",
       "      <td>0</td>\n",
       "      <td>0</td>\n",
       "      <td>0</td>\n",
       "      <td>0</td>\n",
       "      <td>0</td>\n",
       "      <td>0</td>\n",
       "      <td>0</td>\n",
       "      <td>0</td>\n",
       "      <td>0</td>\n",
       "      <td>0</td>\n",
       "      <td>0</td>\n",
       "      <td>0</td>\n",
       "      <td>0</td>\n",
       "      <td>0</td>\n",
       "      <td>0</td>\n",
       "      <td>0</td>\n",
       "      <td>0</td>\n",
       "      <td>0</td>\n",
       "      <td>0</td>\n",
       "      <td>0</td>\n",
       "      <td>0</td>\n",
       "      <td>0</td>\n",
       "      <td>0</td>\n",
       "      <td>0</td>\n",
       "      <td>0</td>\n",
       "      <td>0</td>\n",
       "      <td>0</td>\n",
       "      <td>0</td>\n",
       "      <td>0</td>\n",
       "      <td>0</td>\n",
       "      <td>BAVARIA</td>\n",
       "      <td>1</td>\n",
       "      <td>0</td>\n",
       "      <td>0</td>\n",
       "      <td>0</td>\n",
       "      <td>0</td>\n",
       "      <td>0</td>\n",
       "      <td>0</td>\n",
       "      <td>0</td>\n",
       "      <td>0</td>\n",
       "      <td>0</td>\n",
       "      <td>0</td>\n",
       "      <td>0</td>\n",
       "      <td>0</td>\n",
       "      <td>0</td>\n",
       "      <td>0</td>\n",
       "      <td>0</td>\n",
       "      <td>SIEBENBUERGER BLASMU</td>\n",
       "      <td>0</td>\n",
       "      <td>0</td>\n",
       "      <td>0</td>\n",
       "      <td>0</td>\n",
       "      <td>0</td>\n",
       "      <td>0</td>\n",
       "      <td>0</td>\n",
       "      <td>0</td>\n",
       "      <td>0</td>\n",
       "      <td>0</td>\n",
       "      <td>0</td>\n",
       "      <td>0</td>\n",
       "      <td>0</td>\n",
       "      <td>0</td>\n",
       "      <td>0</td>\n",
       "      <td>0</td>\n",
       "      <td>0</td>\n",
       "      <td>0</td>\n",
       "      <td>0</td>\n",
       "      <td>0</td>\n",
       "      <td>0</td>\n",
       "      <td>0</td>\n",
       "      <td>0</td>\n",
       "      <td>0</td>\n",
       "      <td>0</td>\n",
       "      <td>0</td>\n",
       "      <td>0</td>\n",
       "      <td>0</td>\n",
       "      <td>0</td>\n",
       "      <td>0</td>\n",
       "    </tr>\n",
       "  </tbody>\n",
       "</table>\n",
       "</div>"
      ],
      "text/plain": [
       "         imp_id    gj            import mufo_referenz_n  barcode_nr  \\\n",
       "ID                                                                    \n",
       "9938766   24643  2016  ABRE U INKA 2016            None  5027961235   \n",
       "9939272   24643  2016  ABRE U INKA 2016            None  5053180236   \n",
       "9939279   24643  2016  ABRE U INKA 2016            None  5053345001   \n",
       "9939280   24643  2016  ABRE U INKA 2016            None  5053345402   \n",
       "9939281   24643  2016  ABRE U INKA 2016            None  5053345418   \n",
       "\n",
       "         veranst_segment  rekla_jn vg_datum_von      vg_ort  \\\n",
       "ID                                                            \n",
       "9938766                4  NONRekla   2014-02-08     LISBERG   \n",
       "9939272                3  NONRekla   2014-02-22  WIPPERDORF   \n",
       "9939279                3  NONRekla   2014-02-18  DINGOLFING   \n",
       "9939280                4  NONRekla   2014-03-29    MUENCHEN   \n",
       "9939281                4  NONRekla   2014-03-21    MUENCHEN   \n",
       "\n",
       "                                   vg_raum    nutzfall  \\\n",
       "ID                                                       \n",
       "9938766            TURNHALLE SV RW LISBERG  20140208.0   \n",
       "9939272  STAATLICHE GRUNDSCHULE WIPPERDORF  20140222.0   \n",
       "9939279                BMW-WERK DINGOLFING  20140218.0   \n",
       "9939280           KULTURHAUS MILBERTSHOFEN  20140329.0   \n",
       "9939281           KULTURHAUS MILBERTSHOFEN  20140321.0   \n",
       "\n",
       "                             nutzfall_raum   musikleiter_name  \\\n",
       "ID                                                              \n",
       "9938766            TURNHALLE SV RW LISBERG    STAERK REINHOLD   \n",
       "9939272  STAATLICHE GRUNDSCHULE WIPPERDORF    PATSCHKE RAINER   \n",
       "9939279                BMW-WERK DINGOLFING          JUNDMAYER   \n",
       "9939280           KULTURHAUS MILBERTSHOFEN  SCHULLERUS WERNER   \n",
       "9939281           KULTURHAUS MILBERTSHOFEN  SCHULLERUS WERNER   \n",
       "\n",
       "                 kapelle_name  tarif_nr          tarif_bez  nutzfall_nr  \\\n",
       "ID                                                                        \n",
       "9938766  DAS BOEHMISCHE FEUER       892      U-K (MUSIKER)     18293091   \n",
       "9939272  KYFFHAEUSER TANZ BAN      1087  U-V II. 1 (+II 2)     17923031   \n",
       "9939279      BERUFSFACHSCHULE      1087  U-V II. 1 (+II 2)     17757433   \n",
       "9939280  SIEBENBUERGER BLASMU      1087  U-V II. 1 (+II 2)     18051337   \n",
       "9939281  SIEBENBUERGER BLASMU      1087  U-V II. 1 (+II 2)     18051299   \n",
       "\n",
       "         vg_inkasso  inkasso_netto  inkasso_brutto  veranst_geschaeftszeichen  \\\n",
       "ID                                                                              \n",
       "9938766      210.00            NaN             NaN                 1035530900   \n",
       "9939272       85.06            NaN             NaN                 1374109400   \n",
       "9939279       90.20            NaN             NaN                 2000026695   \n",
       "9939280      206.12            NaN             NaN                  910166400   \n",
       "9939281      206.12            NaN             NaN                  910166400   \n",
       "\n",
       "                                     veranst_name        veranst_strasse  \\\n",
       "ID                                                                         \n",
       "9938766  AURACHTALER BLASMUSIKVEREIN WALSDORF E.V       SCHINDHOLZWEG 17   \n",
       "9939272            WIPPERDORFER CARNEVAL CLUB E.V  STRASSE DER EINHEIT 6   \n",
       "9939279                BAYERISCHE MOTORENWERKE AG    MENGKOFENER STR. 13   \n",
       "9939280  MAENNERCHOR MILBERTSHOFEN-RIESENFELD E.V       KORNWEGERSTR. 10   \n",
       "9939281  MAENNERCHOR MILBERTSHOFEN-RIESENFELD E.V       KORNWEGERSTR. 10   \n",
       "\n",
       "        veranst_plz veranst_ort  nutzliznehm_geschaeftszeichen  \\\n",
       "ID                                                               \n",
       "9938766       96194    WALSDORF                     1510423300   \n",
       "9939272       99752  WIPPERDORF                     1374109400   \n",
       "9939279       84130  DINGOLFING                     2000026695   \n",
       "9939280       81375    MUENCHEN                      910166400   \n",
       "9939281       81375    MUENCHEN                      910166400   \n",
       "\n",
       "                             nutzliznehm_name nutzliznehm_vorname  \\\n",
       "ID                                                                  \n",
       "9938766          BAYERISCHER BLASMUSIKVERBAND                None   \n",
       "9939272            WIPPERDORFER CARNEVAL CLUB                None   \n",
       "9939279               BAYERISCHE MOTORENWERKE                None   \n",
       "9939280  MAENNERCHOR MILBERTSHOFEN-RIESENFELD                None   \n",
       "9939281  MAENNERCHOR MILBERTSHOFEN-RIESENFELD                None   \n",
       "\n",
       "           nutzliznehm_strasse nutzliznehm_ort  \\\n",
       "ID                                               \n",
       "9938766                   None        MUENCHEN   \n",
       "9939272  STRASSE DER EINHEIT 6      WIPPERDORF   \n",
       "9939279    MENGKOFENER STR. 13      DINGOLFING   \n",
       "9939280       KORNWEGERSTR. 10        MUENCHEN   \n",
       "9939281       KORNWEGERSTR. 10        MUENCHEN   \n",
       "\n",
       "                                             location                  band  \\\n",
       "ID                                                                            \n",
       "9938766               LISBERG TURNHALLE SV RW LISBERG  DAS BOEHMISCHE FEUER   \n",
       "9939272  WIPPERDORF STAATLICHE GRUNDSCHULE WIPPERDORF  KYFFHAEUSER TANZ BAN   \n",
       "9939279                DINGOLFING BMW-WERK DINGOLFING      BERUFSFACHSCHULE   \n",
       "9939280             MUENCHEN KULTURHAUS MILBERTSHOFEN  SIEBENBUERGER BLASMU   \n",
       "9939281             MUENCHEN KULTURHAUS MILBERTSHOFEN  SIEBENBUERGER BLASMU   \n",
       "\n",
       "                                               promoter   vg_state  \\\n",
       "ID                                                                   \n",
       "9938766  AURACHTALER BLASMUSIKVEREIN WALSDORF E.V 96194    BAVARIA   \n",
       "9939272            WIPPERDORFER CARNEVAL CLUB E.V 99752  THURINGIA   \n",
       "9939279                BAYERISCHE MOTORENWERKE AG 84130    BAVARIA   \n",
       "9939280  MAENNERCHOR MILBERTSHOFEN-RIESENFELD E.V 81375    BAVARIA   \n",
       "9939281  MAENNERCHOR MILBERTSHOFEN-RIESENFELD E.V 81375    BAVARIA   \n",
       "\n",
       "                             vg_raum_clean               vg_raum_wo_stopwords  \\\n",
       "ID                                                                              \n",
       "9938766            TURNHALLE SV RW LISBERG            turnhalle sv rw lisberg   \n",
       "9939272  STAATLICHE GRUNDSCHULE WIPPERDORF  staatliche grundschule wipperdorf   \n",
       "9939279                BMW WERK DINGOLFING                bmw werk dingolfing   \n",
       "9939280           KULTURHAUS MILBERTSHOFEN           kulturhaus milbertshofen   \n",
       "9939281           KULTURHAUS MILBERTSHOFEN           kulturhaus milbertshofen   \n",
       "\n",
       "                   vg_raum_keywords_x  vg_datum_year  vg_datum_month  \\\n",
       "ID                                                                     \n",
       "9938766  [turnhalle, sv, rw, lisberg]           2014               2   \n",
       "9939272     [grundschule, wipperdorf]           2014               2   \n",
       "9939279       [bmw, werk, dingolfing]           2014               2   \n",
       "9939280               [milbertshofen]           2014               3   \n",
       "9939281               [milbertshofen]           2014               3   \n",
       "\n",
       "         vg_datum_day_of_week  vg_datum_season            vg_raum_keywords_y  \\\n",
       "ID                                                                             \n",
       "9938766                     5                1  [turnhalle, sv, rw, lisberg]   \n",
       "9939272                     5                1     [grundschule, wipperdorf]   \n",
       "9939279                     1                1       [bmw, werk, dingolfing]   \n",
       "9939280                     5                2               [milbertshofen]   \n",
       "9939281                     4                2               [milbertshofen]   \n",
       "\n",
       "         place_kirche  place_hotel  place_cafe  place_theater  place_club  \\\n",
       "ID                                                                          \n",
       "9938766             0            0           0              0           0   \n",
       "9939272             0            0           0              0           0   \n",
       "9939279             0            0           0              0           0   \n",
       "9939280             0            0           0              0           0   \n",
       "9939281             0            0           0              0           0   \n",
       "\n",
       "         place_halle  place_gaststaette  place_festhalle  place_kulturzentrum  \\\n",
       "ID                                                                              \n",
       "9938766            0                  0                0                    0   \n",
       "9939272            0                  0                0                    0   \n",
       "9939279            0                  0                0                    0   \n",
       "9939280            0                  0                0                    0   \n",
       "9939281            0                  0                0                    0   \n",
       "\n",
       "         place_festzelt  place_schloss  place_pub  place_stadthalle  \\\n",
       "ID                                                                    \n",
       "9938766               0              0          0                 0   \n",
       "9939272               0              0          0                 0   \n",
       "9939279               0              0          0                 0   \n",
       "9939280               0              0          0                 0   \n",
       "9939281               0              0          0                 0   \n",
       "\n",
       "         place_park  place_gasthof  place_kabarett  place_arena  \\\n",
       "ID                                                                \n",
       "9938766           0              0               0            0   \n",
       "9939272           0              0               0            0   \n",
       "9939279           0              0               0            0   \n",
       "9939280           0              0               0            0   \n",
       "9939281           0              0               0            0   \n",
       "\n",
       "         place_schlachthof  place_wandelhalle  place_turnhalle  \\\n",
       "ID                                                               \n",
       "9938766                  0                  0                1   \n",
       "9939272                  0                  0                0   \n",
       "9939279                  0                  0                0   \n",
       "9939280                  0                  0                0   \n",
       "9939281                  0                  0                0   \n",
       "\n",
       "         place_buergerhaus  place_museum  place_rathaus  place_staatsbad  \\\n",
       "ID                                                                         \n",
       "9938766                  0             0              0                0   \n",
       "9939272                  0             0              0                0   \n",
       "9939279                  0             0              0                0   \n",
       "9939280                  0             0              0                0   \n",
       "9939281                  0             0              0                0   \n",
       "\n",
       "         place_zelt  place_jazz  place_forum  place_gymnasium  place_schule  \\\n",
       "ID                                                                            \n",
       "9938766           0           0            0                0             0   \n",
       "9939272           0           0            0                0             0   \n",
       "9939279           0           0            0                0             0   \n",
       "9939280           0           0            0                0             0   \n",
       "9939281           0           0            0                0             0   \n",
       "\n",
       "         place_sporthalle vg_state_y  state_bavaria  state_thuringia  \\\n",
       "ID                                                                     \n",
       "9938766                 0    BAVARIA              1                0   \n",
       "9939272                 0  THURINGIA              0                1   \n",
       "9939279                 0    BAVARIA              1                0   \n",
       "9939280                 0    BAVARIA              1                0   \n",
       "9939281                 0    BAVARIA              1                0   \n",
       "\n",
       "         state_baden-wuerttemberg  state_rhineland-palatinate  \\\n",
       "ID                                                              \n",
       "9938766                         0                           0   \n",
       "9939272                         0                           0   \n",
       "9939279                         0                           0   \n",
       "9939280                         0                           0   \n",
       "9939281                         0                           0   \n",
       "\n",
       "         state_brandenburg  state_berlin  state_lower saxony  \\\n",
       "ID                                                             \n",
       "9938766                  0             0                   0   \n",
       "9939272                  0             0                   0   \n",
       "9939279                  0             0                   0   \n",
       "9939280                  0             0                   0   \n",
       "9939281                  0             0                   0   \n",
       "\n",
       "         state_schleswig-holstein  state_hamburg  state_hesse  state_saarland  \\\n",
       "ID                                                                              \n",
       "9938766                         0              0            0               0   \n",
       "9939272                         0              0            0               0   \n",
       "9939279                         0              0            0               0   \n",
       "9939280                         0              0            0               0   \n",
       "9939281                         0              0            0               0   \n",
       "\n",
       "         state_north rhine-westphalia  state_saxony-anhalt  state_saxony  \\\n",
       "ID                                                                         \n",
       "9938766                             0                    0             0   \n",
       "9939272                             0                    0             0   \n",
       "9939279                             0                    0             0   \n",
       "9939280                             0                    0             0   \n",
       "9939281                             0                    0             0   \n",
       "\n",
       "         state_mecklenburg-western pomerania  state_bremen  \\\n",
       "ID                                                           \n",
       "9938766                                    0             0   \n",
       "9939272                                    0             0   \n",
       "9939279                                    0             0   \n",
       "9939280                                    0             0   \n",
       "9939281                                    0             0   \n",
       "\n",
       "                       band_y  band_kurorchester bad wil  \\\n",
       "ID                                                         \n",
       "9938766  DAS BOEHMISCHE FEUER                          0   \n",
       "9939272  KYFFHAEUSER TANZ BAN                          0   \n",
       "9939279      BERUFSFACHSCHULE                          0   \n",
       "9939280  SIEBENBUERGER BLASMU                          0   \n",
       "9939281  SIEBENBUERGER BLASMU                          0   \n",
       "\n",
       "         band_musikverein harmonie  band_kasalla  band_cat ballou  \\\n",
       "ID                                                                  \n",
       "9938766                          0             0                0   \n",
       "9939272                          0             0                0   \n",
       "9939279                          0             0                0   \n",
       "9939280                          0             0                0   \n",
       "9939281                          0             0                0   \n",
       "\n",
       "         band_roncalli  royal orch  band_jugendblasorchester  \\\n",
       "ID                                                             \n",
       "9938766                          0                         0   \n",
       "9939272                          0                         0   \n",
       "9939279                          0                         0   \n",
       "9939280                          0                         0   \n",
       "9939281                          0                         0   \n",
       "\n",
       "         band_kurorchester bad pyr  band_hoehner  band_paveier  \\\n",
       "ID                                                               \n",
       "9938766                          0             0             0   \n",
       "9939272                          0             0             0   \n",
       "9939279                          0             0             0   \n",
       "9939280                          0             0             0   \n",
       "9939281                          0             0             0   \n",
       "\n",
       "         band_domstuermer  band_kluengelkoepp  band_alleinunterhalter  \\\n",
       "ID                                                                      \n",
       "9938766                 0                   0                       0   \n",
       "9939272                 0                   0                       0   \n",
       "9939279                 0                   0                       0   \n",
       "9939280                 0                   0                       0   \n",
       "9939281                 0                   0                       0   \n",
       "\n",
       "         band_the gregorian voices  band_brings  band_musica hungarica  \\\n",
       "ID                                                                       \n",
       "9938766                          0            0                      0   \n",
       "9939272                          0            0                      0   \n",
       "9939279                          0            0                      0   \n",
       "9939280                          0            0                      0   \n",
       "9939281                          0            0                      0   \n",
       "\n",
       "         band_concerto  band_bad salzuflen orches  band_musikverein stadtkap  \\\n",
       "ID                                                                             \n",
       "9938766              0                          0                          0   \n",
       "9939272              0                          0                          0   \n",
       "9939279              0                          0                          0   \n",
       "9939280              0                          0                          0   \n",
       "9939281              0                          0                          0   \n",
       "\n",
       "         band_salonorchester hunga  band_miljoe  band_raeuber  \\\n",
       "ID                                                              \n",
       "9938766                          0            0             0   \n",
       "9939272                          0            0             0   \n",
       "9939279                          0            0             0   \n",
       "9939280                          0            0             0   \n",
       "9939281                          0            0             0   \n",
       "\n",
       "         band_kabarett leipziger f  band_marita koellner  \\\n",
       "ID                                                         \n",
       "9938766                          0                     0   \n",
       "9939272                          0                     0   \n",
       "9939279                          0                     0   \n",
       "9939280                          0                     0   \n",
       "9939281                          0                     0   \n",
       "\n",
       "         band_salon-orchester hung  band_blaeck foeoess  \\\n",
       "ID                                                        \n",
       "9938766                          0                    0   \n",
       "9939272                          0                    0   \n",
       "9939279                          0                    0   \n",
       "9939280                          0                    0   \n",
       "9939281                          0                    0   \n",
       "\n",
       "         band_schuelerinnen und sc  band_romain vicente  \\\n",
       "ID                                                        \n",
       "9938766                          0                    0   \n",
       "9939272                          0                    0   \n",
       "9939279                          0                    0   \n",
       "9939280                          0                    0   \n",
       "9939281                          0                    0   \n",
       "\n",
       "         band_staatliche kurkapell  band_musikzug der freiwil  \\\n",
       "ID                                                              \n",
       "9938766                          0                          0   \n",
       "9939272                          0                          0   \n",
       "9939279                          0                          0   \n",
       "9939280                          0                          0   \n",
       "9939281                          0                          0   \n",
       "\n",
       "         band_funky marys  \n",
       "ID                         \n",
       "9938766                 0  \n",
       "9939272                 0  \n",
       "9939279                 0  \n",
       "9939280                 0  \n",
       "9939281                 0  "
      ]
     },
     "metadata": {},
     "output_type": "display_data"
    }
   ],
   "source": [
    "display(df.head(5))"
   ]
  },
  {
   "cell_type": "code",
   "execution_count": 9,
   "metadata": {},
   "outputs": [
    {
     "name": "stdout",
     "output_type": "stream",
     "text": [
      "317011\n",
      "176456\n",
      "16\n"
     ]
    }
   ],
   "source": [
    "print(len(df.band.unique()))#317011 - unique bands\n",
    "print(len(df.promoter.unique()))#176456 - unique promoter/organizer\n",
    "print(len(df.vg_state.unique()))#16 - unique bundesland/states"
   ]
  },
  {
   "cell_type": "code",
   "execution_count": 33,
   "metadata": {},
   "outputs": [
    {
     "data": {
      "application/vnd.jupyter.widget-view+json": {
       "model_id": "a56701df70304eb6a718c6d19af38d5a",
       "version_major": 2,
       "version_minor": 0
      },
      "text/plain": [
       "  0%|          | 0/10889 [00:00<?, ?it/s]"
      ]
     },
     "metadata": {},
     "output_type": "display_data"
    },
    {
     "data": {
      "application/vnd.jupyter.widget-view+json": {
       "model_id": "595cfd4d47eb4dd3aaad1500ea5a411a",
       "version_major": 2,
       "version_minor": 0
      },
      "text/plain": [
       "  0%|          | 0/10889 [00:00<?, ?it/s]"
      ]
     },
     "metadata": {},
     "output_type": "display_data"
    },
    {
     "data": {
      "application/vnd.jupyter.widget-view+json": {
       "model_id": "fc8c566d64b74df18e9502aebadd3a35",
       "version_major": 2,
       "version_minor": 0
      },
      "text/plain": [
       "  0%|          | 0/10889 [00:00<?, ?it/s]"
      ]
     },
     "metadata": {},
     "output_type": "display_data"
    },
    {
     "data": {
      "application/vnd.jupyter.widget-view+json": {
       "model_id": "1148b240659d4ed69a115ded37aa06e7",
       "version_major": 2,
       "version_minor": 0
      },
      "text/plain": [
       "  0%|          | 0/10889 [00:00<?, ?it/s]"
      ]
     },
     "metadata": {},
     "output_type": "display_data"
    },
    {
     "data": {
      "application/vnd.jupyter.widget-view+json": {
       "model_id": "74483af9e24b42d0833c0ff4179cb6c9",
       "version_major": 2,
       "version_minor": 0
      },
      "text/plain": [
       "  0%|          | 0/10889 [00:00<?, ?it/s]"
      ]
     },
     "metadata": {},
     "output_type": "display_data"
    },
    {
     "data": {
      "application/vnd.jupyter.widget-view+json": {
       "model_id": "05b78097141f4cef8318264aafdc9ef1",
       "version_major": 2,
       "version_minor": 0
      },
      "text/plain": [
       "  0%|          | 0/10889 [00:00<?, ?it/s]"
      ]
     },
     "metadata": {},
     "output_type": "display_data"
    },
    {
     "data": {
      "application/vnd.jupyter.widget-view+json": {
       "model_id": "e64f5b70d82d4214a07476fa64a53228",
       "version_major": 2,
       "version_minor": 0
      },
      "text/plain": [
       "  0%|          | 0/10889 [00:00<?, ?it/s]"
      ]
     },
     "metadata": {},
     "output_type": "display_data"
    },
    {
     "data": {
      "application/vnd.jupyter.widget-view+json": {
       "model_id": "ac86c5d437ab4b04928c1ad208ac6199",
       "version_major": 2,
       "version_minor": 0
      },
      "text/plain": [
       "  0%|          | 0/10889 [00:00<?, ?it/s]"
      ]
     },
     "metadata": {},
     "output_type": "display_data"
    },
    {
     "data": {
      "application/vnd.jupyter.widget-view+json": {
       "model_id": "463d520aa86d4e73af00347e122cc972",
       "version_major": 2,
       "version_minor": 0
      },
      "text/plain": [
       "  0%|          | 0/10889 [00:00<?, ?it/s]"
      ]
     },
     "metadata": {},
     "output_type": "display_data"
    },
    {
     "data": {
      "application/vnd.jupyter.widget-view+json": {
       "model_id": "240b238d6c3b4a8aa2fc590860551ed4",
       "version_major": 2,
       "version_minor": 0
      },
      "text/plain": [
       "  0%|          | 0/10889 [00:00<?, ?it/s]"
      ]
     },
     "metadata": {},
     "output_type": "display_data"
    },
    {
     "data": {
      "application/vnd.jupyter.widget-view+json": {
       "model_id": "a8d76778c2cc4805afaba953af5be9b6",
       "version_major": 2,
       "version_minor": 0
      },
      "text/plain": [
       "  0%|          | 0/10889 [00:00<?, ?it/s]"
      ]
     },
     "metadata": {},
     "output_type": "display_data"
    },
    {
     "data": {
      "application/vnd.jupyter.widget-view+json": {
       "model_id": "58142bedc089482fa94a1f61a6bf0484",
       "version_major": 2,
       "version_minor": 0
      },
      "text/plain": [
       "  0%|          | 0/10889 [00:00<?, ?it/s]"
      ]
     },
     "metadata": {},
     "output_type": "display_data"
    },
    {
     "data": {
      "application/vnd.jupyter.widget-view+json": {
       "model_id": "dd7a06c916b249f8baa29ee2d5b59a59",
       "version_major": 2,
       "version_minor": 0
      },
      "text/plain": [
       "  0%|          | 0/10889 [00:00<?, ?it/s]"
      ]
     },
     "metadata": {},
     "output_type": "display_data"
    },
    {
     "data": {
      "application/vnd.jupyter.widget-view+json": {
       "model_id": "304c6693a8b2437f9d87053ac6f252e1",
       "version_major": 2,
       "version_minor": 0
      },
      "text/plain": [
       "  0%|          | 0/10889 [00:00<?, ?it/s]"
      ]
     },
     "metadata": {},
     "output_type": "display_data"
    },
    {
     "data": {
      "application/vnd.jupyter.widget-view+json": {
       "model_id": "708699585bd24e8f81c8bc79ac852976",
       "version_major": 2,
       "version_minor": 0
      },
      "text/plain": [
       "  0%|          | 0/10889 [00:00<?, ?it/s]"
      ]
     },
     "metadata": {},
     "output_type": "display_data"
    },
    {
     "data": {
      "application/vnd.jupyter.widget-view+json": {
       "model_id": "3f0e50999bd8497da3f4ea9c7a02b9c0",
       "version_major": 2,
       "version_minor": 0
      },
      "text/plain": [
       "  0%|          | 0/10889 [00:00<?, ?it/s]"
      ]
     },
     "metadata": {},
     "output_type": "display_data"
    },
    {
     "data": {
      "application/vnd.jupyter.widget-view+json": {
       "model_id": "f1a918e5e8f54f499204a73ace2c27b4",
       "version_major": 2,
       "version_minor": 0
      },
      "text/plain": [
       "  0%|          | 0/10889 [00:00<?, ?it/s]"
      ]
     },
     "metadata": {},
     "output_type": "display_data"
    },
    {
     "data": {
      "application/vnd.jupyter.widget-view+json": {
       "model_id": "ced777c2518b40ff9ed4909a98f0f7b4",
       "version_major": 2,
       "version_minor": 0
      },
      "text/plain": [
       "  0%|          | 0/10889 [00:00<?, ?it/s]"
      ]
     },
     "metadata": {},
     "output_type": "display_data"
    },
    {
     "data": {
      "application/vnd.jupyter.widget-view+json": {
       "model_id": "628f5eb730c14bd08939c6069707bbc2",
       "version_major": 2,
       "version_minor": 0
      },
      "text/plain": [
       "  0%|          | 0/10889 [00:00<?, ?it/s]"
      ]
     },
     "metadata": {},
     "output_type": "display_data"
    },
    {
     "data": {
      "application/vnd.jupyter.widget-view+json": {
       "model_id": "bc86823ee1304e348459e7eef4898f7d",
       "version_major": 2,
       "version_minor": 0
      },
      "text/plain": [
       "  0%|          | 0/10889 [00:00<?, ?it/s]"
      ]
     },
     "metadata": {},
     "output_type": "display_data"
    },
    {
     "data": {
      "application/vnd.jupyter.widget-view+json": {
       "model_id": "3c549c93a4314e598871d32362b4cb53",
       "version_major": 2,
       "version_minor": 0
      },
      "text/plain": [
       "  0%|          | 0/10889 [00:00<?, ?it/s]"
      ]
     },
     "metadata": {},
     "output_type": "display_data"
    },
    {
     "data": {
      "application/vnd.jupyter.widget-view+json": {
       "model_id": "d63ccd1dd15f4a95b528076b4f4d6c0f",
       "version_major": 2,
       "version_minor": 0
      },
      "text/plain": [
       "  0%|          | 0/10889 [00:00<?, ?it/s]"
      ]
     },
     "metadata": {},
     "output_type": "display_data"
    },
    {
     "data": {
      "application/vnd.jupyter.widget-view+json": {
       "model_id": "03636a111baa402cbc235e2d79be38fb",
       "version_major": 2,
       "version_minor": 0
      },
      "text/plain": [
       "  0%|          | 0/10889 [00:00<?, ?it/s]"
      ]
     },
     "metadata": {},
     "output_type": "display_data"
    },
    {
     "data": {
      "application/vnd.jupyter.widget-view+json": {
       "model_id": "bda66468d7924d47aa9bd1a99b45cc7e",
       "version_major": 2,
       "version_minor": 0
      },
      "text/plain": [
       "  0%|          | 0/10889 [00:00<?, ?it/s]"
      ]
     },
     "metadata": {},
     "output_type": "display_data"
    },
    {
     "data": {
      "application/vnd.jupyter.widget-view+json": {
       "model_id": "3373f0c2f05c4ec08ab74061cfd22c70",
       "version_major": 2,
       "version_minor": 0
      },
      "text/plain": [
       "  0%|          | 0/10889 [00:00<?, ?it/s]"
      ]
     },
     "metadata": {},
     "output_type": "display_data"
    },
    {
     "data": {
      "application/vnd.jupyter.widget-view+json": {
       "model_id": "9acad071eab84531bf5f43d353b0862c",
       "version_major": 2,
       "version_minor": 0
      },
      "text/plain": [
       "  0%|          | 0/10889 [00:00<?, ?it/s]"
      ]
     },
     "metadata": {},
     "output_type": "display_data"
    },
    {
     "data": {
      "application/vnd.jupyter.widget-view+json": {
       "model_id": "a8595eae55894da79fb45f1890d495b1",
       "version_major": 2,
       "version_minor": 0
      },
      "text/plain": [
       "  0%|          | 0/10889 [00:00<?, ?it/s]"
      ]
     },
     "metadata": {},
     "output_type": "display_data"
    },
    {
     "data": {
      "application/vnd.jupyter.widget-view+json": {
       "model_id": "4c6dcfc03059455bac8a513dbfe58ea1",
       "version_major": 2,
       "version_minor": 0
      },
      "text/plain": [
       "  0%|          | 0/10889 [00:00<?, ?it/s]"
      ]
     },
     "metadata": {},
     "output_type": "display_data"
    },
    {
     "data": {
      "application/vnd.jupyter.widget-view+json": {
       "model_id": "4012375f9af54842abb9e5891fae61ad",
       "version_major": 2,
       "version_minor": 0
      },
      "text/plain": [
       "  0%|          | 0/10889 [00:00<?, ?it/s]"
      ]
     },
     "metadata": {},
     "output_type": "display_data"
    },
    {
     "data": {
      "application/vnd.jupyter.widget-view+json": {
       "model_id": "cd1e783dacd5417b8bfbeb141b433bb1",
       "version_major": 2,
       "version_minor": 0
      },
      "text/plain": [
       "  0%|          | 0/10889 [00:00<?, ?it/s]"
      ]
     },
     "metadata": {},
     "output_type": "display_data"
    },
    {
     "data": {
      "application/vnd.jupyter.widget-view+json": {
       "model_id": "9db352cb4f5149b5a33c2a3745652ace",
       "version_major": 2,
       "version_minor": 0
      },
      "text/plain": [
       "  0%|          | 0/10889 [00:00<?, ?it/s]"
      ]
     },
     "metadata": {},
     "output_type": "display_data"
    },
    {
     "data": {
      "application/vnd.jupyter.widget-view+json": {
       "model_id": "05214af27506421cae756536288c2b85",
       "version_major": 2,
       "version_minor": 0
      },
      "text/plain": [
       "  0%|          | 0/10889 [00:00<?, ?it/s]"
      ]
     },
     "metadata": {},
     "output_type": "display_data"
    },
    {
     "data": {
      "application/vnd.jupyter.widget-view+json": {
       "model_id": "78c93c4c3db840a5b3103fbae07be5fa",
       "version_major": 2,
       "version_minor": 0
      },
      "text/plain": [
       "  0%|          | 0/10889 [00:00<?, ?it/s]"
      ]
     },
     "metadata": {},
     "output_type": "display_data"
    },
    {
     "data": {
      "application/vnd.jupyter.widget-view+json": {
       "model_id": "4264c41a71564f168f80786358c3a203",
       "version_major": 2,
       "version_minor": 0
      },
      "text/plain": [
       "  0%|          | 0/10889 [00:00<?, ?it/s]"
      ]
     },
     "metadata": {},
     "output_type": "display_data"
    },
    {
     "data": {
      "application/vnd.jupyter.widget-view+json": {
       "model_id": "c93fc68dc7c844e6bf36b40d9fea1f2e",
       "version_major": 2,
       "version_minor": 0
      },
      "text/plain": [
       "  0%|          | 0/10889 [00:00<?, ?it/s]"
      ]
     },
     "metadata": {},
     "output_type": "display_data"
    },
    {
     "data": {
      "application/vnd.jupyter.widget-view+json": {
       "model_id": "6e218554b825404ea4dea8a6fdc5dcc8",
       "version_major": 2,
       "version_minor": 0
      },
      "text/plain": [
       "  0%|          | 0/10889 [00:00<?, ?it/s]"
      ]
     },
     "metadata": {},
     "output_type": "display_data"
    },
    {
     "data": {
      "application/vnd.jupyter.widget-view+json": {
       "model_id": "a13aab89ca874f1bb46586fd20a9c491",
       "version_major": 2,
       "version_minor": 0
      },
      "text/plain": [
       "  0%|          | 0/10889 [00:00<?, ?it/s]"
      ]
     },
     "metadata": {},
     "output_type": "display_data"
    },
    {
     "data": {
      "application/vnd.jupyter.widget-view+json": {
       "model_id": "f97691bdf22340a1a03c8dadffa1a3fd",
       "version_major": 2,
       "version_minor": 0
      },
      "text/plain": [
       "  0%|          | 0/10889 [00:00<?, ?it/s]"
      ]
     },
     "metadata": {},
     "output_type": "display_data"
    },
    {
     "data": {
      "application/vnd.jupyter.widget-view+json": {
       "model_id": "4f80c65603f244d3aba59492bb130dc5",
       "version_major": 2,
       "version_minor": 0
      },
      "text/plain": [
       "  0%|          | 0/10889 [00:00<?, ?it/s]"
      ]
     },
     "metadata": {},
     "output_type": "display_data"
    },
    {
     "data": {
      "application/vnd.jupyter.widget-view+json": {
       "model_id": "bf7a58196f5c49a28a852d68a217cbb9",
       "version_major": 2,
       "version_minor": 0
      },
      "text/plain": [
       "  0%|          | 0/10889 [00:00<?, ?it/s]"
      ]
     },
     "metadata": {},
     "output_type": "display_data"
    },
    {
     "data": {
      "application/vnd.jupyter.widget-view+json": {
       "model_id": "73e441a212af42d3a7ca1d79f54ec647",
       "version_major": 2,
       "version_minor": 0
      },
      "text/plain": [
       "  0%|          | 0/10889 [00:00<?, ?it/s]"
      ]
     },
     "metadata": {},
     "output_type": "display_data"
    },
    {
     "data": {
      "application/vnd.jupyter.widget-view+json": {
       "model_id": "5ab6efb1b74846cba875057b08c44205",
       "version_major": 2,
       "version_minor": 0
      },
      "text/plain": [
       "  0%|          | 0/10889 [00:00<?, ?it/s]"
      ]
     },
     "metadata": {},
     "output_type": "display_data"
    },
    {
     "data": {
      "application/vnd.jupyter.widget-view+json": {
       "model_id": "6b9c8b0163ab4f59b71bce603a2c9ae6",
       "version_major": 2,
       "version_minor": 0
      },
      "text/plain": [
       "  0%|          | 0/10889 [00:00<?, ?it/s]"
      ]
     },
     "metadata": {},
     "output_type": "display_data"
    },
    {
     "data": {
      "application/vnd.jupyter.widget-view+json": {
       "model_id": "4ec2101562504ae8be00b638aa8d01c2",
       "version_major": 2,
       "version_minor": 0
      },
      "text/plain": [
       "  0%|          | 0/10889 [00:00<?, ?it/s]"
      ]
     },
     "metadata": {},
     "output_type": "display_data"
    },
    {
     "data": {
      "application/vnd.jupyter.widget-view+json": {
       "model_id": "40ef4ac4455b46248c0f33af5ce164ff",
       "version_major": 2,
       "version_minor": 0
      },
      "text/plain": [
       "  0%|          | 0/10889 [00:00<?, ?it/s]"
      ]
     },
     "metadata": {},
     "output_type": "display_data"
    },
    {
     "data": {
      "application/vnd.jupyter.widget-view+json": {
       "model_id": "ce4010ed6d4d4ec598de66a990d87843",
       "version_major": 2,
       "version_minor": 0
      },
      "text/plain": [
       "  0%|          | 0/10889 [00:00<?, ?it/s]"
      ]
     },
     "metadata": {},
     "output_type": "display_data"
    },
    {
     "data": {
      "application/vnd.jupyter.widget-view+json": {
       "model_id": "fdef879c9cc8424581813b6c3d8b1d59",
       "version_major": 2,
       "version_minor": 0
      },
      "text/plain": [
       "  0%|          | 0/10889 [00:00<?, ?it/s]"
      ]
     },
     "metadata": {},
     "output_type": "display_data"
    },
    {
     "data": {
      "application/vnd.jupyter.widget-view+json": {
       "model_id": "7c0c8e5b600949708e45b0597ae91eeb",
       "version_major": 2,
       "version_minor": 0
      },
      "text/plain": [
       "  0%|          | 0/10889 [00:00<?, ?it/s]"
      ]
     },
     "metadata": {},
     "output_type": "display_data"
    },
    {
     "data": {
      "application/vnd.jupyter.widget-view+json": {
       "model_id": "9c6de6d036d14436a503d30a342ff6d1",
       "version_major": 2,
       "version_minor": 0
      },
      "text/plain": [
       "  0%|          | 0/10889 [00:00<?, ?it/s]"
      ]
     },
     "metadata": {},
     "output_type": "display_data"
    },
    {
     "data": {
      "application/vnd.jupyter.widget-view+json": {
       "model_id": "98a57e7425a94022ae41cf890625303c",
       "version_major": 2,
       "version_minor": 0
      },
      "text/plain": [
       "  0%|          | 0/10889 [00:00<?, ?it/s]"
      ]
     },
     "metadata": {},
     "output_type": "display_data"
    },
    {
     "data": {
      "application/vnd.jupyter.widget-view+json": {
       "model_id": "25f94d5f36dd4b978db9255177db5052",
       "version_major": 2,
       "version_minor": 0
      },
      "text/plain": [
       "  0%|          | 0/10889 [00:00<?, ?it/s]"
      ]
     },
     "metadata": {},
     "output_type": "display_data"
    },
    {
     "data": {
      "application/vnd.jupyter.widget-view+json": {
       "model_id": "0175fca96afb4395bfd1c31d07e2d997",
       "version_major": 2,
       "version_minor": 0
      },
      "text/plain": [
       "  0%|          | 0/10889 [00:00<?, ?it/s]"
      ]
     },
     "metadata": {},
     "output_type": "display_data"
    },
    {
     "data": {
      "application/vnd.jupyter.widget-view+json": {
       "model_id": "6e28d3e1d8584c15b5da20c396c9fc1c",
       "version_major": 2,
       "version_minor": 0
      },
      "text/plain": [
       "  0%|          | 0/10889 [00:00<?, ?it/s]"
      ]
     },
     "metadata": {},
     "output_type": "display_data"
    },
    {
     "data": {
      "application/vnd.jupyter.widget-view+json": {
       "model_id": "fb13624d211a4dc6a036ecbfd7d6f2fc",
       "version_major": 2,
       "version_minor": 0
      },
      "text/plain": [
       "  0%|          | 0/10889 [00:00<?, ?it/s]"
      ]
     },
     "metadata": {},
     "output_type": "display_data"
    },
    {
     "data": {
      "application/vnd.jupyter.widget-view+json": {
       "model_id": "1952cbf80c8d40d780be9e0c93e5f69c",
       "version_major": 2,
       "version_minor": 0
      },
      "text/plain": [
       "  0%|          | 0/10889 [00:00<?, ?it/s]"
      ]
     },
     "metadata": {},
     "output_type": "display_data"
    },
    {
     "data": {
      "application/vnd.jupyter.widget-view+json": {
       "model_id": "3c37e37b12b14421888b4eaa3ac5a64d",
       "version_major": 2,
       "version_minor": 0
      },
      "text/plain": [
       "  0%|          | 0/10889 [00:00<?, ?it/s]"
      ]
     },
     "metadata": {},
     "output_type": "display_data"
    },
    {
     "data": {
      "application/vnd.jupyter.widget-view+json": {
       "model_id": "471bf81d8bff45c1b3a1d65bd6e6b608",
       "version_major": 2,
       "version_minor": 0
      },
      "text/plain": [
       "  0%|          | 0/10889 [00:00<?, ?it/s]"
      ]
     },
     "metadata": {},
     "output_type": "display_data"
    },
    {
     "data": {
      "application/vnd.jupyter.widget-view+json": {
       "model_id": "d3e9efaa81084fc6a648bacaffd033a5",
       "version_major": 2,
       "version_minor": 0
      },
      "text/plain": [
       "  0%|          | 0/10889 [00:00<?, ?it/s]"
      ]
     },
     "metadata": {},
     "output_type": "display_data"
    },
    {
     "data": {
      "application/vnd.jupyter.widget-view+json": {
       "model_id": "fc78162a4f87453f8cf0e8fb0cda315b",
       "version_major": 2,
       "version_minor": 0
      },
      "text/plain": [
       "  0%|          | 0/10889 [00:00<?, ?it/s]"
      ]
     },
     "metadata": {},
     "output_type": "display_data"
    },
    {
     "data": {
      "application/vnd.jupyter.widget-view+json": {
       "model_id": "6fc991d31ccf477eac9f0272a8a6697d",
       "version_major": 2,
       "version_minor": 0
      },
      "text/plain": [
       "  0%|          | 0/10889 [00:00<?, ?it/s]"
      ]
     },
     "metadata": {},
     "output_type": "display_data"
    },
    {
     "data": {
      "application/vnd.jupyter.widget-view+json": {
       "model_id": "c8a2c4b6d62343979d3b9e288201d453",
       "version_major": 2,
       "version_minor": 0
      },
      "text/plain": [
       "  0%|          | 0/10889 [00:00<?, ?it/s]"
      ]
     },
     "metadata": {},
     "output_type": "display_data"
    },
    {
     "data": {
      "application/vnd.jupyter.widget-view+json": {
       "model_id": "ba906350de9442eba8bbeb6af926c7fc",
       "version_major": 2,
       "version_minor": 0
      },
      "text/plain": [
       "  0%|          | 0/10889 [00:00<?, ?it/s]"
      ]
     },
     "metadata": {},
     "output_type": "display_data"
    },
    {
     "data": {
      "application/vnd.jupyter.widget-view+json": {
       "model_id": "2173d4e9c8db4f23a007b494158f3ace",
       "version_major": 2,
       "version_minor": 0
      },
      "text/plain": [
       "  0%|          | 0/10889 [00:00<?, ?it/s]"
      ]
     },
     "metadata": {},
     "output_type": "display_data"
    },
    {
     "data": {
      "application/vnd.jupyter.widget-view+json": {
       "model_id": "0830028f6f79402f9526e1b50d6fd7c5",
       "version_major": 2,
       "version_minor": 0
      },
      "text/plain": [
       "  0%|          | 0/10889 [00:00<?, ?it/s]"
      ]
     },
     "metadata": {},
     "output_type": "display_data"
    },
    {
     "data": {
      "application/vnd.jupyter.widget-view+json": {
       "model_id": "26a265df90dd4f7894c36675e9601f1f",
       "version_major": 2,
       "version_minor": 0
      },
      "text/plain": [
       "  0%|          | 0/10889 [00:00<?, ?it/s]"
      ]
     },
     "metadata": {},
     "output_type": "display_data"
    },
    {
     "data": {
      "application/vnd.jupyter.widget-view+json": {
       "model_id": "1a43ddd192524877a869928b8ae3f12a",
       "version_major": 2,
       "version_minor": 0
      },
      "text/plain": [
       "  0%|          | 0/10889 [00:00<?, ?it/s]"
      ]
     },
     "metadata": {},
     "output_type": "display_data"
    },
    {
     "data": {
      "application/vnd.jupyter.widget-view+json": {
       "model_id": "fba942729f1e481da6355e310431413c",
       "version_major": 2,
       "version_minor": 0
      },
      "text/plain": [
       "  0%|          | 0/10889 [00:00<?, ?it/s]"
      ]
     },
     "metadata": {},
     "output_type": "display_data"
    },
    {
     "data": {
      "application/vnd.jupyter.widget-view+json": {
       "model_id": "a3dd470fb3f2427ba9addd6f3035f291",
       "version_major": 2,
       "version_minor": 0
      },
      "text/plain": [
       "  0%|          | 0/10889 [00:00<?, ?it/s]"
      ]
     },
     "metadata": {},
     "output_type": "display_data"
    },
    {
     "data": {
      "application/vnd.jupyter.widget-view+json": {
       "model_id": "c07e4fcafbde43c2ac8f78defe4b0e23",
       "version_major": 2,
       "version_minor": 0
      },
      "text/plain": [
       "  0%|          | 0/10889 [00:00<?, ?it/s]"
      ]
     },
     "metadata": {},
     "output_type": "display_data"
    },
    {
     "data": {
      "application/vnd.jupyter.widget-view+json": {
       "model_id": "bd8af0f384bb4bd4a64ef7a92dc4b6aa",
       "version_major": 2,
       "version_minor": 0
      },
      "text/plain": [
       "  0%|          | 0/10889 [00:00<?, ?it/s]"
      ]
     },
     "metadata": {},
     "output_type": "display_data"
    },
    {
     "data": {
      "application/vnd.jupyter.widget-view+json": {
       "model_id": "06ec4f6320994a39bcfc845d8c826aef",
       "version_major": 2,
       "version_minor": 0
      },
      "text/plain": [
       "  0%|          | 0/10889 [00:00<?, ?it/s]"
      ]
     },
     "metadata": {},
     "output_type": "display_data"
    },
    {
     "data": {
      "application/vnd.jupyter.widget-view+json": {
       "model_id": "e49b17c69139498a9ad1ef763b63c703",
       "version_major": 2,
       "version_minor": 0
      },
      "text/plain": [
       "  0%|          | 0/10889 [00:00<?, ?it/s]"
      ]
     },
     "metadata": {},
     "output_type": "display_data"
    },
    {
     "data": {
      "application/vnd.jupyter.widget-view+json": {
       "model_id": "69459934090348f6b6508ce268405ec2",
       "version_major": 2,
       "version_minor": 0
      },
      "text/plain": [
       "  0%|          | 0/10889 [00:00<?, ?it/s]"
      ]
     },
     "metadata": {},
     "output_type": "display_data"
    },
    {
     "data": {
      "application/vnd.jupyter.widget-view+json": {
       "model_id": "8f9a023f189d4d959f3bdca459f83adf",
       "version_major": 2,
       "version_minor": 0
      },
      "text/plain": [
       "  0%|          | 0/10889 [00:00<?, ?it/s]"
      ]
     },
     "metadata": {},
     "output_type": "display_data"
    },
    {
     "data": {
      "application/vnd.jupyter.widget-view+json": {
       "model_id": "1688c566e2324c9f8fe3c3363e0ba37c",
       "version_major": 2,
       "version_minor": 0
      },
      "text/plain": [
       "  0%|          | 0/10889 [00:00<?, ?it/s]"
      ]
     },
     "metadata": {},
     "output_type": "display_data"
    },
    {
     "data": {
      "application/vnd.jupyter.widget-view+json": {
       "model_id": "d1e0e5a2dea34b02918aaf458ed685d8",
       "version_major": 2,
       "version_minor": 0
      },
      "text/plain": [
       "  0%|          | 0/10889 [00:00<?, ?it/s]"
      ]
     },
     "metadata": {},
     "output_type": "display_data"
    },
    {
     "data": {
      "application/vnd.jupyter.widget-view+json": {
       "model_id": "842b4935c4f94f62876b002a15652c3a",
       "version_major": 2,
       "version_minor": 0
      },
      "text/plain": [
       "  0%|          | 0/10889 [00:00<?, ?it/s]"
      ]
     },
     "metadata": {},
     "output_type": "display_data"
    },
    {
     "data": {
      "application/vnd.jupyter.widget-view+json": {
       "model_id": "4a42b1ecf17248bcbfc609af658fbbe7",
       "version_major": 2,
       "version_minor": 0
      },
      "text/plain": [
       "  0%|          | 0/10889 [00:00<?, ?it/s]"
      ]
     },
     "metadata": {},
     "output_type": "display_data"
    },
    {
     "data": {
      "application/vnd.jupyter.widget-view+json": {
       "model_id": "f4a0f4a95ee84bd78099b2575962d7e3",
       "version_major": 2,
       "version_minor": 0
      },
      "text/plain": [
       "  0%|          | 0/10889 [00:00<?, ?it/s]"
      ]
     },
     "metadata": {},
     "output_type": "display_data"
    },
    {
     "data": {
      "application/vnd.jupyter.widget-view+json": {
       "model_id": "96d74fd5e440412089c45898e00d8eae",
       "version_major": 2,
       "version_minor": 0
      },
      "text/plain": [
       "  0%|          | 0/10889 [00:00<?, ?it/s]"
      ]
     },
     "metadata": {},
     "output_type": "display_data"
    },
    {
     "data": {
      "application/vnd.jupyter.widget-view+json": {
       "model_id": "36182741c1c54d37acca0cdd060ed4f4",
       "version_major": 2,
       "version_minor": 0
      },
      "text/plain": [
       "  0%|          | 0/10889 [00:00<?, ?it/s]"
      ]
     },
     "metadata": {},
     "output_type": "display_data"
    },
    {
     "data": {
      "application/vnd.jupyter.widget-view+json": {
       "model_id": "cbf222ac3e6f423eab64a4efff90cb71",
       "version_major": 2,
       "version_minor": 0
      },
      "text/plain": [
       "  0%|          | 0/10889 [00:00<?, ?it/s]"
      ]
     },
     "metadata": {},
     "output_type": "display_data"
    },
    {
     "data": {
      "application/vnd.jupyter.widget-view+json": {
       "model_id": "49d83137d9a64899b4c2c02fb11df988",
       "version_major": 2,
       "version_minor": 0
      },
      "text/plain": [
       "  0%|          | 0/10889 [00:00<?, ?it/s]"
      ]
     },
     "metadata": {},
     "output_type": "display_data"
    },
    {
     "data": {
      "application/vnd.jupyter.widget-view+json": {
       "model_id": "e99c9ac8a3d349f1b8476c07e20d4b61",
       "version_major": 2,
       "version_minor": 0
      },
      "text/plain": [
       "  0%|          | 0/10889 [00:00<?, ?it/s]"
      ]
     },
     "metadata": {},
     "output_type": "display_data"
    },
    {
     "data": {
      "application/vnd.jupyter.widget-view+json": {
       "model_id": "ffb2aba54ea74d4f9291acb632ffb34c",
       "version_major": 2,
       "version_minor": 0
      },
      "text/plain": [
       "  0%|          | 0/10889 [00:00<?, ?it/s]"
      ]
     },
     "metadata": {},
     "output_type": "display_data"
    },
    {
     "data": {
      "application/vnd.jupyter.widget-view+json": {
       "model_id": "a9532ac00ed74e708810ba946a55dfe4",
       "version_major": 2,
       "version_minor": 0
      },
      "text/plain": [
       "  0%|          | 0/10889 [00:00<?, ?it/s]"
      ]
     },
     "metadata": {},
     "output_type": "display_data"
    },
    {
     "data": {
      "application/vnd.jupyter.widget-view+json": {
       "model_id": "ac0dac6407994af199a022254ebb9ee8",
       "version_major": 2,
       "version_minor": 0
      },
      "text/plain": [
       "  0%|          | 0/10889 [00:00<?, ?it/s]"
      ]
     },
     "metadata": {},
     "output_type": "display_data"
    },
    {
     "data": {
      "application/vnd.jupyter.widget-view+json": {
       "model_id": "6765c15f658846d68530f77e2edf93e4",
       "version_major": 2,
       "version_minor": 0
      },
      "text/plain": [
       "  0%|          | 0/10889 [00:00<?, ?it/s]"
      ]
     },
     "metadata": {},
     "output_type": "display_data"
    },
    {
     "data": {
      "application/vnd.jupyter.widget-view+json": {
       "model_id": "5b1c2d30ecdd4b1c979eff30987c2f2f",
       "version_major": 2,
       "version_minor": 0
      },
      "text/plain": [
       "  0%|          | 0/10889 [00:00<?, ?it/s]"
      ]
     },
     "metadata": {},
     "output_type": "display_data"
    },
    {
     "data": {
      "application/vnd.jupyter.widget-view+json": {
       "model_id": "26bb5e183f014a57ad8cdb17a7878aa1",
       "version_major": 2,
       "version_minor": 0
      },
      "text/plain": [
       "  0%|          | 0/10889 [00:00<?, ?it/s]"
      ]
     },
     "metadata": {},
     "output_type": "display_data"
    },
    {
     "data": {
      "application/vnd.jupyter.widget-view+json": {
       "model_id": "8b57cdd72c814a378f4fe96f96b50ff6",
       "version_major": 2,
       "version_minor": 0
      },
      "text/plain": [
       "  0%|          | 0/10889 [00:00<?, ?it/s]"
      ]
     },
     "metadata": {},
     "output_type": "display_data"
    },
    {
     "data": {
      "application/vnd.jupyter.widget-view+json": {
       "model_id": "6bd9eb412f5b464ab6188cece84c1e3d",
       "version_major": 2,
       "version_minor": 0
      },
      "text/plain": [
       "  0%|          | 0/10889 [00:00<?, ?it/s]"
      ]
     },
     "metadata": {},
     "output_type": "display_data"
    },
    {
     "data": {
      "application/vnd.jupyter.widget-view+json": {
       "model_id": "b185a3a73b6f454c96040ccd920b7eb5",
       "version_major": 2,
       "version_minor": 0
      },
      "text/plain": [
       "  0%|          | 0/10889 [00:00<?, ?it/s]"
      ]
     },
     "metadata": {},
     "output_type": "display_data"
    },
    {
     "data": {
      "application/vnd.jupyter.widget-view+json": {
       "model_id": "5e7a76bbd7934932bbbd697bb8aa8205",
       "version_major": 2,
       "version_minor": 0
      },
      "text/plain": [
       "  0%|          | 0/10889 [00:00<?, ?it/s]"
      ]
     },
     "metadata": {},
     "output_type": "display_data"
    },
    {
     "data": {
      "application/vnd.jupyter.widget-view+json": {
       "model_id": "57670147809b443a99fd40ae1105c69d",
       "version_major": 2,
       "version_minor": 0
      },
      "text/plain": [
       "  0%|          | 0/10889 [00:00<?, ?it/s]"
      ]
     },
     "metadata": {},
     "output_type": "display_data"
    },
    {
     "data": {
      "application/vnd.jupyter.widget-view+json": {
       "model_id": "d65632ddb17945949e4618b878d6f5fd",
       "version_major": 2,
       "version_minor": 0
      },
      "text/plain": [
       "  0%|          | 0/10889 [00:00<?, ?it/s]"
      ]
     },
     "metadata": {},
     "output_type": "display_data"
    },
    {
     "data": {
      "application/vnd.jupyter.widget-view+json": {
       "model_id": "dffe16041d37498fa74891d609cc3901",
       "version_major": 2,
       "version_minor": 0
      },
      "text/plain": [
       "  0%|          | 0/10889 [00:00<?, ?it/s]"
      ]
     },
     "metadata": {},
     "output_type": "display_data"
    },
    {
     "data": {
      "application/vnd.jupyter.widget-view+json": {
       "model_id": "c1c7b4251db9441194b6aaad017e0946",
       "version_major": 2,
       "version_minor": 0
      },
      "text/plain": [
       "  0%|          | 0/10889 [00:00<?, ?it/s]"
      ]
     },
     "metadata": {},
     "output_type": "display_data"
    },
    {
     "data": {
      "application/vnd.jupyter.widget-view+json": {
       "model_id": "73f32fb9c3ec4ccda7661354e98bd658",
       "version_major": 2,
       "version_minor": 0
      },
      "text/plain": [
       "  0%|          | 0/10889 [00:00<?, ?it/s]"
      ]
     },
     "metadata": {},
     "output_type": "display_data"
    },
    {
     "data": {
      "application/vnd.jupyter.widget-view+json": {
       "model_id": "8a76d4682fc34c8188efa591a72244fc",
       "version_major": 2,
       "version_minor": 0
      },
      "text/plain": [
       "  0%|          | 0/10889 [00:00<?, ?it/s]"
      ]
     },
     "metadata": {},
     "output_type": "display_data"
    },
    {
     "data": {
      "application/vnd.jupyter.widget-view+json": {
       "model_id": "a53a780826d84aa288d5bf7ba3eac786",
       "version_major": 2,
       "version_minor": 0
      },
      "text/plain": [
       "  0%|          | 0/10889 [00:00<?, ?it/s]"
      ]
     },
     "metadata": {},
     "output_type": "display_data"
    },
    {
     "data": {
      "application/vnd.jupyter.widget-view+json": {
       "model_id": "ff117876fb7d488e89e91493cd11da6d",
       "version_major": 2,
       "version_minor": 0
      },
      "text/plain": [
       "  0%|          | 0/10889 [00:00<?, ?it/s]"
      ]
     },
     "metadata": {},
     "output_type": "display_data"
    },
    {
     "data": {
      "application/vnd.jupyter.widget-view+json": {
       "model_id": "2283e0c9ffbc466b9095a3aca02c4acb",
       "version_major": 2,
       "version_minor": 0
      },
      "text/plain": [
       "  0%|          | 0/10889 [00:00<?, ?it/s]"
      ]
     },
     "metadata": {},
     "output_type": "display_data"
    },
    {
     "data": {
      "application/vnd.jupyter.widget-view+json": {
       "model_id": "1004fe361c11472e83d83c9a5e51d711",
       "version_major": 2,
       "version_minor": 0
      },
      "text/plain": [
       "  0%|          | 0/10889 [00:00<?, ?it/s]"
      ]
     },
     "metadata": {},
     "output_type": "display_data"
    },
    {
     "data": {
      "application/vnd.jupyter.widget-view+json": {
       "model_id": "de5a6bd85a534bcba326ae8b922def48",
       "version_major": 2,
       "version_minor": 0
      },
      "text/plain": [
       "  0%|          | 0/10889 [00:00<?, ?it/s]"
      ]
     },
     "metadata": {},
     "output_type": "display_data"
    },
    {
     "data": {
      "application/vnd.jupyter.widget-view+json": {
       "model_id": "d77805aa13184e508f5aa86db734d13d",
       "version_major": 2,
       "version_minor": 0
      },
      "text/plain": [
       "  0%|          | 0/10889 [00:00<?, ?it/s]"
      ]
     },
     "metadata": {},
     "output_type": "display_data"
    },
    {
     "data": {
      "application/vnd.jupyter.widget-view+json": {
       "model_id": "7b680f67924b46c9b7353205061b3e2e",
       "version_major": 2,
       "version_minor": 0
      },
      "text/plain": [
       "  0%|          | 0/10889 [00:00<?, ?it/s]"
      ]
     },
     "metadata": {},
     "output_type": "display_data"
    },
    {
     "data": {
      "application/vnd.jupyter.widget-view+json": {
       "model_id": "7301ab2c263a404b8f0e60a14134d643",
       "version_major": 2,
       "version_minor": 0
      },
      "text/plain": [
       "  0%|          | 0/10889 [00:00<?, ?it/s]"
      ]
     },
     "metadata": {},
     "output_type": "display_data"
    },
    {
     "data": {
      "application/vnd.jupyter.widget-view+json": {
       "model_id": "6c50fc997bdf422e85f7abab5d7dcf4a",
       "version_major": 2,
       "version_minor": 0
      },
      "text/plain": [
       "  0%|          | 0/10889 [00:00<?, ?it/s]"
      ]
     },
     "metadata": {},
     "output_type": "display_data"
    },
    {
     "data": {
      "application/vnd.jupyter.widget-view+json": {
       "model_id": "79700486d5044d80b736e8d847051921",
       "version_major": 2,
       "version_minor": 0
      },
      "text/plain": [
       "  0%|          | 0/10889 [00:00<?, ?it/s]"
      ]
     },
     "metadata": {},
     "output_type": "display_data"
    },
    {
     "data": {
      "application/vnd.jupyter.widget-view+json": {
       "model_id": "9bc8f6b458884ef3909ea6718a812801",
       "version_major": 2,
       "version_minor": 0
      },
      "text/plain": [
       "  0%|          | 0/10889 [00:00<?, ?it/s]"
      ]
     },
     "metadata": {},
     "output_type": "display_data"
    },
    {
     "data": {
      "application/vnd.jupyter.widget-view+json": {
       "model_id": "ea830363db94438db04e9eb31db86c1c",
       "version_major": 2,
       "version_minor": 0
      },
      "text/plain": [
       "  0%|          | 0/10889 [00:00<?, ?it/s]"
      ]
     },
     "metadata": {},
     "output_type": "display_data"
    },
    {
     "data": {
      "application/vnd.jupyter.widget-view+json": {
       "model_id": "8019e0b0bad7455985c77a934d27ab3f",
       "version_major": 2,
       "version_minor": 0
      },
      "text/plain": [
       "  0%|          | 0/10889 [00:00<?, ?it/s]"
      ]
     },
     "metadata": {},
     "output_type": "display_data"
    },
    {
     "data": {
      "application/vnd.jupyter.widget-view+json": {
       "model_id": "2f3ba83b0cee4184a20744c929aa6c8f",
       "version_major": 2,
       "version_minor": 0
      },
      "text/plain": [
       "  0%|          | 0/10889 [00:00<?, ?it/s]"
      ]
     },
     "metadata": {},
     "output_type": "display_data"
    },
    {
     "data": {
      "application/vnd.jupyter.widget-view+json": {
       "model_id": "3f499dab63d748a48df959a274dd6850",
       "version_major": 2,
       "version_minor": 0
      },
      "text/plain": [
       "  0%|          | 0/10889 [00:00<?, ?it/s]"
      ]
     },
     "metadata": {},
     "output_type": "display_data"
    },
    {
     "data": {
      "application/vnd.jupyter.widget-view+json": {
       "model_id": "ebcc6d5ed32140bca26fbfce57e7e577",
       "version_major": 2,
       "version_minor": 0
      },
      "text/plain": [
       "  0%|          | 0/10889 [00:00<?, ?it/s]"
      ]
     },
     "metadata": {},
     "output_type": "display_data"
    },
    {
     "data": {
      "application/vnd.jupyter.widget-view+json": {
       "model_id": "f04555a9ef8148f9be028c7a2f357e13",
       "version_major": 2,
       "version_minor": 0
      },
      "text/plain": [
       "  0%|          | 0/10889 [00:00<?, ?it/s]"
      ]
     },
     "metadata": {},
     "output_type": "display_data"
    },
    {
     "data": {
      "application/vnd.jupyter.widget-view+json": {
       "model_id": "40f5ca802eea4c5b8a5a7c9b8ec42926",
       "version_major": 2,
       "version_minor": 0
      },
      "text/plain": [
       "  0%|          | 0/10889 [00:00<?, ?it/s]"
      ]
     },
     "metadata": {},
     "output_type": "display_data"
    },
    {
     "data": {
      "application/vnd.jupyter.widget-view+json": {
       "model_id": "dc9a6b0e74f145318cde6c69d523f1d1",
       "version_major": 2,
       "version_minor": 0
      },
      "text/plain": [
       "  0%|          | 0/10889 [00:00<?, ?it/s]"
      ]
     },
     "metadata": {},
     "output_type": "display_data"
    },
    {
     "data": {
      "application/vnd.jupyter.widget-view+json": {
       "model_id": "79061301d0ee416c8000a1068ce6e405",
       "version_major": 2,
       "version_minor": 0
      },
      "text/plain": [
       "  0%|          | 0/10889 [00:00<?, ?it/s]"
      ]
     },
     "metadata": {},
     "output_type": "display_data"
    },
    {
     "data": {
      "application/vnd.jupyter.widget-view+json": {
       "model_id": "caf6068a7a604b70a65b488c73c4ce81",
       "version_major": 2,
       "version_minor": 0
      },
      "text/plain": [
       "  0%|          | 0/10889 [00:00<?, ?it/s]"
      ]
     },
     "metadata": {},
     "output_type": "display_data"
    },
    {
     "data": {
      "application/vnd.jupyter.widget-view+json": {
       "model_id": "19bc963fd6a641d986a3cce463a22fbd",
       "version_major": 2,
       "version_minor": 0
      },
      "text/plain": [
       "  0%|          | 0/10889 [00:00<?, ?it/s]"
      ]
     },
     "metadata": {},
     "output_type": "display_data"
    },
    {
     "data": {
      "application/vnd.jupyter.widget-view+json": {
       "model_id": "7c5dec65240f43a6abad5a07e6c1e2f0",
       "version_major": 2,
       "version_minor": 0
      },
      "text/plain": [
       "  0%|          | 0/10889 [00:00<?, ?it/s]"
      ]
     },
     "metadata": {},
     "output_type": "display_data"
    },
    {
     "data": {
      "application/vnd.jupyter.widget-view+json": {
       "model_id": "f974d9598fb54ed8826c45ec2ce46bc5",
       "version_major": 2,
       "version_minor": 0
      },
      "text/plain": [
       "  0%|          | 0/10889 [00:00<?, ?it/s]"
      ]
     },
     "metadata": {},
     "output_type": "display_data"
    },
    {
     "data": {
      "application/vnd.jupyter.widget-view+json": {
       "model_id": "4159f06544914c139344559d05976ba8",
       "version_major": 2,
       "version_minor": 0
      },
      "text/plain": [
       "  0%|          | 0/10889 [00:00<?, ?it/s]"
      ]
     },
     "metadata": {},
     "output_type": "display_data"
    },
    {
     "data": {
      "application/vnd.jupyter.widget-view+json": {
       "model_id": "3101f2c69eea457d8f84d8a7055bc67c",
       "version_major": 2,
       "version_minor": 0
      },
      "text/plain": [
       "  0%|          | 0/10889 [00:00<?, ?it/s]"
      ]
     },
     "metadata": {},
     "output_type": "display_data"
    },
    {
     "data": {
      "application/vnd.jupyter.widget-view+json": {
       "model_id": "dba7471147e249109b3abf1c4b3030fc",
       "version_major": 2,
       "version_minor": 0
      },
      "text/plain": [
       "  0%|          | 0/10889 [00:00<?, ?it/s]"
      ]
     },
     "metadata": {},
     "output_type": "display_data"
    },
    {
     "data": {
      "application/vnd.jupyter.widget-view+json": {
       "model_id": "901bc190aa7b45a8beef45ff471be22f",
       "version_major": 2,
       "version_minor": 0
      },
      "text/plain": [
       "  0%|          | 0/10889 [00:00<?, ?it/s]"
      ]
     },
     "metadata": {},
     "output_type": "display_data"
    },
    {
     "data": {
      "text/html": [
       "<div>\n",
       "<style scoped>\n",
       "    .dataframe tbody tr th:only-of-type {\n",
       "        vertical-align: middle;\n",
       "    }\n",
       "\n",
       "    .dataframe tbody tr th {\n",
       "        vertical-align: top;\n",
       "    }\n",
       "\n",
       "    .dataframe thead th {\n",
       "        text-align: right;\n",
       "    }\n",
       "</style>\n",
       "<table border=\"1\" class=\"dataframe\">\n",
       "  <thead>\n",
       "    <tr style=\"text-align: right;\">\n",
       "      <th></th>\n",
       "      <th>vg_state_count</th>\n",
       "      <th>vg_state_mean</th>\n",
       "      <th>vg_state_std</th>\n",
       "      <th>vg_state_min</th>\n",
       "      <th>vg_state_5%</th>\n",
       "      <th>vg_state_10%</th>\n",
       "      <th>vg_state_15%</th>\n",
       "      <th>vg_state_20%</th>\n",
       "      <th>vg_state_25%</th>\n",
       "      <th>vg_state_30%</th>\n",
       "      <th>vg_state_35%</th>\n",
       "      <th>vg_state_40%</th>\n",
       "      <th>vg_state_45%</th>\n",
       "      <th>vg_state_50%</th>\n",
       "      <th>vg_state_55%</th>\n",
       "      <th>vg_state_60%</th>\n",
       "      <th>vg_state_65%</th>\n",
       "      <th>vg_state_70%</th>\n",
       "      <th>vg_state_75%</th>\n",
       "      <th>vg_state_80%</th>\n",
       "      <th>vg_state_85%</th>\n",
       "      <th>vg_state_90%</th>\n",
       "      <th>vg_state_95%</th>\n",
       "      <th>vg_state_max</th>\n",
       "    </tr>\n",
       "    <tr>\n",
       "      <th>ID</th>\n",
       "      <th></th>\n",
       "      <th></th>\n",
       "      <th></th>\n",
       "      <th></th>\n",
       "      <th></th>\n",
       "      <th></th>\n",
       "      <th></th>\n",
       "      <th></th>\n",
       "      <th></th>\n",
       "      <th></th>\n",
       "      <th></th>\n",
       "      <th></th>\n",
       "      <th></th>\n",
       "      <th></th>\n",
       "      <th></th>\n",
       "      <th></th>\n",
       "      <th></th>\n",
       "      <th></th>\n",
       "      <th></th>\n",
       "      <th></th>\n",
       "      <th></th>\n",
       "      <th></th>\n",
       "      <th></th>\n",
       "      <th></th>\n",
       "    </tr>\n",
       "  </thead>\n",
       "  <tbody>\n",
       "    <tr>\n",
       "      <th>12151712</th>\n",
       "      <td>228.0</td>\n",
       "      <td>405.549649</td>\n",
       "      <td>1432.129394</td>\n",
       "      <td>11.02</td>\n",
       "      <td>17.440</td>\n",
       "      <td>18.24</td>\n",
       "      <td>21.800</td>\n",
       "      <td>22.80</td>\n",
       "      <td>35.9800</td>\n",
       "      <td>36.480</td>\n",
       "      <td>45.1000</td>\n",
       "      <td>54.720</td>\n",
       "      <td>67.650</td>\n",
       "      <td>72.50</td>\n",
       "      <td>85.9655</td>\n",
       "      <td>100.460</td>\n",
       "      <td>108.1635</td>\n",
       "      <td>135.242</td>\n",
       "      <td>157.0800</td>\n",
       "      <td>194.956</td>\n",
       "      <td>312.5975</td>\n",
       "      <td>444.854</td>\n",
       "      <td>1388.9360</td>\n",
       "      <td>12403.20</td>\n",
       "    </tr>\n",
       "    <tr>\n",
       "      <th>12885094</th>\n",
       "      <td>1629.0</td>\n",
       "      <td>1515.011056</td>\n",
       "      <td>21528.645329</td>\n",
       "      <td>1.10</td>\n",
       "      <td>16.110</td>\n",
       "      <td>18.44</td>\n",
       "      <td>18.640</td>\n",
       "      <td>22.80</td>\n",
       "      <td>23.3000</td>\n",
       "      <td>32.894</td>\n",
       "      <td>37.2800</td>\n",
       "      <td>45.680</td>\n",
       "      <td>54.720</td>\n",
       "      <td>67.44</td>\n",
       "      <td>76.6840</td>\n",
       "      <td>93.200</td>\n",
       "      <td>115.7600</td>\n",
       "      <td>138.944</td>\n",
       "      <td>184.4000</td>\n",
       "      <td>240.268</td>\n",
       "      <td>329.4100</td>\n",
       "      <td>539.366</td>\n",
       "      <td>1250.1480</td>\n",
       "      <td>689747.70</td>\n",
       "    </tr>\n",
       "    <tr>\n",
       "      <th>10985840</th>\n",
       "      <td>428.0</td>\n",
       "      <td>1030.554252</td>\n",
       "      <td>9541.693508</td>\n",
       "      <td>12.24</td>\n",
       "      <td>18.440</td>\n",
       "      <td>18.64</td>\n",
       "      <td>20.566</td>\n",
       "      <td>23.05</td>\n",
       "      <td>25.3025</td>\n",
       "      <td>36.520</td>\n",
       "      <td>43.0475</td>\n",
       "      <td>51.344</td>\n",
       "      <td>61.170</td>\n",
       "      <td>69.73</td>\n",
       "      <td>89.3980</td>\n",
       "      <td>109.920</td>\n",
       "      <td>147.5780</td>\n",
       "      <td>189.372</td>\n",
       "      <td>235.8075</td>\n",
       "      <td>303.324</td>\n",
       "      <td>398.8800</td>\n",
       "      <td>691.273</td>\n",
       "      <td>2687.6785</td>\n",
       "      <td>183608.57</td>\n",
       "    </tr>\n",
       "    <tr>\n",
       "      <th>10114364</th>\n",
       "      <td>256.0</td>\n",
       "      <td>667.039062</td>\n",
       "      <td>3472.382538</td>\n",
       "      <td>15.50</td>\n",
       "      <td>18.040</td>\n",
       "      <td>18.24</td>\n",
       "      <td>21.800</td>\n",
       "      <td>22.80</td>\n",
       "      <td>30.3300</td>\n",
       "      <td>36.480</td>\n",
       "      <td>45.6000</td>\n",
       "      <td>52.390</td>\n",
       "      <td>61.285</td>\n",
       "      <td>77.52</td>\n",
       "      <td>90.4250</td>\n",
       "      <td>114.000</td>\n",
       "      <td>149.2100</td>\n",
       "      <td>190.990</td>\n",
       "      <td>243.2375</td>\n",
       "      <td>319.200</td>\n",
       "      <td>400.9200</td>\n",
       "      <td>650.375</td>\n",
       "      <td>1445.3350</td>\n",
       "      <td>46779.55</td>\n",
       "    </tr>\n",
       "    <tr>\n",
       "      <th>13926216</th>\n",
       "      <td>2055.0</td>\n",
       "      <td>1192.751859</td>\n",
       "      <td>20982.932598</td>\n",
       "      <td>11.02</td>\n",
       "      <td>16.787</td>\n",
       "      <td>18.64</td>\n",
       "      <td>19.710</td>\n",
       "      <td>23.30</td>\n",
       "      <td>31.6450</td>\n",
       "      <td>37.504</td>\n",
       "      <td>45.6000</td>\n",
       "      <td>55.320</td>\n",
       "      <td>63.156</td>\n",
       "      <td>69.90</td>\n",
       "      <td>84.4330</td>\n",
       "      <td>97.386</td>\n",
       "      <td>122.0190</td>\n",
       "      <td>149.824</td>\n",
       "      <td>192.7000</td>\n",
       "      <td>244.650</td>\n",
       "      <td>307.6680</td>\n",
       "      <td>460.460</td>\n",
       "      <td>928.0400</td>\n",
       "      <td>565427.13</td>\n",
       "    </tr>\n",
       "  </tbody>\n",
       "</table>\n",
       "</div>"
      ],
      "text/plain": [
       "          vg_state_count  vg_state_mean  vg_state_std  vg_state_min  \\\n",
       "ID                                                                    \n",
       "12151712           228.0     405.549649   1432.129394         11.02   \n",
       "12885094          1629.0    1515.011056  21528.645329          1.10   \n",
       "10985840           428.0    1030.554252   9541.693508         12.24   \n",
       "10114364           256.0     667.039062   3472.382538         15.50   \n",
       "13926216          2055.0    1192.751859  20982.932598         11.02   \n",
       "\n",
       "          vg_state_5%  vg_state_10%  vg_state_15%  vg_state_20%  vg_state_25%  \\\n",
       "ID                                                                              \n",
       "12151712       17.440         18.24        21.800         22.80       35.9800   \n",
       "12885094       16.110         18.44        18.640         22.80       23.3000   \n",
       "10985840       18.440         18.64        20.566         23.05       25.3025   \n",
       "10114364       18.040         18.24        21.800         22.80       30.3300   \n",
       "13926216       16.787         18.64        19.710         23.30       31.6450   \n",
       "\n",
       "          vg_state_30%  vg_state_35%  vg_state_40%  vg_state_45%  \\\n",
       "ID                                                                 \n",
       "12151712        36.480       45.1000        54.720        67.650   \n",
       "12885094        32.894       37.2800        45.680        54.720   \n",
       "10985840        36.520       43.0475        51.344        61.170   \n",
       "10114364        36.480       45.6000        52.390        61.285   \n",
       "13926216        37.504       45.6000        55.320        63.156   \n",
       "\n",
       "          vg_state_50%  vg_state_55%  vg_state_60%  vg_state_65%  \\\n",
       "ID                                                                 \n",
       "12151712         72.50       85.9655       100.460      108.1635   \n",
       "12885094         67.44       76.6840        93.200      115.7600   \n",
       "10985840         69.73       89.3980       109.920      147.5780   \n",
       "10114364         77.52       90.4250       114.000      149.2100   \n",
       "13926216         69.90       84.4330        97.386      122.0190   \n",
       "\n",
       "          vg_state_70%  vg_state_75%  vg_state_80%  vg_state_85%  \\\n",
       "ID                                                                 \n",
       "12151712       135.242      157.0800       194.956      312.5975   \n",
       "12885094       138.944      184.4000       240.268      329.4100   \n",
       "10985840       189.372      235.8075       303.324      398.8800   \n",
       "10114364       190.990      243.2375       319.200      400.9200   \n",
       "13926216       149.824      192.7000       244.650      307.6680   \n",
       "\n",
       "          vg_state_90%  vg_state_95%  vg_state_max  \n",
       "ID                                                  \n",
       "12151712       444.854     1388.9360      12403.20  \n",
       "12885094       539.366     1250.1480     689747.70  \n",
       "10985840       691.273     2687.6785     183608.57  \n",
       "10114364       650.375     1445.3350      46779.55  \n",
       "13926216       460.460      928.0400     565427.13  "
      ]
     },
     "metadata": {},
     "output_type": "display_data"
    }
   ],
   "source": [
    "def extract_features(features, target):\n",
    "    data_path_inkasso_stats_for_features =Path('C:/Saravana/Projects/Intellizenz/intellizenz-model-training/data/export_inkasso_stats_for_features_2016_2020.parquet.gzip')\n",
    "\n",
    "    data_path_vg_state = Path('C:/Saravana/Projects/Intellizenz/intellizenz-model-training/data/export_vg_stats_for_range_of_vginkasso_2016_2020.parquet.gzip')\n",
    "    data_path_band = Path('C:/Saravana/Projects/Intellizenz/intellizenz-model-training/data/export_band_stats_for_range_of_vginkasso_2016_2020.parquet.gzip')\n",
    "    data_path_promoter = Path('C:/Saravana/Projects/Intellizenz/intellizenz-model-training/data/export_promotor_stats_for_range_of_vginkasso_2016_2020.parquet.gzip')\n",
    "\n",
    "    # stat_var = ['location', 'band_x', 'promoter']\n",
    "    # stat_var = ['band']\n",
    "    stat_var = ['vg_state']\n",
    "    # stat_var = ['promoter']\n",
    "    # stat_var = ['band']\n",
    "    df_stat = {}\n",
    "\n",
    "\n",
    "    # 1. Take vg_inkasso value before the current datetime - (split the train and test and calculate the inkasso distribution-after feature calculation)\n",
    "    # 2. Timestamp as index, and have location/band as columns in df\n",
    "    # 3. Predefine the single df and iterate over it\n",
    "\n",
    "    def get_descr_stat(row):\n",
    "        # row represents each line(row) in the dataframe\n",
    "        def descr_stat(row, var):\n",
    "            # Initialize a empty pandas dataframe\n",
    "            result = pd.Series(dtype='float64')\n",
    "\n",
    "            if not pd.isnull(row[var]):\n",
    "                #get vg_inkasso collected for past events(that occured before current date of the row) for each location/state, each band and each promoter\n",
    "                matching_indexes = features[(features['vg_datum_von']<row['vg_datum_von'])&(features[var] == row[var])].index.values.tolist()\n",
    "\n",
    "                inkasso =  list(target[target.index.isin(matching_indexes)].values)\n",
    "\n",
    "                # Returns the mean, count, std, max, min and 0.05, 0.10..0.95 percentiles of the list of vg_inkasso values\n",
    "                # for a specific attribute like location, band, promotor\n",
    "                result = pd.Series(inkasso, dtype='float64').describe(percentiles=percentiles)\n",
    "                result = result.add_prefix('{}_'.format(var))\n",
    "\n",
    "            result.name = row.name\n",
    "            return result\n",
    "\n",
    "        descr_stat_result = pd.Series(dtype='float64')\n",
    "        for v in stat_var:\n",
    "            descr_stat_result = pd.concat([descr_stat_result, descr_stat(row, v)])\n",
    "\n",
    "        return descr_stat_result\n",
    "\n",
    " \n",
    "    if data_path_inkasso_stats_for_features.exists() :\n",
    "        df_featurize_descr_stat = pd.read_parquet(data_path_inkasso_stats_for_features)\n",
    "\n",
    "    elif data_path_vg_state.exists() and data_path_band.exists() and data_path_promoter.exists():\n",
    "        df_state = pd.read_parquet(data_path_vg_state)\n",
    "        df_band = pd.read_parquet(data_path_band)\n",
    "        df_promoter = pd.read_parquet(data_path_promoter)\n",
    "\n",
    "        df_featurize_descr_stat = df_state.merge(df_band, how='outer', on='ID').merge(df_promoter,\n",
    "                                                                                    how='outer',\n",
    "                                                                                    on='ID')\n",
    "    else:\n",
    "        percentiles = [round(x, 2) for x in np.linspace(0, 1, 21)[1:-1].tolist()]\n",
    "\n",
    "        # Each row of the dataframe 'df' is passed as row argument for get_descr_stat function\n",
    "        df_featurize_descr_stat = features.progress_apply(get_descr_stat, axis=1)\n",
    "        # df_featurize_descr_stat.to_pickle('./data/export_descr_stat_2016_2020.pkl.bz2', protocol=4)\n",
    "\n",
    "    # display(df_featurize_descr_stat.head(5))\n",
    "    return df_featurize_descr_stat\n",
    "\n",
    "# Splitting 1393792 entries to 128 splits, where each split contains 10889 entries\n",
    "X_train_splits = np.array_split(X_train,128)\n",
    "y_train_splits = np.array_split(y_train,128)\n",
    "\n",
    "df_featurize_descr_stat_result = pd.Series(dtype='float64')\n",
    "for i in range(0,len(X_train_splits)):\n",
    "    X_train_slice = X_train_splits[i]\n",
    "    y_train_slice = y_train_splits[i]\n",
    "    result = extract_features(X_train_slice, y_train_slice)\n",
    "    df_featurize_descr_stat_result = pd.concat([df_featurize_descr_stat_result, result])\n",
    "\n",
    "df_featurize_descr_stat_result.index.name = 'ID'\n",
    "df_featurize_descr_stat_result = df_featurize_descr_stat_result.drop(0, axis=1) # remove 0th index column with NaN values \n",
    "display(df_featurize_descr_stat_result.head(5))\n",
    "\n",
    "# df_featurize_descr_stat = extract_features(X_train, y_train)"
   ]
  },
  {
   "cell_type": "code",
   "execution_count": 43,
   "metadata": {},
   "outputs": [],
   "source": [
    "df_featurize_descr_stat.to_parquet('C:/Saravana/Projects/Intellizenz/intellizenz-model-training/data/export_train_band_stats_for_range_of_vginkasso_2016_2020.parquet.gzip',compression='gzip')"
   ]
  },
  {
   "cell_type": "code",
   "execution_count": 45,
   "metadata": {},
   "outputs": [],
   "source": [
    "df_featurize_descr_stat.to_parquet('C:/Saravana/Projects/Intellizenz/intellizenz-model-training/data/export_test_band_stats_for_range_of_vginkasso_2016_2020.parquet.gzip',compression='gzip')"
   ]
  },
  {
   "cell_type": "code",
   "execution_count": 47,
   "metadata": {},
   "outputs": [],
   "source": [
    "df_featurize_descr_stat.to_parquet('C:/Saravana/Projects/Intellizenz/intellizenz-model-training/data/export_test_vg_state_stats_for_range_of_vginkasso_2016_2020.parquet.gzip',compression='gzip')"
   ]
  },
  {
   "cell_type": "code",
   "execution_count": 32,
   "metadata": {},
   "outputs": [],
   "source": [
    "df_featurize_descr_stat_result.to_parquet('C:/Saravana/Projects/Intellizenz/intellizenz-model-training/data/export_train_promoter_stats_for_range_of_vginkasso_2016_2020.parquet.gzip',compression='gzip')"
   ]
  },
  {
   "cell_type": "code",
   "execution_count": 49,
   "metadata": {},
   "outputs": [],
   "source": [
    "df_featurize_descr_stat.to_parquet('C:/Saravana/Projects/Intellizenz/intellizenz-model-training/data/export_test_promoter_stats_for_range_of_vginkasso_2016_2020.parquet.gzip',compression='gzip')"
   ]
  },
  {
   "cell_type": "code",
   "execution_count": null,
   "metadata": {},
   "outputs": [],
   "source": [
    "df_featurize_descr_stat_result.to_parquet('C:/Saravana/Projects/Intellizenz/intellizenz-model-training/data/export_train_vg_state_stats_for_range_of_vginkasso_2016_2020.parquet.gzip',compression='gzip')"
   ]
  },
  {
   "cell_type": "code",
   "execution_count": null,
   "metadata": {},
   "outputs": [],
   "source": []
  },
  {
   "cell_type": "code",
   "execution_count": null,
   "metadata": {},
   "outputs": [],
   "source": [
    "# Without using progress apply and using For-loop to extract features \n",
    "\n",
    "data_path_inkasso_stats_for_features =Path('C:/Saravana/Projects/Intellizenz/intellizenz-model-training/data/export_inkasso_stats_for_features_2016_2020.parquet.gzip')\n",
    "\n",
    "data_path_vg_state = Path('C:/Saravana/Projects/Intellizenz/intellizenz-model-training/data/export_vg_stats_for_range_of_vginkasso_2016_2020.parquet.gzip')\n",
    "data_path_band = Path('C:/Saravana/Projects/Intellizenz/intellizenz-model-training/data/export_band_stats_for_range_of_vginkasso_2016_2020.parquet.gzip')\n",
    "data_path_promoter = Path('C:/Saravana/Projects/Intellizenz/intellizenz-model-training/data/export_promotor_stats_for_range_of_vginkasso_2016_2020.parquet.gzip')\n",
    "\n",
    "# stat_var = ['location', 'band_x', 'promoter']\n",
    "# stat_var = ['band']\n",
    "stat_var = ['vg_state']\n",
    "# stat_var = ['promoter']\n",
    "# stat_var = ['band']\n",
    "df_stat = {}\n",
    "\n",
    "\n",
    "\n",
    "# 1. Take vg_inkasso value before the current datetime - (split the train and test and calculate the inkasso distribution-after feature calculation)\n",
    "# 2. Timestamp as index, and have location/band as columns in df\n",
    "# 3. Predefine the single df and iterate over it\n",
    "\n",
    "feature_index = 0\n",
    "\n",
    "\n",
    "if data_path_inkasso_stats_for_features.exists() :\n",
    "    df_featurize_descr_stat = pd.read_parquet(data_path_inkasso_stats_for_features)\n",
    "\n",
    "elif data_path_vg_state.exists() and data_path_band.exists() and data_path_promoter.exists():\n",
    "    df_state = pd.read_parquet(data_path_vg_state)\n",
    "    df_band = pd.read_parquet(data_path_band)\n",
    "    df_promoter = pd.read_parquet(data_path_promoter)\n",
    "\n",
    "    df_featurize_descr_stat = df_state.merge(df_band, how='outer', on='ID').merge(df_promoter,\n",
    "                                                                                how='outer',\n",
    "                                                                                on='ID')\n",
    "else:\n",
    "\n",
    "    percentiles = [round(x, 2) for x in np.linspace(0, 1, 21)[1:-1].tolist()]\n",
    "\n",
    "\n",
    "    for each_feature in stat_var:\n",
    "        feature_index = stat_var.index(each_feature)\n",
    "\n",
    "        feature = stat_var[feature_index]\n",
    "\n",
    "        # Using DataFrame.copy() create new DataFrame.\n",
    "        each_feature_df = df[[feature]].copy() #get specific feature in a new dataframe\n",
    "\n",
    "        # Initialize a empty pandas dataframe of type float64\n",
    "        result_df = pd.Series(dtype='float64') \n",
    "\n",
    "        # Add empty(np.nan) columns to new 'each_feature_df' dataframe\n",
    "        col = 'count', 'mean', 'std', 'min','5%', '10%', '15%', '20%', '25%', '30%', '35%', '40%', '45%', \n",
    "        '50%', '55%', '60%', '65%','70%','75%','80%', '85%', '90%','95%', 'max'\n",
    "        for each in col:\n",
    "            cname = each_feature+'_'+each\n",
    "            each_feature_df[cname] = np.nan\n",
    "        \n",
    "        # iterate over each rows in df\n",
    "        for index, row in tqdm(df.iterrows()):\n",
    "            \n",
    "            match_condition = df[each_feature] == row[each_feature]\n",
    "            filtered_df = df[match_condition] # Filter the dataframe with respect to feature 'each_feature' in iteration\n",
    "\n",
    "            current_date = row.vg_datum_von\n",
    "            prev_date_condition = filtered_df.vg_datum_von<current_date\n",
    "            past_events_df = filtered_df[prev_date_condition] # get events that occured before current row event date\n",
    "            inkasso = past_events_df['vg_inkasso'].values.tolist() # get all the past inkasso values for specific feature 'each_feature'\n",
    "\n",
    "            result_df = pd.Series(inkasso).describe(percentiles=percentiles)\n",
    "\n",
    "            for each in col:     \n",
    "                cname = each_feature+'_'+each\n",
    "                each_feature_df.at[index, cname] = result_df[each]\n",
    "        \n",
    "            \n",
    "        df_featurize_descr_stat = each_feature_df\n",
    "\n",
    "display(df_featurize_descr_stat.head(5))"
   ]
  },
  {
   "cell_type": "code",
   "execution_count": null,
   "metadata": {},
   "outputs": [],
   "source": [
    "df_featurize_descr_stat.to_parquet('C:/Saravana/Projects/Intellizenz/intellizenz-model-training/data/export_band_stats_for_range_of_vginkasso_2016_2020.parquet.gzip',compression='gzip')"
   ]
  },
  {
   "cell_type": "code",
   "execution_count": null,
   "metadata": {},
   "outputs": [],
   "source": [
    "df_featurize_descr_stat.to_parquet('C:/Saravana/Projects/Intellizenz/intellizenz-model-training/data/export_promotor_stats_for_range_of_vginkasso_2016_2020.parquet.gzip',compression='gzip')"
   ]
  },
  {
   "cell_type": "code",
   "execution_count": null,
   "metadata": {},
   "outputs": [],
   "source": [
    "df_featurize_descr_stat.to_parquet('C:/Saravana/Projects/Intellizenz/intellizenz-model-training/data/export_vg_stats_for_range_of_vginkasso_2016_2020.parquet.gzip',compression='gzip')"
   ]
  },
  {
   "cell_type": "code",
   "execution_count": null,
   "metadata": {},
   "outputs": [],
   "source": [
    "# When the time varied vg_inkasso distribution are extracted for vg_state, band, promoter, merge these features\n",
    "if data_path_vg_state.exists() and data_path_band.exists() and data_path_promoter.exists():\n",
    "    df_state = pd.read_parquet(data_path_vg_state)\n",
    "    df_band = pd.read_parquet(data_path_band)\n",
    "    df_promoter = pd.read_parquet(data_path_promoter)\n",
    "\n",
    "    df_featurize_descr_stat = df_state.merge(df_band, how='outer', on='ID').merge(df_promoter,\n",
    "                                                                                how='outer',\n",
    "                                                                                on='ID')\n",
    "if not data_path_inkasso_stats_for_features.exists() :\n",
    "    df_featurize_descr_stat.to_parquet('C:/Saravana/Projects/Intellizenz/intellizenz-model-training/data/export_inkasso_stats_for_features_2016_2020.parquet.gzip',compression='gzip')"
   ]
  }
 ],
 "metadata": {
  "kernelspec": {
   "display_name": "Python 3.9.13 ('.venv': poetry)",
   "language": "python",
   "name": "python3"
  },
  "language_info": {
   "codemirror_mode": {
    "name": "ipython",
    "version": 3
   },
   "file_extension": ".py",
   "mimetype": "text/x-python",
   "name": "python",
   "nbconvert_exporter": "python",
   "pygments_lexer": "ipython3",
   "version": "3.9.13"
  },
  "orig_nbformat": 4,
  "vscode": {
   "interpreter": {
    "hash": "125624270022b3522b0d9fce357b71cad5d467865128e7f38888e7b3f5116099"
   }
  }
 },
 "nbformat": 4,
 "nbformat_minor": 2
}
