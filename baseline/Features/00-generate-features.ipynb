{
 "cells": [
  {
   "cell_type": "code",
   "execution_count": null,
   "metadata": {},
   "outputs": [],
   "source": [
    "from sklearn.model_selection import train_test_split\n",
    "from sklearn.svm import SVC\n",
    "from sklearn.metrics import classification_report, confusion_matrix, accuracy_score\n",
    "import xgboost\n",
    "import pandas as pd\n",
    "import numpy as np\n",
    "import pickle\n",
    "from sklearn.preprocessing import LabelEncoder\n",
    "from pathlib import Path\n",
    "from tqdm.auto import tqdm\n",
    "\n",
    "# Call sys.path.append only once\n",
    "# import os, sys; \n",
    "# sys.path.append(os.path.dirname(os.path.realpath('C:/Users/sgopalakrish/Downloads/intellizenz-model-training/Neuro-symbolic-AI/column.py')))\n",
    "\n",
    "# sys.path.remove(os.path.dirname(os.path.realpath('C:/Users/sgopalakrish/Downloads/intellizenz-model-training/Neuro-symbolic-AI/column.py')))\n",
    "import column\n",
    "\n",
    "\n",
    "tqdm.pandas()"
   ]
  },
  {
   "cell_type": "code",
   "execution_count": null,
   "metadata": {},
   "outputs": [],
   "source": [
    "print(sys.path)"
   ]
  },
  {
   "cell_type": "code",
   "execution_count": null,
   "metadata": {},
   "outputs": [],
   "source": [
    "# df = pd.read_parquet('C:/Saravana/Projects/Intellizenz/intellizenz-model-training/data/export_features_2016_2020_v2.parquet.gzip')\n",
    "df = pd.read_parquet('C:/Users/sgopalakrish/Downloads/intellizenz-model-training/data/export_features_2016_2020_v3.parquet.gzip')"
   ]
  },
  {
   "cell_type": "code",
   "execution_count": null,
   "metadata": {},
   "outputs": [],
   "source": [
    "pd.set_option('display.max_columns', None)"
   ]
  },
  {
   "cell_type": "code",
   "execution_count": null,
   "metadata": {},
   "outputs": [],
   "source": [
    "df=df.rename(columns = {'band_x':'band', 'vg_state_x':'vg_state'})"
   ]
  },
  {
   "cell_type": "code",
   "execution_count": null,
   "metadata": {},
   "outputs": [],
   "source": [
    "# Split the data set and extract time series features\n",
    "X = df.loc[:,~df.columns.isin(['veranst_segment','vg_inkasso'])]\n",
    "y = df['vg_inkasso']"
   ]
  },
  {
   "cell_type": "code",
   "execution_count": null,
   "metadata": {},
   "outputs": [],
   "source": [
    "X_train, X_test, y_train, y_test = train_test_split(X, y, test_size = 0.20)"
   ]
  },
  {
   "cell_type": "code",
   "execution_count": null,
   "metadata": {},
   "outputs": [],
   "source": [
    "display(df.head(5))"
   ]
  },
  {
   "cell_type": "code",
   "execution_count": null,
   "metadata": {},
   "outputs": [],
   "source": [
    "print(len(df.band.unique()))#317011 - unique bands\n",
    "print(len(df.promoter.unique()))#176456 - unique promoter/organizer\n",
    "print(len(df.vg_state.unique()))#16 - unique bundesland/states\n",
    "print(len(df.tarif_bez.unique()))#87 - unique Tarif"
   ]
  },
  {
   "cell_type": "code",
   "execution_count": null,
   "metadata": {},
   "outputs": [],
   "source": [
    "print(len(X_train))"
   ]
  },
  {
   "cell_type": "markdown",
   "metadata": {},
   "source": [
    "# Extract inkasso distribution with respect to the time of the event"
   ]
  },
  {
   "cell_type": "code",
   "execution_count": null,
   "metadata": {},
   "outputs": [],
   "source": [
    "def extract_features(features, target):\n",
    "    stat_var = ['band']\n",
    "    # stat_var = ['vg_state']\n",
    "    # stat_var = ['promoter']\n",
    "    # stat_var = ['tarif_bez']\n",
    "    df_stat = {}\n",
    "\n",
    "    # 1. Take vg_inkasso value before the current datetime - (split the train and test and calculate the inkasso distribution-after feature calculation)\n",
    "    # 2. Timestamp as index, and have location/band as columns in df\n",
    "    # 3. Predefine the single df and iterate over it\n",
    "\n",
    "    def get_descr_stat(row):\n",
    "        # row represents each line(row) in the dataframe\n",
    "        def descr_stat(row, var):\n",
    "            # Initialize a empty pandas dataframe\n",
    "            result = pd.Series(dtype='float64')\n",
    "\n",
    "            if not pd.isnull(row[var]):\n",
    "                #get vg_inkasso collected for past events(that occured before current date of the row) for each location/state, each band and each promoter\n",
    "                matching_indexes = features[(features['vg_datum_von']<row['vg_datum_von'])&(features[var] == row[var])].index.values.tolist()\n",
    "\n",
    "                inkasso =  list(target[target.index.isin(matching_indexes)].values)\n",
    "\n",
    "                # Returns the mean, count, std, max, min and 0.05, 0.10..0.95 percentiles of the list of vg_inkasso values\n",
    "                # for a specific attribute like location, band, promotor\n",
    "                result = pd.Series(inkasso, dtype='float64').describe(percentiles=percentiles)\n",
    "                result = result.add_prefix('{}_'.format(var))\n",
    "\n",
    "            result.name = row.name\n",
    "            return result\n",
    "\n",
    "        descr_stat_result = pd.Series(dtype='float64')\n",
    "        for v in stat_var:\n",
    "            descr_stat_result = pd.concat([descr_stat_result, descr_stat(row, v)])\n",
    "\n",
    "        return descr_stat_result\n",
    "\n",
    " \n",
    "    \n",
    "    percentiles = [round(x, 2) for x in np.linspace(0, 1, 21)[1:-1].tolist()]\n",
    "\n",
    "    # Each row of the dataframe 'df' is passed as row argument for get_descr_stat function\n",
    "    df_featurize_descr_stat = features.progress_apply(get_descr_stat, axis=1)\n",
    "    # df_featurize_descr_stat.to_pickle('./data/export_descr_stat_2016_2020.pkl.bz2', protocol=4)\n",
    "\n",
    "    # display(df_featurize_descr_stat.head(5))\n",
    "    return df_featurize_descr_stat\n",
    "\n",
    "# For training data - split the data and extract features\n",
    "# For testing data - Features can be extracted without splits\n",
    "\n",
    "# 1393757\n",
    "# Splitting 1393792 entries to 128 splits, where each split contains 10889 entries\n",
    "X_train_splits = np.array_split(X_train,200)\n",
    "y_train_splits = np.array_split(y_train,200)\n",
    "\n",
    "# X_train_splits = np.array_split(X_test,200)\n",
    "# y_train_splits = np.array_split(y_test,200)\n",
    "\n",
    "df_featurize_descr_stat_result = pd.Series(dtype='float64')\n",
    "for i in range(0,len(X_train_splits)):\n",
    "    X_train_slice = X_train_splits[i]\n",
    "    y_train_slice = y_train_splits[i]\n",
    "    result = extract_features(X_train_slice, y_train_slice)\n",
    "    df_featurize_descr_stat_result = pd.concat([df_featurize_descr_stat_result, result])\n",
    "\n",
    "df_featurize_descr_stat_result.index.name = 'ID'\n",
    "df_featurize_descr_stat_result = df_featurize_descr_stat_result.drop(0, axis=1) # remove 0th index column with NaN values \n",
    "display(df_featurize_descr_stat_result.head(5))\n",
    "\n",
    "# df_featurize_descr_stat = extract_features(X_test, y_test)\n",
    "# display(df_featurize_descr_stat.head(5))"
   ]
  },
  {
   "cell_type": "markdown",
   "metadata": {},
   "source": [
    "### Train set"
   ]
  },
  {
   "cell_type": "code",
   "execution_count": null,
   "metadata": {},
   "outputs": [],
   "source": [
    "# Training set - Saving band feature inkasso distribution\n",
    "# df_featurize_descr_stat_result.to_parquet('C:/Saravana/Projects/Intellizenz/intellizenz-model-training/data/export_train_band_stats_for_range_of_vginkasso_2016_2020.parquet.gzip',compression='gzip')\n",
    "df_featurize_descr_stat_result.to_parquet('C:/Users/sgopalakrish/Downloads/intellizenz-model-training/data/export_train_band_stats_for_range_of_vginkasso_2016_2020_v1.parquet.gzip',compression='gzip')"
   ]
  },
  {
   "cell_type": "code",
   "execution_count": null,
   "metadata": {},
   "outputs": [],
   "source": [
    "# Training set - Saving vg_state feature inkasso distribution\n",
    "# df_featurize_descr_stat_result.to_parquet('C:/Saravana/Projects/Intellizenz/intellizenz-model-training/data/export_train_vg_state_stats_for_range_of_vginkasso_2016_2020.parquet.gzip',compression='gzip')\n",
    "df_featurize_descr_stat_result.to_parquet('C:/Users/sgopalakrish/Downloads/intellizenz-model-training/data/export_train_vg_state_stats_for_range_of_vginkasso_2016_2020_v1.parquet.gzip',compression='gzip')"
   ]
  },
  {
   "cell_type": "code",
   "execution_count": null,
   "metadata": {},
   "outputs": [],
   "source": [
    "# Training set - Saving promoter feature inkasso distribution\n",
    "# df_featurize_descr_stat_result.to_parquet('C:/Saravana/Projects/Intellizenz/intellizenz-model-training/data/export_train_promoter_stats_for_range_of_vginkasso_2016_2020.parquet.gzip',compression='gzip')\n",
    "df_featurize_descr_stat_result.to_parquet('C:/Users/sgopalakrish/Downloads/intellizenz-model-training/data/export_train_promoter_stats_for_range_of_vginkasso_2016_2020_v1.parquet.gzip',compression='gzip')"
   ]
  },
  {
   "cell_type": "code",
   "execution_count": null,
   "metadata": {},
   "outputs": [],
   "source": [
    "# Training set - Saving Tarif feature inkasso distribution\n",
    "df_featurize_descr_stat_result.to_parquet('C:/Users/sgopalakrish/Downloads/intellizenz-model-training/data/export_train_tarif_stats_for_range_of_vginkasso_2016_2020_v1.parquet.gzip',compression='gzip')"
   ]
  },
  {
   "cell_type": "markdown",
   "metadata": {},
   "source": [
    "### Test set"
   ]
  },
  {
   "cell_type": "code",
   "execution_count": null,
   "metadata": {},
   "outputs": [],
   "source": [
    "# Testing set - Saving promoter feature inkasso distribution\n",
    "# df_featurize_descr_stat.to_parquet('C:/Saravana/Projects/Intellizenz/intellizenz-model-training/data/export_test_promoter_stats_for_range_of_vginkasso_2016_2020.parquet.gzip',compression='gzip')\n",
    "df_featurize_descr_stat_result.to_parquet('C:/Users/sgopalakrish/Downloads/intellizenz-model-training/data/export_test_promoter_stats_for_range_of_vginkasso_2016_2020_v1.parquet.gzip',compression='gzip')"
   ]
  },
  {
   "cell_type": "code",
   "execution_count": null,
   "metadata": {},
   "outputs": [],
   "source": [
    "# Testing set - Saving band feature inkasso distribution\n",
    "# df_featurize_descr_stat.to_parquet('C:/Saravana/Projects/Intellizenz/intellizenz-model-training/data/export_test_band_stats_for_range_of_vginkasso_2016_2020.parquet.gzip',compression='gzip')\n",
    "df_featurize_descr_stat_result.to_parquet('C:/Users/sgopalakrish/Downloads/intellizenz-model-training/data/export_test_band_stats_for_range_of_vginkasso_2016_2020_v1.parquet.gzip',compression='gzip')"
   ]
  },
  {
   "cell_type": "code",
   "execution_count": null,
   "metadata": {},
   "outputs": [],
   "source": [
    "# Testing set - Saving vg_state feature inkasso distribution\n",
    "# df_featurize_descr_stat.to_parquet('C:/Saravana/Projects/Intellizenz/intellizenz-model-training/data/export_test_vg_state_stats_for_range_of_vginkasso_2016_2020.parquet.gzip',compression='gzip')\n",
    "df_featurize_descr_stat_result.to_parquet('C:/Users/sgopalakrish/Downloads/intellizenz-model-training/data/export_test_vg_state_stats_for_range_of_vginkasso_2016_2020_v1.parquet.gzip',compression='gzip')"
   ]
  },
  {
   "cell_type": "code",
   "execution_count": null,
   "metadata": {},
   "outputs": [],
   "source": [
    "# Testing set - Saving Tarif feature inkasso distribution\n",
    "df_featurize_descr_stat_result.to_parquet('C:/Users/sgopalakrish/Downloads/intellizenz-model-training/data/export_test_tarif_stats_for_range_of_vginkasso_2016_2020_v1.parquet.gzip',compression='gzip')"
   ]
  },
  {
   "cell_type": "markdown",
   "metadata": {},
   "source": [
    "## Merge the extracted features into training set and testing set"
   ]
  },
  {
   "cell_type": "code",
   "execution_count": null,
   "metadata": {},
   "outputs": [],
   "source": [
    "# Merge the time series distribution of vg_inkasso values for training data of band, promoter, vg_state, tarif\n",
    "# data_path_train_vg_state = Path('C:/Saravana/Projects/Intellizenz/intellizenz-model-training/data/export_train_vg_state_stats_for_range_of_vginkasso_2016_2020.parquet.gzip')\n",
    "# data_path_train_band = Path('C:/Saravana/Projects/Intellizenz/intellizenz-model-training/data/export_train_band_stats_for_range_of_vginkasso_2016_2020.parquet.gzip')\n",
    "# data_path_train_promoter = Path('C:/Saravana/Projects/Intellizenz/intellizenz-model-training/data/export_train_promoter_stats_for_range_of_vginkasso_2016_2020.parquet.gzip')\n",
    "\n",
    "data_path_train_vg_state = Path('C:/Users/sgopalakrish/Downloads/intellizenz-model-training/data/export_train_vg_state_stats_for_range_of_vginkasso_2016_2020_v1.parquet.gzip')\n",
    "data_path_train_band = Path('C:/Users/sgopalakrish/Downloads/intellizenz-model-training/data/export_train_band_stats_for_range_of_vginkasso_2016_2020_v1.parquet.gzip')\n",
    "data_path_train_promoter = Path('C:/Users/sgopalakrish/Downloads/intellizenz-model-training/data/export_train_promoter_stats_for_range_of_vginkasso_2016_2020_v1.parquet.gzip')\n",
    "data_path_train_tarif = Path('C:/Users/sgopalakrish/Downloads/intellizenz-model-training/data/export_train_tarif_stats_for_range_of_vginkasso_2016_2020_v1.parquet.gzip')\n",
    "\n",
    "if data_path_train_vg_state.exists() and data_path_train_band.exists() and data_path_train_promoter.exists() and data_path_train_tarif.exists():\n",
    "    df_train_state = pd.read_parquet(data_path_train_vg_state)\n",
    "    df_train_band = pd.read_parquet(data_path_train_band)\n",
    "    df_train_promoter = pd.read_parquet(data_path_train_promoter)\n",
    "    df_train_tarif = pd.read_parquet(data_path_train_tarif)\n",
    "\n",
    "    df_train_time_series_merged_descr_stat = df_train_state.merge(df_train_band, how='left', on='ID').merge(df_train_promoter, how='left', on='ID').merge(df_train_tarif, \n",
    "                                                                                                                                                           how ='left', \n",
    "                                                                                                                                                           on='ID')\n",
    "\n",
    "display(df_train_time_series_merged_descr_stat.head(5))\n",
    "print(df_train_time_series_merged_descr_stat.shape)"
   ]
  },
  {
   "cell_type": "code",
   "execution_count": null,
   "metadata": {},
   "outputs": [],
   "source": [
    "# Merge the time series distribution of vg_inkasso values for testing data of band, promoter, vg_state, tarif\n",
    "# data_path_test_vg_state = Path('C:/Saravana/Projects/Intellizenz/intellizenz-model-training/data/export_test_vg_state_stats_for_range_of_vginkasso_2016_2020.parquet.gzip')\n",
    "# data_path_test_band = Path('C:/Saravana/Projects/Intellizenz/intellizenz-model-training/data/export_test_band_stats_for_range_of_vginkasso_2016_2020.parquet.gzip')\n",
    "# data_path_test_promoter = Path('C:/Saravana/Projects/Intellizenz/intellizenz-model-training/data/export_test_promoter_stats_for_range_of_vginkasso_2016_2020.parquet.gzip')\n",
    "\n",
    "data_path_test_vg_state = Path('C:/Users/sgopalakrish/Downloads/intellizenz-model-training/data/export_test_vg_state_stats_for_range_of_vginkasso_2016_2020_v1.parquet.gzip')\n",
    "data_path_test_band = Path('C:/Users/sgopalakrish/Downloads/intellizenz-model-training/data/export_test_band_stats_for_range_of_vginkasso_2016_2020_v1.parquet.gzip')\n",
    "data_path_test_promoter = Path('C:/Users/sgopalakrish/Downloads/intellizenz-model-training/data/export_test_promoter_stats_for_range_of_vginkasso_2016_2020_v1.parquet.gzip')\n",
    "data_path_test_tarif = Path('C:/Users/sgopalakrish/Downloads/intellizenz-model-training/data/export_test_tarif_stats_for_range_of_vginkasso_2016_2020_v1.parquet.gzip')\n",
    "\n",
    "if data_path_test_vg_state.exists() and data_path_test_band.exists() and data_path_test_promoter.exists() and data_path_test_tarif.exists():\n",
    "    df_test_state = pd.read_parquet(data_path_test_vg_state)\n",
    "    df_test_band = pd.read_parquet(data_path_test_band)\n",
    "    df_test_promoter = pd.read_parquet(data_path_test_promoter)\n",
    "    df_test_tarif = pd.read_parquet(data_path_test_tarif)\n",
    "\n",
    "    df_test_time_series_merged_descr_stat = df_test_state.merge(df_test_band, how='left', on='ID').merge(df_test_promoter,\n",
    "                                                                                                            how='left',\n",
    "                                                                                                            on='ID').merge(df_test_tarif, how='left', on='ID')\n",
    "\n",
    "display(df_test_time_series_merged_descr_stat.head(5))\n",
    "print(df_test_time_series_merged_descr_stat.shape)"
   ]
  },
  {
   "cell_type": "code",
   "execution_count": null,
   "metadata": {},
   "outputs": [],
   "source": [
    "# features = column.features_v3\n",
    "# v3 features\n",
    "features = ['place_kirche', 'place_hotel', 'place_cafe', 'place_theater', 'place_club', 'place_halle', 'place_gaststaette', \n",
    "'place_festhalle', 'place_kulturzentrum', 'place_festzelt', 'place_schloss', 'place_pub', 'place_stadthalle', 'place_park', \n",
    "'place_gasthof', 'place_kabarett', 'place_arena', 'place_schlachthof', 'place_wandelhalle', 'place_turnhalle', 'place_buergerhaus', 'place_museum', \n",
    "'place_rathaus', 'place_staatsbad', 'place_zelt', 'place_jazz', 'place_forum', 'place_gymnasium', 'place_schule', 'place_sporthalle', \n",
    "\n",
    "'tarif_u-v ii. 1 (+ii 2)', 'tarif_u-k (musiker)', 'tarif_u-k (musiker) mindestverguetung', 'tarif_u-k i (+ ii 2b) - mit sonstigem geldwerten vorteil', \n",
    "'tarif_u-st i (musiker) nl', 'tarif_u-v iii. 1', 'tarif_u-v iii. 2', 'tarif_u-k iii. 2d) (musiker) - vor geladenen gaesten', 'tarif_variete i (musiker)', \n",
    "'tarif_u-v vi. b', 'tarif_e (musiker)', 'tarif_p-k i. (u-musik)', 'tarif_u-k ii. (musiker) bis 50 min', 'tarif_u-k ii. (musiker) bis 20 min', 'tarif_e-p', \n",
    "'tarif_u-k ii. (musiker) bis 15 min', 'tarif_u-k ii. (musiker) bis 25 min', 'tarif_u-k ii. (musiker) bis 30 min', 'tarif_u-st (musiker)', \n",
    "'tarif_u-k ii. (musiker) bis 10 min', 'tarif_chorverband konzert u-musik', 'tarif_vk i 3 zirkusunternehmen (musiker)', 'tarif_u-k ii. (musiker) bis 5 min', \n",
    "'tarif_u-k ii. (musiker) bis 35 min', 'tarif_u-k ii. (musiker) bis 40 min', 'tarif_p-k i. (e-musik)', 'tarif_u-st i. (musiker)', 'tarif_u-k ii (musiker) mindestverguetung', \n",
    "'tarif_u-k ii. (musiker) bis 45 min', 'tarif_u-v vi. b mindestverguetung', \n",
    "\n",
    "# 30 bands\n",
    "\n",
    "'state_bavaria', 'state_rhineland-palatinate', 'state_baden-wuerttemberg', 'state_north rhine-westphalia', 'state_thuringia', \n",
    "'state_hesse', 'state_brandenburg', 'state_schleswig-holstein', 'state_berlin', 'state_mecklenburg-western pomerania', \n",
    "'state_lower saxony', 'state_hamburg', 'state_saarland', 'state_saxony-anhalt', 'state_saxony', 'state_bremen', \n",
    "\n",
    "'vg_datum_year', 'vg_datum_month', 'vg_datum_day_of_week', 'vg_datum_season', \n",
    "\n",
    "# 30 promoters\n",
    "\n",
    "'veranst_segment','vg_inkasso'\n",
    "]"
   ]
  },
  {
   "cell_type": "code",
   "execution_count": null,
   "metadata": {},
   "outputs": [],
   "source": [
    "df_features = df[features]"
   ]
  },
  {
   "cell_type": "code",
   "execution_count": null,
   "metadata": {},
   "outputs": [],
   "source": [
    "# Train size = 1393757\n",
    "# Test size = 348440\n",
    "df_training = df_train_time_series_merged_descr_stat.merge(df_features, how='left', on='ID')\n",
    "print(df_training.shape)\n",
    "display(df_training.head(5))"
   ]
  },
  {
   "cell_type": "code",
   "execution_count": null,
   "metadata": {},
   "outputs": [],
   "source": [
    "df_testing = df_test_time_series_merged_descr_stat.merge(df_features, how='left', on='ID')\n",
    "print(df_testing.shape)\n",
    "display(df_testing.head(5))"
   ]
  },
  {
   "cell_type": "markdown",
   "metadata": {},
   "source": [
    "## Allow only maximum of 2 NaN per row"
   ]
  },
  {
   "cell_type": "code",
   "execution_count": null,
   "metadata": {},
   "outputs": [],
   "source": [
    "test_copy = df_testing.copy()"
   ]
  },
  {
   "cell_type": "code",
   "execution_count": null,
   "metadata": {},
   "outputs": [],
   "source": [
    "# Allow only maximum of 2 NaN per row or remove the rows with more than 2 NaN values Eg: band_std = NaN and promoter_std = NaN\n",
    "test_copy.dropna(axis=0, thresh=152, inplace=True)\n",
    "display(test_copy.head(5))\n",
    "#(151287, 154)"
   ]
  },
  {
   "cell_type": "code",
   "execution_count": null,
   "metadata": {},
   "outputs": [],
   "source": [
    "train_copy = df_training.copy()"
   ]
  },
  {
   "cell_type": "code",
   "execution_count": null,
   "metadata": {},
   "outputs": [],
   "source": [
    "# Allow only maximum of 2 NaN per row or remove the rows with more than 2 NaN values Eg: band_std = NaN and promoter_std = NaN\n",
    "train_copy.dropna(axis=0, thresh=152, inplace=True)\n",
    "display(train_copy.head(5))\n",
    "print(train_copy.shape)\n",
    "#(195254, 154)"
   ]
  },
  {
   "cell_type": "markdown",
   "metadata": {},
   "source": [
    "## Set NaN values to 0.0 in 'promoter_std', 'band_std', 'vg_state_std' columns"
   ]
  },
  {
   "cell_type": "code",
   "execution_count": null,
   "metadata": {},
   "outputs": [],
   "source": [
    "train_copy['promoter_std'] = np.where((train_copy.promoter_std.isna()),0.0,train_copy.promoter_std)\n",
    "train_copy['band_std'] = np.where((train_copy.band_std.isna()),0.0,train_copy.band_std)\n",
    "train_copy['vg_state_std'] = np.where((train_copy.vg_state_std.isna()),0.0,train_copy.vg_state_std)"
   ]
  },
  {
   "cell_type": "code",
   "execution_count": null,
   "metadata": {},
   "outputs": [],
   "source": [
    "# Check is there are any NaN values in any of the columns\n",
    "train_copy.isna().any()"
   ]
  },
  {
   "cell_type": "markdown",
   "metadata": {},
   "source": [
    "## Export training and testing dataframe, each containing 238 features"
   ]
  },
  {
   "cell_type": "code",
   "execution_count": null,
   "metadata": {},
   "outputs": [],
   "source": [
    "# df_training.to_parquet('C:/Saravana/Projects/Intellizenz/intellizenz-model-training/data/export_training_features_2016_2020.parquet.gzip',compression='gzip')\n",
    "df_training.to_parquet('C:/Users/sgopalakrish/Downloads/intellizenz-model-training/data/export_training_features_2016_2020_v1.parquet.gzip',compression='gzip')"
   ]
  },
  {
   "cell_type": "code",
   "execution_count": null,
   "metadata": {},
   "outputs": [],
   "source": [
    "# df_testing.to_parquet('C:/Saravana/Projects/Intellizenz/intellizenz-model-training/data/export_testing_features_2016_2020.parquet.gzip',compression='gzip')\n",
    "df_testing.to_parquet('C:/Users/sgopalakrish/Downloads/intellizenz-model-training/data/export_testing_features_2016_2020_v1.parquet.gzip',compression='gzip')"
   ]
  },
  {
   "cell_type": "markdown",
   "metadata": {},
   "source": [
    "## Splitting to training and validation sets"
   ]
  },
  {
   "cell_type": "code",
   "execution_count": null,
   "metadata": {},
   "outputs": [],
   "source": [
    "# training, validation = train_test_split(df_training, test_size=0.15,random_state=1)\n",
    "# print(training)\n",
    "# print(validation)"
   ]
  },
  {
   "cell_type": "code",
   "execution_count": null,
   "metadata": {},
   "outputs": [],
   "source": []
  }
 ],
 "metadata": {
  "kernelspec": {
   "display_name": "Python 3.9.13 ('intellizenz-model-training-LRwJb8pv-py3.9')",
   "language": "python",
   "name": "python3"
  },
  "language_info": {
   "codemirror_mode": {
    "name": "ipython",
    "version": 3
   },
   "file_extension": ".py",
   "mimetype": "text/x-python",
   "name": "python",
   "nbconvert_exporter": "python",
   "pygments_lexer": "ipython3",
   "version": "3.9.13 (tags/v3.9.13:6de2ca5, May 17 2022, 16:36:42) [MSC v.1929 64 bit (AMD64)]"
  },
  "orig_nbformat": 4,
  "vscode": {
   "interpreter": {
    "hash": "17ce7e5e80fa8847c13f468233b8349b1468d0a77f7c99a15d53db37f56b8200"
   }
  }
 },
 "nbformat": 4,
 "nbformat_minor": 2
}
