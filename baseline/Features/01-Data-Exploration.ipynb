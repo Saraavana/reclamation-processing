{
 "cells": [
  {
   "cell_type": "code",
   "execution_count": 2,
   "metadata": {},
   "outputs": [],
   "source": [
    "import pandas as pd\n",
    "import seaborn as sns\n",
    "from matplotlib import pyplot as plt"
   ]
  },
  {
   "cell_type": "code",
   "execution_count": null,
   "metadata": {},
   "outputs": [],
   "source": [
    "torch = { version = \"=1.12.1+cu113\", source = \"torch\" }\n",
    "\n",
    "[[tool.poetry.source]]\n",
    "name = \"torch\"\n",
    "url = \"https://download.pytorch.org/whl/cu113\"\n",
    "secondary = true\n",
    "default = false\n"
   ]
  },
  {
   "cell_type": "code",
   "execution_count": 3,
   "metadata": {},
   "outputs": [
    {
     "data": {
      "text/html": [
       "<div>\n",
       "<style scoped>\n",
       "    .dataframe tbody tr th:only-of-type {\n",
       "        vertical-align: middle;\n",
       "    }\n",
       "\n",
       "    .dataframe tbody tr th {\n",
       "        vertical-align: top;\n",
       "    }\n",
       "\n",
       "    .dataframe thead th {\n",
       "        text-align: right;\n",
       "    }\n",
       "</style>\n",
       "<table border=\"1\" class=\"dataframe\">\n",
       "  <thead>\n",
       "    <tr style=\"text-align: right;\">\n",
       "      <th></th>\n",
       "      <th>anonymized_band</th>\n",
       "      <th>anonymized_promoter</th>\n",
       "      <th>anonymized_venue</th>\n",
       "      <th>tarif_bez</th>\n",
       "      <th>vg_state</th>\n",
       "      <th>vg_datum_season</th>\n",
       "      <th>vg_datum_month</th>\n",
       "      <th>vg_datum_day_of_week</th>\n",
       "      <th>vg_datum_year</th>\n",
       "      <th>vg_datum_von</th>\n",
       "      <th>veranst_segment</th>\n",
       "      <th>vg_inkasso</th>\n",
       "    </tr>\n",
       "    <tr>\n",
       "      <th>ID</th>\n",
       "      <th></th>\n",
       "      <th></th>\n",
       "      <th></th>\n",
       "      <th></th>\n",
       "      <th></th>\n",
       "      <th></th>\n",
       "      <th></th>\n",
       "      <th></th>\n",
       "      <th></th>\n",
       "      <th></th>\n",
       "      <th></th>\n",
       "      <th></th>\n",
       "    </tr>\n",
       "  </thead>\n",
       "  <tbody>\n",
       "    <tr>\n",
       "      <th>9938766</th>\n",
       "      <td>Klapp Dehmel AG &amp; Co. OHG</td>\n",
       "      <td>Wiek Löchel AG</td>\n",
       "      <td>turnhalle</td>\n",
       "      <td>U-K (MUSIKER)</td>\n",
       "      <td>BAVARIA</td>\n",
       "      <td>0</td>\n",
       "      <td>1</td>\n",
       "      <td>5</td>\n",
       "      <td>0</td>\n",
       "      <td>2014-02-08</td>\n",
       "      <td>2</td>\n",
       "      <td>210.00</td>\n",
       "    </tr>\n",
       "    <tr>\n",
       "      <th>9939272</th>\n",
       "      <td>Karz Ritter KGaA</td>\n",
       "      <td>Peukert Neuschäfer GmbH</td>\n",
       "      <td>grundschule</td>\n",
       "      <td>U-V II. 1 (+II 2)</td>\n",
       "      <td>THURINGIA</td>\n",
       "      <td>0</td>\n",
       "      <td>1</td>\n",
       "      <td>5</td>\n",
       "      <td>0</td>\n",
       "      <td>2014-02-22</td>\n",
       "      <td>1</td>\n",
       "      <td>85.06</td>\n",
       "    </tr>\n",
       "    <tr>\n",
       "      <th>9939279</th>\n",
       "      <td>Klemm Ullrich OHG mbH</td>\n",
       "      <td>Naser Klemt KG</td>\n",
       "      <td>werk</td>\n",
       "      <td>U-V II. 1 (+II 2)</td>\n",
       "      <td>BAVARIA</td>\n",
       "      <td>0</td>\n",
       "      <td>1</td>\n",
       "      <td>1</td>\n",
       "      <td>0</td>\n",
       "      <td>2014-02-18</td>\n",
       "      <td>1</td>\n",
       "      <td>90.20</td>\n",
       "    </tr>\n",
       "    <tr>\n",
       "      <th>9939280</th>\n",
       "      <td>Albers Klemt GmbH &amp; Co. OHG</td>\n",
       "      <td>Patberg AG &amp; Co. KG</td>\n",
       "      <td>kulturhaus</td>\n",
       "      <td>U-V II. 1 (+II 2)</td>\n",
       "      <td>BAVARIA</td>\n",
       "      <td>1</td>\n",
       "      <td>2</td>\n",
       "      <td>5</td>\n",
       "      <td>0</td>\n",
       "      <td>2014-03-29</td>\n",
       "      <td>2</td>\n",
       "      <td>206.12</td>\n",
       "    </tr>\n",
       "    <tr>\n",
       "      <th>9939281</th>\n",
       "      <td>Albers Klemt GmbH &amp; Co. OHG</td>\n",
       "      <td>Patberg AG &amp; Co. KG</td>\n",
       "      <td>kulturhaus</td>\n",
       "      <td>U-V II. 1 (+II 2)</td>\n",
       "      <td>BAVARIA</td>\n",
       "      <td>1</td>\n",
       "      <td>2</td>\n",
       "      <td>4</td>\n",
       "      <td>0</td>\n",
       "      <td>2014-03-21</td>\n",
       "      <td>2</td>\n",
       "      <td>206.12</td>\n",
       "    </tr>\n",
       "  </tbody>\n",
       "</table>\n",
       "</div>"
      ],
      "text/plain": [
       "                     anonymized_band      anonymized_promoter  \\\n",
       "ID                                                              \n",
       "9938766    Klapp Dehmel AG & Co. OHG           Wiek Löchel AG   \n",
       "9939272             Karz Ritter KGaA  Peukert Neuschäfer GmbH   \n",
       "9939279        Klemm Ullrich OHG mbH           Naser Klemt KG   \n",
       "9939280  Albers Klemt GmbH & Co. OHG      Patberg AG & Co. KG   \n",
       "9939281  Albers Klemt GmbH & Co. OHG      Patberg AG & Co. KG   \n",
       "\n",
       "        anonymized_venue          tarif_bez   vg_state  vg_datum_season  \\\n",
       "ID                                                                        \n",
       "9938766        turnhalle      U-K (MUSIKER)    BAVARIA                0   \n",
       "9939272      grundschule  U-V II. 1 (+II 2)  THURINGIA                0   \n",
       "9939279             werk  U-V II. 1 (+II 2)    BAVARIA                0   \n",
       "9939280       kulturhaus  U-V II. 1 (+II 2)    BAVARIA                1   \n",
       "9939281       kulturhaus  U-V II. 1 (+II 2)    BAVARIA                1   \n",
       "\n",
       "         vg_datum_month  vg_datum_day_of_week  vg_datum_year vg_datum_von  \\\n",
       "ID                                                                          \n",
       "9938766               1                     5              0   2014-02-08   \n",
       "9939272               1                     5              0   2014-02-22   \n",
       "9939279               1                     1              0   2014-02-18   \n",
       "9939280               2                     5              0   2014-03-29   \n",
       "9939281               2                     4              0   2014-03-21   \n",
       "\n",
       "         veranst_segment  vg_inkasso  \n",
       "ID                                    \n",
       "9938766                2      210.00  \n",
       "9939272                1       85.06  \n",
       "9939279                1       90.20  \n",
       "9939280                2      206.12  \n",
       "9939281                2      206.12  "
      ]
     },
     "metadata": {},
     "output_type": "display_data"
    }
   ],
   "source": [
    "# df = pd.read_parquet('C:/Users/sgopalakrish/Downloads/intellizenz-model-training/data/export_features_2016_2020_v3.parquet.gzip')\n",
    "df = pd.read_parquet('/Users/saravana/Documents/Work/Master Thesis/reclamation-processing/data/export_anonymized_features_2016_2020.parquet.gzip')\n",
    "\n",
    "pd.set_option('display.max_columns', None)\n",
    "display(df.head())"
   ]
  },
  {
   "cell_type": "code",
   "execution_count": 4,
   "metadata": {},
   "outputs": [
    {
     "data": {
      "text/plain": [
       "(1742197, 12)"
      ]
     },
     "execution_count": 4,
     "metadata": {},
     "output_type": "execute_result"
    }
   ],
   "source": [
    "df.shape"
   ]
  },
  {
   "cell_type": "code",
   "execution_count": 5,
   "metadata": {},
   "outputs": [
    {
     "data": {
      "text/plain": [
       "['U-K (MUSIKER)', 'U-V II. 1 (+II 2)', 'U-K (MUSIKER) MINDESTVERGUETUNG', 'U-K I (+ II 2B) - MIT SONSTIGEM GELDWERTEN VO..., 'U-K II. (MUSIKER) BIS 50 MIN', ..., 'WR-HZ (MUSIKER)', 'KONZERT CHORVERBAENDE OHNE EINTRITTSGELD (7,5%)', 'Z I. 1./3. (MUSIKER)', 'BM I. 1. / 2.', 'RV/L NR. 1 (3) I 1. PROZENTABRECHNUNG TONTRAE...]\n",
       "Length: 87\n",
       "Categories (91, object): ['BM I. 1. / 2.', 'BM I.1. BIS 25 MINUTEN', 'CHORVERBAND KONZERT E-MUSIK MIT EINTRITTSGELD', 'CHORVERBAND KONZERT E-MUSIK OHNE EINTRITTSGELD', ..., 'WR-KS I. 2 EINZEL (MUSIKER)', 'WR-NWSP I.', 'WR-VR-B 1 I (MUSIKER)', 'Z I. 1./3. (MUSIKER)']"
      ]
     },
     "execution_count": 5,
     "metadata": {},
     "output_type": "execute_result"
    }
   ],
   "source": [
    "df['tarif_bez'].unique()"
   ]
  },
  {
   "cell_type": "markdown",
   "metadata": {},
   "source": [
    "### Get all unique values of Tarif that contains 'U-ST'"
   ]
  },
  {
   "cell_type": "code",
   "execution_count": 6,
   "metadata": {},
   "outputs": [],
   "source": [
    "tarif_u_st_df = df.loc[df['tarif_bez'].str.contains('U-ST ')].copy()"
   ]
  },
  {
   "cell_type": "code",
   "execution_count": 7,
   "metadata": {},
   "outputs": [
    {
     "data": {
      "text/html": [
       "<div>\n",
       "<style scoped>\n",
       "    .dataframe tbody tr th:only-of-type {\n",
       "        vertical-align: middle;\n",
       "    }\n",
       "\n",
       "    .dataframe tbody tr th {\n",
       "        vertical-align: top;\n",
       "    }\n",
       "\n",
       "    .dataframe thead th {\n",
       "        text-align: right;\n",
       "    }\n",
       "</style>\n",
       "<table border=\"1\" class=\"dataframe\">\n",
       "  <thead>\n",
       "    <tr style=\"text-align: right;\">\n",
       "      <th></th>\n",
       "      <th>anonymized_band</th>\n",
       "      <th>anonymized_promoter</th>\n",
       "      <th>anonymized_venue</th>\n",
       "      <th>tarif_bez</th>\n",
       "      <th>vg_state</th>\n",
       "      <th>vg_datum_season</th>\n",
       "      <th>vg_datum_month</th>\n",
       "      <th>vg_datum_day_of_week</th>\n",
       "      <th>vg_datum_year</th>\n",
       "      <th>vg_datum_von</th>\n",
       "      <th>veranst_segment</th>\n",
       "      <th>vg_inkasso</th>\n",
       "    </tr>\n",
       "    <tr>\n",
       "      <th>ID</th>\n",
       "      <th></th>\n",
       "      <th></th>\n",
       "      <th></th>\n",
       "      <th></th>\n",
       "      <th></th>\n",
       "      <th></th>\n",
       "      <th></th>\n",
       "      <th></th>\n",
       "      <th></th>\n",
       "      <th></th>\n",
       "      <th></th>\n",
       "      <th></th>\n",
       "    </tr>\n",
       "  </thead>\n",
       "  <tbody>\n",
       "    <tr>\n",
       "      <th>9943647</th>\n",
       "      <td>Lübs Textor GmbH &amp; Co. KG</td>\n",
       "      <td>Buchholz Langern AG</td>\n",
       "      <td>Juliane-Wiek-Gasse</td>\n",
       "      <td>U-ST (MUSIKER)</td>\n",
       "      <td>SAXONY-ANHALT</td>\n",
       "      <td>0</td>\n",
       "      <td>0</td>\n",
       "      <td>5</td>\n",
       "      <td>0</td>\n",
       "      <td>2014-01-18</td>\n",
       "      <td>1</td>\n",
       "      <td>55.44</td>\n",
       "    </tr>\n",
       "    <tr>\n",
       "      <th>9946796</th>\n",
       "      <td>Hein Dörr AG</td>\n",
       "      <td>Kambs e.G.</td>\n",
       "      <td>Dogan-Ziegert-Allee</td>\n",
       "      <td>U-ST (MUSIKER)</td>\n",
       "      <td>BAVARIA</td>\n",
       "      <td>1</td>\n",
       "      <td>3</td>\n",
       "      <td>3</td>\n",
       "      <td>0</td>\n",
       "      <td>2014-04-24</td>\n",
       "      <td>2</td>\n",
       "      <td>163.20</td>\n",
       "    </tr>\n",
       "    <tr>\n",
       "      <th>9949751</th>\n",
       "      <td>Geisler Reinhardt AG</td>\n",
       "      <td>Hesse Keudel GbR</td>\n",
       "      <td>Theodora-Kobelt-Platz</td>\n",
       "      <td>U-ST (MUSIKER)</td>\n",
       "      <td>THURINGIA</td>\n",
       "      <td>1</td>\n",
       "      <td>3</td>\n",
       "      <td>5</td>\n",
       "      <td>0</td>\n",
       "      <td>2014-04-26</td>\n",
       "      <td>2</td>\n",
       "      <td>106.20</td>\n",
       "    </tr>\n",
       "    <tr>\n",
       "      <th>9949924</th>\n",
       "      <td>Ehlert Briemer GmbH &amp; Co. KG</td>\n",
       "      <td>Gotthard</td>\n",
       "      <td>Senol-Bachmann-Straße</td>\n",
       "      <td>U-ST (MUSIKER)</td>\n",
       "      <td>RHINELAND-PALATINATE</td>\n",
       "      <td>1</td>\n",
       "      <td>3</td>\n",
       "      <td>6</td>\n",
       "      <td>0</td>\n",
       "      <td>2014-04-20</td>\n",
       "      <td>1</td>\n",
       "      <td>84.96</td>\n",
       "    </tr>\n",
       "    <tr>\n",
       "      <th>9950662</th>\n",
       "      <td>Pohl Rogge AG &amp; Co. KG</td>\n",
       "      <td>Roht GmbH</td>\n",
       "      <td>Klaus-D.-Jopich-Gasse</td>\n",
       "      <td>U-ST (MUSIKER)</td>\n",
       "      <td>BRANDENBURG</td>\n",
       "      <td>1</td>\n",
       "      <td>4</td>\n",
       "      <td>6</td>\n",
       "      <td>0</td>\n",
       "      <td>2014-05-04</td>\n",
       "      <td>1</td>\n",
       "      <td>69.30</td>\n",
       "    </tr>\n",
       "  </tbody>\n",
       "</table>\n",
       "</div>"
      ],
      "text/plain": [
       "                      anonymized_band  anonymized_promoter  \\\n",
       "ID                                                           \n",
       "9943647     Lübs Textor GmbH & Co. KG  Buchholz Langern AG   \n",
       "9946796                  Hein Dörr AG           Kambs e.G.   \n",
       "9949751          Geisler Reinhardt AG     Hesse Keudel GbR   \n",
       "9949924  Ehlert Briemer GmbH & Co. KG             Gotthard   \n",
       "9950662        Pohl Rogge AG & Co. KG            Roht GmbH   \n",
       "\n",
       "              anonymized_venue       tarif_bez              vg_state  \\\n",
       "ID                                                                     \n",
       "9943647     Juliane-Wiek-Gasse  U-ST (MUSIKER)         SAXONY-ANHALT   \n",
       "9946796    Dogan-Ziegert-Allee  U-ST (MUSIKER)               BAVARIA   \n",
       "9949751  Theodora-Kobelt-Platz  U-ST (MUSIKER)             THURINGIA   \n",
       "9949924  Senol-Bachmann-Straße  U-ST (MUSIKER)  RHINELAND-PALATINATE   \n",
       "9950662  Klaus-D.-Jopich-Gasse  U-ST (MUSIKER)           BRANDENBURG   \n",
       "\n",
       "         vg_datum_season  vg_datum_month  vg_datum_day_of_week  vg_datum_year  \\\n",
       "ID                                                                              \n",
       "9943647                0               0                     5              0   \n",
       "9946796                1               3                     3              0   \n",
       "9949751                1               3                     5              0   \n",
       "9949924                1               3                     6              0   \n",
       "9950662                1               4                     6              0   \n",
       "\n",
       "        vg_datum_von  veranst_segment  vg_inkasso  \n",
       "ID                                                 \n",
       "9943647   2014-01-18                1       55.44  \n",
       "9946796   2014-04-24                2      163.20  \n",
       "9949751   2014-04-26                2      106.20  \n",
       "9949924   2014-04-20                1       84.96  \n",
       "9950662   2014-05-04                1       69.30  "
      ]
     },
     "metadata": {},
     "output_type": "display_data"
    }
   ],
   "source": [
    "display(tarif_u_st_df.head())"
   ]
  },
  {
   "attachments": {},
   "cell_type": "markdown",
   "metadata": {},
   "source": [
    "## Get the tariffs specific and not-specific for each class "
   ]
  },
  {
   "cell_type": "code",
   "execution_count": 17,
   "metadata": {},
   "outputs": [
    {
     "name": "stdout",
     "output_type": "stream",
     "text": [
      "['U-ST (MUSIKER)', 'M-SP II. 1+2 (MUSIKER)']\n",
      "2\n",
      "['U-VK I IM FREIEN NACH QM', 'KONZERT CHORVERBAENDE OHNE EINTRITTSGELD (5%)']\n",
      "2\n",
      "['VK I 1 VARIETE- UND KABARETTBETRIEBE KONSUMATION (MUSIKER) NEU', 'E-P', 'VARIETE I MINDESTVERGUETUNG (MUSIKER)', 'E (TONTRAEGER)', 'KONZERT CHORVERBAENDE OHNE EINTRITTSGELD (10%)', 'KONZERT CHORVERBAENDE OHNE EINTRITTSGELD (7,5%)', 'BM I. 1. / 2.']\n",
      "7\n"
     ]
    }
   ],
   "source": [
    "class_zero_tariffs = []\n",
    "class_one_tariffs = []\n",
    "class_two_tariffs = []\n",
    "\n",
    "never_class_zero = []\n",
    "never_class_one = []\n",
    "never_class_two = []\n",
    "\n",
    "for each in df['tarif_bez'].unique():\n",
    "    classes = df[df['tarif_bez'] == each][\"veranst_segment\"].values.tolist()\n",
    "    class_count = len(set(classes))\n",
    "    if class_count == 2:\n",
    "        not_occuring_class = list(set([0,1,2]).difference(set(classes)))[0]\n",
    "        if not_occuring_class == 0:\n",
    "            never_class_zero.append(each)\n",
    "        elif not_occuring_class == 1:\n",
    "            never_class_one.append(each)\n",
    "        else:\n",
    "            never_class_two.append(each)\n",
    "\n",
    "    if class_count == 1:\n",
    "        each_class = classes[0]\n",
    "        if each_class == 0:\n",
    "            class_zero_tariffs.append(each)\n",
    "        elif each_class == 1:\n",
    "            class_one_tariffs.append(each)\n",
    "        else:\n",
    "            class_two_tariffs.append(each)\n",
    "\n",
    "print(never_class_zero)      \n",
    "print(len(never_class_zero))\n",
    "print(never_class_one)\n",
    "print(len(never_class_one))\n",
    "print(never_class_two)\n",
    "print(len(never_class_two))"
   ]
  },
  {
   "cell_type": "code",
   "execution_count": null,
   "metadata": {},
   "outputs": [],
   "source": [
    "ten_class_zero_tariffs = ['WR-NWSP I.', 'U-VK II 3', 'PV/ST NR.3(1) KURSE (MUSIK)', \n",
    " 'U-VK I (+III 2A) - FUER MOEGLICHEN ZEITZUSCHLAG SCHNELLERFASSUNG', \n",
    " 'U-VK II 2', 'CHORVERBAND KONZERT E-MUSIK OHNE EINTRITTSGELD', \n",
    " 'WR-BEST (MUSIKER)', 'PV/ST NR. 3(1) ZIFF. 3', \n",
    " 'WR-KS I. 2 EINZEL (MUSIKER)', 'WR-HZ (MUSIKER)']\n",
    "\n",
    "two_class_two_tariffs = ['U-ST I (MUSIKER) NL', 'RV/L NR. 1 (3) I 1. PROZENTABRECHNUNG TONTRAEGER']\n",
    "\n",
    "never_class_zero = ['U-ST (MUSIKER)', 'M-SP II. 1+2 (MUSIKER)']\n",
    "\n",
    "never_class_one = ['U-VK I IM FREIEN NACH QM', 'KONZERT CHORVERBAENDE OHNE EINTRITTSGELD (5%)']\n",
    "\n",
    "never_class_two = ['VK I 1 VARIETE- UND KABARETTBETRIEBE KONSUMATION (MUSIKER) NEU', \n",
    "                   'E-P', 'VARIETE I MINDESTVERGUETUNG (MUSIKER)', 'E (TONTRAEGER)', \n",
    "                   'KONZERT CHORVERBAENDE OHNE EINTRITTSGELD (10%)', \n",
    "                   'KONZERT CHORVERBAENDE OHNE EINTRITTSGELD (7,5%)', \n",
    "                   'BM I. 1. / 2.']"
   ]
  },
  {
   "cell_type": "code",
   "execution_count": null,
   "metadata": {},
   "outputs": [],
   "source": [
    "values_u_st = []\n",
    "for each in tarif_u_st_df['tarif_bez'].values:\n",
    "    values_u_st.append(each)"
   ]
  },
  {
   "cell_type": "code",
   "execution_count": null,
   "metadata": {},
   "outputs": [],
   "source": [
    "new_tarif_u_st_df = pd.DataFrame({'tarif_bez':values_u_st})"
   ]
  },
  {
   "cell_type": "code",
   "execution_count": null,
   "metadata": {},
   "outputs": [],
   "source": [
    "fig, ax = plt.subplots()\n",
    "new_tarif_u_st_df['tarif_bez'].value_counts().plot(ax=ax, kind='bar', xlabel='Tarifs', ylabel='Frequency')\n",
    "plt.show()\n",
    "# U-ST I. (MUSIKER) - 106539\n",
    "# U-ST I (MUSIKER) NL - 27919\n",
    "# U-ST (MUSIKER) - 3928"
   ]
  },
  {
   "cell_type": "code",
   "execution_count": null,
   "metadata": {},
   "outputs": [],
   "source": [
    "tarif_u_st_df.shape"
   ]
  },
  {
   "cell_type": "markdown",
   "metadata": {},
   "source": [
    "### vg_state"
   ]
  },
  {
   "cell_type": "code",
   "execution_count": null,
   "metadata": {},
   "outputs": [],
   "source": [
    "new_tarif_u_st_df['state'] = tarif_u_st_df['vg_state'].values"
   ]
  },
  {
   "cell_type": "code",
   "execution_count": null,
   "metadata": {},
   "outputs": [],
   "source": [
    "new_tarif_u_st_df['vg_raum_keywords'] = tarif_u_st_df['vg_raum_keywords'].values"
   ]
  },
  {
   "cell_type": "code",
   "execution_count": null,
   "metadata": {},
   "outputs": [],
   "source": [
    "new_tarif_u_st_df['inkasso'] = tarif_u_st_df['vg_inkasso'].values"
   ]
  },
  {
   "cell_type": "code",
   "execution_count": null,
   "metadata": {},
   "outputs": [],
   "source": [
    "new_tarif_u_st_df['veranst_segment'] = tarif_u_st_df['veranst_segment'].values"
   ]
  },
  {
   "cell_type": "code",
   "execution_count": null,
   "metadata": {},
   "outputs": [],
   "source": [
    "new_tarif_u_st_df['venue'] = [','.join(map(str, l)) for l in new_tarif_u_st_df['vg_raum_keywords']]"
   ]
  },
  {
   "cell_type": "code",
   "execution_count": null,
   "metadata": {},
   "outputs": [],
   "source": [
    "u_st_nl_df = df.loc[df['tarif_bez']=='U-ST I (MUSIKER) NL']\n",
    "u_st_nl_df.shape"
   ]
  },
  {
   "cell_type": "code",
   "execution_count": null,
   "metadata": {},
   "outputs": [],
   "source": [
    "display(new_tarif_u_st_df.head())"
   ]
  },
  {
   "cell_type": "code",
   "execution_count": null,
   "metadata": {},
   "outputs": [],
   "source": [
    "# u_st_df = new_tarif_u_st_df.loc[new_tarif_u_st_df['tarif_bez']=='U-ST (MUSIKER)'] # veranst segment ==> 1 to 2 - {>50€}\n",
    "u_st_i_df = new_tarif_u_st_df.loc[new_tarif_u_st_df['tarif_bez']=='U-ST I. (MUSIKER)'] # veranst segment ==> 0 to 2 - {>0€}\n",
    "# u_st_nl_df = new_tarif_u_st_df.loc[new_tarif_u_st_df['tarif_bez']=='U-ST I (MUSIKER) NL'] # veranst segment ==> 2 to 2 {>100€}\n",
    "\n",
    "state = ['bavaria', 'thuringia', 'baden-wuerttemberg', 'rhineland-palatinate', \n",
    "         'brandenburg', 'berlin', 'lower saxony', 'schleswig-holstein', 'hamburg', \n",
    "         'hesse', 'saarland', 'north rhine-westphalia', 'saxony-anhalt', \n",
    "         'saxony', 'mecklenburg-western pomerania', 'bremen']\n",
    "\n",
    "for each in state:\n",
    "    st = each.upper()\n",
    "    print('--------State---------: ',st)\n",
    "    specific_state_df = u_st_i_df.loc[u_st_i_df['state']==st]\n",
    "    # print('Venues available here are: ',specific_state_df.venue.value_counts())\n",
    "    # print(specific_state_df.venue.value_counts())\n",
    "    print('Total number of venues: ',len(specific_state_df.venue.values))\n",
    "\n",
    "    if st == 'SAXONY':\n",
    "        kulturzentrum_df = specific_state_df.loc[specific_state_df.venue.str.contains('kulturzentrum')==True]\n",
    "        print('The collection in kulturzentrum is :', kulturzentrum_df.inkasso)\n",
    "        print('The kulturzentrum min collection is: {}, max is:{}'.format(kulturzentrum_df.inkasso.min(), kulturzentrum_df.inkasso.max()))\n",
    "        print('The venue is: ', kulturzentrum_df.venue)\n",
    "\n",
    "        kirche_df = specific_state_df.loc[specific_state_df.venue.str.contains('kirche')==True]\n",
    "        # print('The collection in kulturzentrum is :', kirche_df.inkasso)\n",
    "        print('The kirche min collection is: {}, max is:{}'.format(kirche_df.inkasso.min(), kirche_df.inkasso.max()))\n",
    "        # print('The venue is: ', kirche_df.venue)\n",
    "\n",
    "        hotel_df = specific_state_df.loc[specific_state_df.venue.str.contains('hotel')==True]\n",
    "        # print('The collection in hotel is :', hotel_df.inkasso)\n",
    "        print('The hotel min collection is: {}, max is:{}'.format(hotel_df.inkasso.min(), hotel_df.inkasso.max()))\n",
    "\n",
    "        cafe_df = specific_state_df.loc[specific_state_df.venue.str.contains('cafe')==True]\n",
    "        # print('The collection in cafe is :', cafe_df.inkasso)\n",
    "        print('The cafe min collection is: {}, max is:{}'.format(cafe_df.inkasso.min(), cafe_df.inkasso.max()))\n",
    "\n",
    "        theater_df = specific_state_df.loc[specific_state_df.venue.str.contains('theater')==True]\n",
    "        # print('The collection in theater is :', theater_df.inkasso)\n",
    "        print('The theater min collection is: {}, max is:{}'.format(theater_df.inkasso.min(), theater_df.inkasso.max()))\n",
    "\n",
    "        club_df = specific_state_df.loc[specific_state_df.venue.str.contains('club')==True]\n",
    "        # print('The collection in club is :', club_df.inkasso)\n",
    "        print('The club min collection is: {}, max is:{}'.format(club_df.inkasso.min(), club_df.inkasso.max()))\n",
    "\n",
    "        halle_df = specific_state_df.loc[specific_state_df.venue.str.contains('halle')==True]\n",
    "        # print('The collection in halle is :', halle_df.inkasso)\n",
    "        print('The halle min collection is: {}, max is:{}'.format(halle_df.inkasso.min(), halle_df.inkasso.max()))\n",
    "\n",
    "        gaststaette_df = specific_state_df.loc[specific_state_df.venue.str.contains('gaststaette')==True]\n",
    "        # print('The collection in gaststaette is :', gaststaette_df.inkasso)\n",
    "        print('The gaststaette min collection is: {}, max is:{}'.format(gaststaette_df.inkasso.min(), gaststaette_df.inkasso.max()))\n",
    "\n",
    "        festhalle_df = specific_state_df.loc[specific_state_df.venue.str.contains('festhalle')==True]\n",
    "        # print('The collection in festhalle is :', festhalle_df.inkasso)\n",
    "        print('The festhalle min collection is: {}, max is:{}'.format(festhalle_df.inkasso.min(), festhalle_df.inkasso.max()))\n",
    "\n",
    "        festzelt_df = specific_state_df.loc[specific_state_df.venue.str.contains('festzelt')==True]\n",
    "        # print('The collection in festzelt is :', festzelt_df.inkasso)\n",
    "        print('The festzelt min collection is: {}, max is:{}'.format(festzelt_df.inkasso.min(), festzelt_df.inkasso.max()))\n",
    "\n",
    "        schloss_df = specific_state_df.loc[specific_state_df.venue.str.contains('schloss')==True]\n",
    "        # print('The collection in schloss is :', schloss_df.inkasso)\n",
    "        print('The schloss min collection is: {}, max is:{}'.format(schloss_df.inkasso.min(), schloss_df.inkasso.max()))\n",
    "\n",
    "        pub_df = specific_state_df.loc[specific_state_df.venue.str.contains('pub')==True]\n",
    "        # print('The collection in pub is :', pub_df.inkasso)\n",
    "        print('The pub min collection is: {}, max is:{}'.format(pub_df.inkasso.min(), pub_df.inkasso.max()))\n",
    "\n",
    "        stadthalle_df = specific_state_df.loc[specific_state_df.venue.str.contains('stadthalle')==True]\n",
    "        # print('The collection in stadthalle is :', stadthalle_df.inkasso)\n",
    "        print('The stadthalle min collection is: {}, max is:{}'.format(stadthalle_df.inkasso.min(), stadthalle_df.inkasso.max()))\n",
    "\n",
    "        park_df = specific_state_df.loc[specific_state_df.venue.str.contains('park')==True]\n",
    "        # print('The collection in park is :', park_df.inkasso)\n",
    "        print('The park min collection is: {}, max is:{}'.format(park_df.inkasso.min(), park_df.inkasso.max()))\n",
    "\n",
    "        gasthof_df = specific_state_df.loc[specific_state_df.venue.str.contains('gasthof')==True]\n",
    "        # print('The collection in gasthof is :', gasthof_df.inkasso)\n",
    "        print('The gasthof min collection is: {}, max is:{}'.format(gasthof_df.inkasso.min(), gasthof_df.inkasso.max()))\n",
    "\n",
    "        kabarett_df = specific_state_df.loc[specific_state_df.venue.str.contains('kabarett')==True]\n",
    "        # print('The collection in kabarett is :', kabarett_df.inkasso)\n",
    "        print('The kabarett min collection is: {}, max is:{}'.format(kabarett_df.inkasso.min(), kabarett_df.inkasso.max()))\n",
    "\n",
    "        arena_df = specific_state_df.loc[specific_state_df.venue.str.contains('arena')==True]\n",
    "        # print('The collection in arena is :', arena_df.inkasso)\n",
    "        print('The arena min collection is: {}, max is:{}'.format(arena_df.inkasso.min(), arena_df.inkasso.max()))\n",
    "\n",
    "        schlachthof_df = specific_state_df.loc[specific_state_df.venue.str.contains('schlachthof')==True]\n",
    "        # print('The collection in schlachthof is :', schlachthof_df.inkasso)\n",
    "        print('The schlachthof min collection is: {}, max is:{}'.format(schlachthof_df.inkasso.min(), schlachthof_df.inkasso.max()))\n",
    "\n",
    "        wandelhalle_df = specific_state_df.loc[specific_state_df.venue.str.contains('wandelhalle')==True]\n",
    "        # print('The collection in wandelhalle is :', wandelhalle_df.inkasso)\n",
    "        print('The wandelhalle min collection is: {}, max is:{}'.format(wandelhalle_df.inkasso.min(), wandelhalle_df.inkasso.max()))\n",
    "\n",
    "        turnhalle_df = specific_state_df.loc[specific_state_df.venue.str.contains('turnhalle')==True]\n",
    "        # print('The collection in turnhalle is :', turnhalle_df.inkasso)\n",
    "        print('The turnhalle min collection is: {}, max is:{}'.format(turnhalle_df.inkasso.min(), turnhalle_df.inkasso.max()))\n",
    "\n",
    "        buergerhaus_df = specific_state_df.loc[specific_state_df.venue.str.contains('buergerhaus')==True]\n",
    "        # print('The collection in buergerhaus is :', buergerhaus_df.inkasso)\n",
    "        print('The buergerhaus min collection is: {}, max is:{}'.format(buergerhaus_df.inkasso.min(), buergerhaus_df.inkasso.max()))\n",
    "\n",
    "        museum_df = specific_state_df.loc[specific_state_df.venue.str.contains('museum')==True]\n",
    "        # print('The collection in museum is :', museum_df.inkasso)\n",
    "        print('The museum min collection is: {}, max is:{}'.format(museum_df.inkasso.min(), museum_df.inkasso.max()))\n",
    "\n",
    "        rathaus_df = specific_state_df.loc[specific_state_df.venue.str.contains('rathaus')==True]\n",
    "        # print('The collection in rathaus is :', rathaus_df.inkasso)\n",
    "        print('The rathaus min collection is: {}, max is:{}'.format(rathaus_df.inkasso.min(), rathaus_df.inkasso.max()))\n",
    "\n",
    "        staatsbad_df = specific_state_df.loc[specific_state_df.venue.str.contains('staatsbad')==True]\n",
    "        # print('The collection in staatsbad is :', staatsbad_df.inkasso)\n",
    "        print('The staatsbad min collection is: {}, max is:{}'.format(staatsbad_df.inkasso.min(), staatsbad_df.inkasso.max()))\n",
    "\n",
    "        zelt_df = specific_state_df.loc[specific_state_df.venue.str.contains('zelt')==True]\n",
    "        # print('The collection in zelt is :', zelt_df.inkasso)\n",
    "        print('The zelt min collection is: {}, max is:{}'.format(zelt_df.inkasso.min(), zelt_df.inkasso.max()))\n",
    "\n",
    "        jazz_df = specific_state_df.loc[specific_state_df.venue.str.contains('jazz')==True]\n",
    "        # print('The collection in jazz is :', jazz_df.inkasso)\n",
    "        print('The jazz min collection is: {}, max is:{}'.format(jazz_df.inkasso.min(), jazz_df.inkasso.max()))\n",
    "\n",
    "        forum_df = specific_state_df.loc[specific_state_df.venue.str.contains('forum')==True]\n",
    "        # print('The collection in forum is :', forum_df.inkasso)\n",
    "        print('The forum min collection is: {}, max is:{}'.format(forum_df.inkasso.min(), forum_df.inkasso.max()))\n",
    "\n",
    "        gymnasium_df = specific_state_df.loc[specific_state_df.venue.str.contains('gymnasium')==True]\n",
    "        # print('The collection in gymnasium is :', gymnasium_df.inkasso)\n",
    "        print('The gymnasium min collection is: {}, max is:{}'.format(gymnasium_df.inkasso.min(), gymnasium_df.inkasso.max()))\n",
    "\n",
    "        schule_df = specific_state_df.loc[specific_state_df.venue.str.contains('schule')==True]\n",
    "        # print('The collection in schule is :', schule_df.inkasso)\n",
    "        print('The schule min collection is: {}, max is:{}'.format(schule_df.inkasso.min(), schule_df.inkasso.max()))\n",
    "\n",
    "        sporthalle_df = specific_state_df.loc[specific_state_df.venue.str.contains('sporthalle')==True]\n",
    "        # print('The collection in sporthalle is :', sporthalle_df.inkasso)\n",
    "        print('The sporthalle min collection is: {}, max is:{}'.format(sporthalle_df.inkasso.min(), sporthalle_df.inkasso.max()))\n",
    "\n",
    "    # # indices = specific_state_df.index[specific_state_df.venue.str.contains('kulturzentrum').any()==True].tolist()\n",
    "    # print('The venue kulturzentrum is present of following indices: ',specific_state_df.venue.str.contains('kulturzentrum').sum())\n",
    "    \n",
    "    # if specific_state_df.venue.str.contains('kulturzentrum').any():\n",
    "    #     print('Contains kulturzentrum--------------------------------------------------------------')\n",
    "    # zero_to_fifty_df = specific_state_df.loc[specific_state_df['veranst_segment']==0]\n",
    "    # print('The venues where inkasso is less than 50€ :',zero_to_fifty_df.vg_raum_keywords)\n",
    "    # print('The max inkasso: ', specific_state_df.inkasso.max())\n",
    "    # print('The min inkasso: ', specific_state_df.inkasso.min())\n",
    "    # print('The max segment: ', specific_state_df.veranst_segment.max())\n",
    "    # print('The min segment: ', specific_state_df.veranst_segment.min())\n",
    "    # print('------------------------')"
   ]
  },
  {
   "cell_type": "code",
   "execution_count": null,
   "metadata": {},
   "outputs": [],
   "source": [
    "# VENUES \n",
    "# place_kirche\tplace_hotel\tplace_cafe\t\n",
    "# place_theater\tplace_club\tplace_halle\t\n",
    "# place_gaststaette\tplace_festhalle\tplace_kulturzentrum\t\n",
    "# place_festzelt\tplace_schloss\tplace_pub\t\n",
    "# place_stadthalle\tplace_park\tplace_gasthof\t\n",
    "# place_kabarett\tplace_arena\tplace_schlachthof\t\n",
    "# place_wandelhalle\tplace_turnhalle\tplace_buergerhaus\t\n",
    "# place_museum\tplace_rathaus\tplace_staatsbad\t\n",
    "# place_zelt\tplace_jazz\tplace_forum\t\n",
    "# place_gymnasium\tplace_schule\tplace_sporthalle"
   ]
  },
  {
   "cell_type": "code",
   "execution_count": null,
   "metadata": {},
   "outputs": [],
   "source": [
    "venues = ['kirche', 'hotel', 'cafe',\n",
    "'theater', 'club', 'halle',\t\n",
    "'gaststaette', 'festhalle', 'kulturzentrum', \t\n",
    "'festzelt', 'schloss', 'pub', \t\n",
    "'stadthalle', 'park', 'gasthof', \n",
    "'kabarett', 'arena', 'schlachthof', \n",
    "'wandelhalle', 'turnhalle', 'buergerhaus', \n",
    "'museum', 'rathaus', 'staatsbad', \n",
    "'zelt', 'jazz', 'forum', \n",
    "'gymnasium', 'schule', 'sporthalle']"
   ]
  },
  {
   "cell_type": "code",
   "execution_count": null,
   "metadata": {},
   "outputs": [],
   "source": [
    "# tarif_u_st_df.plot(x='tarif_bez', y=['state_bavaria'], kind='line', figsize=(10,10))\n",
    "chart = sns.relplot(data=tarif_u_st_df, x='tarif_bez', y='vg_state', style='place_kirche', kind='line')"
   ]
  },
  {
   "cell_type": "code",
   "execution_count": null,
   "metadata": {},
   "outputs": [],
   "source": [
    "flat_list_vg_raum_keywords = [item for sublist in tarif_u_st_df['vg_raum_keywords'] for item in sublist]"
   ]
  },
  {
   "cell_type": "code",
   "execution_count": null,
   "metadata": {},
   "outputs": [],
   "source": [
    "tarif_u_st_in_one_state_df = tarif_u_st_df.loc[tarif_u_st_df['vg_state']=='SAXONY']"
   ]
  },
  {
   "cell_type": "code",
   "execution_count": null,
   "metadata": {},
   "outputs": [],
   "source": [
    "display(tarif_u_st_in_one_state_df.head())"
   ]
  },
  {
   "cell_type": "code",
   "execution_count": null,
   "metadata": {},
   "outputs": [],
   "source": [
    "chart = sns.countplot(data=tarif_u_st_df, x='vg_raum_wo_stopwords', hue='vg_state')"
   ]
  },
  {
   "cell_type": "markdown",
   "metadata": {},
   "source": [
    "### Get all unique values of Tarif that contains 'U-V'"
   ]
  },
  {
   "cell_type": "code",
   "execution_count": null,
   "metadata": {},
   "outputs": [],
   "source": [
    "tarif_u_v_df = df.loc[df['tarif_bez'].str.contains('U-V ')].copy()"
   ]
  },
  {
   "cell_type": "code",
   "execution_count": null,
   "metadata": {},
   "outputs": [],
   "source": [
    "tarif_u_v_df.shape"
   ]
  },
  {
   "cell_type": "code",
   "execution_count": null,
   "metadata": {},
   "outputs": [],
   "source": [
    "uv_values = []\n",
    "for each in tarif_u_v_df['tarif_bez'].values:\n",
    "    uv_values.append(each)"
   ]
  },
  {
   "cell_type": "code",
   "execution_count": null,
   "metadata": {},
   "outputs": [],
   "source": [
    "new_tarif_u_v_df = pd.DataFrame({'tarif_bez':uv_values})"
   ]
  },
  {
   "cell_type": "code",
   "execution_count": null,
   "metadata": {},
   "outputs": [],
   "source": [
    "fig, ax = plt.subplots()\n",
    "new_tarif_u_v_df['tarif_bez'].value_counts().plot(ax=ax, kind='bar', xlabel='Tarifs', ylabel='Frequency')\n",
    "plt.show()"
   ]
  },
  {
   "cell_type": "code",
   "execution_count": null,
   "metadata": {},
   "outputs": [],
   "source": []
  }
 ],
 "metadata": {
  "kernelspec": {
   "display_name": "intellizenz-model-training-zEgBkwlM-py3.9",
   "language": "python",
   "name": "python3"
  },
  "language_info": {
   "codemirror_mode": {
    "name": "ipython",
    "version": 3
   },
   "file_extension": ".py",
   "mimetype": "text/x-python",
   "name": "python",
   "nbconvert_exporter": "python",
   "pygments_lexer": "ipython3",
   "version": "3.9.15"
  },
  "orig_nbformat": 4,
  "vscode": {
   "interpreter": {
    "hash": "4a4b28c995b80fd745e361acd60072fe9d8810b0685f9e510d186f16e2eae93e"
   }
  }
 },
 "nbformat": 4,
 "nbformat_minor": 2
}
