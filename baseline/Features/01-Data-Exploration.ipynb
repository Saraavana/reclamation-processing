{
 "cells": [
  {
   "cell_type": "code",
   "execution_count": null,
   "metadata": {},
   "outputs": [],
   "source": [
    "import pandas as pd\n",
    "import seaborn as sns\n",
    "from matplotlib import pyplot as plt"
   ]
  },
  {
   "cell_type": "code",
   "execution_count": null,
   "metadata": {},
   "outputs": [],
   "source": [
    "df = pd.read_parquet('C:/Users/sgopalakrish/Downloads/intellizenz-model-training/data/export_features_2016_2020_v3.parquet.gzip')\n",
    "pd.set_option('display.max_columns', None)\n",
    "display(df.head())"
   ]
  },
  {
   "cell_type": "code",
   "execution_count": null,
   "metadata": {},
   "outputs": [],
   "source": [
    "df.shape"
   ]
  },
  {
   "cell_type": "code",
   "execution_count": null,
   "metadata": {},
   "outputs": [],
   "source": [
    "df['tarif_bez'].unique()"
   ]
  },
  {
   "cell_type": "markdown",
   "metadata": {},
   "source": [
    "### Get all unique values of Tarif that contains 'U-ST'"
   ]
  },
  {
   "cell_type": "code",
   "execution_count": null,
   "metadata": {},
   "outputs": [],
   "source": [
    "tarif_u_st_df = df.loc[df['tarif_bez'].str.contains('U-ST ')].copy()"
   ]
  },
  {
   "cell_type": "code",
   "execution_count": null,
   "metadata": {},
   "outputs": [],
   "source": [
    "display(tarif_u_st_df.head())"
   ]
  },
  {
   "cell_type": "code",
   "execution_count": null,
   "metadata": {},
   "outputs": [],
   "source": [
    "values_u_st = []\n",
    "for each in tarif_u_st_df['tarif_bez'].values:\n",
    "    values_u_st.append(each)"
   ]
  },
  {
   "cell_type": "code",
   "execution_count": null,
   "metadata": {},
   "outputs": [],
   "source": [
    "new_tarif_u_st_df = pd.DataFrame({'tarif_bez':values_u_st})"
   ]
  },
  {
   "cell_type": "code",
   "execution_count": null,
   "metadata": {},
   "outputs": [],
   "source": [
    "fig, ax = plt.subplots()\n",
    "new_tarif_u_st_df['tarif_bez'].value_counts().plot(ax=ax, kind='bar', xlabel='Tarifs', ylabel='Frequency')\n",
    "plt.show()\n",
    "# U-ST I. (MUSIKER) - 106539\n",
    "# U-ST I (MUSIKER) NL - 27919\n",
    "# U-ST (MUSIKER) - 3928"
   ]
  },
  {
   "cell_type": "code",
   "execution_count": null,
   "metadata": {},
   "outputs": [],
   "source": [
    "tarif_u_st_df.shape"
   ]
  },
  {
   "cell_type": "markdown",
   "metadata": {},
   "source": [
    "### vg_state"
   ]
  },
  {
   "cell_type": "code",
   "execution_count": null,
   "metadata": {},
   "outputs": [],
   "source": [
    "new_tarif_u_st_df['state'] = tarif_u_st_df['vg_state'].values"
   ]
  },
  {
   "cell_type": "code",
   "execution_count": null,
   "metadata": {},
   "outputs": [],
   "source": [
    "new_tarif_u_st_df['vg_raum_keywords'] = tarif_u_st_df['vg_raum_keywords'].values"
   ]
  },
  {
   "cell_type": "code",
   "execution_count": null,
   "metadata": {},
   "outputs": [],
   "source": [
    "new_tarif_u_st_df['inkasso'] = tarif_u_st_df['vg_inkasso'].values"
   ]
  },
  {
   "cell_type": "code",
   "execution_count": null,
   "metadata": {},
   "outputs": [],
   "source": [
    "new_tarif_u_st_df['veranst_segment'] = tarif_u_st_df['veranst_segment'].values"
   ]
  },
  {
   "cell_type": "code",
   "execution_count": null,
   "metadata": {},
   "outputs": [],
   "source": [
    "new_tarif_u_st_df['venue'] = [','.join(map(str, l)) for l in new_tarif_u_st_df['vg_raum_keywords']]"
   ]
  },
  {
   "cell_type": "code",
   "execution_count": null,
   "metadata": {},
   "outputs": [],
   "source": [
    "u_st_nl_df = df.loc[df['tarif_bez']=='U-ST I (MUSIKER) NL']\n",
    "u_st_nl_df.shape"
   ]
  },
  {
   "cell_type": "code",
   "execution_count": null,
   "metadata": {},
   "outputs": [],
   "source": [
    "display(new_tarif_u_st_df.head())"
   ]
  },
  {
   "cell_type": "code",
   "execution_count": null,
   "metadata": {},
   "outputs": [],
   "source": [
    "# u_st_df = new_tarif_u_st_df.loc[new_tarif_u_st_df['tarif_bez']=='U-ST (MUSIKER)'] # veranst segment ==> 1 to 2 - {>50€}\n",
    "u_st_i_df = new_tarif_u_st_df.loc[new_tarif_u_st_df['tarif_bez']=='U-ST I. (MUSIKER)'] # veranst segment ==> 0 to 2 - {>0€}\n",
    "# u_st_nl_df = new_tarif_u_st_df.loc[new_tarif_u_st_df['tarif_bez']=='U-ST I (MUSIKER) NL'] # veranst segment ==> 2 to 2 {>100€}\n",
    "\n",
    "state = ['bavaria', 'thuringia', 'baden-wuerttemberg', 'rhineland-palatinate', \n",
    "         'brandenburg', 'berlin', 'lower saxony', 'schleswig-holstein', 'hamburg', \n",
    "         'hesse', 'saarland', 'north rhine-westphalia', 'saxony-anhalt', \n",
    "         'saxony', 'mecklenburg-western pomerania', 'bremen']\n",
    "\n",
    "for each in state:\n",
    "    st = each.upper()\n",
    "    print('--------State---------: ',st)\n",
    "    specific_state_df = u_st_i_df.loc[u_st_i_df['state']==st]\n",
    "    # print('Venues available here are: ',specific_state_df.venue.value_counts())\n",
    "    # print(specific_state_df.venue.value_counts())\n",
    "    print('Total number of venues: ',len(specific_state_df.venue.values))\n",
    "\n",
    "    if st == 'SAXONY':\n",
    "        kulturzentrum_df = specific_state_df.loc[specific_state_df.venue.str.contains('kulturzentrum')==True]\n",
    "        print('The collection in kulturzentrum is :', kulturzentrum_df.inkasso)\n",
    "        print('The kulturzentrum min collection is: {}, max is:{}'.format(kulturzentrum_df.inkasso.min(), kulturzentrum_df.inkasso.max()))\n",
    "        print('The venue is: ', kulturzentrum_df.venue)\n",
    "\n",
    "        kirche_df = specific_state_df.loc[specific_state_df.venue.str.contains('kirche')==True]\n",
    "        # print('The collection in kulturzentrum is :', kirche_df.inkasso)\n",
    "        print('The kirche min collection is: {}, max is:{}'.format(kirche_df.inkasso.min(), kirche_df.inkasso.max()))\n",
    "        # print('The venue is: ', kirche_df.venue)\n",
    "\n",
    "        hotel_df = specific_state_df.loc[specific_state_df.venue.str.contains('hotel')==True]\n",
    "        # print('The collection in hotel is :', hotel_df.inkasso)\n",
    "        print('The hotel min collection is: {}, max is:{}'.format(hotel_df.inkasso.min(), hotel_df.inkasso.max()))\n",
    "\n",
    "        cafe_df = specific_state_df.loc[specific_state_df.venue.str.contains('cafe')==True]\n",
    "        # print('The collection in cafe is :', cafe_df.inkasso)\n",
    "        print('The cafe min collection is: {}, max is:{}'.format(cafe_df.inkasso.min(), cafe_df.inkasso.max()))\n",
    "\n",
    "        theater_df = specific_state_df.loc[specific_state_df.venue.str.contains('theater')==True]\n",
    "        # print('The collection in theater is :', theater_df.inkasso)\n",
    "        print('The theater min collection is: {}, max is:{}'.format(theater_df.inkasso.min(), theater_df.inkasso.max()))\n",
    "\n",
    "        club_df = specific_state_df.loc[specific_state_df.venue.str.contains('club')==True]\n",
    "        # print('The collection in club is :', club_df.inkasso)\n",
    "        print('The club min collection is: {}, max is:{}'.format(club_df.inkasso.min(), club_df.inkasso.max()))\n",
    "\n",
    "        halle_df = specific_state_df.loc[specific_state_df.venue.str.contains('halle')==True]\n",
    "        # print('The collection in halle is :', halle_df.inkasso)\n",
    "        print('The halle min collection is: {}, max is:{}'.format(halle_df.inkasso.min(), halle_df.inkasso.max()))\n",
    "\n",
    "        gaststaette_df = specific_state_df.loc[specific_state_df.venue.str.contains('gaststaette')==True]\n",
    "        # print('The collection in gaststaette is :', gaststaette_df.inkasso)\n",
    "        print('The gaststaette min collection is: {}, max is:{}'.format(gaststaette_df.inkasso.min(), gaststaette_df.inkasso.max()))\n",
    "\n",
    "        festhalle_df = specific_state_df.loc[specific_state_df.venue.str.contains('festhalle')==True]\n",
    "        # print('The collection in festhalle is :', festhalle_df.inkasso)\n",
    "        print('The festhalle min collection is: {}, max is:{}'.format(festhalle_df.inkasso.min(), festhalle_df.inkasso.max()))\n",
    "\n",
    "        festzelt_df = specific_state_df.loc[specific_state_df.venue.str.contains('festzelt')==True]\n",
    "        # print('The collection in festzelt is :', festzelt_df.inkasso)\n",
    "        print('The festzelt min collection is: {}, max is:{}'.format(festzelt_df.inkasso.min(), festzelt_df.inkasso.max()))\n",
    "\n",
    "        schloss_df = specific_state_df.loc[specific_state_df.venue.str.contains('schloss')==True]\n",
    "        # print('The collection in schloss is :', schloss_df.inkasso)\n",
    "        print('The schloss min collection is: {}, max is:{}'.format(schloss_df.inkasso.min(), schloss_df.inkasso.max()))\n",
    "\n",
    "        pub_df = specific_state_df.loc[specific_state_df.venue.str.contains('pub')==True]\n",
    "        # print('The collection in pub is :', pub_df.inkasso)\n",
    "        print('The pub min collection is: {}, max is:{}'.format(pub_df.inkasso.min(), pub_df.inkasso.max()))\n",
    "\n",
    "        stadthalle_df = specific_state_df.loc[specific_state_df.venue.str.contains('stadthalle')==True]\n",
    "        # print('The collection in stadthalle is :', stadthalle_df.inkasso)\n",
    "        print('The stadthalle min collection is: {}, max is:{}'.format(stadthalle_df.inkasso.min(), stadthalle_df.inkasso.max()))\n",
    "\n",
    "        park_df = specific_state_df.loc[specific_state_df.venue.str.contains('park')==True]\n",
    "        # print('The collection in park is :', park_df.inkasso)\n",
    "        print('The park min collection is: {}, max is:{}'.format(park_df.inkasso.min(), park_df.inkasso.max()))\n",
    "\n",
    "        gasthof_df = specific_state_df.loc[specific_state_df.venue.str.contains('gasthof')==True]\n",
    "        # print('The collection in gasthof is :', gasthof_df.inkasso)\n",
    "        print('The gasthof min collection is: {}, max is:{}'.format(gasthof_df.inkasso.min(), gasthof_df.inkasso.max()))\n",
    "\n",
    "        kabarett_df = specific_state_df.loc[specific_state_df.venue.str.contains('kabarett')==True]\n",
    "        # print('The collection in kabarett is :', kabarett_df.inkasso)\n",
    "        print('The kabarett min collection is: {}, max is:{}'.format(kabarett_df.inkasso.min(), kabarett_df.inkasso.max()))\n",
    "\n",
    "        arena_df = specific_state_df.loc[specific_state_df.venue.str.contains('arena')==True]\n",
    "        # print('The collection in arena is :', arena_df.inkasso)\n",
    "        print('The arena min collection is: {}, max is:{}'.format(arena_df.inkasso.min(), arena_df.inkasso.max()))\n",
    "\n",
    "        schlachthof_df = specific_state_df.loc[specific_state_df.venue.str.contains('schlachthof')==True]\n",
    "        # print('The collection in schlachthof is :', schlachthof_df.inkasso)\n",
    "        print('The schlachthof min collection is: {}, max is:{}'.format(schlachthof_df.inkasso.min(), schlachthof_df.inkasso.max()))\n",
    "\n",
    "        wandelhalle_df = specific_state_df.loc[specific_state_df.venue.str.contains('wandelhalle')==True]\n",
    "        # print('The collection in wandelhalle is :', wandelhalle_df.inkasso)\n",
    "        print('The wandelhalle min collection is: {}, max is:{}'.format(wandelhalle_df.inkasso.min(), wandelhalle_df.inkasso.max()))\n",
    "\n",
    "        turnhalle_df = specific_state_df.loc[specific_state_df.venue.str.contains('turnhalle')==True]\n",
    "        # print('The collection in turnhalle is :', turnhalle_df.inkasso)\n",
    "        print('The turnhalle min collection is: {}, max is:{}'.format(turnhalle_df.inkasso.min(), turnhalle_df.inkasso.max()))\n",
    "\n",
    "        buergerhaus_df = specific_state_df.loc[specific_state_df.venue.str.contains('buergerhaus')==True]\n",
    "        # print('The collection in buergerhaus is :', buergerhaus_df.inkasso)\n",
    "        print('The buergerhaus min collection is: {}, max is:{}'.format(buergerhaus_df.inkasso.min(), buergerhaus_df.inkasso.max()))\n",
    "\n",
    "        museum_df = specific_state_df.loc[specific_state_df.venue.str.contains('museum')==True]\n",
    "        # print('The collection in museum is :', museum_df.inkasso)\n",
    "        print('The museum min collection is: {}, max is:{}'.format(museum_df.inkasso.min(), museum_df.inkasso.max()))\n",
    "\n",
    "        rathaus_df = specific_state_df.loc[specific_state_df.venue.str.contains('rathaus')==True]\n",
    "        # print('The collection in rathaus is :', rathaus_df.inkasso)\n",
    "        print('The rathaus min collection is: {}, max is:{}'.format(rathaus_df.inkasso.min(), rathaus_df.inkasso.max()))\n",
    "\n",
    "        staatsbad_df = specific_state_df.loc[specific_state_df.venue.str.contains('staatsbad')==True]\n",
    "        # print('The collection in staatsbad is :', staatsbad_df.inkasso)\n",
    "        print('The staatsbad min collection is: {}, max is:{}'.format(staatsbad_df.inkasso.min(), staatsbad_df.inkasso.max()))\n",
    "\n",
    "        zelt_df = specific_state_df.loc[specific_state_df.venue.str.contains('zelt')==True]\n",
    "        # print('The collection in zelt is :', zelt_df.inkasso)\n",
    "        print('The zelt min collection is: {}, max is:{}'.format(zelt_df.inkasso.min(), zelt_df.inkasso.max()))\n",
    "\n",
    "        jazz_df = specific_state_df.loc[specific_state_df.venue.str.contains('jazz')==True]\n",
    "        # print('The collection in jazz is :', jazz_df.inkasso)\n",
    "        print('The jazz min collection is: {}, max is:{}'.format(jazz_df.inkasso.min(), jazz_df.inkasso.max()))\n",
    "\n",
    "        forum_df = specific_state_df.loc[specific_state_df.venue.str.contains('forum')==True]\n",
    "        # print('The collection in forum is :', forum_df.inkasso)\n",
    "        print('The forum min collection is: {}, max is:{}'.format(forum_df.inkasso.min(), forum_df.inkasso.max()))\n",
    "\n",
    "        gymnasium_df = specific_state_df.loc[specific_state_df.venue.str.contains('gymnasium')==True]\n",
    "        # print('The collection in gymnasium is :', gymnasium_df.inkasso)\n",
    "        print('The gymnasium min collection is: {}, max is:{}'.format(gymnasium_df.inkasso.min(), gymnasium_df.inkasso.max()))\n",
    "\n",
    "        schule_df = specific_state_df.loc[specific_state_df.venue.str.contains('schule')==True]\n",
    "        # print('The collection in schule is :', schule_df.inkasso)\n",
    "        print('The schule min collection is: {}, max is:{}'.format(schule_df.inkasso.min(), schule_df.inkasso.max()))\n",
    "\n",
    "        sporthalle_df = specific_state_df.loc[specific_state_df.venue.str.contains('sporthalle')==True]\n",
    "        # print('The collection in sporthalle is :', sporthalle_df.inkasso)\n",
    "        print('The sporthalle min collection is: {}, max is:{}'.format(sporthalle_df.inkasso.min(), sporthalle_df.inkasso.max()))\n",
    "\n",
    "    # # indices = specific_state_df.index[specific_state_df.venue.str.contains('kulturzentrum').any()==True].tolist()\n",
    "    # print('The venue kulturzentrum is present of following indices: ',specific_state_df.venue.str.contains('kulturzentrum').sum())\n",
    "    \n",
    "    # if specific_state_df.venue.str.contains('kulturzentrum').any():\n",
    "    #     print('Contains kulturzentrum--------------------------------------------------------------')\n",
    "    # zero_to_fifty_df = specific_state_df.loc[specific_state_df['veranst_segment']==0]\n",
    "    # print('The venues where inkasso is less than 50€ :',zero_to_fifty_df.vg_raum_keywords)\n",
    "    # print('The max inkasso: ', specific_state_df.inkasso.max())\n",
    "    # print('The min inkasso: ', specific_state_df.inkasso.min())\n",
    "    # print('The max segment: ', specific_state_df.veranst_segment.max())\n",
    "    # print('The min segment: ', specific_state_df.veranst_segment.min())\n",
    "    # print('------------------------')"
   ]
  },
  {
   "cell_type": "code",
   "execution_count": null,
   "metadata": {},
   "outputs": [],
   "source": [
    "# VENUES \n",
    "# place_kirche\tplace_hotel\tplace_cafe\t\n",
    "# place_theater\tplace_club\tplace_halle\t\n",
    "# place_gaststaette\tplace_festhalle\tplace_kulturzentrum\t\n",
    "# place_festzelt\tplace_schloss\tplace_pub\t\n",
    "# place_stadthalle\tplace_park\tplace_gasthof\t\n",
    "# place_kabarett\tplace_arena\tplace_schlachthof\t\n",
    "# place_wandelhalle\tplace_turnhalle\tplace_buergerhaus\t\n",
    "# place_museum\tplace_rathaus\tplace_staatsbad\t\n",
    "# place_zelt\tplace_jazz\tplace_forum\t\n",
    "# place_gymnasium\tplace_schule\tplace_sporthalle"
   ]
  },
  {
   "cell_type": "code",
   "execution_count": null,
   "metadata": {},
   "outputs": [],
   "source": [
    "venues = ['kirche', 'hotel', 'cafe',\n",
    "'theater', 'club', 'halle',\t\n",
    "'gaststaette', 'festhalle', 'kulturzentrum', \t\n",
    "'festzelt', 'schloss', 'pub', \t\n",
    "'stadthalle', 'park', 'gasthof', \n",
    "'kabarett', 'arena', 'schlachthof', \n",
    "'wandelhalle', 'turnhalle', 'buergerhaus', \n",
    "'museum', 'rathaus', 'staatsbad', \n",
    "'zelt', 'jazz', 'forum', \n",
    "'gymnasium', 'schule', 'sporthalle']"
   ]
  },
  {
   "cell_type": "code",
   "execution_count": null,
   "metadata": {},
   "outputs": [],
   "source": [
    "# tarif_u_st_df.plot(x='tarif_bez', y=['state_bavaria'], kind='line', figsize=(10,10))\n",
    "chart = sns.relplot(data=tarif_u_st_df, x='tarif_bez', y='vg_state', style='place_kirche', kind='line')"
   ]
  },
  {
   "cell_type": "code",
   "execution_count": null,
   "metadata": {},
   "outputs": [],
   "source": [
    "flat_list_vg_raum_keywords = [item for sublist in tarif_u_st_df['vg_raum_keywords'] for item in sublist]"
   ]
  },
  {
   "cell_type": "code",
   "execution_count": null,
   "metadata": {},
   "outputs": [],
   "source": [
    "tarif_u_st_in_one_state_df = tarif_u_st_df.loc[tarif_u_st_df['vg_state']=='SAXONY']"
   ]
  },
  {
   "cell_type": "code",
   "execution_count": null,
   "metadata": {},
   "outputs": [],
   "source": [
    "display(tarif_u_st_in_one_state_df.head())"
   ]
  },
  {
   "cell_type": "code",
   "execution_count": null,
   "metadata": {},
   "outputs": [],
   "source": [
    "chart = sns.countplot(data=tarif_u_st_df, x='vg_raum_wo_stopwords', hue='vg_state')"
   ]
  },
  {
   "cell_type": "markdown",
   "metadata": {},
   "source": [
    "### Get all unique values of Tarif that contains 'U-V'"
   ]
  },
  {
   "cell_type": "code",
   "execution_count": null,
   "metadata": {},
   "outputs": [],
   "source": [
    "tarif_u_v_df = df.loc[df['tarif_bez'].str.contains('U-V ')].copy()"
   ]
  },
  {
   "cell_type": "code",
   "execution_count": null,
   "metadata": {},
   "outputs": [],
   "source": [
    "tarif_u_v_df.shape"
   ]
  },
  {
   "cell_type": "code",
   "execution_count": null,
   "metadata": {},
   "outputs": [],
   "source": [
    "uv_values = []\n",
    "for each in tarif_u_v_df['tarif_bez'].values:\n",
    "    uv_values.append(each)"
   ]
  },
  {
   "cell_type": "code",
   "execution_count": null,
   "metadata": {},
   "outputs": [],
   "source": [
    "new_tarif_u_v_df = pd.DataFrame({'tarif_bez':uv_values})"
   ]
  },
  {
   "cell_type": "code",
   "execution_count": null,
   "metadata": {},
   "outputs": [],
   "source": [
    "fig, ax = plt.subplots()\n",
    "new_tarif_u_v_df['tarif_bez'].value_counts().plot(ax=ax, kind='bar', xlabel='Tarifs', ylabel='Frequency')\n",
    "plt.show()"
   ]
  },
  {
   "cell_type": "code",
   "execution_count": null,
   "metadata": {},
   "outputs": [],
   "source": []
  }
 ],
 "metadata": {
  "kernelspec": {
   "display_name": "Python 3.9.13 ('intellizenz-model-training-LRwJb8pv-py3.9')",
   "language": "python",
   "name": "python3"
  },
  "language_info": {
   "codemirror_mode": {
    "name": "ipython",
    "version": 3
   },
   "file_extension": ".py",
   "mimetype": "text/x-python",
   "name": "python",
   "nbconvert_exporter": "python",
   "pygments_lexer": "ipython3",
   "version": "3.9.13 (tags/v3.9.13:6de2ca5, May 17 2022, 16:36:42) [MSC v.1929 64 bit (AMD64)]"
  },
  "orig_nbformat": 4,
  "vscode": {
   "interpreter": {
    "hash": "17ce7e5e80fa8847c13f468233b8349b1468d0a77f7c99a15d53db37f56b8200"
   }
  }
 },
 "nbformat": 4,
 "nbformat_minor": 2
}
