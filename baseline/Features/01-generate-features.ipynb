{
 "cells": [
  {
   "cell_type": "code",
   "execution_count": null,
   "metadata": {},
   "outputs": [],
   "source": [
    "import pandas as pd\n",
    "import numpy as np\n",
    "import pickle\n",
    "from sklearn.preprocessing import LabelEncoder\n",
    "from pathlib import Path\n",
    "from tqdm.auto import tqdm\n",
    "\n",
    "tqdm.pandas()"
   ]
  },
  {
   "cell_type": "code",
   "execution_count": null,
   "metadata": {},
   "outputs": [],
   "source": [
    "df = pd.read_parquet('C:/Users/sgopalakrish/Downloads/intellizenz-model-training/data/export_features_2016_2020_v3.parquet.gzip')"
   ]
  },
  {
   "cell_type": "code",
   "execution_count": null,
   "metadata": {},
   "outputs": [],
   "source": [
    "pd.set_option('display.max_columns', None)"
   ]
  },
  {
   "cell_type": "code",
   "execution_count": null,
   "metadata": {},
   "outputs": [],
   "source": [
    "df=df.rename(columns = {'band_x':'band', 'vg_state_x':'vg_state','vg_raum_wo_stopwords':'venue'})"
   ]
  },
  {
   "attachments": {},
   "cell_type": "markdown",
   "metadata": {},
   "source": [
    "## 1. Merge the extracted features into training set and testing set"
   ]
  },
  {
   "cell_type": "code",
   "execution_count": null,
   "metadata": {},
   "outputs": [],
   "source": [
    "venue_train_stat_path = Path('C:/Users/sgopalakrish/Downloads/intellizenz-model-training/data/export_train_venue_descr_stats_2016_2020_v2.parquet.gzip')\n",
    "band_train_stat_path = Path('C:/Users/sgopalakrish/Downloads/intellizenz-model-training/data/export_train_band_descr_stats_2016_2020_v2.parquet.gzip')\n",
    "promoter_train_stat_path = Path('C:/Users/sgopalakrish/Downloads/intellizenz-model-training/data/export_train_promoter_descr_stats_2016_2020_v2.parquet.gzip')\n",
    "\n",
    "promoter_rename = {'promoter_transform_5%' : 'promoter_5%', 'promoter_transform_10%' : 'promoter_10%', \n",
    "'promoter_transform_15%' : 'promoter_15%', 'promoter_transform_20%': 'promoter_20%', \n",
    "'promoter_transform_25%': 'promoter_25%', 'promoter_transform_30%': 'promoter_30%',\n",
    "'promoter_transform_35%': 'promoter_35%', 'promoter_transform_40%': 'promoter_40%', \n",
    "'promoter_transform_45%': 'promoter_45%', 'promoter_transform_50%': 'promoter_50%', \n",
    "'promoter_transform_55%': 'promoter_55%', 'promoter_transform_60%': 'promoter_60%',\n",
    "'promoter_transform_65%': 'promoter_65%', 'promoter_transform_70%': 'promoter_70%', \n",
    "'promoter_transform_75%': 'promoter_75%', 'promoter_transform_80%': 'promoter_80%', \n",
    "'promoter_transform_85%': 'promoter_85%', 'promoter_transform_90%': 'promoter_90%',\n",
    "'promoter_transform_95%': 'promoter_95%', 'promoter_transform_count': 'promoter_count', \n",
    "'promoter_transform_max': 'promoter_max', 'promoter_transform_min': 'promoter_min', \n",
    "'promoter_transform_mean': 'promoter_mean', 'promoter_transform_std': 'promoter_std'}\n",
    "\n",
    "if venue_train_stat_path.exists() and band_train_stat_path.exists() and promoter_train_stat_path.exists():\n",
    "    df_train_venue = pd.read_parquet(venue_train_stat_path)\n",
    "    df_train_band = pd.read_parquet(band_train_stat_path)\n",
    "    df_train_promoter = pd.read_parquet(promoter_train_stat_path)\n",
    "\n",
    "    df_train_promoter=df_train_promoter.rename(columns = promoter_rename)\n",
    "\n",
    "    df_train_merged_descr_stat = df_train_venue.merge(df_train_band, how='left', on='ID').merge(df_train_promoter, how='left', on='ID')\n",
    "\n",
    "display(df_train_merged_descr_stat.head(5))\n",
    "print(df_train_merged_descr_stat.shape)"
   ]
  },
  {
   "cell_type": "code",
   "execution_count": null,
   "metadata": {},
   "outputs": [],
   "source": [
    "venue_test_stat_path = Path('C:/Users/sgopalakrish/Downloads/intellizenz-model-training/data/export_test_venue_descr_stats_2016_2020_v2.parquet.gzip')\n",
    "band_test_stat_path = Path('C:/Users/sgopalakrish/Downloads/intellizenz-model-training/data/export_test_band_descr_stats_2016_2020_v2.parquet.gzip')\n",
    "promoter_test_stat_path = Path('C:/Users/sgopalakrish/Downloads/intellizenz-model-training/data/export_test_promoter_descr_stats_2016_2020_v2.parquet.gzip')\n",
    "\n",
    "\n",
    "if venue_test_stat_path.exists() and band_test_stat_path.exists() and promoter_test_stat_path.exists():\n",
    "    df_test_venue = pd.read_parquet(venue_test_stat_path)\n",
    "    df_test_band = pd.read_parquet(band_test_stat_path)\n",
    "    df_test_promoter = pd.read_parquet(promoter_test_stat_path)\n",
    "\n",
    "    df_test_promoter=df_test_promoter.rename(columns = promoter_rename)\n",
    "\n",
    "    df_test_merged_descr_stat = df_test_venue.merge(df_test_band, how='left', on='ID').merge(df_test_promoter, how='left', on='ID')\n",
    "\n",
    "display(df_test_merged_descr_stat.head(5))\n",
    "print(df_test_merged_descr_stat.shape)"
   ]
  },
  {
   "cell_type": "code",
   "execution_count": null,
   "metadata": {},
   "outputs": [],
   "source": [
    "features = [\n",
    "    'vg_inkasso', 'veranst_segment', 'vg_state',\n",
    "    'vg_datum_year', 'vg_datum_month', 'vg_datum_day_of_week', 'vg_datum_season',\n",
    "    'tarif_bez'\n",
    "]\n",
    "\n",
    "df_features = df[features].copy()"
   ]
  },
  {
   "cell_type": "code",
   "execution_count": null,
   "metadata": {},
   "outputs": [],
   "source": [
    "le = LabelEncoder()"
   ]
  },
  {
   "cell_type": "code",
   "execution_count": null,
   "metadata": {},
   "outputs": [],
   "source": [
    "df_train = df_train_merged_descr_stat.merge(df_features, how='left', on='ID')\n",
    "\n",
    "df_train['vg_state'] = le.fit_transform(df_train['vg_state'])\n",
    "\n",
    "print(df_train.shape)\n",
    "display(df_train.head(5))"
   ]
  },
  {
   "cell_type": "code",
   "execution_count": null,
   "metadata": {},
   "outputs": [],
   "source": [
    "df_test = df_test_merged_descr_stat.merge(df_features, how='left', on='ID')\n",
    "\n",
    "df_test['vg_state'] = le.fit_transform(df_test['vg_state'])\n",
    "\n",
    "print(df_test.shape)\n",
    "display(df_test.head(5))"
   ]
  },
  {
   "cell_type": "code",
   "execution_count": null,
   "metadata": {},
   "outputs": [],
   "source": [
    "print(df_test.columns.tolist())"
   ]
  },
  {
   "attachments": {},
   "cell_type": "markdown",
   "metadata": {},
   "source": [
    "## Replace NaN values with 0"
   ]
  },
  {
   "cell_type": "code",
   "execution_count": null,
   "metadata": {},
   "outputs": [],
   "source": [
    "df_train = df_train.fillna(0)\n",
    "df_test = df_test.fillna(0)"
   ]
  },
  {
   "cell_type": "code",
   "execution_count": null,
   "metadata": {},
   "outputs": [],
   "source": [
    "# Check is there are any NaN values in any of the columns\n",
    "df_train.isna().any()"
   ]
  },
  {
   "cell_type": "code",
   "execution_count": null,
   "metadata": {},
   "outputs": [],
   "source": [
    "# Check is there are any NaN values in any of the columns\n",
    "df_test.isna().any()"
   ]
  },
  {
   "attachments": {},
   "cell_type": "markdown",
   "metadata": {},
   "source": [
    "## Export training and testing dataframe, each containing 80 features"
   ]
  },
  {
   "cell_type": "code",
   "execution_count": null,
   "metadata": {},
   "outputs": [],
   "source": [
    "df_train.to_parquet('C:/Users/sgopalakrish/Downloads/intellizenz-model-training/data/export_training_features_2016_2020_v2.parquet.gzip',compression='gzip')"
   ]
  },
  {
   "cell_type": "code",
   "execution_count": null,
   "metadata": {},
   "outputs": [],
   "source": [
    "df_test.to_parquet('C:/Users/sgopalakrish/Downloads/intellizenz-model-training/data/export_testing_features_2016_2020_v2.parquet.gzip',compression='gzip')"
   ]
  },
  {
   "attachments": {},
   "cell_type": "markdown",
   "metadata": {},
   "source": [
    "# ======================================================="
   ]
  },
  {
   "attachments": {},
   "cell_type": "markdown",
   "metadata": {},
   "source": [
    "# 2. Merge all leave-one-out-target-encoding features"
   ]
  },
  {
   "cell_type": "code",
   "execution_count": null,
   "metadata": {},
   "outputs": [],
   "source": [
    "venue_stat_path = Path('C:/Users/sgopalakrish/Downloads/intellizenz-model-training/data/export_venue_descr_stats_2016_2020_v3.parquet.gzip')\n",
    "band_stat_path = Path('C:/Users/sgopalakrish/Downloads/intellizenz-model-training/data/export_band_descr_stats_2016_2020_v3.parquet.gzip')\n",
    "promoter_stat_path = Path('C:/Users/sgopalakrish/Downloads/intellizenz-model-training/data/export_promoter_descr_stats_2016_2020_v3.parquet.gzip')\n",
    "\n",
    "\n",
    "if venue_stat_path.exists() and band_stat_path.exists() and promoter_stat_path.exists():\n",
    "    df_venue = pd.read_parquet(venue_stat_path)\n",
    "    df_band = pd.read_parquet(band_stat_path)\n",
    "    df_promoter = pd.read_parquet(promoter_stat_path)\n",
    "\n",
    "    df_merged_descr_stat = df_venue.merge(df_band, how='left', on='ID').merge(df_promoter, how='left', on='ID')\n",
    "\n",
    "display(df_merged_descr_stat.head(5))\n",
    "print(df_merged_descr_stat.shape)"
   ]
  },
  {
   "cell_type": "code",
   "execution_count": null,
   "metadata": {},
   "outputs": [],
   "source": [
    "features = [\n",
    "    'vg_inkasso', 'veranst_segment', 'vg_state',\n",
    "    'vg_datum_year', 'vg_datum_month', 'vg_datum_day_of_week', 'vg_datum_season',\n",
    "    'tarif_bez'\n",
    "]\n",
    "\n",
    "df_features = df[features].copy()"
   ]
  },
  {
   "cell_type": "code",
   "execution_count": null,
   "metadata": {},
   "outputs": [],
   "source": [
    "le = LabelEncoder()"
   ]
  },
  {
   "cell_type": "code",
   "execution_count": null,
   "metadata": {},
   "outputs": [],
   "source": [
    "df_merged = df_merged_descr_stat.merge(df_features, how='left', on='ID')\n",
    "\n",
    "df_merged['vg_state'] = le.fit_transform(df_merged['vg_state'])\n",
    "# df_merged['tarif_bez'] = le.fit_transform(df_merged['tarif_bez'])\n",
    "\n",
    "# all_tarifs_le = [e for e in df_merged['tarif_bez']]\n",
    "\n",
    "# tarif_classes=le.inverse_transform(all_tarifs_le).tolist()\n",
    "# index_of_tarif = tarif_classes.index('U-ST I (MUSIKER) NL')\n",
    "# print('The index is: ',index_of_tarif)\n",
    "# print('The label encoded value is: ',all_tarifs_le[index_of_tarif])\n",
    "\n",
    "print(df_merged.shape)\n",
    "display(df_merged.head(5))"
   ]
  },
  {
   "cell_type": "code",
   "execution_count": null,
   "metadata": {},
   "outputs": [],
   "source": [
    "print(df_merged.columns.tolist())\n",
    "print(len(df_merged.columns.tolist()))"
   ]
  },
  {
   "attachments": {},
   "cell_type": "markdown",
   "metadata": {},
   "source": [
    "## Replace NaN values with 0"
   ]
  },
  {
   "cell_type": "code",
   "execution_count": null,
   "metadata": {},
   "outputs": [],
   "source": [
    "df_merged = df_merged.fillna(0)"
   ]
  },
  {
   "attachments": {},
   "cell_type": "markdown",
   "metadata": {},
   "source": [
    "## Check for NaN values in all columns"
   ]
  },
  {
   "cell_type": "code",
   "execution_count": null,
   "metadata": {},
   "outputs": [],
   "source": [
    "# Check is there are any NaN values in any of the columns\n",
    "df_merged.isna().any()"
   ]
  },
  {
   "attachments": {},
   "cell_type": "markdown",
   "metadata": {},
   "source": [
    "## Export the merged dataframe features, each containing 80 features"
   ]
  },
  {
   "cell_type": "code",
   "execution_count": null,
   "metadata": {},
   "outputs": [],
   "source": [
    "# without tarif_bez column\n",
    "df_merged.to_parquet('C:/Users/sgopalakrish/Downloads/intellizenz-model-training/data/export_features_2016_2020_v4.parquet.gzip',compression='gzip')"
   ]
  },
  {
   "cell_type": "code",
   "execution_count": null,
   "metadata": {},
   "outputs": [],
   "source": [
    "# with tarif_bez column\n",
    "df_merged.to_parquet('C:/Users/sgopalakrish/Downloads/intellizenz-model-training/data/export_features_2016_2020_v5.parquet.gzip',compression='gzip')"
   ]
  },
  {
   "cell_type": "code",
   "execution_count": null,
   "metadata": {},
   "outputs": [],
   "source": []
  }
 ],
 "metadata": {
  "kernelspec": {
   "display_name": "intellizenz-model-training-LRwJb8pv-py3.9",
   "language": "python",
   "name": "python3"
  },
  "language_info": {
   "codemirror_mode": {
    "name": "ipython",
    "version": 3
   },
   "file_extension": ".py",
   "mimetype": "text/x-python",
   "name": "python",
   "nbconvert_exporter": "python",
   "pygments_lexer": "ipython3",
   "version": "3.9.13 (tags/v3.9.13:6de2ca5, May 17 2022, 16:36:42) [MSC v.1929 64 bit (AMD64)]"
  },
  "orig_nbformat": 4,
  "vscode": {
   "interpreter": {
    "hash": "17ce7e5e80fa8847c13f468233b8349b1468d0a77f7c99a15d53db37f56b8200"
   }
  }
 },
 "nbformat": 4,
 "nbformat_minor": 2
}
