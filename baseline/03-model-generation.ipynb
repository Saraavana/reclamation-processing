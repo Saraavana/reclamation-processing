{
 "cells": [
  {
   "cell_type": "code",
   "execution_count": null,
   "id": "1277b2ee-f4b0-4915-9d83-25e1f44ed200",
   "metadata": {},
   "outputs": [],
   "source": [
    "from sklearn.model_selection import train_test_split\n",
    "from sklearn.svm import SVC\n",
    "from sklearn.metrics import classification_report, confusion_matrix, accuracy_score\n",
    "import xgboost\n",
    "import pandas as pd\n",
    "import pickle\n",
    "from sklearn.preprocessing import LabelEncoder"
   ]
  },
  {
   "cell_type": "code",
   "execution_count": null,
   "id": "09ab75bf-27a8-45a3-914b-5db74408eb5c",
   "metadata": {},
   "outputs": [],
   "source": [
    "cd /home/jupyter/"
   ]
  },
  {
   "cell_type": "code",
   "execution_count": null,
   "id": "8c030bab-a043-4cbb-a358-d6e90bd268bb",
   "metadata": {},
   "outputs": [],
   "source": [
    "df_train = pd.read_parquet('intellizenz-model-training/data/export_training_features_2016_2020.parquet.gzip')\n",
    "df_test = pd.read_parquet('intellizenz-model-training/data/export_testing_features_2016_2020.parquet.gzip')"
   ]
  },
  {
   "cell_type": "markdown",
   "id": "d5471501-c2c9-4eba-ad72-12f2066e65b2",
   "metadata": {},
   "source": [
    "Build a XGBoost model to classify event segments"
   ]
  },
  {
   "cell_type": "code",
   "execution_count": null,
   "id": "8704f5d1-c4ab-4c07-bea7-7f65bfa27376",
   "metadata": {},
   "outputs": [],
   "source": [
    "X_train = df_train.loc[:,~df_train.columns.isin(['veranst_segment','vg_inkasso'])] # 152 features\n",
    "y_train = df_train['veranst_segment']\n",
    "\n",
    "X_test = df_test.loc[:,~df_test.columns.isin(['veranst_segment','vg_inkasso'])] # 152 features\n",
    "y_test = df_test['veranst_segment']"
   ]
  },
  {
   "cell_type": "code",
   "execution_count": null,
   "id": "1eb8702d-a6e7-4ee1-8122-fce03e2bfc88",
   "metadata": {},
   "outputs": [],
   "source": [
    "le = LabelEncoder()\n",
    "y_train = le.fit_transform(y_train)\n",
    "y_test = le.fit_transform(y_test)"
   ]
  },
  {
   "cell_type": "code",
   "execution_count": null,
   "id": "48c27c35-0b14-4c95-8842-77d3d53b2d71",
   "metadata": {},
   "outputs": [],
   "source": [
    "xgboost_classifier = xgboost.XGBClassifier(n_estimators=500, max_depth=7, use_label_encoder=False, objective='binary:logistic',eval_metric = 'error')"
   ]
  },
  {
   "cell_type": "code",
   "execution_count": null,
   "id": "8cd36d00-ab2e-4ce2-b3a3-a7b612c49a61",
   "metadata": {},
   "outputs": [],
   "source": [
    "# xgboost_classifier = xgboost.XGBClassifier()\n",
    "xgboost_classifier.fit(X_train, y_train)"
   ]
  },
  {
   "cell_type": "code",
   "execution_count": null,
   "id": "c38eec75-fb31-405a-8754-cf378f6db2ad",
   "metadata": {},
   "outputs": [],
   "source": [
    "# save the model to disk\n",
    "xbg_filename = 'intellizenz-model-training/models/2022-10-06/xgb_classifier_model_with_inkasso_time_series.sav'\n",
    "pickle.dump(xgboost_classifier, open(xbg_filename, 'wb'))"
   ]
  },
  {
   "cell_type": "code",
   "execution_count": null,
   "id": "76acd274-4056-4c58-a770-92af27aba3c4",
   "metadata": {},
   "outputs": [],
   "source": [
    "y_pred = xgboost_classifier.predict(X_test)"
   ]
  },
  {
   "cell_type": "markdown",
   "id": "458d4672-4022-46f1-9513-b3ac19ea1bc5",
   "metadata": {},
   "source": [
    "Evaluation"
   ]
  },
  {
   "cell_type": "code",
   "execution_count": null,
   "id": "97c2f666-fb28-49e0-8a91-fabe92c15969",
   "metadata": {},
   "outputs": [],
   "source": [
    "print(confusion_matrix(y_test,y_pred))\n",
    "print(classification_report(y_test,y_pred))\n",
    "\n",
    "xgboost_accuracy = accuracy_score(y_test, y_pred, normalize=False)\n",
    "print(xgboost_accuracy)"
   ]
  },
  {
   "cell_type": "code",
   "execution_count": null,
   "id": "6de1f359-0fa5-4ed5-b129-097d47957d26",
   "metadata": {},
   "outputs": [],
   "source": []
  }
 ],
 "metadata": {
  "environment": {
   "kernel": "python3",
   "name": "common-cu110.m95",
   "type": "gcloud",
   "uri": "gcr.io/deeplearning-platform-release/base-cu110:m95"
  },
  "kernelspec": {
   "display_name": "Python 3",
   "language": "python",
   "name": "python3"
  },
  "language_info": {
   "codemirror_mode": {
    "name": "ipython",
    "version": 3
   },
   "file_extension": ".py",
   "mimetype": "text/x-python",
   "name": "python",
   "nbconvert_exporter": "python",
   "pygments_lexer": "ipython3",
   "version": "3.7.12"
  }
 },
 "nbformat": 4,
 "nbformat_minor": 5
}
