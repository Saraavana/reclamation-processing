{
 "cells": [
  {
   "cell_type": "code",
   "execution_count": 1,
   "id": "spanish-backup",
   "metadata": {
    "ExecuteTime": {
     "end_time": "2021-08-24T19:45:49.917969Z",
     "start_time": "2021-08-24T19:45:49.900139Z"
    }
   },
   "outputs": [],
   "source": [
    "# Enable autoreload\n",
    "%load_ext autoreload\n",
    "%autoreload 2"
   ]
  },
  {
   "cell_type": "code",
   "execution_count": 2,
   "id": "dirty-replica",
   "metadata": {
    "ExecuteTime": {
     "end_time": "2021-08-24T19:45:57.166373Z",
     "start_time": "2021-08-24T19:45:50.822432Z"
    }
   },
   "outputs": [],
   "source": [
    "import pandas as pd\n",
    "from tqdm.auto import tqdm\n",
    "import pickle\n",
    "from pathlib import Path\n",
    "import numpy as np\n",
    "import pgeocode\n",
    "import datetime\n",
    "import re\n",
    "from datetime import datetime\n",
    "\n",
    "pd.set_option('max_columns',None)"
   ]
  },
  {
   "cell_type": "markdown",
   "id": "interim-outside",
   "metadata": {},
   "source": [
    "# Import Raw Data\n",
    "\n",
    "Import Raw Data from Excel files"
   ]
  },
  {
   "cell_type": "code",
   "execution_count": 3,
   "id": "infectious-adolescent",
   "metadata": {
    "ExecuteTime": {
     "end_time": "2021-08-24T19:46:34.034915Z",
     "start_time": "2021-08-24T19:46:03.807185Z"
    }
   },
   "outputs": [
    {
     "data": {
      "text/html": [
       "<div>\n",
       "<style scoped>\n",
       "    .dataframe tbody tr th:only-of-type {\n",
       "        vertical-align: middle;\n",
       "    }\n",
       "\n",
       "    .dataframe tbody tr th {\n",
       "        vertical-align: top;\n",
       "    }\n",
       "\n",
       "    .dataframe thead th {\n",
       "        text-align: right;\n",
       "    }\n",
       "</style>\n",
       "<table border=\"1\" class=\"dataframe\">\n",
       "  <thead>\n",
       "    <tr style=\"text-align: right;\">\n",
       "      <th></th>\n",
       "      <th>ID</th>\n",
       "      <th>IMP_ID</th>\n",
       "      <th>GJ</th>\n",
       "      <th>IMPORT</th>\n",
       "      <th>MUFO_REFERENZ_NR</th>\n",
       "      <th>BARCODE_NR</th>\n",
       "      <th>VERANST_SEGMENT</th>\n",
       "      <th>REKLA_JN</th>\n",
       "      <th>VG_DATUM_VON</th>\n",
       "      <th>VG_ORT</th>\n",
       "      <th>VG_RAUM</th>\n",
       "      <th>NUTZFALL_VON_DT</th>\n",
       "      <th>NUTZFALL_RAUM</th>\n",
       "      <th>MUSIKLEITER_NAME</th>\n",
       "      <th>KAPELLE_NAME</th>\n",
       "      <th>TARIF_NR</th>\n",
       "      <th>TARIF_BEZ</th>\n",
       "      <th>NUTZFALL_NR</th>\n",
       "      <th>VG_INKASSO</th>\n",
       "      <th>INKASSO_NETTO</th>\n",
       "      <th>INKASSO_BRUTTO</th>\n",
       "      <th>VERANST_GESCHAEFTSZEICHEN</th>\n",
       "      <th>VERANST_NAME</th>\n",
       "      <th>VERANST_STRASSE</th>\n",
       "      <th>VERANST_PLZ</th>\n",
       "      <th>VERANST_ORT</th>\n",
       "      <th>NUTZLIZNEHM_GESCHAEFTSZEICHEN</th>\n",
       "      <th>NUTZLIZNEHM_NAME</th>\n",
       "      <th>NUTZLIZNEHM_VORNAME</th>\n",
       "      <th>NUTZLIZNEHM_STRASSE</th>\n",
       "      <th>NUTZLIZNEHM_PLZ</th>\n",
       "      <th>NUTZLIZNEHM_ORT</th>\n",
       "    </tr>\n",
       "  </thead>\n",
       "  <tbody>\n",
       "    <tr>\n",
       "      <th>0</th>\n",
       "      <td>10381586</td>\n",
       "      <td>24643</td>\n",
       "      <td>2016</td>\n",
       "      <td>ABRE U INKA 2016</td>\n",
       "      <td>NaN</td>\n",
       "      <td>5207017125</td>\n",
       "      <td>3.0</td>\n",
       "      <td>NONRekla</td>\n",
       "      <td>20161111</td>\n",
       "      <td>VALLEY</td>\n",
       "      <td>WERKSTAETTE BRUNNER</td>\n",
       "      <td>20161111.0</td>\n",
       "      <td>WERKSTAETTE BRUNNER</td>\n",
       "      <td>NaN</td>\n",
       "      <td>NaN</td>\n",
       "      <td>1201</td>\n",
       "      <td>U-V II. 1(+II 2)</td>\n",
       "      <td>26818225</td>\n",
       "      <td>69.15</td>\n",
       "      <td>NaN</td>\n",
       "      <td>NaN</td>\n",
       "      <td>922236900</td>\n",
       "      <td>BLASKAPELLE UNTERDARCHING E.V.</td>\n",
       "      <td>HAFNERSTR. 8</td>\n",
       "      <td>83626</td>\n",
       "      <td>VALLEY</td>\n",
       "      <td>1510423300</td>\n",
       "      <td>BAYERISCHER BLASMUSIKVERBAND</td>\n",
       "      <td>NaN</td>\n",
       "      <td>SANDSTR. 31</td>\n",
       "      <td>80335</td>\n",
       "      <td>MUENCHEN</td>\n",
       "    </tr>\n",
       "    <tr>\n",
       "      <th>1</th>\n",
       "      <td>10438107</td>\n",
       "      <td>24643</td>\n",
       "      <td>2016</td>\n",
       "      <td>ABRE U INKA 2016</td>\n",
       "      <td>NaN</td>\n",
       "      <td>5206736823</td>\n",
       "      <td>3.0</td>\n",
       "      <td>NONRekla</td>\n",
       "      <td>20161030</td>\n",
       "      <td>HAGEN</td>\n",
       "      <td>CIRCUS VOYAGE</td>\n",
       "      <td>20161030.0</td>\n",
       "      <td>CIRCUS VOYAGE</td>\n",
       "      <td>NaN</td>\n",
       "      <td>NaN</td>\n",
       "      <td>519</td>\n",
       "      <td>VK I 3 ZIRKUSUNTERNEHMEN (MUSIKER)</td>\n",
       "      <td>27309955</td>\n",
       "      <td>50.72</td>\n",
       "      <td>NaN</td>\n",
       "      <td>NaN</td>\n",
       "      <td>375311300</td>\n",
       "      <td>ALOIS SPINDLER</td>\n",
       "      <td>GOESSELNHOF 7</td>\n",
       "      <td>58093</td>\n",
       "      <td>HAGEN</td>\n",
       "      <td>375311300</td>\n",
       "      <td>SPINDLER</td>\n",
       "      <td>ALOIS</td>\n",
       "      <td>GOESSELNHOF 7</td>\n",
       "      <td>58093</td>\n",
       "      <td>HAGEN</td>\n",
       "    </tr>\n",
       "    <tr>\n",
       "      <th>2</th>\n",
       "      <td>10010478</td>\n",
       "      <td>24643</td>\n",
       "      <td>2016</td>\n",
       "      <td>ABRE U INKA 2016</td>\n",
       "      <td>NaN</td>\n",
       "      <td>5082429877</td>\n",
       "      <td>2.0</td>\n",
       "      <td>NONRekla</td>\n",
       "      <td>20140626</td>\n",
       "      <td>OSTSEEBAD HERINGSDORF</td>\n",
       "      <td>USEDOMER BRAUHAUS/OSTSEERESIDENZ HERINGSDORF</td>\n",
       "      <td>20140626.0</td>\n",
       "      <td>USEDOMER BRAUHAUS/OSTSEERESIDENZ HERINGSDORF</td>\n",
       "      <td>NaN</td>\n",
       "      <td>NaN</td>\n",
       "      <td>1087</td>\n",
       "      <td>U-V II. 1 (+II 2)</td>\n",
       "      <td>21292233</td>\n",
       "      <td>46.28</td>\n",
       "      <td>NaN</td>\n",
       "      <td>NaN</td>\n",
       "      <td>232362000</td>\n",
       "      <td>OSTSEERESIDENZ SEEBAD-HERINGSD. GMBH &amp; CO.INVE...</td>\n",
       "      <td>SEESTR. 41</td>\n",
       "      <td>17424</td>\n",
       "      <td>OSTSEEBAD HERINGSDORF</td>\n",
       "      <td>232362000</td>\n",
       "      <td>OSTSEERESIDENZ SEEBAD-HERINGSD. GMBH &amp; CO.INVE...</td>\n",
       "      <td>NaN</td>\n",
       "      <td>SEESTR. 41</td>\n",
       "      <td>17424</td>\n",
       "      <td>OSTSEEBAD HERINGSDORF</td>\n",
       "    </tr>\n",
       "    <tr>\n",
       "      <th>3</th>\n",
       "      <td>10056951</td>\n",
       "      <td>24643</td>\n",
       "      <td>2016</td>\n",
       "      <td>ABRE U INKA 2016</td>\n",
       "      <td>NaN</td>\n",
       "      <td>5085935333</td>\n",
       "      <td>2.0</td>\n",
       "      <td>NONRekla</td>\n",
       "      <td>20150425</td>\n",
       "      <td>MAULBRONN</td>\n",
       "      <td>SAENGERTREFF GV EINTRACHT SCHMIE</td>\n",
       "      <td>20150425.0</td>\n",
       "      <td>SAENGERTREFF GV EINTRACHT SCHMIE</td>\n",
       "      <td>NaN</td>\n",
       "      <td>NaN</td>\n",
       "      <td>892</td>\n",
       "      <td>U-K (MUSIKER)</td>\n",
       "      <td>21740273</td>\n",
       "      <td>45.00</td>\n",
       "      <td>NaN</td>\n",
       "      <td>NaN</td>\n",
       "      <td>1136208900</td>\n",
       "      <td>GESANGVEREIN EINTRACHT SCHMIE 1891 E.V.</td>\n",
       "      <td>LIENZINGER STR. 17</td>\n",
       "      <td>75433</td>\n",
       "      <td>MAULBRONN</td>\n",
       "      <td>1510290100</td>\n",
       "      <td>DEUTSCHER CHORVERBAND</td>\n",
       "      <td>NaN</td>\n",
       "      <td>ALTE JAKOBSTR. 149</td>\n",
       "      <td>10969</td>\n",
       "      <td>BERLIN</td>\n",
       "    </tr>\n",
       "    <tr>\n",
       "      <th>4</th>\n",
       "      <td>10414299</td>\n",
       "      <td>24643</td>\n",
       "      <td>2016</td>\n",
       "      <td>ABRE U INKA 2016</td>\n",
       "      <td>NaN</td>\n",
       "      <td>6704114029</td>\n",
       "      <td>3.0</td>\n",
       "      <td>NONRekla</td>\n",
       "      <td>20151010</td>\n",
       "      <td>WEILMUENSTER</td>\n",
       "      <td>DGH LANGENBACH</td>\n",
       "      <td>20151010.0</td>\n",
       "      <td>DGH LANGENBACH</td>\n",
       "      <td>NaN</td>\n",
       "      <td>NaN</td>\n",
       "      <td>1201</td>\n",
       "      <td>U-V II. 1(+II 2)</td>\n",
       "      <td>22926191</td>\n",
       "      <td>78.82</td>\n",
       "      <td>NaN</td>\n",
       "      <td>NaN</td>\n",
       "      <td>1211507100</td>\n",
       "      <td>KYFFHAEUSER KAMERADSCHAFT LANGENBACH .</td>\n",
       "      <td>LANGGASSE 47</td>\n",
       "      <td>35789</td>\n",
       "      <td>WEILMUENSTER</td>\n",
       "      <td>1211507100</td>\n",
       "      <td>KYFFHAEUSER KAMERADSCHAFT LANGENBACH</td>\n",
       "      <td>NaN</td>\n",
       "      <td>LANGGASSE 47</td>\n",
       "      <td>35789</td>\n",
       "      <td>WEILMUENSTER</td>\n",
       "    </tr>\n",
       "  </tbody>\n",
       "</table>\n",
       "</div>"
      ],
      "text/plain": [
       "         ID  IMP_ID    GJ            IMPORT MUFO_REFERENZ_NR  BARCODE_NR  \\\n",
       "0  10381586   24643  2016  ABRE U INKA 2016              NaN  5207017125   \n",
       "1  10438107   24643  2016  ABRE U INKA 2016              NaN  5206736823   \n",
       "2  10010478   24643  2016  ABRE U INKA 2016              NaN  5082429877   \n",
       "3  10056951   24643  2016  ABRE U INKA 2016              NaN  5085935333   \n",
       "4  10414299   24643  2016  ABRE U INKA 2016              NaN  6704114029   \n",
       "\n",
       "   VERANST_SEGMENT  REKLA_JN  VG_DATUM_VON                 VG_ORT  \\\n",
       "0              3.0  NONRekla      20161111                 VALLEY   \n",
       "1              3.0  NONRekla      20161030                  HAGEN   \n",
       "2              2.0  NONRekla      20140626  OSTSEEBAD HERINGSDORF   \n",
       "3              2.0  NONRekla      20150425              MAULBRONN   \n",
       "4              3.0  NONRekla      20151010           WEILMUENSTER   \n",
       "\n",
       "                                        VG_RAUM  NUTZFALL_VON_DT  \\\n",
       "0                           WERKSTAETTE BRUNNER       20161111.0   \n",
       "1                                 CIRCUS VOYAGE       20161030.0   \n",
       "2  USEDOMER BRAUHAUS/OSTSEERESIDENZ HERINGSDORF       20140626.0   \n",
       "3              SAENGERTREFF GV EINTRACHT SCHMIE       20150425.0   \n",
       "4                                DGH LANGENBACH       20151010.0   \n",
       "\n",
       "                                  NUTZFALL_RAUM MUSIKLEITER_NAME KAPELLE_NAME  \\\n",
       "0                           WERKSTAETTE BRUNNER              NaN          NaN   \n",
       "1                                 CIRCUS VOYAGE              NaN          NaN   \n",
       "2  USEDOMER BRAUHAUS/OSTSEERESIDENZ HERINGSDORF              NaN          NaN   \n",
       "3              SAENGERTREFF GV EINTRACHT SCHMIE              NaN          NaN   \n",
       "4                                DGH LANGENBACH              NaN          NaN   \n",
       "\n",
       "   TARIF_NR                           TARIF_BEZ  NUTZFALL_NR  VG_INKASSO  \\\n",
       "0      1201                    U-V II. 1(+II 2)     26818225       69.15   \n",
       "1       519  VK I 3 ZIRKUSUNTERNEHMEN (MUSIKER)     27309955       50.72   \n",
       "2      1087                   U-V II. 1 (+II 2)     21292233       46.28   \n",
       "3       892                       U-K (MUSIKER)     21740273       45.00   \n",
       "4      1201                    U-V II. 1(+II 2)     22926191       78.82   \n",
       "\n",
       "   INKASSO_NETTO  INKASSO_BRUTTO  VERANST_GESCHAEFTSZEICHEN  \\\n",
       "0            NaN             NaN                  922236900   \n",
       "1            NaN             NaN                  375311300   \n",
       "2            NaN             NaN                  232362000   \n",
       "3            NaN             NaN                 1136208900   \n",
       "4            NaN             NaN                 1211507100   \n",
       "\n",
       "                                        VERANST_NAME     VERANST_STRASSE  \\\n",
       "0                     BLASKAPELLE UNTERDARCHING E.V.        HAFNERSTR. 8   \n",
       "1                                     ALOIS SPINDLER       GOESSELNHOF 7   \n",
       "2  OSTSEERESIDENZ SEEBAD-HERINGSD. GMBH & CO.INVE...          SEESTR. 41   \n",
       "3            GESANGVEREIN EINTRACHT SCHMIE 1891 E.V.  LIENZINGER STR. 17   \n",
       "4             KYFFHAEUSER KAMERADSCHAFT LANGENBACH .        LANGGASSE 47   \n",
       "\n",
       "  VERANST_PLZ            VERANST_ORT  NUTZLIZNEHM_GESCHAEFTSZEICHEN  \\\n",
       "0       83626                 VALLEY                     1510423300   \n",
       "1       58093                  HAGEN                      375311300   \n",
       "2       17424  OSTSEEBAD HERINGSDORF                      232362000   \n",
       "3       75433              MAULBRONN                     1510290100   \n",
       "4       35789           WEILMUENSTER                     1211507100   \n",
       "\n",
       "                                    NUTZLIZNEHM_NAME NUTZLIZNEHM_VORNAME  \\\n",
       "0                       BAYERISCHER BLASMUSIKVERBAND                 NaN   \n",
       "1                                           SPINDLER               ALOIS   \n",
       "2  OSTSEERESIDENZ SEEBAD-HERINGSD. GMBH & CO.INVE...                 NaN   \n",
       "3                              DEUTSCHER CHORVERBAND                 NaN   \n",
       "4               KYFFHAEUSER KAMERADSCHAFT LANGENBACH                 NaN   \n",
       "\n",
       "  NUTZLIZNEHM_STRASSE NUTZLIZNEHM_PLZ        NUTZLIZNEHM_ORT  \n",
       "0         SANDSTR. 31           80335               MUENCHEN  \n",
       "1       GOESSELNHOF 7           58093                  HAGEN  \n",
       "2          SEESTR. 41           17424  OSTSEEBAD HERINGSDORF  \n",
       "3  ALTE JAKOBSTR. 149           10969                 BERLIN  \n",
       "4        LANGGASSE 47           35789           WEILMUENSTER  "
      ]
     },
     "metadata": {},
     "output_type": "display_data"
    }
   ],
   "source": [
    "raw_path = Path('./data/export_raw_rech_2016_2020.pkl.bz2')\n",
    "\n",
    "if raw_path.exists():\n",
    "    df_raw = pd.read_pickle(raw_path)\n",
    "else:\n",
    "    files = [\n",
    "        './data/raw/export_GJ2016.xlsx', \n",
    "        './data/raw/export_GJ2017.xlsx', \n",
    "        './data/raw/export_GJ2018.xlsx',\n",
    "        './data/raw/export_GJ2019.xlsx',\n",
    "        './data/raw/export_GJ2020.xlsx'\n",
    "    ]\n",
    "\n",
    "    df_list = []\n",
    "\n",
    "    for file in tqdm(files):\n",
    "        print('Importing file \"{}\"'.format(file))\n",
    "        df_tmp = pd.read_excel(file)\n",
    "        df_list.append(df_tmp)\n",
    "    \n",
    "    df_raw = pd.concat(df_list)\n",
    "    df_raw.to_pickle('./data/export_raw_rech_2016_2020.pkl.bz2')\n",
    "\n",
    "display(df_raw.head())"
   ]
  },
  {
   "cell_type": "code",
   "execution_count": 4,
   "id": "interpreted-bosnia",
   "metadata": {
    "ExecuteTime": {
     "end_time": "2021-08-24T19:46:37.075138Z",
     "start_time": "2021-08-24T19:46:34.098946Z"
    }
   },
   "outputs": [
    {
     "data": {
      "text/plain": [
       "ID                                     0\n",
       "IMP_ID                                 0\n",
       "GJ                                     0\n",
       "IMPORT                                 0\n",
       "MUFO_REFERENZ_NR                 3727979\n",
       "BARCODE_NR                             0\n",
       "VERANST_SEGMENT                   314926\n",
       "REKLA_JN                               0\n",
       "VG_DATUM_VON                           0\n",
       "VG_ORT                                10\n",
       "VG_RAUM                              856\n",
       "NUTZFALL_VON_DT                      713\n",
       "NUTZFALL_RAUM                     315781\n",
       "MUSIKLEITER_NAME                 2422606\n",
       "KAPELLE_NAME                     1720166\n",
       "TARIF_NR                               0\n",
       "TARIF_BEZ                              0\n",
       "NUTZFALL_NR                            0\n",
       "VG_INKASSO                             0\n",
       "INKASSO_NETTO                    2690836\n",
       "INKASSO_BRUTTO                   2690836\n",
       "VERANST_GESCHAEFTSZEICHEN              0\n",
       "VERANST_NAME                         372\n",
       "VERANST_STRASSE                    24033\n",
       "VERANST_PLZ                         2145\n",
       "VERANST_ORT                         1588\n",
       "NUTZLIZNEHM_GESCHAEFTSZEICHEN          0\n",
       "NUTZLIZNEHM_NAME                 1188052\n",
       "NUTZLIZNEHM_VORNAME              3428059\n",
       "NUTZLIZNEHM_STRASSE              1204214\n",
       "NUTZLIZNEHM_PLZ                  1188543\n",
       "NUTZLIZNEHM_ORT                  1188052\n",
       "dtype: int64"
      ]
     },
     "metadata": {},
     "output_type": "display_data"
    }
   ],
   "source": [
    "df = df_raw.copy()\n",
    "display(df_raw.isna().sum())"
   ]
  },
  {
   "cell_type": "markdown",
   "id": "varied-series",
   "metadata": {},
   "source": [
    "# Clean Raw Data"
   ]
  },
  {
   "cell_type": "markdown",
   "id": "c0eec50d",
   "metadata": {},
   "source": [
    "## Remove Segment 1, 13 and entries older than 2014"
   ]
  },
  {
   "cell_type": "code",
   "execution_count": 5,
   "id": "bd183965",
   "metadata": {
    "ExecuteTime": {
     "end_time": "2021-08-24T19:46:42.589317Z",
     "start_time": "2021-08-24T19:46:37.186079Z"
    }
   },
   "outputs": [
    {
     "data": {
      "text/plain": [
       "0.8385066937830151"
      ]
     },
     "metadata": {},
     "output_type": "display_data"
    }
   ],
   "source": [
    "# VERANST_SEGMENT is between 2 and 12\n",
    "df=df[(~df['VERANST_SEGMENT'].isnull()) & (~df['VERANST_SEGMENT'].isin([1,13]))]\n",
    "\n",
    "#VG_DATUM_VON - convert to datetime and drop entries with year < 2014\n",
    "  \n",
    "df['VG_DATUM_VON'] = pd.to_datetime(df['VG_DATUM_VON'], format='%Y%m%d')\n",
    "df=df[df['VG_DATUM_VON']>'2014-01-01']\n",
    "\n",
    "display(df.shape[0]/df_raw.shape[0])"
   ]
  },
  {
   "cell_type": "code",
   "execution_count": 6,
   "id": "43535aa8",
   "metadata": {
    "ExecuteTime": {
     "end_time": "2021-08-24T19:46:43.582471Z",
     "start_time": "2021-08-24T19:46:42.696321Z"
    }
   },
   "outputs": [
    {
     "data": {
      "text/html": [
       "<div>\n",
       "<style scoped>\n",
       "    .dataframe tbody tr th:only-of-type {\n",
       "        vertical-align: middle;\n",
       "    }\n",
       "\n",
       "    .dataframe tbody tr th {\n",
       "        vertical-align: top;\n",
       "    }\n",
       "\n",
       "    .dataframe thead th {\n",
       "        text-align: right;\n",
       "    }\n",
       "</style>\n",
       "<table border=\"1\" class=\"dataframe\">\n",
       "  <thead>\n",
       "    <tr style=\"text-align: right;\">\n",
       "      <th></th>\n",
       "      <th>ID</th>\n",
       "      <th>IMP_ID</th>\n",
       "      <th>GJ</th>\n",
       "      <th>IMPORT</th>\n",
       "      <th>MUFO_REFERENZ_NR</th>\n",
       "      <th>BARCODE_NR</th>\n",
       "      <th>VERANST_SEGMENT</th>\n",
       "      <th>REKLA_JN</th>\n",
       "      <th>VG_DATUM_VON</th>\n",
       "      <th>VG_ORT</th>\n",
       "      <th>VG_RAUM</th>\n",
       "      <th>NUTZFALL_VON_DT</th>\n",
       "      <th>NUTZFALL_RAUM</th>\n",
       "      <th>MUSIKLEITER_NAME</th>\n",
       "      <th>KAPELLE_NAME</th>\n",
       "      <th>TARIF_NR</th>\n",
       "      <th>TARIF_BEZ</th>\n",
       "      <th>NUTZFALL_NR</th>\n",
       "      <th>VG_INKASSO</th>\n",
       "      <th>INKASSO_NETTO</th>\n",
       "      <th>INKASSO_BRUTTO</th>\n",
       "      <th>VERANST_GESCHAEFTSZEICHEN</th>\n",
       "      <th>VERANST_NAME</th>\n",
       "      <th>VERANST_STRASSE</th>\n",
       "      <th>VERANST_PLZ</th>\n",
       "      <th>VERANST_ORT</th>\n",
       "      <th>NUTZLIZNEHM_GESCHAEFTSZEICHEN</th>\n",
       "      <th>NUTZLIZNEHM_NAME</th>\n",
       "      <th>NUTZLIZNEHM_VORNAME</th>\n",
       "      <th>NUTZLIZNEHM_STRASSE</th>\n",
       "      <th>NUTZLIZNEHM_PLZ</th>\n",
       "      <th>NUTZLIZNEHM_ORT</th>\n",
       "    </tr>\n",
       "  </thead>\n",
       "  <tbody>\n",
       "  </tbody>\n",
       "</table>\n",
       "</div>"
      ],
      "text/plain": [
       "Empty DataFrame\n",
       "Columns: [ID, IMP_ID, GJ, IMPORT, MUFO_REFERENZ_NR, BARCODE_NR, VERANST_SEGMENT, REKLA_JN, VG_DATUM_VON, VG_ORT, VG_RAUM, NUTZFALL_VON_DT, NUTZFALL_RAUM, MUSIKLEITER_NAME, KAPELLE_NAME, TARIF_NR, TARIF_BEZ, NUTZFALL_NR, VG_INKASSO, INKASSO_NETTO, INKASSO_BRUTTO, VERANST_GESCHAEFTSZEICHEN, VERANST_NAME, VERANST_STRASSE, VERANST_PLZ, VERANST_ORT, NUTZLIZNEHM_GESCHAEFTSZEICHEN, NUTZLIZNEHM_NAME, NUTZLIZNEHM_VORNAME, NUTZLIZNEHM_STRASSE, NUTZLIZNEHM_PLZ, NUTZLIZNEHM_ORT]\n",
       "Index: []"
      ]
     },
     "execution_count": 6,
     "metadata": {},
     "output_type": "execute_result"
    }
   ],
   "source": [
    "df = df.reset_index(drop=True)\n",
    "df[df.index.duplicated()]"
   ]
  },
  {
   "cell_type": "markdown",
   "id": "matched-investor",
   "metadata": {},
   "source": [
    "## Text cleansing function"
   ]
  },
  {
   "cell_type": "code",
   "execution_count": 7,
   "id": "77a83cc3",
   "metadata": {
    "ExecuteTime": {
     "end_time": "2021-08-24T19:46:48.548218Z",
     "start_time": "2021-08-24T19:46:47.421700Z"
    }
   },
   "outputs": [
    {
     "name": "stdout",
     "output_type": "stream",
     "text": [
      "Number of unique TARIF_BEZ before transformation 97\n",
      "Number of unique TARIF_BEZ after transformation 92\n"
     ]
    }
   ],
   "source": [
    "def clean_tarif(df_row):\n",
    "    result = str(df_row)\n",
    "    if result == \"U-V III.1\" :\n",
    "        result = \"U-V III. 1\"\n",
    "    elif result == \"U-V III.3\" :\n",
    "        result = \"U-V III. 3\"\n",
    "    elif result == \"U-V II 1(+II 2A) KARAOKE\" :\n",
    "        result = \"U-V II. 1 (+II 2A) KARAOKE\"\n",
    "    elif result == \"U-V II. 1(+II 2)\" :\n",
    "        result = \"U-V II. 1 (+II 2)\"\n",
    "    elif result == \"U-ST I (MUSIKER)\" :\n",
    "        result = \"U-ST I. (MUSIKER)\"\n",
    "    \n",
    "    return result\n",
    "\n",
    "print(\"Number of unique TARIF_BEZ before transformation {}\".format(len(df.TARIF_BEZ.unique()))) \n",
    "df['TARIF_BEZ'] = df['TARIF_BEZ'].apply(clean_tarif)\n",
    "print(\"Number of unique TARIF_BEZ after transformation {}\".format(len(df.TARIF_BEZ.unique()))) \n"
   ]
  },
  {
   "cell_type": "code",
   "execution_count": 8,
   "id": "pleasant-finish",
   "metadata": {
    "ExecuteTime": {
     "end_time": "2021-08-24T19:47:00.454256Z",
     "start_time": "2021-08-24T19:46:50.387887Z"
    }
   },
   "outputs": [
    {
     "data": {
      "application/vnd.jupyter.widget-view+json": {
       "model_id": "1cace843fa3346889ca68cdea81b656c",
       "version_major": 2,
       "version_minor": 0
      },
      "text/plain": [
       "  0%|          | 0/7 [00:00<?, ?it/s]"
      ]
     },
     "metadata": {},
     "output_type": "display_data"
    },
    {
     "data": {
      "text/plain": [
       "VG_RAUM             0.000045\n",
       "MUSIKLEITER_NAME    0.613268\n",
       "KAPELLE_NAME        0.407166\n",
       "VERANST_NAME        0.000116\n",
       "VERANST_STRASSE     0.006167\n",
       "VERANST_ORT         0.000189\n",
       "VERANST_PLZ         0.000354\n",
       "dtype: float64"
      ]
     },
     "metadata": {},
     "output_type": "display_data"
    }
   ],
   "source": [
    "def clean_text(df_row):\n",
    "    \"\"\"\n",
    "    Cleans text data\n",
    "        * removes leading and trailing special characters\n",
    "        * replaces empty string, (KEINE ANGABE) and single \" with np.Nan\n",
    "\n",
    "    Parameters\n",
    "    ----------\n",
    "    df_row : Series element\n",
    "\n",
    "    Returns\n",
    "    -------\n",
    "    string\n",
    "    \"\"\"\n",
    "    result = str(df_row)\n",
    "    result = result.strip(\" .*:/-,+&?;\")\n",
    "    if result in ['nan','','(KEINE ANGABE)', '\"']:\n",
    "        return np.nan\n",
    "\n",
    "    return result\n",
    "\n",
    "\n",
    "text_columns = [\n",
    "    \"VG_RAUM\", \"MUSIKLEITER_NAME\", \"KAPELLE_NAME\", \"VERANST_NAME\", \"VERANST_STRASSE\", \"VERANST_ORT\",\"VERANST_PLZ\"\n",
    "]\n",
    "\n",
    "for col in tqdm(text_columns):\n",
    "    df[col] = df[col].apply(clean_text)\n",
    "\n",
    "display((df[text_columns] != df[text_columns]).mean(axis=0))\n",
    "\n",
    "#with pd.option_context(\"display.max_rows\", 100):\n",
    "#    display(df[col].value_counts()[:100])"
   ]
  },
  {
   "cell_type": "markdown",
   "id": "entire-adult",
   "metadata": {},
   "source": [
    "## Replace Postcode with City Name"
   ]
  },
  {
   "cell_type": "code",
   "execution_count": 9,
   "id": "intimate-malpractice",
   "metadata": {
    "ExecuteTime": {
     "end_time": "2021-08-24T19:47:03.914323Z",
     "start_time": "2021-08-24T19:47:00.559075Z"
    }
   },
   "outputs": [
    {
     "name": "stdout",
     "output_type": "stream",
     "text": [
      "LINDAU (BODENSEE)\n",
      "LINDAU (BODENSEE)\n",
      "WOLTERSDORF\n",
      "BAD SCHOENBORN\n",
      "LINDAU (BODENSEE)\n",
      "BAD SCHOENBORN\n",
      "LINDAU (BODENSEE)\n",
      "LINDAU (BODENSEE)\n"
     ]
    },
    {
     "data": {
      "text/plain": [
       "VG_ORT    0.000063\n",
       "dtype: float64"
      ]
     },
     "metadata": {},
     "output_type": "display_data"
    }
   ],
   "source": [
    "plz_matcher = re.compile('^([0-9]{5})$')\n",
    "nomi = pgeocode.Nominatim('de')\n",
    "\n",
    "\n",
    "# clean VG_ORT\n",
    "def clean_place(df_row):\n",
    "    \"\"\"\n",
    "    Replace\n",
    "\n",
    "    Parameters\n",
    "    ----------\n",
    "    df_row : Series element\n",
    "\n",
    "    Returns\n",
    "    -------\n",
    "    string\n",
    "    \"\"\"\n",
    "    result = str(df_row)\n",
    "    if plz_matcher.match(result):\n",
    "        geo_result = nomi.query_postal_code(result)\n",
    "        result = geo_result.place_name.split(',')[0]\n",
    "        result = result.replace('ß', 'SS')\n",
    "        result = result.upper()\n",
    "        result = result.replace('Ä', 'AE')\n",
    "        result = result.replace('Ö', 'OE')\n",
    "        result = result.replace('Ü', 'UE')\n",
    "        print(result)\n",
    "\n",
    "    return result\n",
    "\n",
    "\n",
    "df['VG_ORT'] = df['VG_ORT'].apply(clean_text).fillna('').apply(clean_place).apply(clean_text)\n",
    "\n",
    "display((df[['VG_ORT']] != df[['VG_ORT']]).mean(axis=0))"
   ]
  },
  {
   "cell_type": "markdown",
   "id": "hearing-outreach",
   "metadata": {},
   "source": [
    "# Prepare for Feature Generation"
   ]
  },
  {
   "cell_type": "markdown",
   "id": "otherwise-wells",
   "metadata": {},
   "source": [
    "## Create LOCATION column"
   ]
  },
  {
   "cell_type": "code",
   "execution_count": 10,
   "id": "charged-oliver",
   "metadata": {
    "ExecuteTime": {
     "end_time": "2021-08-24T19:47:08.346325Z",
     "start_time": "2021-08-24T19:47:04.013785Z"
    }
   },
   "outputs": [
    {
     "data": {
      "text/plain": [
       "0                           VALLEY WERKSTAETTE BRUNNER\n",
       "1                                  HAGEN CIRCUS VOYAGE\n",
       "2    OSTSEEBAD HERINGSDORF USEDOMER BRAUHAUS/OSTSEE...\n",
       "3           MAULBRONN SAENGERTREFF GV EINTRACHT SCHMIE\n",
       "4                          WEILMUENSTER DGH LANGENBACH\n",
       "5             PRIEN A. CHIEMSEE FERIENHAUS AM ROSENECK\n",
       "6                                 KONSTANZ KULTURLADEN\n",
       "7                OBERHACHING BUERGERSAAL BEIM FORSTNER\n",
       "8                    KELSTERBACH IM FREIEN KELSTERBACH\n",
       "9              ROTTENBURG AM NECKAR TURNHALLE SEEBRONN\n",
       "Name: LOCATION, dtype: object"
      ]
     },
     "metadata": {},
     "output_type": "display_data"
    },
    {
     "data": {
      "text/plain": [
       "VG_ORT      204\n",
       "VG_RAUM     144\n",
       "LOCATION    142\n",
       "dtype: int64"
      ]
     },
     "metadata": {},
     "output_type": "display_data"
    }
   ],
   "source": [
    "df['LOCATION']=df['VG_ORT'].fillna('')+' ' + df['VG_RAUM'].fillna('')\n",
    "df['LOCATION']=df['LOCATION'].apply(clean_text)\n",
    "\n",
    "display(df['LOCATION'].head(10))\n",
    "display(df[['VG_ORT','VG_RAUM','LOCATION']].isna().sum())\n"
   ]
  },
  {
   "cell_type": "markdown",
   "id": "israeli-poverty",
   "metadata": {},
   "source": [
    "## Create BAND column"
   ]
  },
  {
   "cell_type": "code",
   "execution_count": 11,
   "id": "wooden-spanish",
   "metadata": {
    "ExecuteTime": {
     "end_time": "2021-08-24T19:47:11.044926Z",
     "start_time": "2021-08-24T19:47:08.487922Z"
    }
   },
   "outputs": [
    {
     "data": {
      "text/plain": [
       "445        MV BLEICHHEIM EV\n",
       "446    MUSIKGRUPPE HOH'WALD\n",
       "447              MARGA BACH\n",
       "448                   HANAK\n",
       "449        VINCENT&FERNANDO\n",
       "450          JOERG SOLLBACH\n",
       "451               SCHMUTZKI\n",
       "452          GIZMO VARILLAS\n",
       "453    BOMBSHELLS DEAFEN GO\n",
       "454          MARGITA PEYROT\n",
       "Name: BAND, dtype: object"
      ]
     },
     "metadata": {},
     "output_type": "display_data"
    },
    {
     "data": {
      "text/plain": [
       "KAPELLE_NAME    1308080\n",
       "BAND            1283443\n",
       "dtype: int64"
      ]
     },
     "metadata": {},
     "output_type": "display_data"
    }
   ],
   "source": [
    "#Create BAND Column\n",
    "df['BAND']=df['KAPELLE_NAME'].fillna(df['MUSIKLEITER_NAME'])\n",
    "\n",
    "display(df['BAND'].dropna().head(10))\n",
    "display(df[['KAPELLE_NAME','BAND']].isna().sum())"
   ]
  },
  {
   "cell_type": "markdown",
   "id": "dedicated-carolina",
   "metadata": {},
   "source": [
    "## Create PROMOTER column"
   ]
  },
  {
   "cell_type": "code",
   "execution_count": 12,
   "id": "systematic-wrestling",
   "metadata": {
    "ExecuteTime": {
     "end_time": "2021-08-24T19:47:16.895360Z",
     "start_time": "2021-08-24T19:47:11.944272Z"
    }
   },
   "outputs": [
    {
     "data": {
      "text/plain": [
       "0                  BLASKAPELLE UNTERDARCHING E.V 83626\n",
       "1                                 ALOIS SPINDLER 58093\n",
       "2    OSTSEERESIDENZ SEEBAD-HERINGSD. GMBH & CO.INVE...\n",
       "3         GESANGVEREIN EINTRACHT SCHMIE 1891 E.V 75433\n",
       "4           KYFFHAEUSER KAMERADSCHAFT LANGENBACH 35789\n",
       "5                                  MARTIN HIRNER 80469\n",
       "6                       KULTURLADEN KONSTANZ E.V 78467\n",
       "7                      SARRE MUSIKPROJEKTE GGMBH 82064\n",
       "8                      KANU CLUB KELSTERBACH E.V 65451\n",
       "9                 SCHUETZENGESELLSCHAFT SEEBRONN 72108\n",
       "Name: PROMOTER, dtype: object"
      ]
     },
     "metadata": {},
     "output_type": "display_data"
    },
    {
     "data": {
      "text/plain": [
       "PROMOTER         118\n",
       "VERANST_NAME     373\n",
       "VERANST_PLZ     1137\n",
       "dtype: int64"
      ]
     },
     "metadata": {},
     "output_type": "display_data"
    }
   ],
   "source": [
    "#Create PROMOTER Column\n",
    "df['PROMOTER']=df['VERANST_NAME'].fillna('')+' ' + df['VERANST_PLZ'].fillna('')\n",
    "df['PROMOTER']=df['PROMOTER'].apply(clean_text)\n",
    "\n",
    "display(df['PROMOTER'].head(10))\n",
    "display(df[['PROMOTER','VERANST_NAME','VERANST_PLZ']].isna().sum())\n"
   ]
  },
  {
   "cell_type": "markdown",
   "id": "remarkable-uniform",
   "metadata": {},
   "source": [
    "# Clean VG_INKASSO"
   ]
  },
  {
   "cell_type": "code",
   "execution_count": 13,
   "id": "multiple-nightmare",
   "metadata": {
    "ExecuteTime": {
     "end_time": "2021-08-24T19:47:24.153512Z",
     "start_time": "2021-08-24T19:47:24.073913Z"
    }
   },
   "outputs": [
    {
     "data": {
      "text/plain": [
       "'NaN values in df_raw : 0, NaN values in df: 4'"
      ]
     },
     "metadata": {},
     "output_type": "display_data"
    }
   ],
   "source": [
    "df.loc[df.VG_INKASSO == 0, 'VG_INKASSO'] = np.nan\n",
    "\n",
    "#display(df.loc[df.VG_INKASSO.isnull()])\n",
    "display('NaN values in df_raw : {}, NaN values in df: {}'.format(df_raw['VG_INKASSO'].isna().sum(), df['VG_INKASSO'].isna().sum()))"
   ]
  },
  {
   "cell_type": "markdown",
   "id": "forty-campaign",
   "metadata": {},
   "source": [
    "# Drop Duplicates"
   ]
  },
  {
   "cell_type": "code",
   "execution_count": 14,
   "id": "distributed-connectivity",
   "metadata": {
    "ExecuteTime": {
     "end_time": "2021-08-24T19:47:45.088275Z",
     "start_time": "2021-08-24T19:47:27.505556Z"
    }
   },
   "outputs": [],
   "source": [
    "df = df.dropna(subset=['VG_INKASSO'])\n",
    "df = df.drop_duplicates(subset=['ID']).set_index('ID', verify_integrity=True).sort_index()\n",
    "\n",
    "#convert certain columns to 'category'\n",
    "\n",
    "df['IMPORT'] = df['IMPORT'].astype('category')\n",
    "df['REKLA_JN'] = df['REKLA_JN'].astype('category')\n",
    "df['TARIF_BEZ'] = df['TARIF_BEZ'].astype('category')\n",
    "df['VG_ORT'] = df['VG_ORT'].astype('category')\n",
    "df['VG_RAUM'] = df['VG_RAUM'].astype('category')"
   ]
  },
  {
   "cell_type": "code",
   "execution_count": 15,
   "id": "strategic-external",
   "metadata": {
    "ExecuteTime": {
     "end_time": "2021-08-24T19:47:49.237277Z",
     "start_time": "2021-08-24T19:47:45.713563Z"
    }
   },
   "outputs": [
    {
     "data": {
      "text/plain": [
       "0.8226364785008891"
      ]
     },
     "metadata": {},
     "output_type": "display_data"
    },
    {
     "name": "stdout",
     "output_type": "stream",
     "text": [
      "IMP_ID                                 0\n",
      "GJ                                     0\n",
      "IMPORT                                 0\n",
      "MUFO_REFERENZ_NR                 3068567\n",
      "BARCODE_NR                             0\n",
      "VERANST_SEGMENT                        0\n",
      "REKLA_JN                               0\n",
      "VG_DATUM_VON                           0\n",
      "VG_ORT                               204\n",
      "VG_RAUM                              144\n",
      "NUTZFALL_VON_DT                        0\n",
      "NUTZFALL_RAUM                        142\n",
      "MUSIKLEITER_NAME                 1939352\n",
      "KAPELLE_NAME                     1297000\n",
      "TARIF_NR                               0\n",
      "TARIF_BEZ                              0\n",
      "NUTZFALL_NR                            0\n",
      "VG_INKASSO                             0\n",
      "INKASSO_NETTO                    2240608\n",
      "INKASSO_BRUTTO                   2240608\n",
      "VERANST_GESCHAEFTSZEICHEN              0\n",
      "VERANST_NAME                         373\n",
      "VERANST_STRASSE                    19437\n",
      "VERANST_PLZ                         1106\n",
      "VERANST_ORT                          607\n",
      "NUTZLIZNEHM_GESCHAEFTSZEICHEN          0\n",
      "NUTZLIZNEHM_NAME                  964450\n",
      "NUTZLIZNEHM_VORNAME              2808216\n",
      "NUTZLIZNEHM_STRASSE               978078\n",
      "NUTZLIZNEHM_PLZ                   964892\n",
      "NUTZLIZNEHM_ORT                   964450\n",
      "LOCATION                             142\n",
      "BAND                             1272606\n",
      "PROMOTER                             118\n",
      "dtype: int64\n"
     ]
    }
   ],
   "source": [
    "display(df.shape[0]/df_raw.shape[0])\n",
    "print(df.isna().sum())"
   ]
  },
  {
   "cell_type": "markdown",
   "id": "described-walnut",
   "metadata": {},
   "source": [
    "# Store Prepared Data\n",
    "\n",
    "Store prepared data in a pickle file for further usage"
   ]
  },
  {
   "cell_type": "code",
   "execution_count": 16,
   "id": "packed-illinois",
   "metadata": {
    "ExecuteTime": {
     "end_time": "2021-08-24T19:49:36.470771Z",
     "start_time": "2021-08-24T19:47:51.092468Z"
    }
   },
   "outputs": [],
   "source": [
    "df.to_pickle('./data/export_rech_2016_2020.pkl.bz2', protocol=4)"
   ]
  },
  {
   "cell_type": "code",
   "execution_count": null,
   "id": "better-owner",
   "metadata": {},
   "outputs": [],
   "source": []
  }
 ],
 "metadata": {
  "kernelspec": {
   "display_name": "Python 3",
   "language": "python",
   "name": "python3"
  },
  "language_info": {
   "codemirror_mode": {
    "name": "ipython",
    "version": 3
   },
   "file_extension": ".py",
   "mimetype": "text/x-python",
   "name": "python",
   "nbconvert_exporter": "python",
   "pygments_lexer": "ipython3",
   "version": "3.8.3"
  },
  "toc": {
   "base_numbering": 1,
   "nav_menu": {},
   "number_sections": true,
   "sideBar": true,
   "skip_h1_title": false,
   "title_cell": "Table of Contents",
   "title_sidebar": "Contents",
   "toc_cell": false,
   "toc_position": {},
   "toc_section_display": true,
   "toc_window_display": false
  },
  "varInspector": {
   "cols": {
    "lenName": 16,
    "lenType": 16,
    "lenVar": 40
   },
   "kernels_config": {
    "python": {
     "delete_cmd_postfix": "",
     "delete_cmd_prefix": "del ",
     "library": "var_list.py",
     "varRefreshCmd": "print(var_dic_list())"
    },
    "r": {
     "delete_cmd_postfix": ") ",
     "delete_cmd_prefix": "rm(",
     "library": "var_list.r",
     "varRefreshCmd": "cat(var_dic_list()) "
    }
   },
   "types_to_exclude": [
    "module",
    "function",
    "builtin_function_or_method",
    "instance",
    "_Feature"
   ],
   "window_display": false
  }
 },
 "nbformat": 4,
 "nbformat_minor": 5
}
