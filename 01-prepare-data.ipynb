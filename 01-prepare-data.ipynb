{
 "cells": [
  {
   "cell_type": "code",
   "execution_count": null,
   "id": "spanish-backup",
   "metadata": {
    "ExecuteTime": {
     "end_time": "2021-08-24T19:45:49.917969Z",
     "start_time": "2021-08-24T19:45:49.900139Z"
    }
   },
   "outputs": [],
   "source": [
    "# Enable autoreload\n",
    "%load_ext autoreload\n",
    "%autoreload 2"
   ]
  },
  {
   "cell_type": "code",
   "execution_count": null,
   "id": "dirty-replica",
   "metadata": {
    "ExecuteTime": {
     "end_time": "2021-08-24T19:45:57.166373Z",
     "start_time": "2021-08-24T19:45:50.822432Z"
    }
   },
   "outputs": [],
   "source": [
    "import pandas as pd\n",
    "from tqdm.auto import tqdm\n",
    "import pickle\n",
    "from pathlib import Path\n",
    "import numpy as np\n",
    "import pgeocode\n",
    "import datetime\n",
    "import re\n",
    "from datetime import datetime\n",
    "\n",
    "pd.set_option('max_columns',None)"
   ]
  },
  {
   "cell_type": "markdown",
   "id": "interim-outside",
   "metadata": {},
   "source": [
    "# Import Raw Data\n",
    "\n",
    "Import Raw Data from Excel files"
   ]
  },
  {
   "cell_type": "code",
   "execution_count": null,
   "id": "infectious-adolescent",
   "metadata": {
    "ExecuteTime": {
     "end_time": "2021-08-24T19:46:34.034915Z",
     "start_time": "2021-08-24T19:46:03.807185Z"
    }
   },
   "outputs": [],
   "source": [
    "raw_path = Path('./data/export_raw_rech_2016_2020.pkl.bz2')\n",
    "\n",
    "if raw_path.exists():\n",
    "    df_raw = pd.read_pickle(raw_path)\n",
    "else:\n",
    "    files = [\n",
    "        './data/raw/export_GJ2016.xlsx', \n",
    "        './data/raw/export_GJ2017.xlsx', \n",
    "        './data/raw/export_GJ2018.xlsx',\n",
    "        './data/raw/export_GJ2019.xlsx',\n",
    "        './data/raw/export_GJ2020.xlsx'\n",
    "    ]\n",
    "\n",
    "    df_list = []\n",
    "\n",
    "    for file in tqdm(files):\n",
    "        print('Importing file \"{}\"'.format(file))\n",
    "        df_tmp = pd.read_excel(file)\n",
    "        df_list.append(df_tmp)\n",
    "    \n",
    "    df_raw = pd.concat(df_list)\n",
    "    df_raw.to_pickle('./data/export_raw_rech_2016_2020.pkl.bz2')\n",
    "\n",
    "display(df_raw.head())"
   ]
  },
  {
   "cell_type": "code",
   "execution_count": null,
   "id": "interpreted-bosnia",
   "metadata": {
    "ExecuteTime": {
     "end_time": "2021-08-24T19:46:37.075138Z",
     "start_time": "2021-08-24T19:46:34.098946Z"
    }
   },
   "outputs": [],
   "source": [
    "df = df_raw.copy()\n",
    "display(df_raw.isna().sum())"
   ]
  },
  {
   "cell_type": "markdown",
   "id": "varied-series",
   "metadata": {},
   "source": [
    "# Clean Raw Data"
   ]
  },
  {
   "cell_type": "markdown",
   "id": "c0eec50d",
   "metadata": {},
   "source": [
    "## Remove Segment 1, 13 and entries older than 2014"
   ]
  },
  {
   "cell_type": "code",
   "execution_count": null,
   "id": "bd183965",
   "metadata": {
    "ExecuteTime": {
     "end_time": "2021-08-24T19:46:42.589317Z",
     "start_time": "2021-08-24T19:46:37.186079Z"
    }
   },
   "outputs": [],
   "source": [
    "# VERANST_SEGMENT is between 2 and 12\n",
    "df=df[(~df['VERANST_SEGMENT'].isnull()) & (~df['VERANST_SEGMENT'].isin([1,13]))]\n",
    "\n",
    "#VG_DATUM_VON - convert to datetime and drop entries with year < 2014\n",
    "  \n",
    "df['VG_DATUM_VON'] = pd.to_datetime(df['VG_DATUM_VON'], format='%Y%m%d')\n",
    "df=df[df['VG_DATUM_VON']>'2014-01-01']\n",
    "\n",
    "display(df.shape[0]/df_raw.shape[0])"
   ]
  },
  {
   "cell_type": "code",
   "execution_count": null,
   "id": "43535aa8",
   "metadata": {
    "ExecuteTime": {
     "end_time": "2021-08-24T19:46:43.582471Z",
     "start_time": "2021-08-24T19:46:42.696321Z"
    }
   },
   "outputs": [],
   "source": [
    "df = df.reset_index(drop=True)\n",
    "df[df.index.duplicated()]"
   ]
  },
  {
   "cell_type": "markdown",
   "id": "matched-investor",
   "metadata": {},
   "source": [
    "## Text cleansing function"
   ]
  },
  {
   "cell_type": "code",
   "execution_count": null,
   "id": "77a83cc3",
   "metadata": {
    "ExecuteTime": {
     "end_time": "2021-08-24T19:46:48.548218Z",
     "start_time": "2021-08-24T19:46:47.421700Z"
    }
   },
   "outputs": [],
   "source": [
    "def clean_tarif(df_row):\n",
    "    result = str(df_row)\n",
    "    if result == \"U-V III.1\" :\n",
    "        result = \"U-V III. 1\"\n",
    "    elif result == \"U-V III.3\" :\n",
    "        result = \"U-V III. 3\"\n",
    "    elif result == \"U-V II 1(+II 2A) KARAOKE\" :\n",
    "        result = \"U-V II. 1 (+II 2A) KARAOKE\"\n",
    "    elif result == \"U-V II. 1(+II 2)\" :\n",
    "        result = \"U-V II. 1 (+II 2)\"\n",
    "    elif result == \"U-ST I (MUSIKER)\" :\n",
    "        result = \"U-ST I. (MUSIKER)\"\n",
    "    \n",
    "    return result\n",
    "\n",
    "print(\"Number of unique TARIF_BEZ before transformation {}\".format(len(df.TARIF_BEZ.unique()))) \n",
    "df['TARIF_BEZ'] = df['TARIF_BEZ'].apply(clean_tarif)\n",
    "print(\"Number of unique TARIF_BEZ after transformation {}\".format(len(df.TARIF_BEZ.unique()))) \n"
   ]
  },
  {
   "cell_type": "code",
   "execution_count": null,
   "id": "pleasant-finish",
   "metadata": {
    "ExecuteTime": {
     "end_time": "2021-08-24T19:47:00.454256Z",
     "start_time": "2021-08-24T19:46:50.387887Z"
    }
   },
   "outputs": [],
   "source": [
    "def clean_text(df_row):\n",
    "    \"\"\"\n",
    "    Cleans text data\n",
    "        * removes leading and trailing special characters\n",
    "        * replaces empty string, (KEINE ANGABE) and single \" with np.Nan\n",
    "\n",
    "    Parameters\n",
    "    ----------\n",
    "    df_row : Series element\n",
    "\n",
    "    Returns\n",
    "    -------\n",
    "    string\n",
    "    \"\"\"\n",
    "    result = str(df_row)\n",
    "    result = result.strip(\" .*:/-,+&?;\")\n",
    "    if result in ['nan','','(KEINE ANGABE)', '\"']:\n",
    "        return np.nan\n",
    "\n",
    "    return result\n",
    "\n",
    "\n",
    "text_columns = [\n",
    "    \"VG_RAUM\", \"MUSIKLEITER_NAME\", \"KAPELLE_NAME\", \"VERANST_NAME\", \"VERANST_STRASSE\", \"VERANST_ORT\",\"VERANST_PLZ\"\n",
    "]\n",
    "\n",
    "for col in tqdm(text_columns):\n",
    "    df[col] = df[col].apply(clean_text)\n",
    "\n",
    "display((df[text_columns] != df[text_columns]).mean(axis=0))\n",
    "\n",
    "#with pd.option_context(\"display.max_rows\", 100):\n",
    "#    display(df[col].value_counts()[:100])"
   ]
  },
  {
   "cell_type": "markdown",
   "id": "entire-adult",
   "metadata": {},
   "source": [
    "## Replace Postcode with City Name"
   ]
  },
  {
   "cell_type": "code",
   "execution_count": null,
   "id": "intimate-malpractice",
   "metadata": {
    "ExecuteTime": {
     "end_time": "2021-08-24T19:47:03.914323Z",
     "start_time": "2021-08-24T19:47:00.559075Z"
    }
   },
   "outputs": [],
   "source": [
    "plz_matcher = re.compile('^([0-9]{5})$')\n",
    "nomi = pgeocode.Nominatim('de')\n",
    "\n",
    "\n",
    "# clean VG_ORT\n",
    "def clean_place(df_row):\n",
    "    \"\"\"\n",
    "    Replace\n",
    "\n",
    "    Parameters\n",
    "    ----------\n",
    "    df_row : Series element\n",
    "\n",
    "    Returns\n",
    "    -------\n",
    "    string\n",
    "    \"\"\"\n",
    "    result = str(df_row)\n",
    "    if plz_matcher.match(result):\n",
    "        geo_result = nomi.query_postal_code(result)\n",
    "        result = geo_result.place_name.split(',')[0]\n",
    "        result = result.replace('ß', 'SS')\n",
    "        result = result.upper()\n",
    "        result = result.replace('Ä', 'AE')\n",
    "        result = result.replace('Ö', 'OE')\n",
    "        result = result.replace('Ü', 'UE')\n",
    "        print(result)\n",
    "\n",
    "    return result\n",
    "\n",
    "\n",
    "df['VG_ORT'] = df['VG_ORT'].apply(clean_text).fillna('').apply(clean_place).apply(clean_text)\n",
    "\n",
    "display((df[['VG_ORT']] != df[['VG_ORT']]).mean(axis=0))"
   ]
  },
  {
   "cell_type": "markdown",
   "id": "hearing-outreach",
   "metadata": {},
   "source": [
    "# Prepare for Feature Generation"
   ]
  },
  {
   "cell_type": "markdown",
   "id": "otherwise-wells",
   "metadata": {},
   "source": [
    "## Create LOCATION column"
   ]
  },
  {
   "cell_type": "code",
   "execution_count": null,
   "id": "charged-oliver",
   "metadata": {
    "ExecuteTime": {
     "end_time": "2021-08-24T19:47:08.346325Z",
     "start_time": "2021-08-24T19:47:04.013785Z"
    }
   },
   "outputs": [],
   "source": [
    "df['LOCATION']=df['VG_ORT'].fillna('')+' ' + df['VG_RAUM'].fillna('')\n",
    "df['LOCATION']=df['LOCATION'].apply(clean_text)\n",
    "\n",
    "display(df['LOCATION'].head(10))\n",
    "display(df[['VG_ORT','VG_RAUM','LOCATION']].isna().sum())\n"
   ]
  },
  {
   "cell_type": "markdown",
   "id": "israeli-poverty",
   "metadata": {},
   "source": [
    "## Create BAND column"
   ]
  },
  {
   "cell_type": "code",
   "execution_count": null,
   "id": "wooden-spanish",
   "metadata": {
    "ExecuteTime": {
     "end_time": "2021-08-24T19:47:11.044926Z",
     "start_time": "2021-08-24T19:47:08.487922Z"
    }
   },
   "outputs": [],
   "source": [
    "#Create BAND Column\n",
    "df['BAND']=df['KAPELLE_NAME'].fillna(df['MUSIKLEITER_NAME'])\n",
    "\n",
    "display(df['BAND'].dropna().head(10))\n",
    "display(df[['KAPELLE_NAME','BAND']].isna().sum())"
   ]
  },
  {
   "cell_type": "markdown",
   "id": "dedicated-carolina",
   "metadata": {},
   "source": [
    "## Create PROMOTER column"
   ]
  },
  {
   "cell_type": "code",
   "execution_count": null,
   "id": "systematic-wrestling",
   "metadata": {
    "ExecuteTime": {
     "end_time": "2021-08-24T19:47:16.895360Z",
     "start_time": "2021-08-24T19:47:11.944272Z"
    }
   },
   "outputs": [],
   "source": [
    "#Create PROMOTER Column\n",
    "df['PROMOTER']=df['VERANST_NAME'].fillna('')+' ' + df['VERANST_PLZ'].fillna('')\n",
    "df['PROMOTER']=df['PROMOTER'].apply(clean_text)\n",
    "\n",
    "display(df['PROMOTER'].head(10))\n",
    "display(df[['PROMOTER','VERANST_NAME','VERANST_PLZ']].isna().sum())\n"
   ]
  },
  {
   "cell_type": "markdown",
   "id": "remarkable-uniform",
   "metadata": {},
   "source": [
    "# Clean VG_INKASSO"
   ]
  },
  {
   "cell_type": "code",
   "execution_count": null,
   "id": "multiple-nightmare",
   "metadata": {
    "ExecuteTime": {
     "end_time": "2021-08-24T19:47:24.153512Z",
     "start_time": "2021-08-24T19:47:24.073913Z"
    }
   },
   "outputs": [],
   "source": [
    "df.loc[df.VG_INKASSO == 0, 'VG_INKASSO'] = np.nan\n",
    "\n",
    "#display(df.loc[df.VG_INKASSO.isnull()])\n",
    "display('NaN values in df_raw : {}, NaN values in df: {}'.format(df_raw['VG_INKASSO'].isna().sum(), df['VG_INKASSO'].isna().sum()))"
   ]
  },
  {
   "cell_type": "markdown",
   "id": "forty-campaign",
   "metadata": {},
   "source": [
    "# Drop Duplicates"
   ]
  },
  {
   "cell_type": "code",
   "execution_count": null,
   "id": "distributed-connectivity",
   "metadata": {
    "ExecuteTime": {
     "end_time": "2021-08-24T19:47:45.088275Z",
     "start_time": "2021-08-24T19:47:27.505556Z"
    }
   },
   "outputs": [],
   "source": [
    "df = df.dropna(subset=['VG_INKASSO'])\n",
    "df = df.drop_duplicates(subset=['ID']).set_index('ID', verify_integrity=True).sort_index()\n",
    "\n",
    "#convert certain columns to 'category'\n",
    "\n",
    "df['IMPORT'] = df['IMPORT'].astype('category')\n",
    "df['REKLA_JN'] = df['REKLA_JN'].astype('category')\n",
    "df['TARIF_BEZ'] = df['TARIF_BEZ'].astype('category')\n",
    "df['VG_ORT'] = df['VG_ORT'].astype('category')\n",
    "df['VG_RAUM'] = df['VG_RAUM'].astype('category')"
   ]
  },
  {
   "cell_type": "code",
   "execution_count": null,
   "id": "strategic-external",
   "metadata": {
    "ExecuteTime": {
     "end_time": "2021-08-24T19:47:49.237277Z",
     "start_time": "2021-08-24T19:47:45.713563Z"
    }
   },
   "outputs": [],
   "source": [
    "display(df.shape[0]/df_raw.shape[0])\n",
    "print(df.isna().sum())"
   ]
  },
  {
   "cell_type": "markdown",
   "id": "described-walnut",
   "metadata": {},
   "source": [
    "# Store Prepared Data\n",
    "\n",
    "Store prepared data in a pickle file for further usage"
   ]
  },
  {
   "cell_type": "code",
   "execution_count": null,
   "id": "packed-illinois",
   "metadata": {
    "ExecuteTime": {
     "end_time": "2021-08-24T19:49:36.470771Z",
     "start_time": "2021-08-24T19:47:51.092468Z"
    }
   },
   "outputs": [],
   "source": [
    "df.to_pickle('./data/export_rech_2016_2020.pkl.bz2', protocol=4)"
   ]
  },
  {
   "cell_type": "code",
   "execution_count": null,
   "id": "better-owner",
   "metadata": {},
   "outputs": [],
   "source": []
  }
 ],
 "metadata": {
  "kernelspec": {
   "display_name": "intellizenz-model-training-LRwJb8pv-py3.9",
   "language": "python",
   "name": "python3"
  },
  "language_info": {
   "codemirror_mode": {
    "name": "ipython",
    "version": 3
   },
   "file_extension": ".py",
   "mimetype": "text/x-python",
   "name": "python",
   "nbconvert_exporter": "python",
   "pygments_lexer": "ipython3",
   "version": "3.9.13 (tags/v3.9.13:6de2ca5, May 17 2022, 16:36:42) [MSC v.1929 64 bit (AMD64)]"
  },
  "toc": {
   "base_numbering": 1,
   "nav_menu": {},
   "number_sections": true,
   "sideBar": true,
   "skip_h1_title": false,
   "title_cell": "Table of Contents",
   "title_sidebar": "Contents",
   "toc_cell": false,
   "toc_position": {},
   "toc_section_display": true,
   "toc_window_display": false
  },
  "varInspector": {
   "cols": {
    "lenName": 16,
    "lenType": 16,
    "lenVar": 40
   },
   "kernels_config": {
    "python": {
     "delete_cmd_postfix": "",
     "delete_cmd_prefix": "del ",
     "library": "var_list.py",
     "varRefreshCmd": "print(var_dic_list())"
    },
    "r": {
     "delete_cmd_postfix": ") ",
     "delete_cmd_prefix": "rm(",
     "library": "var_list.r",
     "varRefreshCmd": "cat(var_dic_list()) "
    }
   },
   "types_to_exclude": [
    "module",
    "function",
    "builtin_function_or_method",
    "instance",
    "_Feature"
   ],
   "window_display": false
  },
  "vscode": {
   "interpreter": {
    "hash": "17ce7e5e80fa8847c13f468233b8349b1468d0a77f7c99a15d53db37f56b8200"
   }
  }
 },
 "nbformat": 4,
 "nbformat_minor": 5
}
