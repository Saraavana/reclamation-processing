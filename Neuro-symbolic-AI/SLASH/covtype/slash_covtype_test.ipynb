{
 "cells": [
  {
   "cell_type": "markdown",
   "metadata": {},
   "source": [
    "# Forest Covertype prediction\n",
    "\n",
    "todo \n",
    "- accuracy plotting "
   ]
  },
  {
   "cell_type": "code",
   "execution_count": null,
   "metadata": {},
   "outputs": [],
   "source": [
    "import time\n",
    "import sys\n",
    "sys.path.append('../')\n",
    "sys.path.append('../SLASH/')\n",
    "sys.path.append('../EinsumNetworks/src/')\n",
    "\n",
    "#torch, numpy, ...\n",
    "import torch\n",
    "from torch.utils.tensorboard import SummaryWriter\n",
    "\n",
    "import numpy as np\n",
    "import importlib\n",
    "import matplotlib.pyplot as plt\n",
    "\n",
    "#plt.style.use([\"science\", \"grid\"])  # Need SciencePlots pip package\n",
    "\n",
    "import matplotlib\n",
    "matplotlib.rcParams.update(\n",
    "    {\n",
    "        \"font.family\": \"serif\",\n",
    "        \"text.usetex\": False,\n",
    "    }\n",
    ")\n",
    "\n",
    "import sys\n",
    "sys.path.append('C:/Saravana/Projects/SLASH/src/')\n",
    "sys.path.append('C:/Saravana/Projects/SLASH/src/SLASH/')\n",
    "\n",
    "\n",
    "import utils\n",
    "# src\\utils.py\n",
    "\n",
    "from slash import SLASH\n",
    "from tqdm.notebook import tqdm\n",
    "\n",
    "from einsum_wrapper import EiNet\n",
    "\n",
    "\n"
   ]
  },
  {
   "cell_type": "markdown",
   "metadata": {},
   "source": [
    "###  plot accuracy"
   ]
  },
  {
   "cell_type": "code",
   "execution_count": null,
   "id": "ea8d85fb",
   "metadata": {},
   "outputs": [],
   "source": [
    "#Specify your model here\n",
    "MODEL = \"covtype_bt_20_5_bs_512_s_20_k_20\"\n",
    "\n",
    "#load the saved experiment\n",
    "model_path = 'C:/Saravana/Projects/SLASH/data/'+MODEL+'/slash_models_29_09_2022.pt'\n",
    "models = torch.load(model_path)\n",
    "exp_dict = models['exp_dict']\n",
    "print(exp_dict)\n",
    "\n",
    "#\n",
    "train_acc_list = models['train_acc_list']\n",
    "test_acc_list  = models['test_acc_list']\n",
    "\n",
    "#print(test_acc_list)\n",
    "fig1, axs1 = plt.subplots(figsize=(7,6))#, num=\"science\")\n",
    "\n",
    "axs1.plot(test_acc_list,label='test accuracy')\n",
    "axs1.plot(train_acc_list,label='train accuracy')\n",
    "axs1.set(xlabel='epochs', ylabel='accuracy')\n",
    "\n",
    "plt.legend(loc ='lower right')\n",
    "plt.show()"
   ]
  },
  {
   "cell_type": "code",
   "execution_count": null,
   "metadata": {},
   "outputs": [],
   "source": [
    "#Specify your model here\n",
    "MODEL = \"covtype_bt_20_5_bs_512_s_20_k_20\"\n",
    "\n",
    "#load the saved experiment\n",
    "model_path = \"data/\"+MODEL+\"/slash_models.pt\" \n",
    "models = torch.load(model_path)\n",
    "exp_dict = models['exp_dict']\n",
    "print(exp_dict)\n",
    "\n",
    "\n",
    "#\n",
    "train_acc_list = models['train_acc_list']\n",
    "test_acc_list  = models['test_acc_list']\n",
    "\n",
    "#print(test_acc_list)\n",
    "fig1, axs1 = plt.subplots(figsize=(7,6))#, num=\"science\")\n",
    "\n",
    "axs1.plot(test_acc_list,label='test accuracy')\n",
    "axs1.plot(train_acc_list,label='train accuracy')\n",
    "axs1.set(xlabel='epochs', ylabel='accuracy')\n",
    "\n",
    "plt.legend(loc ='lower right')\n",
    "plt.show()"
   ]
  }
 ],
 "metadata": {
  "kernelspec": {
   "display_name": "Python 3.9.13 64-bit",
   "language": "python",
   "name": "python3"
  },
  "language_info": {
   "codemirror_mode": {
    "name": "ipython",
    "version": 3
   },
   "file_extension": ".py",
   "mimetype": "text/x-python",
   "name": "python",
   "nbconvert_exporter": "python",
   "pygments_lexer": "ipython3",
   "version": "3.9.13"
  },
  "vscode": {
   "interpreter": {
    "hash": "723d4760b7de8ca1ef6dadc92cf10569b6d0ed89ff0bcf2abd30eebd761835a6"
   }
  }
 },
 "nbformat": 4,
 "nbformat_minor": 5
}
