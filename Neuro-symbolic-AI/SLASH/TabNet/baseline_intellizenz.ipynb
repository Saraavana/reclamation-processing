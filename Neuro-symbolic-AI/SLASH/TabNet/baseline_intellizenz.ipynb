{
 "cells": [
  {
   "cell_type": "code",
   "execution_count": 1,
   "metadata": {},
   "outputs": [],
   "source": [
    "%load_ext autoreload\n",
    "%autoreload 2"
   ]
  },
  {
   "cell_type": "code",
   "execution_count": 2,
   "metadata": {},
   "outputs": [],
   "source": [
    "from pytorch_tabnet.tab_model import TabNetClassifier\n",
    "\n",
    "import torch\n",
    "from sklearn.metrics import accuracy_score\n",
    "from sklearn.model_selection import train_test_split\n",
    "import pandas as pd\n",
    "import numpy as np\n",
    "np.random.seed(0)\n",
    "\n",
    "import os, sys; \n",
    "column_path = os.path.dirname(os.path.realpath('C:/Users/sgopalakrish/Downloads/intellizenz-model-training/Neuro-symbolic-AI/column.py'))\n",
    "if sys.path.__contains__(column_path)==False:\n",
    "    sys.path.append(column_path)\n",
    "\n",
    "from sklearn.preprocessing import LabelEncoder\n",
    "from pytorch_tabnet.augmentations import ClassificationSMOTE\n",
    "\n",
    "import column\n",
    "import wandb\n",
    "from matplotlib import pyplot as plt\n",
    "%matplotlib inline"
   ]
  },
  {
   "attachments": {},
   "cell_type": "markdown",
   "metadata": {},
   "source": [
    "## ==============================================="
   ]
  },
  {
   "attachments": {},
   "cell_type": "markdown",
   "metadata": {},
   "source": [
    "## 1. Load data and split"
   ]
  },
  {
   "cell_type": "code",
   "execution_count": 2,
   "metadata": {},
   "outputs": [],
   "source": [
    "target = \"veranst_segment\"\n",
    "# feature_columns = column.features_v5  #143 features\n",
    "feature_columns = column.features_v6  #80 features\n",
    "\n",
    "data_path = column.data_path_2016_2020_v3\n",
    "df = pd.read_parquet(data_path)\n",
    "\n",
    "\n",
    "# class_frequency = df.groupby('veranst_segment')['veranst_segment'].transform('count')\n",
    "# df_sampled = df.sample(n=70000, weights=class_frequency, random_state=2)\n",
    "\n",
    "# df_sampled = df_sampled[feature_columns]\n",
    "df_sampled = df[feature_columns]\n",
    "\n",
    "df_sampled = df_sampled.loc[:,~df_sampled.columns.isin(['vg_inkasso', 'tarif_bez'])] #141 features\n",
    "df_sampled = df_sampled.fillna(-1) # Fill the Empty NaN values in all the cells with -1\n",
    "\n"
   ]
  },
  {
   "cell_type": "code",
   "execution_count": 68,
   "metadata": {},
   "outputs": [],
   "source": [
    "##################################################################################################\n",
    "\n",
    "target = \"veranst_segment\"\n",
    "feature_columns = column.features_v7  #77 features # without tarif\n",
    "\n",
    "data_path = column.data_path_2016_2020_v4\n",
    "df = pd.read_parquet(data_path)\n",
    "\n",
    "# class_frequency = df.groupby('veranst_segment')['veranst_segment'].transform('count')\n",
    "# df_sampled = df.sample(n=70000, weights=class_frequency, random_state=2)\n",
    "# df_sampled = df.sample(n=300000, weights=class_frequency, random_state=2)\n",
    "df_sampled = df.copy()"
   ]
  },
  {
   "cell_type": "code",
   "execution_count": 41,
   "metadata": {},
   "outputs": [],
   "source": [
    "#####with Tarif\n",
    "target = \"veranst_segment\"\n",
    "\n",
    "feature_columns = column.features_v8 #78 features including tarif_bez\n",
    "data_path = column.data_path_2016_2020_v5 # un-encoded tarif-bez\n",
    "df = pd.read_parquet(data_path)\n",
    "\n",
    "# feature_columns = column.features_v2 #140 features # doesn't include tarif_bez\n",
    "# data_path = column.data_path_2016_2020_v3\n",
    "# df = pd.read_parquet(data_path)\n",
    "# all_columns = column.features_v2 + [target]\n",
    "# df = df[all_columns]\n",
    "\n",
    "class_frequency = df.groupby('veranst_segment')['veranst_segment'].transform('count')\n",
    "# df_sampled = df.sample(n=70000, weights=class_frequency, random_state=2)\n",
    "df_sampled = df.sample(n=300000, weights=class_frequency, random_state=2)\n",
    "\n",
    "# df_sampled = df_sampled[feature_columns]\n",
    "# df_sampled = df[feature_columns]\n",
    "# df_sampled = df.copy()"
   ]
  },
  {
   "attachments": {},
   "cell_type": "markdown",
   "metadata": {},
   "source": [
    "### Define Categorical features for categorical embeddings"
   ]
  },
  {
   "cell_type": "code",
   "execution_count": 42,
   "metadata": {},
   "outputs": [
    {
     "name": "stdout",
     "output_type": "stream",
     "text": [
      "veranst_segment 3\n",
      "vg_state 16\n",
      "vg_datum_year 7\n",
      "vg_datum_month 12\n",
      "vg_datum_day_of_week 7\n",
      "vg_datum_season 4\n",
      "tarif_bez 80\n"
     ]
    }
   ],
   "source": [
    "nunique = df_sampled.nunique()\n",
    "types = df_sampled.dtypes\n",
    "\n",
    "categorical_columns = []\n",
    "categorical_dims =  {}\n",
    "for col in df_sampled.columns:\n",
    "    if types[col] == 'object' or nunique[col] < 200:\n",
    "        print(col, df_sampled[col].nunique())\n",
    "        l_enc = LabelEncoder()\n",
    "        df_sampled[col] = l_enc.fit_transform(df_sampled[col].values)\n",
    "        categorical_columns.append(col)\n",
    "        categorical_dims[col] = len(l_enc.classes_)"
   ]
  },
  {
   "cell_type": "code",
   "execution_count": 43,
   "metadata": {},
   "outputs": [
    {
     "name": "stdout",
     "output_type": "stream",
     "text": [
      "[72, 73, 74, 75, 76, 77]\n",
      "[16, 7, 12, 7, 4, 80]\n"
     ]
    }
   ],
   "source": [
    "cat_idxs = [ i for i, f in enumerate(feature_columns) if f in categorical_columns]\n",
    "cat_dims = [ categorical_dims[f] for i, f in enumerate(feature_columns) if f in categorical_columns]\n",
    "print(cat_idxs)\n",
    "print(cat_dims)"
   ]
  },
  {
   "cell_type": "code",
   "execution_count": 44,
   "metadata": {},
   "outputs": [],
   "source": [
    "n_total = len(df_sampled)\n",
    "\n",
    "# Train, val and test split follows\n",
    "# Rory Mitchell, Andrey Adinets, Thejaswi Rao, and Eibe Frank.\n",
    "# Xgboost: Scalable GPU accelerated learning. arXiv:1806.11248, 2018.\n",
    "\n",
    "# #Train set = 53%, test set = 20%, valid set = 26%\n",
    "# train_val_indices, test_indices = train_test_split(\n",
    "#     range(n_total), test_size=0.2, random_state=0)\n",
    "# train_indices, valid_indices = train_test_split(\n",
    "#     train_val_indices, test_size=0.2 / 0.6, random_state=0) #valid split = 33%(0.2/0.6)\n",
    "    \n",
    "# 0.1, 0.1 / 0.8 - Train set = 78%, test set = 10%, valid set = 11%\n",
    "train_val_indices, test_indices = train_test_split(\n",
    "    range(n_total), test_size=0.1, random_state=0)\n",
    "train_indices, valid_indices = train_test_split(\n",
    "    train_val_indices, test_size=0.1 / 0.8, random_state=0) #valid split = 11%(0.1/0.8)"
   ]
  },
  {
   "cell_type": "markdown",
   "metadata": {},
   "source": [
    "## Network parameters"
   ]
  },
  {
   "cell_type": "code",
   "execution_count": 9,
   "metadata": {},
   "outputs": [
    {
     "name": "stderr",
     "output_type": "stream",
     "text": [
      "c:\\Users\\sgopalakrish\\Downloads\\intellizenz-model-training\\Neuro-symbolic-AI\\SLASH\\TabNet\\pytorch_tabnet\\abstract_model.py:75: UserWarning: Device used : cuda\n",
      "  warnings.warn(f\"Device used : {self.device}\")\n"
     ]
    }
   ],
   "source": [
    "# clf = TabNetClassifier(\n",
    "#     n_d=64, n_a=64, n_steps=5,\n",
    "#     gamma=1.5, n_independent=2, n_shared=2,\n",
    "#     cat_emb_dim=1,\n",
    "#     lambda_sparse=1e-4, momentum=0.3, clip_value=2.,\n",
    "#     optimizer_fn=torch.optim.Adam,\n",
    "#     optimizer_params=dict(lr=2e-2),\n",
    "#     scheduler_params = {\"gamma\": 0.95,\n",
    "#                      \"step_size\": 20},\n",
    "#     scheduler_fn=torch.optim.lr_scheduler.StepLR, epsilon=1e-15\n",
    "# )\n",
    "\n",
    "clf = TabNetClassifier(\n",
    "    n_d=64, n_a=64, n_steps=5,\n",
    "    gamma=1.5, n_independent=2, n_shared=2,\n",
    "    cat_idxs=cat_idxs,\n",
    "    cat_dims=cat_dims,\n",
    "    cat_emb_dim=2,\n",
    "    lambda_sparse=1e-4, momentum=0.3, clip_value=2.,\n",
    "    optimizer_fn=torch.optim.Adam,\n",
    "    optimizer_params=dict(lr=2e-2),\n",
    "    scheduler_params = {\"gamma\": 0.95,\n",
    "                     \"step_size\": 20},\n",
    "    scheduler_fn=torch.optim.lr_scheduler.StepLR, epsilon=1e-15,\n",
    "    mask_type='entmax' # sparsemax\n",
    ")\n"
   ]
  },
  {
   "cell_type": "markdown",
   "metadata": {},
   "source": [
    "## Training"
   ]
  },
  {
   "cell_type": "code",
   "execution_count": 45,
   "metadata": {},
   "outputs": [],
   "source": [
    "if os.getenv(\"CI\", False):\n",
    "# Take only a subsample to run CI\n",
    "    X_train = df_sampled[feature_columns].values[train_indices][:1000,:]\n",
    "    y_train = df_sampled[target].values[train_indices][:1000]\n",
    "else:\n",
    "    X_train = df_sampled[feature_columns].values[train_indices]\n",
    "    y_train = df_sampled[target].values[train_indices]\n",
    "\n",
    "X_valid = df_sampled[feature_columns].values[valid_indices]\n",
    "y_valid = df_sampled[target].values[valid_indices]\n",
    "\n",
    "X_test = df_sampled[feature_columns].values[test_indices]\n",
    "y_test = df_sampled[target].values[test_indices]"
   ]
  },
  {
   "attachments": {},
   "cell_type": "markdown",
   "metadata": {},
   "source": [
    "## ======================================"
   ]
  },
  {
   "attachments": {},
   "cell_type": "markdown",
   "metadata": {},
   "source": [
    "## 2. Load Train & Test data frame\n",
    "## Use Features obtained from Leave-one-out-target encoding"
   ]
  },
  {
   "cell_type": "code",
   "execution_count": 2,
   "metadata": {},
   "outputs": [],
   "source": [
    "target = \"veranst_segment\"\n",
    "# feature_columns = column.features_v6  #80 features\n",
    "feature_columns = column.features_v7  #77 features\n",
    "\n",
    "df_train = pd.read_parquet(column.train_data_path)\n",
    "df_test = pd.read_parquet(column.test_data_path)"
   ]
  },
  {
   "cell_type": "code",
   "execution_count": 20,
   "metadata": {},
   "outputs": [],
   "source": [
    "le = LabelEncoder()\n",
    "\n",
    "df_train['tarif_bez'] = le.fit_transform(df_train['tarif_bez'])\n",
    "df_test['tarif_bez'] = le.fit_transform(df_test['tarif_bez'])"
   ]
  },
  {
   "cell_type": "code",
   "execution_count": 4,
   "metadata": {},
   "outputs": [],
   "source": [
    "#Train set = 53%, test set = 20%, valid set = 26%\n",
    "df_train, df_valid = train_test_split(\n",
    "    df_train, test_size=0.2 / 0.6, random_state=0) #valid split = 33%(0.2/0.6)"
   ]
  },
  {
   "attachments": {},
   "cell_type": "markdown",
   "metadata": {},
   "source": [
    "### Input featuers - 78;\n",
    "### Target feature - 1"
   ]
  },
  {
   "cell_type": "code",
   "execution_count": 5,
   "metadata": {},
   "outputs": [],
   "source": [
    "# not_input_features = ['veranst_segment','vg_inkasso']\n",
    "\n",
    "# X_train = df_train.loc[:,~df_train.columns.isin(not_input_features)].values\n",
    "# y_train = df_train[target].values\n",
    "\n",
    "# X_valid = df_valid.loc[:,~df_valid.columns.isin(not_input_features)].values\n",
    "# y_valid = df_valid[target].values\n",
    "\n",
    "# X_test = df_test.loc[:,~df_test.columns.isin(not_input_features)].values\n",
    "# y_test = df_test[target].values\n",
    "\n",
    "## 77 input features - without tarif\n",
    "X_train = df_train[feature_columns].values\n",
    "y_train = df_train[target].values\n",
    "\n",
    "X_valid = df_valid[feature_columns].values\n",
    "y_valid = df_valid[target].values\n",
    "\n",
    "X_test = df_test[feature_columns].values\n",
    "y_test = df_test[target].values"
   ]
  },
  {
   "attachments": {},
   "cell_type": "markdown",
   "metadata": {},
   "source": [
    "## Network parameters"
   ]
  },
  {
   "cell_type": "code",
   "execution_count": 6,
   "metadata": {},
   "outputs": [
    {
     "name": "stderr",
     "output_type": "stream",
     "text": [
      "c:\\Users\\sgopalakrish\\Downloads\\intellizenz-model-training\\Neuro-symbolic-AI\\SLASH\\TabNet\\pytorch_tabnet\\abstract_model.py:75: UserWarning: Device used : cuda\n",
      "  warnings.warn(f\"Device used : {self.device}\")\n"
     ]
    }
   ],
   "source": [
    "clf = TabNetClassifier(\n",
    "    n_d=64, n_a=64, n_steps=5,\n",
    "    gamma=1.5, n_independent=2, n_shared=2,\n",
    "    cat_emb_dim=1,\n",
    "    lambda_sparse=1e-4, momentum=0.3, clip_value=2.,\n",
    "    optimizer_fn=torch.optim.Adam,\n",
    "    optimizer_params=dict(lr=2e-2),\n",
    "    scheduler_params = {\"gamma\": 0.95,\n",
    "                     \"step_size\": 20},\n",
    "    scheduler_fn=torch.optim.lr_scheduler.StepLR, epsilon=1e-15\n",
    ")"
   ]
  },
  {
   "attachments": {},
   "cell_type": "markdown",
   "metadata": {},
   "source": [
    "## ======================================"
   ]
  },
  {
   "attachments": {},
   "cell_type": "markdown",
   "metadata": {},
   "source": [
    "## ==============================================="
   ]
  },
  {
   "attachments": {},
   "cell_type": "markdown",
   "metadata": {},
   "source": [
    "## 3. Load Train & Test data frame\n",
    "## Use Features obtained from Leave-one-out-target encoding\n",
    "## Perform 2 binary classification"
   ]
  },
  {
   "attachments": {},
   "cell_type": "markdown",
   "metadata": {},
   "source": [
    "We keep only features + 'veranst_segment' columns.\n",
    "\n",
    "Encode segments for Classifier 1:\n",
    "* Variable y_clf1 \n",
    "* Positive class (seg 4+) y_clf1=1\n",
    "* Negative class (seg 2 or 3) y_clf1=0\n",
    "\n",
    "Encode segments for Classifier 2: \n",
    "* Variable y_clf2\n",
    "* Positive class (seg 3) y_clf2=1\n",
    "* Negative class (seg 2) y_clf2=0\n",
    "* Segments >3 are \"encoded\" as np.NaN. These NaN values will be dropped before training"
   ]
  },
  {
   "cell_type": "code",
   "execution_count": null,
   "metadata": {},
   "outputs": [],
   "source": [
    "# target = \"veranst_segment\"\n",
    "# feature_columns = column.features_v7  #77 features\n",
    "\n",
    "# df_train = pd.read_parquet(column.train_data_path)\n",
    "# df_test = pd.read_parquet(column.test_data_path)"
   ]
  },
  {
   "cell_type": "code",
   "execution_count": null,
   "metadata": {},
   "outputs": [],
   "source": [
    "# #Train set = 53%, test set = 20%, valid set = 26%\n",
    "# df_train, df_valid = train_test_split(\n",
    "#     df_train, test_size=0.2 / 0.6, random_state=0) #valid split = 33%(0.2/0.6)"
   ]
  },
  {
   "cell_type": "code",
   "execution_count": 43,
   "metadata": {},
   "outputs": [],
   "source": [
    "target = \"veranst_segment\"\n",
    "feature_columns = column.features_v7  #77 features # without tarif\n",
    "\n",
    "data_path = column.data_path_2016_2020_v4\n",
    "df = pd.read_parquet(data_path)\n",
    "\n",
    "class_frequency = df.groupby('veranst_segment')['veranst_segment'].transform('count')\n",
    "# df_sampled = df.sample(n=70000, weights=class_frequency, random_state=2)\n",
    "df_sampled = df.sample(n=300000, weights=class_frequency, random_state=2)\n",
    "\n",
    "# df_sampled = df_sampled[feature_columns]\n",
    "# df_sampled = df[feature_columns]\n",
    "# df_sampled = df.copy()"
   ]
  },
  {
   "attachments": {},
   "cell_type": "markdown",
   "metadata": {},
   "source": [
    "### Define Categorical features for categorical embeddings"
   ]
  },
  {
   "cell_type": "code",
   "execution_count": null,
   "metadata": {},
   "outputs": [],
   "source": [
    "nunique = df_sampled.nunique()\n",
    "types = df_sampled.dtypes\n",
    "\n",
    "categorical_columns = []\n",
    "categorical_dims =  {}\n",
    "for col in df_sampled.columns:\n",
    "    if types[col] == 'object' or nunique[col] < 200:\n",
    "        print(col, df_sampled[col].nunique())\n",
    "        l_enc = LabelEncoder()\n",
    "        df_sampled[col] = l_enc.fit_transform(df_sampled[col].values)\n",
    "        categorical_columns.append(col)\n",
    "        categorical_dims[col] = len(l_enc.classes_)"
   ]
  },
  {
   "cell_type": "code",
   "execution_count": null,
   "metadata": {},
   "outputs": [],
   "source": [
    "cat_idxs = [ i for i, f in enumerate(feature_columns) if f in categorical_columns]\n",
    "cat_dims = [ categorical_dims[f] for i, f in enumerate(feature_columns) if f in categorical_columns]\n",
    "print(cat_idxs)\n",
    "print(cat_dims)"
   ]
  },
  {
   "cell_type": "code",
   "execution_count": 44,
   "metadata": {},
   "outputs": [],
   "source": [
    "df_sampled.loc[:,'y_clf1']=(df_sampled.veranst_segment.astype(int) > 1).values.astype(int)\n",
    "df_sampled.loc[:,'y_clf2']=df_sampled.veranst_segment.apply(lambda x: 1 if x==1 else (0 if x==0 else np.nan))"
   ]
  },
  {
   "cell_type": "code",
   "execution_count": 45,
   "metadata": {},
   "outputs": [],
   "source": [
    "n_total = len(df_sampled)\n",
    "\n",
    "# Train, val and test split follows\n",
    "# Rory Mitchell, Andrey Adinets, Thejaswi Rao, and Eibe Frank.\n",
    "# Xgboost: Scalable GPU accelerated learning. arXiv:1806.11248, 2018.\n",
    "\n",
    "# #Train set = 53%, test set = 20%, valid set = 26%\n",
    "# train_val_indices, test_indices = train_test_split(\n",
    "#     range(n_total), test_size=0.2, random_state=0)\n",
    "# train_indices, valid_indices = train_test_split(\n",
    "#     train_val_indices, test_size=0.2 / 0.6, random_state=0) #valid split = 33%(0.2/0.6)\n",
    "\n",
    "# 0.1, 0.1 / 0.8 - Train set = 78%, test set = 10%, valid set = 11%\n",
    "train_val_indices, test_indices = train_test_split(\n",
    "    range(n_total), test_size=0.1, random_state=0)\n",
    "train_indices, valid_indices = train_test_split(\n",
    "    train_val_indices, test_size=0.1 / 0.8, random_state=0) #valid split = 11%(0.1/0.8)"
   ]
  },
  {
   "attachments": {},
   "cell_type": "markdown",
   "metadata": {},
   "source": [
    "## Plot Losses and Accuracy"
   ]
  },
  {
   "cell_type": "code",
   "execution_count": 46,
   "metadata": {},
   "outputs": [],
   "source": [
    "def plot_loss_accuracy(model):\n",
    "    # plot losses\n",
    "    plt.plot(model.history['loss'])\n",
    "\n",
    "    # plot accuracy\n",
    "    plt.plot(model.history['train_auc'])\n",
    "    plt.plot(model.history['valid_auc'])"
   ]
  },
  {
   "attachments": {},
   "cell_type": "markdown",
   "metadata": {},
   "source": [
    "## Test Prediction "
   ]
  },
  {
   "cell_type": "code",
   "execution_count": 47,
   "metadata": {},
   "outputs": [],
   "source": [
    "def test_prediction(model, input, target):\n",
    "        # To get final results you may need to use a mapping for classes \n",
    "        # as you are allowed to use targets like [\"yes\", \"no\", \"maybe\", \"I don't know\"]\n",
    "\n",
    "        dataset_name = 'Intellizenz'\n",
    "        # preds_mapper = { idx : class_name for idx, class_name in enumerate(model.classes_)}\n",
    "\n",
    "        preds = model.predict_proba(input)\n",
    "\n",
    "        # y_pred = np.vectorize(preds_mapper.get)(np.argmax(preds, axis=1))\n",
    "        y_pred = (np.argmax(preds, axis=1))\n",
    "\n",
    "        test_acc = accuracy_score(y_pred=y_pred, y_true=target)\n",
    "\n",
    "        # print(f\"BEST VALID SCORE FOR {dataset_name} : {model.best_cost}\")\n",
    "        print(f\"FINAL TEST SCORE FOR {dataset_name} : {test_acc}\")\n",
    "\n",
    "        # or you can simply use the predict method\n",
    "        y_pred = model.predict(input)\n",
    "        test_acc = accuracy_score(y_pred=y_pred, y_true=target)\n",
    "        print(f\"FINAL TEST SCORE FOR {dataset_name} : {test_acc}\")\n",
    "\n",
    "        return preds, y_pred, test_acc"
   ]
  },
  {
   "attachments": {},
   "cell_type": "markdown",
   "metadata": {},
   "source": [
    "## Save Model"
   ]
  },
  {
   "cell_type": "code",
   "execution_count": 48,
   "metadata": {},
   "outputs": [],
   "source": [
    "def save_model(model, path):\n",
    "    # save state dict\n",
    "    # saving_path_name = \"./baseline_tabnet_model_test_1\"\n",
    "    saved_filename = model.save_model(path)\n",
    "\n",
    "def load_model(path):\n",
    "    # define new model and load save parameters\n",
    "    loaded_clf_model = TabNetClassifier()\n",
    "    loaded_clf_model.load_model(path)\n",
    "    return loaded_clf_model"
   ]
  },
  {
   "attachments": {},
   "cell_type": "markdown",
   "metadata": {},
   "source": [
    "## Wandb Logging"
   ]
  },
  {
   "cell_type": "code",
   "execution_count": 57,
   "metadata": {},
   "outputs": [],
   "source": [
    "def wand_log(model, pred_probas, y_test, y_pred, test_accuracy):\n",
    "    wandb.init(project=\"Intellizenz\", entity=\"elsaravana\")\n",
    "    wandb.config = {\n",
    "        \"learning_rate\": 0.02,\n",
    "        \"epochs\": 200,\n",
    "        \"batch_size\": 16384\n",
    "    }\n",
    "\n",
    "    wandb.log({\"conf_mat\" : wandb.plot.confusion_matrix(probs=None,\n",
    "                        preds=y_pred, y_true=y_test,\n",
    "                        class_names=[0, 1])})\n",
    "    wandb.log({\"pr\" : wandb.plot.pr_curve(y_true=y_test, y_probas=pred_probas,\n",
    "                labels=['Segment 0-50€ or 50-100€', 'Segment >100€'], classes_to_plot=[0, 1])})\n",
    "    wandb.log({\"roc\" : wandb.plot.roc_curve(y_true=y_test, y_probas=pred_probas,\n",
    "                    labels=['Segment 0-50€ or 50-100€', 'Segment >100€'], classes_to_plot=[0, 1])})\n",
    "\n",
    "    train_loss = model.history['loss']\n",
    "    # train_accuracy = model.history['train_accuracy']\n",
    "    # validation_accuracy = model.history['valid_accuracy']\n",
    "\n",
    "    train_accuracy = model.history['train_auc']\n",
    "    validation_accuracy = model.history['valid_auc']\n",
    "    \n",
    "    for i,loss in enumerate(train_loss):\n",
    "        wandb.log({\"train_loss\": loss, \n",
    "            # \"train_accuracy\": train_accuracy[i],\n",
    "            # \"validation_accuracy\": validation_accuracy[i]})\n",
    "            \"train_auc\": train_accuracy[i],\n",
    "            \"validation_auc\": validation_accuracy[i]})\n",
    "\n",
    "    wandb.log({\"test_accuracy\": test_accuracy})\n",
    "    # exit_code 0, to finish a successful run\n",
    "    wandb.finish(0)"
   ]
  },
  {
   "attachments": {},
   "cell_type": "markdown",
   "metadata": {},
   "source": [
    "### Classification 1"
   ]
  },
  {
   "cell_type": "code",
   "execution_count": 38,
   "metadata": {},
   "outputs": [],
   "source": [
    "# ## 77 input features - without tarif\n",
    "# X_train_clf1 = df_train[feature_columns].values\n",
    "# y_train_clf1 = df_train.y_clf1\n",
    "\n",
    "# X_valid_clf1 = df_valid[feature_columns].values\n",
    "# y_valid_clf1 = df_valid.y_clf1\n",
    "\n",
    "# X_test_clf1 = df_test[feature_columns].values\n",
    "# y_test_clf1 = df_test.y_clf1"
   ]
  },
  {
   "cell_type": "code",
   "execution_count": 50,
   "metadata": {},
   "outputs": [],
   "source": [
    "## 77 input features - without tarif\n",
    "X_train_clf1 = df_sampled[feature_columns].values[train_indices]\n",
    "y_train_clf1 = df_sampled['y_clf1'].values[train_indices]\n",
    "\n",
    "X_valid_clf1 = df_sampled[feature_columns].values[valid_indices]\n",
    "y_valid_clf1 = df_sampled['y_clf1'].values[valid_indices]\n",
    "\n",
    "X_test_clf1 = df_sampled[feature_columns].values[test_indices]\n",
    "y_test_clf1 = df_sampled['y_clf1'].values[test_indices]"
   ]
  },
  {
   "cell_type": "code",
   "execution_count": 51,
   "metadata": {},
   "outputs": [
    {
     "data": {
      "text/plain": [
       "array([0, 0, 1, ..., 0, 0, 0])"
      ]
     },
     "execution_count": 51,
     "metadata": {},
     "output_type": "execute_result"
    }
   ],
   "source": [
    "y_train_clf1"
   ]
  },
  {
   "cell_type": "code",
   "execution_count": 52,
   "metadata": {},
   "outputs": [
    {
     "name": "stderr",
     "output_type": "stream",
     "text": [
      "c:\\Users\\sgopalakrish\\Downloads\\intellizenz-model-training\\Neuro-symbolic-AI\\SLASH\\TabNet\\pytorch_tabnet\\abstract_model.py:75: UserWarning: Device used : cuda\n",
      "  warnings.warn(f\"Device used : {self.device}\")\n"
     ]
    },
    {
     "name": "stdout",
     "output_type": "stream",
     "text": [
      "epoch 0  | loss: 0.97328 | train_auc: 0.67163 | valid_auc: 0.67163 |  0:00:09s\n",
      "epoch 1  | loss: 0.76204 | train_auc: 0.6789  | valid_auc: 0.6789  |  0:00:18s\n",
      "epoch 2  | loss: 0.77455 | train_auc: 0.69957 | valid_auc: 0.69957 |  0:00:28s\n",
      "epoch 3  | loss: 0.69297 | train_auc: 0.63012 | valid_auc: 0.63012 |  0:00:38s\n",
      "epoch 4  | loss: 0.75146 | train_auc: 0.73308 | valid_auc: 0.73308 |  0:00:48s\n",
      "epoch 5  | loss: 0.72472 | train_auc: 0.75398 | valid_auc: 0.75398 |  0:00:57s\n",
      "epoch 6  | loss: 0.65825 | train_auc: 0.73403 | valid_auc: 0.73403 |  0:01:07s\n",
      "epoch 7  | loss: 0.6087  | train_auc: 0.77296 | valid_auc: 0.77296 |  0:01:17s\n",
      "epoch 8  | loss: 0.58598 | train_auc: 0.74376 | valid_auc: 0.74376 |  0:01:26s\n",
      "epoch 9  | loss: 0.57301 | train_auc: 0.78958 | valid_auc: 0.78958 |  0:01:36s\n",
      "epoch 10 | loss: 0.56607 | train_auc: 0.80836 | valid_auc: 0.80836 |  0:01:46s\n",
      "epoch 11 | loss: 0.55033 | train_auc: 0.79023 | valid_auc: 0.79023 |  0:01:56s\n",
      "epoch 12 | loss: 0.53688 | train_auc: 0.81665 | valid_auc: 0.81665 |  0:02:06s\n",
      "epoch 13 | loss: 0.51644 | train_auc: 0.86626 | valid_auc: 0.86626 |  0:02:15s\n",
      "epoch 14 | loss: 0.49342 | train_auc: 0.82867 | valid_auc: 0.82867 |  0:02:25s\n",
      "epoch 15 | loss: 0.46109 | train_auc: 0.79957 | valid_auc: 0.79957 |  0:02:35s\n",
      "epoch 16 | loss: 0.45464 | train_auc: 0.77906 | valid_auc: 0.77906 |  0:02:44s\n",
      "epoch 17 | loss: 0.43504 | train_auc: 0.88076 | valid_auc: 0.88076 |  0:02:53s\n",
      "epoch 18 | loss: 0.41488 | train_auc: 0.83535 | valid_auc: 0.83535 |  0:03:03s\n",
      "epoch 19 | loss: 0.40814 | train_auc: 0.85553 | valid_auc: 0.85553 |  0:03:13s\n",
      "epoch 20 | loss: 0.4076  | train_auc: 0.8217  | valid_auc: 0.8217  |  0:03:25s\n",
      "epoch 21 | loss: 0.39958 | train_auc: 0.81274 | valid_auc: 0.81274 |  0:03:34s\n",
      "epoch 22 | loss: 0.39336 | train_auc: 0.8719  | valid_auc: 0.8719  |  0:03:44s\n",
      "epoch 23 | loss: 0.38528 | train_auc: 0.87312 | valid_auc: 0.87312 |  0:03:53s\n",
      "epoch 24 | loss: 0.37667 | train_auc: 0.87915 | valid_auc: 0.87915 |  0:04:03s\n",
      "epoch 25 | loss: 0.37528 | train_auc: 0.87718 | valid_auc: 0.87718 |  0:04:12s\n",
      "epoch 26 | loss: 0.37029 | train_auc: 0.82499 | valid_auc: 0.82499 |  0:04:22s\n",
      "epoch 27 | loss: 0.37077 | train_auc: 0.89456 | valid_auc: 0.89456 |  0:04:31s\n",
      "epoch 28 | loss: 0.37555 | train_auc: 0.63782 | valid_auc: 0.63782 |  0:04:40s\n",
      "epoch 29 | loss: 0.38536 | train_auc: 0.84942 | valid_auc: 0.84942 |  0:04:49s\n",
      "epoch 30 | loss: 0.3883  | train_auc: 0.83478 | valid_auc: 0.83478 |  0:04:58s\n",
      "epoch 31 | loss: 0.38405 | train_auc: 0.85024 | valid_auc: 0.85024 |  0:05:07s\n",
      "epoch 32 | loss: 0.37558 | train_auc: 0.83285 | valid_auc: 0.83285 |  0:05:16s\n",
      "epoch 33 | loss: 0.36809 | train_auc: 0.8314  | valid_auc: 0.8314  |  0:05:25s\n",
      "epoch 34 | loss: 0.36045 | train_auc: 0.84257 | valid_auc: 0.84257 |  0:05:34s\n",
      "epoch 35 | loss: 0.36174 | train_auc: 0.831   | valid_auc: 0.831   |  0:05:43s\n",
      "epoch 36 | loss: 0.36306 | train_auc: 0.88634 | valid_auc: 0.88634 |  0:05:51s\n",
      "epoch 37 | loss: 0.3658  | train_auc: 0.90017 | valid_auc: 0.90017 |  0:06:01s\n",
      "epoch 38 | loss: 0.36283 | train_auc: 0.90995 | valid_auc: 0.90995 |  0:06:10s\n",
      "epoch 39 | loss: 0.35603 | train_auc: 0.91285 | valid_auc: 0.91285 |  0:06:19s\n",
      "epoch 40 | loss: 0.35081 | train_auc: 0.86579 | valid_auc: 0.86579 |  0:06:28s\n",
      "epoch 41 | loss: 0.35045 | train_auc: 0.86935 | valid_auc: 0.86935 |  0:06:36s\n",
      "epoch 42 | loss: 0.3522  | train_auc: 0.86504 | valid_auc: 0.86504 |  0:06:45s\n",
      "epoch 43 | loss: 0.34723 | train_auc: 0.87653 | valid_auc: 0.87653 |  0:06:55s\n",
      "epoch 44 | loss: 0.34924 | train_auc: 0.83045 | valid_auc: 0.83045 |  0:07:04s\n",
      "epoch 45 | loss: 0.34643 | train_auc: 0.89567 | valid_auc: 0.89567 |  0:07:13s\n",
      "epoch 46 | loss: 0.34575 | train_auc: 0.88331 | valid_auc: 0.88331 |  0:07:22s\n",
      "epoch 47 | loss: 0.34688 | train_auc: 0.87596 | valid_auc: 0.87596 |  0:07:32s\n",
      "epoch 48 | loss: 0.34687 | train_auc: 0.88877 | valid_auc: 0.88877 |  0:07:41s\n",
      "epoch 49 | loss: 0.34558 | train_auc: 0.87108 | valid_auc: 0.87108 |  0:07:50s\n",
      "epoch 50 | loss: 0.3445  | train_auc: 0.87553 | valid_auc: 0.87553 |  0:07:59s\n",
      "epoch 51 | loss: 0.352   | train_auc: 0.86992 | valid_auc: 0.86992 |  0:08:08s\n",
      "epoch 52 | loss: 0.35451 | train_auc: 0.86287 | valid_auc: 0.86287 |  0:08:17s\n",
      "epoch 53 | loss: 0.34943 | train_auc: 0.87165 | valid_auc: 0.87165 |  0:08:25s\n",
      "epoch 54 | loss: 0.35236 | train_auc: 0.89107 | valid_auc: 0.89107 |  0:08:34s\n",
      "epoch 55 | loss: 0.3529  | train_auc: 0.87131 | valid_auc: 0.87131 |  0:08:43s\n",
      "epoch 56 | loss: 0.34956 | train_auc: 0.91641 | valid_auc: 0.91641 |  0:08:51s\n",
      "epoch 57 | loss: 0.34805 | train_auc: 0.89747 | valid_auc: 0.89747 |  0:09:00s\n",
      "epoch 58 | loss: 0.34632 | train_auc: 0.84479 | valid_auc: 0.84479 |  0:09:09s\n",
      "epoch 59 | loss: 0.34658 | train_auc: 0.88377 | valid_auc: 0.88377 |  0:09:18s\n",
      "epoch 60 | loss: 0.3477  | train_auc: 0.90396 | valid_auc: 0.90396 |  0:09:27s\n",
      "epoch 61 | loss: 0.34105 | train_auc: 0.86501 | valid_auc: 0.86501 |  0:09:35s\n",
      "epoch 62 | loss: 0.33936 | train_auc: 0.88368 | valid_auc: 0.88368 |  0:09:45s\n",
      "epoch 63 | loss: 0.33839 | train_auc: 0.88495 | valid_auc: 0.88495 |  0:09:56s\n",
      "epoch 64 | loss: 0.33683 | train_auc: 0.88329 | valid_auc: 0.88329 |  0:10:07s\n",
      "epoch 65 | loss: 0.33506 | train_auc: 0.8762  | valid_auc: 0.8762  |  0:10:16s\n",
      "epoch 66 | loss: 0.33817 | train_auc: 0.90994 | valid_auc: 0.90994 |  0:10:25s\n",
      "epoch 67 | loss: 0.33672 | train_auc: 0.8652  | valid_auc: 0.8652  |  0:10:34s\n",
      "epoch 68 | loss: 0.3345  | train_auc: 0.90795 | valid_auc: 0.90795 |  0:10:44s\n",
      "epoch 69 | loss: 0.33504 | train_auc: 0.90537 | valid_auc: 0.90537 |  0:10:53s\n",
      "epoch 70 | loss: 0.3342  | train_auc: 0.89454 | valid_auc: 0.89454 |  0:11:02s\n",
      "epoch 71 | loss: 0.33574 | train_auc: 0.91469 | valid_auc: 0.91469 |  0:11:11s\n",
      "epoch 72 | loss: 0.33467 | train_auc: 0.87757 | valid_auc: 0.87757 |  0:11:20s\n",
      "epoch 73 | loss: 0.33368 | train_auc: 0.89869 | valid_auc: 0.89869 |  0:11:29s\n",
      "epoch 74 | loss: 0.3339  | train_auc: 0.89159 | valid_auc: 0.89159 |  0:11:38s\n",
      "epoch 75 | loss: 0.33199 | train_auc: 0.88394 | valid_auc: 0.88394 |  0:11:47s\n",
      "epoch 76 | loss: 0.33476 | train_auc: 0.88728 | valid_auc: 0.88728 |  0:11:57s\n",
      "epoch 77 | loss: 0.3331  | train_auc: 0.88888 | valid_auc: 0.88888 |  0:12:09s\n",
      "epoch 78 | loss: 0.33083 | train_auc: 0.90986 | valid_auc: 0.90986 |  0:12:18s\n",
      "epoch 79 | loss: 0.33154 | train_auc: 0.90372 | valid_auc: 0.90372 |  0:12:27s\n",
      "epoch 80 | loss: 0.33245 | train_auc: 0.88457 | valid_auc: 0.88457 |  0:12:38s\n",
      "epoch 81 | loss: 0.33226 | train_auc: 0.88722 | valid_auc: 0.88722 |  0:12:48s\n",
      "epoch 82 | loss: 0.33442 | train_auc: 0.90925 | valid_auc: 0.90925 |  0:12:57s\n",
      "epoch 83 | loss: 0.33908 | train_auc: 0.88954 | valid_auc: 0.88954 |  0:13:08s\n",
      "epoch 84 | loss: 0.33848 | train_auc: 0.88849 | valid_auc: 0.88849 |  0:13:20s\n",
      "epoch 85 | loss: 0.33558 | train_auc: 0.8717  | valid_auc: 0.8717  |  0:13:29s\n",
      "epoch 86 | loss: 0.33606 | train_auc: 0.8712  | valid_auc: 0.8712  |  0:13:39s\n",
      "epoch 87 | loss: 0.33202 | train_auc: 0.85268 | valid_auc: 0.85268 |  0:13:48s\n",
      "epoch 88 | loss: 0.33389 | train_auc: 0.84011 | valid_auc: 0.84011 |  0:13:57s\n",
      "epoch 89 | loss: 0.33204 | train_auc: 0.9109  | valid_auc: 0.9109  |  0:14:09s\n",
      "epoch 90 | loss: 0.33171 | train_auc: 0.87047 | valid_auc: 0.87047 |  0:14:22s\n",
      "epoch 91 | loss: 0.32984 | train_auc: 0.87147 | valid_auc: 0.87147 |  0:14:35s\n",
      "epoch 92 | loss: 0.33048 | train_auc: 0.85241 | valid_auc: 0.85241 |  0:14:47s\n",
      "epoch 93 | loss: 0.3298  | train_auc: 0.87423 | valid_auc: 0.87423 |  0:15:00s\n",
      "epoch 94 | loss: 0.32836 | train_auc: 0.92038 | valid_auc: 0.92038 |  0:15:13s\n",
      "epoch 95 | loss: 0.32776 | train_auc: 0.81742 | valid_auc: 0.81742 |  0:15:25s\n",
      "epoch 96 | loss: 0.32916 | train_auc: 0.82852 | valid_auc: 0.82852 |  0:15:37s\n",
      "epoch 97 | loss: 0.32838 | train_auc: 0.86445 | valid_auc: 0.86445 |  0:15:49s\n",
      "epoch 98 | loss: 0.32807 | train_auc: 0.86364 | valid_auc: 0.86364 |  0:16:01s\n",
      "epoch 99 | loss: 0.32594 | train_auc: 0.88161 | valid_auc: 0.88161 |  0:16:14s\n",
      "epoch 100| loss: 0.32741 | train_auc: 0.86181 | valid_auc: 0.86181 |  0:16:27s\n",
      "epoch 101| loss: 0.329   | train_auc: 0.86505 | valid_auc: 0.86505 |  0:16:39s\n",
      "epoch 102| loss: 0.3281  | train_auc: 0.80964 | valid_auc: 0.80964 |  0:16:52s\n",
      "epoch 103| loss: 0.32887 | train_auc: 0.87537 | valid_auc: 0.87537 |  0:17:03s\n",
      "epoch 104| loss: 0.32778 | train_auc: 0.87808 | valid_auc: 0.87808 |  0:17:15s\n",
      "epoch 105| loss: 0.32809 | train_auc: 0.86833 | valid_auc: 0.86833 |  0:17:26s\n",
      "epoch 106| loss: 0.33175 | train_auc: 0.86669 | valid_auc: 0.86669 |  0:17:39s\n",
      "epoch 107| loss: 0.32861 | train_auc: 0.89194 | valid_auc: 0.89194 |  0:17:52s\n",
      "epoch 108| loss: 0.32933 | train_auc: 0.90256 | valid_auc: 0.90256 |  0:18:05s\n",
      "epoch 109| loss: 0.32519 | train_auc: 0.85982 | valid_auc: 0.85982 |  0:18:17s\n",
      "epoch 110| loss: 0.32667 | train_auc: 0.85999 | valid_auc: 0.85999 |  0:18:29s\n",
      "epoch 111| loss: 0.32365 | train_auc: 0.87137 | valid_auc: 0.87137 |  0:18:41s\n",
      "epoch 112| loss: 0.32454 | train_auc: 0.88116 | valid_auc: 0.88116 |  0:18:53s\n",
      "epoch 113| loss: 0.32173 | train_auc: 0.90866 | valid_auc: 0.90866 |  0:19:05s\n",
      "epoch 114| loss: 0.32068 | train_auc: 0.87995 | valid_auc: 0.87995 |  0:19:18s\n",
      "epoch 115| loss: 0.323   | train_auc: 0.87143 | valid_auc: 0.87143 |  0:19:31s\n",
      "epoch 116| loss: 0.32037 | train_auc: 0.86609 | valid_auc: 0.86609 |  0:19:44s\n",
      "epoch 117| loss: 0.32101 | train_auc: 0.87759 | valid_auc: 0.87759 |  0:19:57s\n",
      "epoch 118| loss: 0.32188 | train_auc: 0.88714 | valid_auc: 0.88714 |  0:20:10s\n",
      "epoch 119| loss: 0.32297 | train_auc: 0.90305 | valid_auc: 0.90305 |  0:20:23s\n",
      "epoch 120| loss: 0.32095 | train_auc: 0.85863 | valid_auc: 0.85863 |  0:20:35s\n",
      "epoch 121| loss: 0.31845 | train_auc: 0.86581 | valid_auc: 0.86581 |  0:20:48s\n",
      "epoch 122| loss: 0.32062 | train_auc: 0.87808 | valid_auc: 0.87808 |  0:21:00s\n",
      "epoch 123| loss: 0.32248 | train_auc: 0.85753 | valid_auc: 0.85753 |  0:21:13s\n",
      "epoch 124| loss: 0.32115 | train_auc: 0.89724 | valid_auc: 0.89724 |  0:21:26s\n",
      "epoch 125| loss: 0.31958 | train_auc: 0.87992 | valid_auc: 0.87992 |  0:21:39s\n",
      "epoch 126| loss: 0.31786 | train_auc: 0.85613 | valid_auc: 0.85613 |  0:21:52s\n",
      "epoch 127| loss: 0.31886 | train_auc: 0.86369 | valid_auc: 0.86369 |  0:22:03s\n",
      "epoch 128| loss: 0.32183 | train_auc: 0.91873 | valid_auc: 0.91873 |  0:22:16s\n",
      "epoch 129| loss: 0.3188  | train_auc: 0.82483 | valid_auc: 0.82483 |  0:22:28s\n",
      "epoch 130| loss: 0.31682 | train_auc: 0.88548 | valid_auc: 0.88548 |  0:22:41s\n",
      "epoch 131| loss: 0.31947 | train_auc: 0.86897 | valid_auc: 0.86897 |  0:22:54s\n",
      "epoch 132| loss: 0.31975 | train_auc: 0.90775 | valid_auc: 0.90775 |  0:23:06s\n",
      "epoch 133| loss: 0.31703 | train_auc: 0.83516 | valid_auc: 0.83516 |  0:23:19s\n",
      "epoch 134| loss: 0.31913 | train_auc: 0.90659 | valid_auc: 0.90659 |  0:23:32s\n",
      "epoch 135| loss: 0.31752 | train_auc: 0.79073 | valid_auc: 0.79073 |  0:23:44s\n",
      "epoch 136| loss: 0.33194 | train_auc: 0.89952 | valid_auc: 0.89952 |  0:23:57s\n",
      "epoch 137| loss: 0.3515  | train_auc: 0.84836 | valid_auc: 0.84836 |  0:24:08s\n",
      "epoch 138| loss: 0.34687 | train_auc: 0.83874 | valid_auc: 0.83874 |  0:24:20s\n",
      "epoch 139| loss: 0.3405  | train_auc: 0.88997 | valid_auc: 0.88997 |  0:24:33s\n",
      "epoch 140| loss: 0.33508 | train_auc: 0.86416 | valid_auc: 0.86416 |  0:24:46s\n",
      "epoch 141| loss: 0.33311 | train_auc: 0.93867 | valid_auc: 0.93867 |  0:24:59s\n",
      "epoch 142| loss: 0.33142 | train_auc: 0.85176 | valid_auc: 0.85176 |  0:25:12s\n",
      "epoch 143| loss: 0.32819 | train_auc: 0.90856 | valid_auc: 0.90856 |  0:25:25s\n",
      "epoch 144| loss: 0.32646 | train_auc: 0.9244  | valid_auc: 0.9244  |  0:25:38s\n",
      "epoch 145| loss: 0.32342 | train_auc: 0.88398 | valid_auc: 0.88398 |  0:25:51s\n",
      "epoch 146| loss: 0.32371 | train_auc: 0.90154 | valid_auc: 0.90154 |  0:26:04s\n",
      "epoch 147| loss: 0.32484 | train_auc: 0.89781 | valid_auc: 0.89781 |  0:26:17s\n",
      "epoch 148| loss: 0.31962 | train_auc: 0.87419 | valid_auc: 0.87419 |  0:26:30s\n",
      "epoch 149| loss: 0.32249 | train_auc: 0.94637 | valid_auc: 0.94637 |  0:26:43s\n",
      "epoch 150| loss: 0.32131 | train_auc: 0.93021 | valid_auc: 0.93021 |  0:26:56s\n",
      "epoch 151| loss: 0.31803 | train_auc: 0.8821  | valid_auc: 0.8821  |  0:27:08s\n",
      "epoch 152| loss: 0.32008 | train_auc: 0.89819 | valid_auc: 0.89819 |  0:27:19s\n",
      "epoch 153| loss: 0.32101 | train_auc: 0.91011 | valid_auc: 0.91011 |  0:27:32s\n",
      "epoch 154| loss: 0.3201  | train_auc: 0.92295 | valid_auc: 0.92295 |  0:27:45s\n",
      "epoch 155| loss: 0.32209 | train_auc: 0.91736 | valid_auc: 0.91736 |  0:27:58s\n",
      "epoch 156| loss: 0.32625 | train_auc: 0.86246 | valid_auc: 0.86246 |  0:28:11s\n",
      "epoch 157| loss: 0.32164 | train_auc: 0.9062  | valid_auc: 0.9062  |  0:28:24s\n",
      "epoch 158| loss: 0.3211  | train_auc: 0.90019 | valid_auc: 0.90019 |  0:28:36s\n",
      "epoch 159| loss: 0.32242 | train_auc: 0.89422 | valid_auc: 0.89422 |  0:28:48s\n",
      "epoch 160| loss: 0.31984 | train_auc: 0.89747 | valid_auc: 0.89747 |  0:29:00s\n",
      "epoch 161| loss: 0.32101 | train_auc: 0.90197 | valid_auc: 0.90197 |  0:29:12s\n",
      "epoch 162| loss: 0.31834 | train_auc: 0.90532 | valid_auc: 0.90532 |  0:29:24s\n",
      "epoch 163| loss: 0.31858 | train_auc: 0.89989 | valid_auc: 0.89989 |  0:29:37s\n",
      "epoch 164| loss: 0.31642 | train_auc: 0.86843 | valid_auc: 0.86843 |  0:29:49s\n",
      "epoch 165| loss: 0.31656 | train_auc: 0.91016 | valid_auc: 0.91016 |  0:30:01s\n",
      "epoch 166| loss: 0.31433 | train_auc: 0.81468 | valid_auc: 0.81468 |  0:30:14s\n",
      "epoch 167| loss: 0.31439 | train_auc: 0.86816 | valid_auc: 0.86816 |  0:30:27s\n",
      "epoch 168| loss: 0.31621 | train_auc: 0.88637 | valid_auc: 0.88637 |  0:30:38s\n",
      "epoch 169| loss: 0.31361 | train_auc: 0.89922 | valid_auc: 0.89922 |  0:30:50s\n",
      "epoch 170| loss: 0.31759 | train_auc: 0.92138 | valid_auc: 0.92138 |  0:31:01s\n",
      "epoch 171| loss: 0.31518 | train_auc: 0.85007 | valid_auc: 0.85007 |  0:31:14s\n",
      "epoch 172| loss: 0.3149  | train_auc: 0.91354 | valid_auc: 0.91354 |  0:31:27s\n",
      "epoch 173| loss: 0.31412 | train_auc: 0.89079 | valid_auc: 0.89079 |  0:31:39s\n",
      "epoch 174| loss: 0.31297 | train_auc: 0.93687 | valid_auc: 0.93687 |  0:31:52s\n",
      "epoch 175| loss: 0.31219 | train_auc: 0.89166 | valid_auc: 0.89166 |  0:32:05s\n",
      "epoch 176| loss: 0.31249 | train_auc: 0.90427 | valid_auc: 0.90427 |  0:32:17s\n",
      "epoch 177| loss: 0.31369 | train_auc: 0.85263 | valid_auc: 0.85263 |  0:32:29s\n",
      "epoch 178| loss: 0.31338 | train_auc: 0.90073 | valid_auc: 0.90073 |  0:32:41s\n",
      "epoch 179| loss: 0.30984 | train_auc: 0.91125 | valid_auc: 0.91125 |  0:32:54s\n",
      "epoch 180| loss: 0.31091 | train_auc: 0.93145 | valid_auc: 0.93145 |  0:33:07s\n",
      "epoch 181| loss: 0.31018 | train_auc: 0.92977 | valid_auc: 0.92977 |  0:33:18s\n",
      "epoch 182| loss: 0.31203 | train_auc: 0.90499 | valid_auc: 0.90499 |  0:33:30s\n",
      "epoch 183| loss: 0.31117 | train_auc: 0.8469  | valid_auc: 0.8469  |  0:33:42s\n",
      "epoch 184| loss: 0.31253 | train_auc: 0.91334 | valid_auc: 0.91334 |  0:33:55s\n",
      "epoch 185| loss: 0.31113 | train_auc: 0.83528 | valid_auc: 0.83528 |  0:34:06s\n",
      "epoch 186| loss: 0.31205 | train_auc: 0.91852 | valid_auc: 0.91852 |  0:34:19s\n",
      "epoch 187| loss: 0.31402 | train_auc: 0.91359 | valid_auc: 0.91359 |  0:34:32s\n",
      "epoch 188| loss: 0.31208 | train_auc: 0.86986 | valid_auc: 0.86986 |  0:34:46s\n",
      "epoch 189| loss: 0.31014 | train_auc: 0.92406 | valid_auc: 0.92406 |  0:34:57s\n",
      "epoch 190| loss: 0.31068 | train_auc: 0.90407 | valid_auc: 0.90407 |  0:35:10s\n",
      "epoch 191| loss: 0.30869 | train_auc: 0.91396 | valid_auc: 0.91396 |  0:35:22s\n",
      "epoch 192| loss: 0.30884 | train_auc: 0.87675 | valid_auc: 0.87675 |  0:35:35s\n",
      "epoch 193| loss: 0.3095  | train_auc: 0.88307 | valid_auc: 0.88307 |  0:35:47s\n",
      "epoch 194| loss: 0.30763 | train_auc: 0.91631 | valid_auc: 0.91631 |  0:35:58s\n",
      "epoch 195| loss: 0.30945 | train_auc: 0.82455 | valid_auc: 0.82455 |  0:36:10s\n",
      "epoch 196| loss: 0.30862 | train_auc: 0.93066 | valid_auc: 0.93066 |  0:36:23s\n",
      "epoch 197| loss: 0.30752 | train_auc: 0.91119 | valid_auc: 0.91119 |  0:36:36s\n",
      "epoch 198| loss: 0.30973 | train_auc: 0.88927 | valid_auc: 0.88927 |  0:36:48s\n",
      "epoch 199| loss: 0.30969 | train_auc: 0.70031 | valid_auc: 0.70031 |  0:37:02s\n",
      "Stop training because you reached max_epochs = 200 with best_epoch = 149 and best_valid_auc = 0.94637\n"
     ]
    },
    {
     "name": "stderr",
     "output_type": "stream",
     "text": [
      "c:\\Users\\sgopalakrish\\Downloads\\intellizenz-model-training\\Neuro-symbolic-AI\\SLASH\\TabNet\\pytorch_tabnet\\callbacks.py:172: UserWarning: Best weights from best epoch are automatically used!\n",
      "  warnings.warn(wrn_msg)\n"
     ]
    }
   ],
   "source": [
    "## Network parameters\n",
    "clf1 = TabNetClassifier(\n",
    "    n_d=64, n_a=64, n_steps=5,\n",
    "    gamma=1.5, n_independent=2, n_shared=2,\n",
    "    cat_emb_dim=1,\n",
    "    lambda_sparse=1e-4, momentum=0.3, clip_value=2.,\n",
    "    optimizer_fn=torch.optim.Adam,\n",
    "    optimizer_params=dict(lr=2e-2),\n",
    "    scheduler_params = {\"gamma\": 0.95,\n",
    "                     \"step_size\": 20},\n",
    "    scheduler_fn=torch.optim.lr_scheduler.StepLR, epsilon=1e-15\n",
    ")\n",
    "\n",
    "# clf1 = TabNetClassifier(\n",
    "#     n_d=64, n_a=64, n_steps=5,\n",
    "#     gamma=1.5, n_independent=2, n_shared=2,\n",
    "#     cat_idxs=cat_idxs,\n",
    "#     cat_dims=cat_dims,\n",
    "#     cat_emb_dim=2,\n",
    "#     lambda_sparse=1e-4, momentum=0.3, clip_value=2.,\n",
    "#     optimizer_fn=torch.optim.Adam,\n",
    "#     optimizer_params=dict(lr=2e-2),\n",
    "#     scheduler_params = {\"gamma\": 0.95,\n",
    "#                      \"step_size\": 20},\n",
    "#     scheduler_fn=torch.optim.lr_scheduler.StepLR, epsilon=1e-15,\n",
    "#     mask_type='entmax' # sparsemax\n",
    "# )\n",
    "\n",
    "max_epochs = 200 if not os.getenv(\"CI\", False) else 2\n",
    "\n",
    "aug = ClassificationSMOTE(p=0.2)\n",
    "#SMOTE - Synthetic Minority Oversampling Technique\n",
    "clf1.fit(\n",
    "    X_train=X_train_clf1, y_train=y_train_clf1,\n",
    "    eval_set=[(X_valid_clf1, y_valid_clf1), (X_valid_clf1, y_valid_clf1)],\n",
    "    eval_name=['train', 'valid'],\n",
    "    max_epochs=max_epochs, patience=100,\n",
    "    batch_size=16384, virtual_batch_size=256, \n",
    "    #batch_size can be 1-10% of whole training dataset size\n",
    "    #Training - 1.3M, 1% - 13,000, 10% - 130,000 \n",
    "    augmentations=aug\n",
    ")"
   ]
  },
  {
   "attachments": {},
   "cell_type": "markdown",
   "metadata": {},
   "source": [
    "### Classification 1 save model, plot, visualization"
   ]
  },
  {
   "cell_type": "code",
   "execution_count": 55,
   "metadata": {},
   "outputs": [
    {
     "data": {
      "image/png": "[encoded data removed]",
      "text/plain": [
       "<Figure size 640x480 with 1 Axes>"
      ]
     },
     "metadata": {},
     "output_type": "display_data"
    }
   ],
   "source": [
    "plot_loss_accuracy(clf1)"
   ]
  },
  {
   "cell_type": "code",
   "execution_count": 54,
   "metadata": {},
   "outputs": [
    {
     "name": "stdout",
     "output_type": "stream",
     "text": [
      "FINAL TEST SCORE FOR Intellizenz : 0.87295\n",
      "FINAL TEST SCORE FOR Intellizenz : 0.87295\n"
     ]
    }
   ],
   "source": [
    "pred_probas, y_pred, test_acc = test_prediction(clf1, X_test_clf1, y_test_clf1)"
   ]
  },
  {
   "cell_type": "code",
   "execution_count": 29,
   "metadata": {},
   "outputs": [
    {
     "data": {
      "text/plain": [
       "array([0, 0, 0, ..., 0, 0, 0])"
      ]
     },
     "execution_count": 29,
     "metadata": {},
     "output_type": "execute_result"
    }
   ],
   "source": [
    "y_pred"
   ]
  },
  {
   "cell_type": "code",
   "execution_count": 59,
   "metadata": {},
   "outputs": [
    {
     "data": {
      "text/html": [
       "wandb version 0.13.7 is available!  To upgrade, please run:\n",
       " $ pip install wandb --upgrade"
      ],
      "text/plain": [
       "<IPython.core.display.HTML object>"
      ]
     },
     "metadata": {},
     "output_type": "display_data"
    },
    {
     "data": {
      "text/html": [
       "Tracking run with wandb version 0.13.5"
      ],
      "text/plain": [
       "<IPython.core.display.HTML object>"
      ]
     },
     "metadata": {},
     "output_type": "display_data"
    },
    {
     "data": {
      "text/html": [
       "Run data is saved locally in <code>c:\\Users\\sgopalakrish\\Downloads\\intellizenz-model-training\\Neuro-symbolic-AI\\SLASH\\TabNet\\wandb\\run-20230108_145054-1mjjul35</code>"
      ],
      "text/plain": [
       "<IPython.core.display.HTML object>"
      ]
     },
     "metadata": {},
     "output_type": "display_data"
    },
    {
     "data": {
      "text/html": [
       "Syncing run <strong><a href=\"https://wandb.ai/elsaravana/Intellizenz/runs/1mjjul35\" target=\"_blank\">expert-plant-173</a></strong> to <a href=\"https://wandb.ai/elsaravana/Intellizenz\" target=\"_blank\">Weights & Biases</a> (<a href=\"https://wandb.me/run\" target=\"_blank\">docs</a>)<br/>"
      ],
      "text/plain": [
       "<IPython.core.display.HTML object>"
      ]
     },
     "metadata": {},
     "output_type": "display_data"
    },
    {
     "name": "stderr",
     "output_type": "stream",
     "text": [
      "\u001b[34m\u001b[1mwandb\u001b[0m: \u001b[33mWARNING\u001b[0m wandb uses only 10000 data points to create the plots.\n"
     ]
    },
    {
     "data": {
      "text/html": [
       "Waiting for W&B process to finish... <strong style=\"color:green\">(success).</strong>"
      ],
      "text/plain": [
       "<IPython.core.display.HTML object>"
      ]
     },
     "metadata": {},
     "output_type": "display_data"
    },
    {
     "data": {
      "text/html": [
       "<style>\n",
       "    table.wandb td:nth-child(1) { padding: 0 10px; text-align: left ; width: auto;} td:nth-child(2) {text-align: left ; width: 100%}\n",
       "    .wandb-row { display: flex; flex-direction: row; flex-wrap: wrap; justify-content: flex-start; width: 100% }\n",
       "    .wandb-col { display: flex; flex-direction: column; flex-basis: 100%; flex: 1; padding: 10px; }\n",
       "    </style>\n",
       "<div class=\"wandb-row\"><div class=\"wandb-col\"><h3>Run history:</h3><br/><table class=\"wandb\"><tr><td>test_accuracy</td><td>▁</td></tr><tr><td>train_auc</td><td>▁▃▄▅▅▇▆▆▇▇▇▇▇▇█▇▇▆▇▇▇▇▇▇▇▆▆▆█▇███▇▇▆▆█▇▂</td></tr><tr><td>train_loss</td><td>█▇▅▃▂▂▂▂▂▂▂▂▁▁▁▁▁▁▁▁▁▁▁▁▁▁▁▂▁▁▁▁▁▁▁▁▁▁▁▁</td></tr><tr><td>validation_auc</td><td>▁▃▄▅▅▇▆▆▇▇▇▇▇▇█▇▇▆▇▇▇▇▇▇▇▆▆▆█▇███▇▇▆▆█▇▂</td></tr></table><br/></div><div class=\"wandb-col\"><h3>Run summary:</h3><br/><table class=\"wandb\"><tr><td>test_accuracy</td><td>0.87295</td></tr><tr><td>train_auc</td><td>0.70031</td></tr><tr><td>train_loss</td><td>0.30969</td></tr><tr><td>validation_auc</td><td>0.70031</td></tr></table><br/></div></div>"
      ],
      "text/plain": [
       "<IPython.core.display.HTML object>"
      ]
     },
     "metadata": {},
     "output_type": "display_data"
    },
    {
     "data": {
      "text/html": [
       "Synced <strong style=\"color:#cdcd00\">expert-plant-173</strong>: <a href=\"https://wandb.ai/elsaravana/Intellizenz/runs/1mjjul35\" target=\"_blank\">https://wandb.ai/elsaravana/Intellizenz/runs/1mjjul35</a><br/>Synced 5 W&B file(s), 3 media file(s), 3 artifact file(s) and 0 other file(s)"
      ],
      "text/plain": [
       "<IPython.core.display.HTML object>"
      ]
     },
     "metadata": {},
     "output_type": "display_data"
    },
    {
     "data": {
      "text/html": [
       "Find logs at: <code>.\\wandb\\run-20230108_145054-1mjjul35\\logs</code>"
      ],
      "text/plain": [
       "<IPython.core.display.HTML object>"
      ]
     },
     "metadata": {},
     "output_type": "display_data"
    }
   ],
   "source": [
    "wand_log(model=clf1,pred_probas=pred_probas, y_test= y_test_clf1, y_pred=y_pred, test_accuracy=test_acc)"
   ]
  },
  {
   "cell_type": "code",
   "execution_count": 17,
   "metadata": {},
   "outputs": [
    {
     "ename": "TypeError",
     "evalue": "Object of type int32 is not JSON serializable",
     "output_type": "error",
     "traceback": [
      "\u001b[1;31m---------------------------------------------------------------------------\u001b[0m",
      "\u001b[1;31mTypeError\u001b[0m                                 Traceback (most recent call last)",
      "Cell \u001b[1;32mIn [17], line 1\u001b[0m\n\u001b[1;32m----> 1\u001b[0m save_model(clf1,path\u001b[39m=\u001b[39;49m\u001b[39m\"\u001b[39;49m\u001b[39m./baseline_tabnet_model_test_1\u001b[39;49m\u001b[39m\"\u001b[39;49m)\n",
      "Cell \u001b[1;32mIn [7], line 4\u001b[0m, in \u001b[0;36msave_model\u001b[1;34m(model, path)\u001b[0m\n\u001b[0;32m      1\u001b[0m \u001b[39mdef\u001b[39;00m \u001b[39msave_model\u001b[39m(model, path):\n\u001b[0;32m      2\u001b[0m     \u001b[39m# save state dict\u001b[39;00m\n\u001b[0;32m      3\u001b[0m     \u001b[39m# saving_path_name = \"./baseline_tabnet_model_test_1\"\u001b[39;00m\n\u001b[1;32m----> 4\u001b[0m     saved_filename \u001b[39m=\u001b[39m model\u001b[39m.\u001b[39;49msave_model(path)\n",
      "File \u001b[1;32mc:\\Users\\sgopalakrish\\Downloads\\intellizenz-model-training\\Neuro-symbolic-AI\\SLASH\\TabNet\\pytorch_tabnet\\abstract_model.py:398\u001b[0m, in \u001b[0;36mTabModel.save_model\u001b[1;34m(self, path)\u001b[0m\n\u001b[0;32m    396\u001b[0m \u001b[39m# Save models params\u001b[39;00m\n\u001b[0;32m    397\u001b[0m \u001b[39mwith\u001b[39;00m \u001b[39mopen\u001b[39m(Path(path)\u001b[39m.\u001b[39mjoinpath(\u001b[39m\"\u001b[39m\u001b[39mmodel_params.json\u001b[39m\u001b[39m\"\u001b[39m), \u001b[39m\"\u001b[39m\u001b[39mw\u001b[39m\u001b[39m\"\u001b[39m, encoding\u001b[39m=\u001b[39m\u001b[39m\"\u001b[39m\u001b[39mutf8\u001b[39m\u001b[39m\"\u001b[39m) \u001b[39mas\u001b[39;00m f:\n\u001b[1;32m--> 398\u001b[0m     json\u001b[39m.\u001b[39;49mdump(saved_params, f, \u001b[39mcls\u001b[39;49m\u001b[39m=\u001b[39;49mComplexEncoder)\n\u001b[0;32m    400\u001b[0m \u001b[39m# Save state_dict\u001b[39;00m\n\u001b[0;32m    401\u001b[0m torch\u001b[39m.\u001b[39msave(\u001b[39mself\u001b[39m\u001b[39m.\u001b[39mnetwork\u001b[39m.\u001b[39mstate_dict(), Path(path)\u001b[39m.\u001b[39mjoinpath(\u001b[39m\"\u001b[39m\u001b[39mnetwork.pt\u001b[39m\u001b[39m\"\u001b[39m))\n",
      "File \u001b[1;32m~\\AppData\\Local\\Programs\\Python\\Python39\\lib\\json\\__init__.py:179\u001b[0m, in \u001b[0;36mdump\u001b[1;34m(obj, fp, skipkeys, ensure_ascii, check_circular, allow_nan, cls, indent, separators, default, sort_keys, **kw)\u001b[0m\n\u001b[0;32m    173\u001b[0m     iterable \u001b[39m=\u001b[39m \u001b[39mcls\u001b[39m(skipkeys\u001b[39m=\u001b[39mskipkeys, ensure_ascii\u001b[39m=\u001b[39mensure_ascii,\n\u001b[0;32m    174\u001b[0m         check_circular\u001b[39m=\u001b[39mcheck_circular, allow_nan\u001b[39m=\u001b[39mallow_nan, indent\u001b[39m=\u001b[39mindent,\n\u001b[0;32m    175\u001b[0m         separators\u001b[39m=\u001b[39mseparators,\n\u001b[0;32m    176\u001b[0m         default\u001b[39m=\u001b[39mdefault, sort_keys\u001b[39m=\u001b[39msort_keys, \u001b[39m*\u001b[39m\u001b[39m*\u001b[39mkw)\u001b[39m.\u001b[39miterencode(obj)\n\u001b[0;32m    177\u001b[0m \u001b[39m# could accelerate with writelines in some versions of Python, at\u001b[39;00m\n\u001b[0;32m    178\u001b[0m \u001b[39m# a debuggability cost\u001b[39;00m\n\u001b[1;32m--> 179\u001b[0m \u001b[39mfor\u001b[39;00m chunk \u001b[39min\u001b[39;00m iterable:\n\u001b[0;32m    180\u001b[0m     fp\u001b[39m.\u001b[39mwrite(chunk)\n",
      "File \u001b[1;32m~\\AppData\\Local\\Programs\\Python\\Python39\\lib\\json\\encoder.py:431\u001b[0m, in \u001b[0;36m_make_iterencode.<locals>._iterencode\u001b[1;34m(o, _current_indent_level)\u001b[0m\n\u001b[0;32m    429\u001b[0m     \u001b[39myield from\u001b[39;00m _iterencode_list(o, _current_indent_level)\n\u001b[0;32m    430\u001b[0m \u001b[39melif\u001b[39;00m \u001b[39misinstance\u001b[39m(o, \u001b[39mdict\u001b[39m):\n\u001b[1;32m--> 431\u001b[0m     \u001b[39myield from\u001b[39;00m _iterencode_dict(o, _current_indent_level)\n\u001b[0;32m    432\u001b[0m \u001b[39melse\u001b[39;00m:\n\u001b[0;32m    433\u001b[0m     \u001b[39mif\u001b[39;00m markers \u001b[39mis\u001b[39;00m \u001b[39mnot\u001b[39;00m \u001b[39mNone\u001b[39;00m:\n",
      "File \u001b[1;32m~\\AppData\\Local\\Programs\\Python\\Python39\\lib\\json\\encoder.py:405\u001b[0m, in \u001b[0;36m_make_iterencode.<locals>._iterencode_dict\u001b[1;34m(dct, _current_indent_level)\u001b[0m\n\u001b[0;32m    403\u001b[0m         \u001b[39melse\u001b[39;00m:\n\u001b[0;32m    404\u001b[0m             chunks \u001b[39m=\u001b[39m _iterencode(value, _current_indent_level)\n\u001b[1;32m--> 405\u001b[0m         \u001b[39myield from\u001b[39;00m chunks\n\u001b[0;32m    406\u001b[0m \u001b[39mif\u001b[39;00m newline_indent \u001b[39mis\u001b[39;00m \u001b[39mnot\u001b[39;00m \u001b[39mNone\u001b[39;00m:\n\u001b[0;32m    407\u001b[0m     _current_indent_level \u001b[39m-\u001b[39m\u001b[39m=\u001b[39m \u001b[39m1\u001b[39m\n",
      "File \u001b[1;32m~\\AppData\\Local\\Programs\\Python\\Python39\\lib\\json\\encoder.py:405\u001b[0m, in \u001b[0;36m_make_iterencode.<locals>._iterencode_dict\u001b[1;34m(dct, _current_indent_level)\u001b[0m\n\u001b[0;32m    403\u001b[0m         \u001b[39melse\u001b[39;00m:\n\u001b[0;32m    404\u001b[0m             chunks \u001b[39m=\u001b[39m _iterencode(value, _current_indent_level)\n\u001b[1;32m--> 405\u001b[0m         \u001b[39myield from\u001b[39;00m chunks\n\u001b[0;32m    406\u001b[0m \u001b[39mif\u001b[39;00m newline_indent \u001b[39mis\u001b[39;00m \u001b[39mnot\u001b[39;00m \u001b[39mNone\u001b[39;00m:\n\u001b[0;32m    407\u001b[0m     _current_indent_level \u001b[39m-\u001b[39m\u001b[39m=\u001b[39m \u001b[39m1\u001b[39m\n",
      "File \u001b[1;32m~\\AppData\\Local\\Programs\\Python\\Python39\\lib\\json\\encoder.py:405\u001b[0m, in \u001b[0;36m_make_iterencode.<locals>._iterencode_dict\u001b[1;34m(dct, _current_indent_level)\u001b[0m\n\u001b[0;32m    403\u001b[0m         \u001b[39melse\u001b[39;00m:\n\u001b[0;32m    404\u001b[0m             chunks \u001b[39m=\u001b[39m _iterencode(value, _current_indent_level)\n\u001b[1;32m--> 405\u001b[0m         \u001b[39myield from\u001b[39;00m chunks\n\u001b[0;32m    406\u001b[0m \u001b[39mif\u001b[39;00m newline_indent \u001b[39mis\u001b[39;00m \u001b[39mnot\u001b[39;00m \u001b[39mNone\u001b[39;00m:\n\u001b[0;32m    407\u001b[0m     _current_indent_level \u001b[39m-\u001b[39m\u001b[39m=\u001b[39m \u001b[39m1\u001b[39m\n",
      "File \u001b[1;32m~\\AppData\\Local\\Programs\\Python\\Python39\\lib\\json\\encoder.py:438\u001b[0m, in \u001b[0;36m_make_iterencode.<locals>._iterencode\u001b[1;34m(o, _current_indent_level)\u001b[0m\n\u001b[0;32m    436\u001b[0m         \u001b[39mraise\u001b[39;00m \u001b[39mValueError\u001b[39;00m(\u001b[39m\"\u001b[39m\u001b[39mCircular reference detected\u001b[39m\u001b[39m\"\u001b[39m)\n\u001b[0;32m    437\u001b[0m     markers[markerid] \u001b[39m=\u001b[39m o\n\u001b[1;32m--> 438\u001b[0m o \u001b[39m=\u001b[39m _default(o)\n\u001b[0;32m    439\u001b[0m \u001b[39myield from\u001b[39;00m _iterencode(o, _current_indent_level)\n\u001b[0;32m    440\u001b[0m \u001b[39mif\u001b[39;00m markers \u001b[39mis\u001b[39;00m \u001b[39mnot\u001b[39;00m \u001b[39mNone\u001b[39;00m:\n",
      "File \u001b[1;32mc:\\Users\\sgopalakrish\\Downloads\\intellizenz-model-training\\Neuro-symbolic-AI\\SLASH\\TabNet\\pytorch_tabnet\\utils.py:341\u001b[0m, in \u001b[0;36mComplexEncoder.default\u001b[1;34m(self, obj)\u001b[0m\n\u001b[0;32m    339\u001b[0m     \u001b[39mreturn\u001b[39;00m \u001b[39mint\u001b[39m(obj)\n\u001b[0;32m    340\u001b[0m \u001b[39m# Let the base class default method raise the TypeError\u001b[39;00m\n\u001b[1;32m--> 341\u001b[0m \u001b[39mreturn\u001b[39;00m json\u001b[39m.\u001b[39;49mJSONEncoder\u001b[39m.\u001b[39;49mdefault(\u001b[39mself\u001b[39;49m, obj)\n",
      "File \u001b[1;32m~\\AppData\\Local\\Programs\\Python\\Python39\\lib\\json\\encoder.py:179\u001b[0m, in \u001b[0;36mJSONEncoder.default\u001b[1;34m(self, o)\u001b[0m\n\u001b[0;32m    160\u001b[0m \u001b[39mdef\u001b[39;00m \u001b[39mdefault\u001b[39m(\u001b[39mself\u001b[39m, o):\n\u001b[0;32m    161\u001b[0m     \u001b[39m\"\"\"Implement this method in a subclass such that it returns\u001b[39;00m\n\u001b[0;32m    162\u001b[0m \u001b[39m    a serializable object for ``o``, or calls the base implementation\u001b[39;00m\n\u001b[0;32m    163\u001b[0m \u001b[39m    (to raise a ``TypeError``).\u001b[39;00m\n\u001b[1;32m   (...)\u001b[0m\n\u001b[0;32m    177\u001b[0m \n\u001b[0;32m    178\u001b[0m \u001b[39m    \"\"\"\u001b[39;00m\n\u001b[1;32m--> 179\u001b[0m     \u001b[39mraise\u001b[39;00m \u001b[39mTypeError\u001b[39;00m(\u001b[39mf\u001b[39m\u001b[39m'\u001b[39m\u001b[39mObject of type \u001b[39m\u001b[39m{\u001b[39;00mo\u001b[39m.\u001b[39m\u001b[39m__class__\u001b[39m\u001b[39m.\u001b[39m\u001b[39m__name__\u001b[39m\u001b[39m}\u001b[39;00m\u001b[39m \u001b[39m\u001b[39m'\u001b[39m\n\u001b[0;32m    180\u001b[0m                     \u001b[39mf\u001b[39m\u001b[39m'\u001b[39m\u001b[39mis not JSON serializable\u001b[39m\u001b[39m'\u001b[39m)\n",
      "\u001b[1;31mTypeError\u001b[0m: Object of type int32 is not JSON serializable"
     ]
    }
   ],
   "source": [
    "save_model(clf1,path=\"./baseline_tabnet_model_test_1\")"
   ]
  },
  {
   "cell_type": "code",
   "execution_count": null,
   "metadata": {},
   "outputs": [],
   "source": [
    "# clf_1 = load_model(path=\"./baseline_tabnet_model_test_1\")"
   ]
  },
  {
   "cell_type": "code",
   "execution_count": null,
   "metadata": {},
   "outputs": [],
   "source": [
    "plot_loss_accuracy(clf1)\n",
    "pred_probas, y_pred, test_acc = test_prediction(clf1, X_test_clf1, y_test_clf1)\n",
    "\n",
    "wand_log(model=clf1,pred_probas=pred_probas, y_test= y_test_clf1, y_pred=y_pred, test_accuracy=test_acc)"
   ]
  },
  {
   "attachments": {},
   "cell_type": "markdown",
   "metadata": {},
   "source": [
    "### Classification 2"
   ]
  },
  {
   "cell_type": "code",
   "execution_count": null,
   "metadata": {},
   "outputs": [],
   "source": [
    "# # For Classifier2 (clf2) we use data from segments 2 and 3 (so we drop records where y_clf2 is NaN)\n",
    "# df_train_clf2 = df_train.dropna(subset=['y_clf2'])\n",
    "# df_valid_clf2 = df_valid.dropna(subset=['y_clf2'])\n",
    "# df_test_clf2 = df_test.dropna(subset=['y_clf2'])\n",
    "\n",
    "\n",
    "# ## 77 input features - without tarif\n",
    "# X_train_clf2 = df_train_clf2[feature_columns].values\n",
    "# y_train_clf2 = df_train_clf2.y_clf2\n",
    "\n",
    "# X_valid_clf2 = df_valid_clf2[feature_columns].values\n",
    "# y_valid_clf2 = df_valid_clf2.y_clf2\n",
    "\n",
    "# X_test_clf2 = df_test_clf2[feature_columns].values\n",
    "# y_test_clf2 = df_test_clf2.y_clf2"
   ]
  },
  {
   "cell_type": "code",
   "execution_count": null,
   "metadata": {},
   "outputs": [],
   "source": [
    "# For Classifier2 (clf2) we use data from segments 2 and 3 (so we drop records where y_clf2 is NaN)\n",
    "df_sampled_clf2 = df_sampled.dropna(subset=['y_clf2'])"
   ]
  },
  {
   "cell_type": "code",
   "execution_count": null,
   "metadata": {},
   "outputs": [],
   "source": [
    "nunique_clf2 = df_sampled_clf2.nunique()\n",
    "types_clf2 = df_sampled_clf2.dtypes\n",
    "\n",
    "categorical_columns_clf2 = []\n",
    "categorical_dims_clf2 =  {}\n",
    "for col in df_sampled_clf2.columns:\n",
    "    if types_clf2[col] == 'object' or nunique_clf2[col] < 200:\n",
    "        print(col, df_sampled_clf2[col].nunique())\n",
    "        l_enc = LabelEncoder()\n",
    "        df_sampled_clf2[col] = l_enc.fit_transform(df_sampled_clf2[col].values)\n",
    "        categorical_columns_clf2.append(col)\n",
    "        categorical_dims_clf2[col] = len(l_enc.classes_)"
   ]
  },
  {
   "cell_type": "code",
   "execution_count": null,
   "metadata": {},
   "outputs": [],
   "source": [
    "cat_idxs_clf2 = [ i for i, f in enumerate(feature_columns) if f in categorical_columns_clf2]\n",
    "cat_dims_clf2 = [ categorical_dims_clf2[f] for i, f in enumerate(feature_columns) if f in categorical_columns_clf2]\n",
    "print(cat_idxs_clf2)\n",
    "print(cat_dims_clf2)"
   ]
  },
  {
   "cell_type": "code",
   "execution_count": 63,
   "metadata": {},
   "outputs": [],
   "source": [
    "n_total_clf2 = len(df_sampled_clf2)\n",
    "\n",
    "# Train, val and test split follows\n",
    "# Rory Mitchell, Andrey Adinets, Thejaswi Rao, and Eibe Frank.\n",
    "# Xgboost: Scalable GPU accelerated learning. arXiv:1806.11248, 2018.\n",
    "\n",
    "# #Train set = 53%, test set = 20%, valid set = 26%\n",
    "# train_val_indices_clf2, test_indices_clf2 = train_test_split(\n",
    "#     range(n_total_clf2), test_size=0.2, random_state=0)\n",
    "# train_indices_clf2, valid_indices_clf2 = train_test_split(\n",
    "#     train_val_indices_clf2, test_size=0.2 / 0.6, random_state=0) #valid split = 33%(0.2/0.6)\n",
    "\n",
    "# 0.1, 0.1 / 0.8 - Train set = 78%, test set = 10%, valid set = 11%\n",
    "train_val_indices_clf2, test_indices_clf2 = train_test_split(\n",
    "    range(n_total_clf2), test_size=0.1, random_state=0)\n",
    "train_indices_clf2, valid_indices_clf2 = train_test_split(\n",
    "    train_val_indices_clf2, test_size=0.1 / 0.8, random_state=0) #valid split = 11%(0.1/0.8)"
   ]
  },
  {
   "cell_type": "code",
   "execution_count": 64,
   "metadata": {},
   "outputs": [],
   "source": [
    "X_train_clf2 = df_sampled_clf2[feature_columns].values[train_indices_clf2]\n",
    "y_train_clf2 = df_sampled_clf2['y_clf2'].values[train_indices_clf2]\n",
    "\n",
    "X_valid_clf2 = df_sampled_clf2[feature_columns].values[valid_indices_clf2]\n",
    "y_valid_clf2 = df_sampled_clf2['y_clf2'].values[valid_indices_clf2]\n",
    "\n",
    "X_test_clf2 = df_sampled_clf2[feature_columns].values[test_indices_clf2]\n",
    "y_test_clf2 = df_sampled_clf2['y_clf2'].values[test_indices_clf2]"
   ]
  },
  {
   "cell_type": "code",
   "execution_count": 65,
   "metadata": {},
   "outputs": [
    {
     "name": "stderr",
     "output_type": "stream",
     "text": [
      "c:\\Users\\sgopalakrish\\Downloads\\intellizenz-model-training\\Neuro-symbolic-AI\\SLASH\\TabNet\\pytorch_tabnet\\abstract_model.py:75: UserWarning: Device used : cuda\n",
      "  warnings.warn(f\"Device used : {self.device}\")\n"
     ]
    },
    {
     "name": "stdout",
     "output_type": "stream",
     "text": [
      "epoch 0  | loss: 0.79975 | train_auc: 0.51936 | valid_auc: 0.51936 |  0:00:06s\n",
      "epoch 1  | loss: 0.67614 | train_auc: 0.64283 | valid_auc: 0.64283 |  0:00:12s\n",
      "epoch 2  | loss: 0.82021 | train_auc: 0.54176 | valid_auc: 0.54176 |  0:00:19s\n",
      "epoch 3  | loss: 0.62083 | train_auc: 0.65114 | valid_auc: 0.65114 |  0:00:25s\n",
      "epoch 4  | loss: 0.5716  | train_auc: 0.58929 | valid_auc: 0.58929 |  0:00:32s\n",
      "epoch 5  | loss: 0.51846 | train_auc: 0.57739 | valid_auc: 0.57739 |  0:00:38s\n",
      "epoch 6  | loss: 0.48726 | train_auc: 0.64575 | valid_auc: 0.64575 |  0:00:45s\n",
      "epoch 7  | loss: 0.4444  | train_auc: 0.67468 | valid_auc: 0.67468 |  0:00:52s\n",
      "epoch 8  | loss: 0.42128 | train_auc: 0.68104 | valid_auc: 0.68104 |  0:00:59s\n",
      "epoch 9  | loss: 0.44721 | train_auc: 0.66222 | valid_auc: 0.66222 |  0:01:06s\n",
      "epoch 10 | loss: 0.43215 | train_auc: 0.66724 | valid_auc: 0.66724 |  0:01:12s\n",
      "epoch 11 | loss: 0.39532 | train_auc: 0.73664 | valid_auc: 0.73664 |  0:01:19s\n",
      "epoch 12 | loss: 0.37804 | train_auc: 0.75878 | valid_auc: 0.75878 |  0:01:26s\n",
      "epoch 13 | loss: 0.36147 | train_auc: 0.74602 | valid_auc: 0.74602 |  0:01:32s\n",
      "epoch 14 | loss: 0.35413 | train_auc: 0.80025 | valid_auc: 0.80025 |  0:01:38s\n",
      "epoch 15 | loss: 0.34837 | train_auc: 0.78416 | valid_auc: 0.78416 |  0:01:44s\n",
      "epoch 16 | loss: 0.34068 | train_auc: 0.77908 | valid_auc: 0.77908 |  0:01:50s\n",
      "epoch 17 | loss: 0.33825 | train_auc: 0.78247 | valid_auc: 0.78247 |  0:01:56s\n",
      "epoch 18 | loss: 0.33471 | train_auc: 0.81292 | valid_auc: 0.81292 |  0:02:03s\n",
      "epoch 19 | loss: 0.32988 | train_auc: 0.82289 | valid_auc: 0.82289 |  0:02:10s\n",
      "epoch 20 | loss: 0.32811 | train_auc: 0.78391 | valid_auc: 0.78391 |  0:02:16s\n",
      "epoch 21 | loss: 0.32674 | train_auc: 0.7788  | valid_auc: 0.7788  |  0:02:23s\n",
      "epoch 22 | loss: 0.32861 | train_auc: 0.79251 | valid_auc: 0.79251 |  0:02:29s\n",
      "epoch 23 | loss: 0.33558 | train_auc: 0.80113 | valid_auc: 0.80113 |  0:02:36s\n",
      "epoch 24 | loss: 0.33128 | train_auc: 0.78916 | valid_auc: 0.78916 |  0:02:43s\n",
      "epoch 25 | loss: 0.33207 | train_auc: 0.84095 | valid_auc: 0.84095 |  0:02:49s\n",
      "epoch 26 | loss: 0.33344 | train_auc: 0.79042 | valid_auc: 0.79042 |  0:02:56s\n",
      "epoch 27 | loss: 0.3261  | train_auc: 0.81821 | valid_auc: 0.81821 |  0:03:02s\n",
      "epoch 28 | loss: 0.32305 | train_auc: 0.7955  | valid_auc: 0.7955  |  0:03:08s\n",
      "epoch 29 | loss: 0.32047 | train_auc: 0.8235  | valid_auc: 0.8235  |  0:03:15s\n",
      "epoch 30 | loss: 0.31916 | train_auc: 0.78391 | valid_auc: 0.78391 |  0:03:21s\n",
      "epoch 31 | loss: 0.31883 | train_auc: 0.80063 | valid_auc: 0.80063 |  0:03:28s\n",
      "epoch 32 | loss: 0.31935 | train_auc: 0.79214 | valid_auc: 0.79214 |  0:03:35s\n",
      "epoch 33 | loss: 0.31899 | train_auc: 0.80017 | valid_auc: 0.80017 |  0:03:41s\n",
      "epoch 34 | loss: 0.31429 | train_auc: 0.80365 | valid_auc: 0.80365 |  0:03:47s\n",
      "epoch 35 | loss: 0.31581 | train_auc: 0.83168 | valid_auc: 0.83168 |  0:03:54s\n",
      "epoch 36 | loss: 0.32127 | train_auc: 0.8404  | valid_auc: 0.8404  |  0:04:01s\n",
      "epoch 37 | loss: 0.31878 | train_auc: 0.79729 | valid_auc: 0.79729 |  0:04:08s\n",
      "epoch 38 | loss: 0.31583 | train_auc: 0.7961  | valid_auc: 0.7961  |  0:04:14s\n",
      "epoch 39 | loss: 0.31627 | train_auc: 0.82518 | valid_auc: 0.82518 |  0:04:20s\n",
      "epoch 40 | loss: 0.31673 | train_auc: 0.85352 | valid_auc: 0.85352 |  0:04:27s\n",
      "epoch 41 | loss: 0.31216 | train_auc: 0.81407 | valid_auc: 0.81407 |  0:04:34s\n",
      "epoch 42 | loss: 0.31148 | train_auc: 0.75307 | valid_auc: 0.75307 |  0:04:40s\n",
      "epoch 43 | loss: 0.3098  | train_auc: 0.83879 | valid_auc: 0.83879 |  0:04:47s\n",
      "epoch 44 | loss: 0.31028 | train_auc: 0.87234 | valid_auc: 0.87234 |  0:04:53s\n",
      "epoch 45 | loss: 0.31222 | train_auc: 0.81968 | valid_auc: 0.81968 |  0:04:59s\n",
      "epoch 46 | loss: 0.30888 | train_auc: 0.8044  | valid_auc: 0.8044  |  0:05:06s\n",
      "epoch 47 | loss: 0.30963 | train_auc: 0.82902 | valid_auc: 0.82902 |  0:05:12s\n",
      "epoch 48 | loss: 0.31146 | train_auc: 0.82029 | valid_auc: 0.82029 |  0:05:19s\n",
      "epoch 49 | loss: 0.31626 | train_auc: 0.81437 | valid_auc: 0.81437 |  0:05:25s\n",
      "epoch 50 | loss: 0.31168 | train_auc: 0.83121 | valid_auc: 0.83121 |  0:05:31s\n",
      "epoch 51 | loss: 0.31392 | train_auc: 0.83158 | valid_auc: 0.83158 |  0:05:38s\n",
      "epoch 52 | loss: 0.31167 | train_auc: 0.84105 | valid_auc: 0.84105 |  0:05:45s\n",
      "epoch 53 | loss: 0.30997 | train_auc: 0.84167 | valid_auc: 0.84167 |  0:05:52s\n",
      "epoch 54 | loss: 0.31158 | train_auc: 0.81131 | valid_auc: 0.81131 |  0:05:59s\n",
      "epoch 55 | loss: 0.30949 | train_auc: 0.83845 | valid_auc: 0.83845 |  0:06:06s\n",
      "epoch 56 | loss: 0.30956 | train_auc: 0.81998 | valid_auc: 0.81998 |  0:06:12s\n",
      "epoch 57 | loss: 0.30844 | train_auc: 0.83633 | valid_auc: 0.83633 |  0:06:18s\n",
      "epoch 58 | loss: 0.30817 | train_auc: 0.82724 | valid_auc: 0.82724 |  0:06:24s\n",
      "epoch 59 | loss: 0.30871 | train_auc: 0.84394 | valid_auc: 0.84394 |  0:06:31s\n",
      "epoch 60 | loss: 0.30717 | train_auc: 0.83658 | valid_auc: 0.83658 |  0:06:38s\n",
      "epoch 61 | loss: 0.30448 | train_auc: 0.84611 | valid_auc: 0.84611 |  0:06:44s\n",
      "epoch 62 | loss: 0.3047  | train_auc: 0.82168 | valid_auc: 0.82168 |  0:06:51s\n",
      "epoch 63 | loss: 0.30301 | train_auc: 0.83478 | valid_auc: 0.83478 |  0:06:57s\n",
      "epoch 64 | loss: 0.30391 | train_auc: 0.83895 | valid_auc: 0.83895 |  0:07:04s\n",
      "epoch 65 | loss: 0.30429 | train_auc: 0.82915 | valid_auc: 0.82915 |  0:07:11s\n",
      "epoch 66 | loss: 0.30135 | train_auc: 0.82267 | valid_auc: 0.82267 |  0:07:17s\n",
      "epoch 67 | loss: 0.30243 | train_auc: 0.86942 | valid_auc: 0.86942 |  0:07:24s\n",
      "epoch 68 | loss: 0.3074  | train_auc: 0.81725 | valid_auc: 0.81725 |  0:07:30s\n",
      "epoch 69 | loss: 0.31036 | train_auc: 0.86387 | valid_auc: 0.86387 |  0:07:36s\n",
      "epoch 70 | loss: 0.30935 | train_auc: 0.84318 | valid_auc: 0.84318 |  0:07:42s\n",
      "epoch 71 | loss: 0.30559 | train_auc: 0.86304 | valid_auc: 0.86304 |  0:07:48s\n",
      "epoch 72 | loss: 0.30448 | train_auc: 0.81846 | valid_auc: 0.81846 |  0:07:55s\n",
      "epoch 73 | loss: 0.30608 | train_auc: 0.8623  | valid_auc: 0.8623  |  0:08:01s\n",
      "epoch 74 | loss: 0.30631 | train_auc: 0.84575 | valid_auc: 0.84575 |  0:08:08s\n",
      "epoch 75 | loss: 0.30408 | train_auc: 0.82938 | valid_auc: 0.82938 |  0:08:14s\n",
      "epoch 76 | loss: 0.30531 | train_auc: 0.83657 | valid_auc: 0.83657 |  0:08:21s\n",
      "epoch 77 | loss: 0.30557 | train_auc: 0.84265 | valid_auc: 0.84265 |  0:08:27s\n",
      "epoch 78 | loss: 0.30403 | train_auc: 0.84239 | valid_auc: 0.84239 |  0:08:33s\n",
      "epoch 79 | loss: 0.30679 | train_auc: 0.81984 | valid_auc: 0.81984 |  0:08:40s\n",
      "epoch 80 | loss: 0.30346 | train_auc: 0.8386  | valid_auc: 0.8386  |  0:08:46s\n",
      "epoch 81 | loss: 0.30329 | train_auc: 0.85059 | valid_auc: 0.85059 |  0:08:53s\n",
      "epoch 82 | loss: 0.30057 | train_auc: 0.84156 | valid_auc: 0.84156 |  0:09:00s\n",
      "epoch 83 | loss: 0.30078 | train_auc: 0.861   | valid_auc: 0.861   |  0:09:06s\n",
      "epoch 84 | loss: 0.30354 | train_auc: 0.83872 | valid_auc: 0.83872 |  0:09:12s\n",
      "epoch 85 | loss: 0.30379 | train_auc: 0.83203 | valid_auc: 0.83203 |  0:09:19s\n",
      "epoch 86 | loss: 0.30326 | train_auc: 0.83312 | valid_auc: 0.83312 |  0:09:26s\n",
      "epoch 87 | loss: 0.30227 | train_auc: 0.8547  | valid_auc: 0.8547  |  0:09:33s\n",
      "epoch 88 | loss: 0.30408 | train_auc: 0.84355 | valid_auc: 0.84355 |  0:09:39s\n",
      "epoch 89 | loss: 0.30268 | train_auc: 0.84104 | valid_auc: 0.84104 |  0:09:46s\n",
      "epoch 90 | loss: 0.30317 | train_auc: 0.83248 | valid_auc: 0.83248 |  0:09:52s\n",
      "epoch 91 | loss: 0.30242 | train_auc: 0.86425 | valid_auc: 0.86425 |  0:09:58s\n",
      "epoch 92 | loss: 0.30183 | train_auc: 0.81935 | valid_auc: 0.81935 |  0:10:05s\n",
      "epoch 93 | loss: 0.30192 | train_auc: 0.83359 | valid_auc: 0.83359 |  0:10:11s\n",
      "epoch 94 | loss: 0.30036 | train_auc: 0.85363 | valid_auc: 0.85363 |  0:10:18s\n",
      "epoch 95 | loss: 0.3002  | train_auc: 0.86609 | valid_auc: 0.86609 |  0:10:24s\n",
      "epoch 96 | loss: 0.29996 | train_auc: 0.82967 | valid_auc: 0.82967 |  0:10:31s\n",
      "epoch 97 | loss: 0.29979 | train_auc: 0.85445 | valid_auc: 0.85445 |  0:10:37s\n",
      "epoch 98 | loss: 0.30078 | train_auc: 0.84769 | valid_auc: 0.84769 |  0:10:44s\n",
      "epoch 99 | loss: 0.29933 | train_auc: 0.82786 | valid_auc: 0.82786 |  0:10:51s\n",
      "epoch 100| loss: 0.30145 | train_auc: 0.84708 | valid_auc: 0.84708 |  0:10:58s\n",
      "epoch 101| loss: 0.30353 | train_auc: 0.86708 | valid_auc: 0.86708 |  0:11:05s\n",
      "epoch 102| loss: 0.30172 | train_auc: 0.85981 | valid_auc: 0.85981 |  0:11:11s\n",
      "epoch 103| loss: 0.29829 | train_auc: 0.83678 | valid_auc: 0.83678 |  0:11:18s\n",
      "epoch 104| loss: 0.30035 | train_auc: 0.84664 | valid_auc: 0.84664 |  0:11:24s\n",
      "epoch 105| loss: 0.30028 | train_auc: 0.83528 | valid_auc: 0.83528 |  0:11:31s\n",
      "epoch 106| loss: 0.30159 | train_auc: 0.85965 | valid_auc: 0.85965 |  0:11:37s\n",
      "epoch 107| loss: 0.30578 | train_auc: 0.84422 | valid_auc: 0.84422 |  0:11:44s\n",
      "epoch 108| loss: 0.30404 | train_auc: 0.84292 | valid_auc: 0.84292 |  0:11:50s\n",
      "epoch 109| loss: 0.30109 | train_auc: 0.84956 | valid_auc: 0.84956 |  0:11:57s\n",
      "epoch 110| loss: 0.30096 | train_auc: 0.84929 | valid_auc: 0.84929 |  0:12:04s\n",
      "epoch 111| loss: 0.29887 | train_auc: 0.83259 | valid_auc: 0.83259 |  0:12:10s\n",
      "epoch 112| loss: 0.29854 | train_auc: 0.84661 | valid_auc: 0.84661 |  0:12:16s\n",
      "epoch 113| loss: 0.29987 | train_auc: 0.83302 | valid_auc: 0.83302 |  0:12:22s\n",
      "epoch 114| loss: 0.29826 | train_auc: 0.85581 | valid_auc: 0.85581 |  0:12:28s\n",
      "epoch 115| loss: 0.2987  | train_auc: 0.83542 | valid_auc: 0.83542 |  0:12:34s\n",
      "epoch 116| loss: 0.29704 | train_auc: 0.8379  | valid_auc: 0.8379  |  0:12:41s\n",
      "epoch 117| loss: 0.30168 | train_auc: 0.8575  | valid_auc: 0.8575  |  0:12:47s\n",
      "epoch 118| loss: 0.30092 | train_auc: 0.83789 | valid_auc: 0.83789 |  0:12:53s\n",
      "epoch 119| loss: 0.29964 | train_auc: 0.88252 | valid_auc: 0.88252 |  0:13:00s\n",
      "epoch 120| loss: 0.29757 | train_auc: 0.85261 | valid_auc: 0.85261 |  0:13:07s\n",
      "epoch 121| loss: 0.29882 | train_auc: 0.84696 | valid_auc: 0.84696 |  0:13:13s\n",
      "epoch 122| loss: 0.3003  | train_auc: 0.84249 | valid_auc: 0.84249 |  0:13:20s\n",
      "epoch 123| loss: 0.30114 | train_auc: 0.85429 | valid_auc: 0.85429 |  0:13:26s\n",
      "epoch 124| loss: 0.30119 | train_auc: 0.85259 | valid_auc: 0.85259 |  0:13:33s\n",
      "epoch 125| loss: 0.30084 | train_auc: 0.82976 | valid_auc: 0.82976 |  0:13:39s\n",
      "epoch 126| loss: 0.30124 | train_auc: 0.84689 | valid_auc: 0.84689 |  0:13:46s\n",
      "epoch 127| loss: 0.30279 | train_auc: 0.83199 | valid_auc: 0.83199 |  0:13:52s\n",
      "epoch 128| loss: 0.29944 | train_auc: 0.86732 | valid_auc: 0.86732 |  0:13:59s\n",
      "epoch 129| loss: 0.29941 | train_auc: 0.85622 | valid_auc: 0.85622 |  0:14:05s\n",
      "epoch 130| loss: 0.30076 | train_auc: 0.83298 | valid_auc: 0.83298 |  0:14:12s\n",
      "epoch 131| loss: 0.29919 | train_auc: 0.83786 | valid_auc: 0.83786 |  0:14:18s\n",
      "epoch 132| loss: 0.29912 | train_auc: 0.83113 | valid_auc: 0.83113 |  0:14:25s\n",
      "epoch 133| loss: 0.29673 | train_auc: 0.83971 | valid_auc: 0.83971 |  0:14:32s\n",
      "epoch 134| loss: 0.29767 | train_auc: 0.85126 | valid_auc: 0.85126 |  0:14:39s\n",
      "epoch 135| loss: 0.29701 | train_auc: 0.84185 | valid_auc: 0.84185 |  0:14:45s\n",
      "epoch 136| loss: 0.29766 | train_auc: 0.85776 | valid_auc: 0.85776 |  0:14:52s\n",
      "epoch 137| loss: 0.29978 | train_auc: 0.82254 | valid_auc: 0.82254 |  0:14:58s\n",
      "epoch 138| loss: 0.29661 | train_auc: 0.82213 | valid_auc: 0.82213 |  0:15:04s\n",
      "epoch 139| loss: 0.29934 | train_auc: 0.82829 | valid_auc: 0.82829 |  0:15:11s\n",
      "epoch 140| loss: 0.29683 | train_auc: 0.84276 | valid_auc: 0.84276 |  0:15:18s\n",
      "epoch 141| loss: 0.29725 | train_auc: 0.83456 | valid_auc: 0.83456 |  0:15:25s\n",
      "epoch 142| loss: 0.29679 | train_auc: 0.85277 | valid_auc: 0.85277 |  0:15:32s\n",
      "epoch 143| loss: 0.29623 | train_auc: 0.78689 | valid_auc: 0.78689 |  0:15:38s\n",
      "epoch 144| loss: 0.29746 | train_auc: 0.82096 | valid_auc: 0.82096 |  0:15:45s\n",
      "epoch 145| loss: 0.3016  | train_auc: 0.85287 | valid_auc: 0.85287 |  0:15:52s\n",
      "epoch 146| loss: 0.29968 | train_auc: 0.84381 | valid_auc: 0.84381 |  0:15:58s\n",
      "epoch 147| loss: 0.30047 | train_auc: 0.85502 | valid_auc: 0.85502 |  0:16:03s\n",
      "epoch 148| loss: 0.29968 | train_auc: 0.82047 | valid_auc: 0.82047 |  0:16:10s\n",
      "epoch 149| loss: 0.3001  | train_auc: 0.85607 | valid_auc: 0.85607 |  0:16:16s\n",
      "epoch 150| loss: 0.29969 | train_auc: 0.84035 | valid_auc: 0.84035 |  0:16:22s\n",
      "epoch 151| loss: 0.29868 | train_auc: 0.85108 | valid_auc: 0.85108 |  0:16:29s\n",
      "epoch 152| loss: 0.29632 | train_auc: 0.88797 | valid_auc: 0.88797 |  0:16:36s\n",
      "epoch 153| loss: 0.29777 | train_auc: 0.83357 | valid_auc: 0.83357 |  0:16:42s\n",
      "epoch 154| loss: 0.29624 | train_auc: 0.7857  | valid_auc: 0.7857  |  0:16:49s\n",
      "epoch 155| loss: 0.29783 | train_auc: 0.85305 | valid_auc: 0.85305 |  0:16:55s\n",
      "epoch 156| loss: 0.29665 | train_auc: 0.84886 | valid_auc: 0.84886 |  0:17:02s\n",
      "epoch 157| loss: 0.29715 | train_auc: 0.81369 | valid_auc: 0.81369 |  0:17:08s\n",
      "epoch 158| loss: 0.29569 | train_auc: 0.85593 | valid_auc: 0.85593 |  0:17:15s\n",
      "epoch 159| loss: 0.29347 | train_auc: 0.8105  | valid_auc: 0.8105  |  0:17:21s\n",
      "epoch 160| loss: 0.29486 | train_auc: 0.86145 | valid_auc: 0.86145 |  0:17:28s\n",
      "epoch 161| loss: 0.29395 | train_auc: 0.84998 | valid_auc: 0.84998 |  0:17:34s\n",
      "epoch 162| loss: 0.2961  | train_auc: 0.77266 | valid_auc: 0.77266 |  0:17:41s\n",
      "epoch 163| loss: 0.29241 | train_auc: 0.82027 | valid_auc: 0.82027 |  0:17:48s\n",
      "epoch 164| loss: 0.29459 | train_auc: 0.84929 | valid_auc: 0.84929 |  0:17:54s\n",
      "epoch 165| loss: 0.2926  | train_auc: 0.86991 | valid_auc: 0.86991 |  0:18:01s\n",
      "epoch 166| loss: 0.29227 | train_auc: 0.83334 | valid_auc: 0.83334 |  0:18:07s\n",
      "epoch 167| loss: 0.29302 | train_auc: 0.85456 | valid_auc: 0.85456 |  0:18:13s\n",
      "epoch 168| loss: 0.29477 | train_auc: 0.8191  | valid_auc: 0.8191  |  0:18:19s\n",
      "epoch 169| loss: 0.29474 | train_auc: 0.86979 | valid_auc: 0.86979 |  0:18:26s\n",
      "epoch 170| loss: 0.29394 | train_auc: 0.85939 | valid_auc: 0.85939 |  0:18:32s\n",
      "epoch 171| loss: 0.29295 | train_auc: 0.85035 | valid_auc: 0.85035 |  0:18:38s\n",
      "epoch 172| loss: 0.29801 | train_auc: 0.80375 | valid_auc: 0.80375 |  0:18:44s\n",
      "epoch 173| loss: 0.29625 | train_auc: 0.8795  | valid_auc: 0.8795  |  0:18:51s\n",
      "epoch 174| loss: 0.29586 | train_auc: 0.8315  | valid_auc: 0.8315  |  0:18:58s\n",
      "epoch 175| loss: 0.29607 | train_auc: 0.81137 | valid_auc: 0.81137 |  0:19:04s\n",
      "epoch 176| loss: 0.29625 | train_auc: 0.8398  | valid_auc: 0.8398  |  0:19:11s\n",
      "epoch 177| loss: 0.30014 | train_auc: 0.84473 | valid_auc: 0.84473 |  0:19:18s\n",
      "epoch 178| loss: 0.2962  | train_auc: 0.81354 | valid_auc: 0.81354 |  0:19:24s\n",
      "epoch 179| loss: 0.29629 | train_auc: 0.85508 | valid_auc: 0.85508 |  0:19:31s\n",
      "epoch 180| loss: 0.29641 | train_auc: 0.86941 | valid_auc: 0.86941 |  0:19:37s\n",
      "epoch 181| loss: 0.29464 | train_auc: 0.85407 | valid_auc: 0.85407 |  0:19:45s\n",
      "epoch 182| loss: 0.29323 | train_auc: 0.84619 | valid_auc: 0.84619 |  0:19:51s\n",
      "epoch 183| loss: 0.29329 | train_auc: 0.80132 | valid_auc: 0.80132 |  0:19:58s\n",
      "epoch 184| loss: 0.29359 | train_auc: 0.87193 | valid_auc: 0.87193 |  0:20:04s\n",
      "epoch 185| loss: 0.29651 | train_auc: 0.85392 | valid_auc: 0.85392 |  0:20:11s\n",
      "epoch 186| loss: 0.29269 | train_auc: 0.83796 | valid_auc: 0.83796 |  0:20:18s\n",
      "epoch 187| loss: 0.29408 | train_auc: 0.83601 | valid_auc: 0.83601 |  0:20:25s\n",
      "epoch 188| loss: 0.29386 | train_auc: 0.85809 | valid_auc: 0.85809 |  0:20:32s\n",
      "epoch 189| loss: 0.29199 | train_auc: 0.83815 | valid_auc: 0.83815 |  0:20:39s\n",
      "epoch 190| loss: 0.29218 | train_auc: 0.84078 | valid_auc: 0.84078 |  0:20:46s\n",
      "epoch 191| loss: 0.29156 | train_auc: 0.8548  | valid_auc: 0.8548  |  0:20:52s\n",
      "epoch 192| loss: 0.29243 | train_auc: 0.84296 | valid_auc: 0.84296 |  0:20:57s\n",
      "epoch 193| loss: 0.29102 | train_auc: 0.85071 | valid_auc: 0.85071 |  0:21:05s\n",
      "epoch 194| loss: 0.29025 | train_auc: 0.86229 | valid_auc: 0.86229 |  0:21:11s\n",
      "epoch 195| loss: 0.29248 | train_auc: 0.85444 | valid_auc: 0.85444 |  0:21:17s\n",
      "epoch 196| loss: 0.29031 | train_auc: 0.85311 | valid_auc: 0.85311 |  0:21:23s\n",
      "epoch 197| loss: 0.28915 | train_auc: 0.84816 | valid_auc: 0.84816 |  0:21:31s\n",
      "epoch 198| loss: 0.29114 | train_auc: 0.86866 | valid_auc: 0.86866 |  0:21:38s\n",
      "epoch 199| loss: 0.29017 | train_auc: 0.85613 | valid_auc: 0.85613 |  0:21:45s\n",
      "Stop training because you reached max_epochs = 200 with best_epoch = 152 and best_valid_auc = 0.88797\n"
     ]
    },
    {
     "name": "stderr",
     "output_type": "stream",
     "text": [
      "c:\\Users\\sgopalakrish\\Downloads\\intellizenz-model-training\\Neuro-symbolic-AI\\SLASH\\TabNet\\pytorch_tabnet\\callbacks.py:172: UserWarning: Best weights from best epoch are automatically used!\n",
      "  warnings.warn(wrn_msg)\n"
     ]
    }
   ],
   "source": [
    "## Network parameters\n",
    "# clf2 = TabNetClassifier(\n",
    "#     n_d=64, n_a=64, n_steps=5,\n",
    "#     gamma=1.5, n_independent=2, n_shared=2,\n",
    "#     cat_emb_dim=1,\n",
    "#     lambda_sparse=1e-4, momentum=0.3, clip_value=2.,\n",
    "#     optimizer_fn=torch.optim.Adam,\n",
    "#     optimizer_params=dict(lr=2e-2),\n",
    "#     scheduler_params = {\"gamma\": 0.95,\n",
    "#                      \"step_size\": 20},\n",
    "#     scheduler_fn=torch.optim.lr_scheduler.StepLR, epsilon=1e-15\n",
    "# )\n",
    "\n",
    "clf2 = TabNetClassifier(\n",
    "     n_d=64, n_a=64, n_steps=5,\n",
    "     gamma=1.5, n_independent=2, n_shared=2,\n",
    "     cat_idxs=cat_idxs_clf2,\n",
    "     cat_dims=cat_dims_clf2,\n",
    "     cat_emb_dim=2,\n",
    "     lambda_sparse=1e-4, momentum=0.3, clip_value=2.,\n",
    "     optimizer_fn=torch.optim.Adam,\n",
    "     optimizer_params=dict(lr=2e-2),\n",
    "     scheduler_params = {\"gamma\": 0.95,\n",
    "                      \"step_size\": 20},\n",
    "     scheduler_fn=torch.optim.lr_scheduler.StepLR, epsilon=1e-15,\n",
    "     mask_type='entmax' # sparsemax\n",
    ")\n",
    "\n",
    "max_epochs = 200 if not os.getenv(\"CI\", False) else 2\n",
    "\n",
    "aug = ClassificationSMOTE(p=0.2)\n",
    "#SMOTE - Synthetic Minority Oversampling Technique\n",
    "clf2.fit(\n",
    "    X_train=X_train_clf2, y_train=y_train_clf2,\n",
    "    eval_set=[(X_valid_clf2, y_valid_clf2), (X_valid_clf2, y_valid_clf2)],\n",
    "    eval_name=['train', 'valid'],\n",
    "    max_epochs=max_epochs, patience=100,\n",
    "    batch_size=16384, virtual_batch_size=256,\n",
    "    augmentations=aug\n",
    ")"
   ]
  },
  {
   "cell_type": "code",
   "execution_count": 66,
   "metadata": {},
   "outputs": [
    {
     "name": "stdout",
     "output_type": "stream",
     "text": [
      "FINAL TEST SCORE FOR Intellizenz : 0.8855097840444813\n",
      "FINAL TEST SCORE FOR Intellizenz : 0.8855097840444813\n"
     ]
    }
   ],
   "source": [
    "pred_probas_clf2, y_pred_clf2, test_acc_clf2 = test_prediction(clf2, X_test_clf2, y_test_clf2)"
   ]
  },
  {
   "cell_type": "code",
   "execution_count": 67,
   "metadata": {},
   "outputs": [
    {
     "data": {
      "application/vnd.jupyter.widget-view+json": {
       "model_id": "9d520c3c74b045f8b60d4d5f8af4bbd6",
       "version_major": 2,
       "version_minor": 0
      },
      "text/plain": [
       "VBox(children=(Label(value='Waiting for wandb.init()...\\r'), FloatProgress(value=0.016666666666666666, max=1.0…"
      ]
     },
     "metadata": {},
     "output_type": "display_data"
    },
    {
     "data": {
      "text/html": [
       "wandb version 0.13.7 is available!  To upgrade, please run:\n",
       " $ pip install wandb --upgrade"
      ],
      "text/plain": [
       "<IPython.core.display.HTML object>"
      ]
     },
     "metadata": {},
     "output_type": "display_data"
    },
    {
     "data": {
      "text/html": [
       "Tracking run with wandb version 0.13.5"
      ],
      "text/plain": [
       "<IPython.core.display.HTML object>"
      ]
     },
     "metadata": {},
     "output_type": "display_data"
    },
    {
     "data": {
      "text/html": [
       "Run data is saved locally in <code>c:\\Users\\sgopalakrish\\Downloads\\intellizenz-model-training\\Neuro-symbolic-AI\\SLASH\\TabNet\\wandb\\run-20230108_152852-24u5bh97</code>"
      ],
      "text/plain": [
       "<IPython.core.display.HTML object>"
      ]
     },
     "metadata": {},
     "output_type": "display_data"
    },
    {
     "data": {
      "text/html": [
       "Syncing run <strong><a href=\"https://wandb.ai/elsaravana/Intellizenz/runs/24u5bh97\" target=\"_blank\">upbeat-paper-174</a></strong> to <a href=\"https://wandb.ai/elsaravana/Intellizenz\" target=\"_blank\">Weights & Biases</a> (<a href=\"https://wandb.me/run\" target=\"_blank\">docs</a>)<br/>"
      ],
      "text/plain": [
       "<IPython.core.display.HTML object>"
      ]
     },
     "metadata": {},
     "output_type": "display_data"
    },
    {
     "name": "stderr",
     "output_type": "stream",
     "text": [
      "\u001b[34m\u001b[1mwandb\u001b[0m: \u001b[33mWARNING\u001b[0m wandb uses only 10000 data points to create the plots.\n"
     ]
    },
    {
     "data": {
      "text/html": [
       "Waiting for W&B process to finish... <strong style=\"color:green\">(success).</strong>"
      ],
      "text/plain": [
       "<IPython.core.display.HTML object>"
      ]
     },
     "metadata": {},
     "output_type": "display_data"
    },
    {
     "data": {
      "text/html": [
       "<style>\n",
       "    table.wandb td:nth-child(1) { padding: 0 10px; text-align: left ; width: auto;} td:nth-child(2) {text-align: left ; width: 100%}\n",
       "    .wandb-row { display: flex; flex-direction: row; flex-wrap: wrap; justify-content: flex-start; width: 100% }\n",
       "    .wandb-col { display: flex; flex-direction: column; flex-basis: 100%; flex: 1; padding: 10px; }\n",
       "    </style>\n",
       "<div class=\"wandb-row\"><div class=\"wandb-col\"><h3>Run history:</h3><br/><table class=\"wandb\"><tr><td>test_accuracy</td><td>▁</td></tr><tr><td>train_auc</td><td>▃▁▅▆▆▇▆▇▆▇▇▇▇██▇▇▇█▇█▇▇▇▇▇▇▇▆▇▇▆▇▇█▇▆▇▇▇</td></tr><tr><td>train_loss</td><td>█▅▃▂▂▂▂▁▁▁▁▁▁▁▁▁▁▁▁▁▁▁▁▁▁▁▁▁▁▁▁▁▁▁▁▁▁▁▁▁</td></tr><tr><td>validation_auc</td><td>▃▁▅▆▆▇▆▇▆▇▇▇▇██▇▇▇█▇█▇▇▇▇▇▇▇▆▇▇▆▇▇█▇▆▇▇▇</td></tr></table><br/></div><div class=\"wandb-col\"><h3>Run summary:</h3><br/><table class=\"wandb\"><tr><td>test_accuracy</td><td>0.88551</td></tr><tr><td>train_auc</td><td>0.85613</td></tr><tr><td>train_loss</td><td>0.29017</td></tr><tr><td>validation_auc</td><td>0.85613</td></tr></table><br/></div></div>"
      ],
      "text/plain": [
       "<IPython.core.display.HTML object>"
      ]
     },
     "metadata": {},
     "output_type": "display_data"
    },
    {
     "data": {
      "text/html": [
       "Synced <strong style=\"color:#cdcd00\">upbeat-paper-174</strong>: <a href=\"https://wandb.ai/elsaravana/Intellizenz/runs/24u5bh97\" target=\"_blank\">https://wandb.ai/elsaravana/Intellizenz/runs/24u5bh97</a><br/>Synced 5 W&B file(s), 3 media file(s), 3 artifact file(s) and 0 other file(s)"
      ],
      "text/plain": [
       "<IPython.core.display.HTML object>"
      ]
     },
     "metadata": {},
     "output_type": "display_data"
    },
    {
     "data": {
      "text/html": [
       "Find logs at: <code>.\\wandb\\run-20230108_152852-24u5bh97\\logs</code>"
      ],
      "text/plain": [
       "<IPython.core.display.HTML object>"
      ]
     },
     "metadata": {},
     "output_type": "display_data"
    }
   ],
   "source": [
    "wand_log(model=clf2,pred_probas=pred_probas_clf2, y_test= y_test_clf2, y_pred=y_pred_clf2, test_accuracy=test_acc_clf2)"
   ]
  },
  {
   "attachments": {},
   "cell_type": "markdown",
   "metadata": {},
   "source": [
    "### Classification 2 save model, plot, visualization"
   ]
  },
  {
   "cell_type": "code",
   "execution_count": 19,
   "metadata": {},
   "outputs": [
    {
     "name": "stdout",
     "output_type": "stream",
     "text": [
      "Successfully saved model at ./baseline_tabnet_model_test_1.zip\n"
     ]
    }
   ],
   "source": [
    "save_model(clf2,path=\"./baseline_tabnet_model_test_1\")"
   ]
  },
  {
   "cell_type": "code",
   "execution_count": 12,
   "metadata": {},
   "outputs": [],
   "source": [
    "clf2 = load_model(path=\"./baseline_tabnet_model_test_1.zip\")\n",
    "\n",
    "# C:/Users/sgopalakrish/Downloads/intellizenz-model-training/Neuro-symbolic-AI/SLASH/TabNet/baseline_tabnet_model_test_1.zip"
   ]
  },
  {
   "cell_type": "code",
   "execution_count": 19,
   "metadata": {},
   "outputs": [
    {
     "data": {
      "text/html": [
       "<style>#sk-container-id-2 {color: black;background-color: white;}#sk-container-id-2 pre{padding: 0;}#sk-container-id-2 div.sk-toggleable {background-color: white;}#sk-container-id-2 label.sk-toggleable__label {cursor: pointer;display: block;width: 100%;margin-bottom: 0;padding: 0.3em;box-sizing: border-box;text-align: center;}#sk-container-id-2 label.sk-toggleable__label-arrow:before {content: \"▸\";float: left;margin-right: 0.25em;color: #696969;}#sk-container-id-2 label.sk-toggleable__label-arrow:hover:before {color: black;}#sk-container-id-2 div.sk-estimator:hover label.sk-toggleable__label-arrow:before {color: black;}#sk-container-id-2 div.sk-toggleable__content {max-height: 0;max-width: 0;overflow: hidden;text-align: left;background-color: #f0f8ff;}#sk-container-id-2 div.sk-toggleable__content pre {margin: 0.2em;color: black;border-radius: 0.25em;background-color: #f0f8ff;}#sk-container-id-2 input.sk-toggleable__control:checked~div.sk-toggleable__content {max-height: 200px;max-width: 100%;overflow: auto;}#sk-container-id-2 input.sk-toggleable__control:checked~label.sk-toggleable__label-arrow:before {content: \"▾\";}#sk-container-id-2 div.sk-estimator input.sk-toggleable__control:checked~label.sk-toggleable__label {background-color: #d4ebff;}#sk-container-id-2 div.sk-label input.sk-toggleable__control:checked~label.sk-toggleable__label {background-color: #d4ebff;}#sk-container-id-2 input.sk-hidden--visually {border: 0;clip: rect(1px 1px 1px 1px);clip: rect(1px, 1px, 1px, 1px);height: 1px;margin: -1px;overflow: hidden;padding: 0;position: absolute;width: 1px;}#sk-container-id-2 div.sk-estimator {font-family: monospace;background-color: #f0f8ff;border: 1px dotted black;border-radius: 0.25em;box-sizing: border-box;margin-bottom: 0.5em;}#sk-container-id-2 div.sk-estimator:hover {background-color: #d4ebff;}#sk-container-id-2 div.sk-parallel-item::after {content: \"\";width: 100%;border-bottom: 1px solid gray;flex-grow: 1;}#sk-container-id-2 div.sk-label:hover label.sk-toggleable__label {background-color: #d4ebff;}#sk-container-id-2 div.sk-serial::before {content: \"\";position: absolute;border-left: 1px solid gray;box-sizing: border-box;top: 0;bottom: 0;left: 50%;z-index: 0;}#sk-container-id-2 div.sk-serial {display: flex;flex-direction: column;align-items: center;background-color: white;padding-right: 0.2em;padding-left: 0.2em;position: relative;}#sk-container-id-2 div.sk-item {position: relative;z-index: 1;}#sk-container-id-2 div.sk-parallel {display: flex;align-items: stretch;justify-content: center;background-color: white;position: relative;}#sk-container-id-2 div.sk-item::before, #sk-container-id-2 div.sk-parallel-item::before {content: \"\";position: absolute;border-left: 1px solid gray;box-sizing: border-box;top: 0;bottom: 0;left: 50%;z-index: -1;}#sk-container-id-2 div.sk-parallel-item {display: flex;flex-direction: column;z-index: 1;position: relative;background-color: white;}#sk-container-id-2 div.sk-parallel-item:first-child::after {align-self: flex-end;width: 50%;}#sk-container-id-2 div.sk-parallel-item:last-child::after {align-self: flex-start;width: 50%;}#sk-container-id-2 div.sk-parallel-item:only-child::after {width: 0;}#sk-container-id-2 div.sk-dashed-wrapped {border: 1px dashed gray;margin: 0 0.4em 0.5em 0.4em;box-sizing: border-box;padding-bottom: 0.4em;background-color: white;}#sk-container-id-2 div.sk-label label {font-family: monospace;font-weight: bold;display: inline-block;line-height: 1.2em;}#sk-container-id-2 div.sk-label-container {text-align: center;}#sk-container-id-2 div.sk-container {/* jupyter's `normalize.less` sets `[hidden] { display: none; }` but bootstrap.min.css set `[hidden] { display: none !important; }` so we also need the `!important` here to be able to override the default hidden behavior on the sphinx rendered scikit-learn.org. See: https://github.com/scikit-learn/scikit-learn/issues/21755 */display: inline-block !important;position: relative;}#sk-container-id-2 div.sk-text-repr-fallback {display: none;}</style><div id=\"sk-container-id-2\" class=\"sk-top-container\"><div class=\"sk-text-repr-fallback\"><pre>TabNetClassifier(n_d=64, n_a=64, n_steps=5, gamma=1.5, cat_idxs=[], cat_dims=[], cat_emb_dim=1, n_independent=2, n_shared=2, epsilon=1e-15, momentum=0.3, lambda_sparse=0.0001, seed=0, clip_value=2.0, verbose=1, optimizer_fn=&lt;class &#x27;torch.optim.adam.Adam&#x27;&gt;, optimizer_params={&#x27;lr&#x27;: 0.02}, scheduler_fn=None, scheduler_params={&#x27;gamma&#x27;: 0.95, &#x27;step_size&#x27;: 20}, mask_type=&#x27;sparsemax&#x27;, input_dim=77, output_dim=2, device_name=&#x27;auto&#x27;, n_shared_decoder=1, n_indep_decoder=1)</pre><b>In a Jupyter environment, please rerun this cell to show the HTML representation or trust the notebook. <br />On GitHub, the HTML representation is unable to render, please try loading this page with nbviewer.org.</b></div><div class=\"sk-container\" hidden><div class=\"sk-item\"><div class=\"sk-estimator sk-toggleable\"><input class=\"sk-toggleable__control sk-hidden--visually\" id=\"sk-estimator-id-2\" type=\"checkbox\" checked><label for=\"sk-estimator-id-2\" class=\"sk-toggleable__label sk-toggleable__label-arrow\">TabNetClassifier</label><div class=\"sk-toggleable__content\"><pre>TabNetClassifier(n_d=64, n_a=64, n_steps=5, gamma=1.5, cat_idxs=[], cat_dims=[], cat_emb_dim=1, n_independent=2, n_shared=2, epsilon=1e-15, momentum=0.3, lambda_sparse=0.0001, seed=0, clip_value=2.0, verbose=1, optimizer_fn=&lt;class &#x27;torch.optim.adam.Adam&#x27;&gt;, optimizer_params={&#x27;lr&#x27;: 0.02}, scheduler_fn=None, scheduler_params={&#x27;gamma&#x27;: 0.95, &#x27;step_size&#x27;: 20}, mask_type=&#x27;sparsemax&#x27;, input_dim=77, output_dim=2, device_name=&#x27;auto&#x27;, n_shared_decoder=1, n_indep_decoder=1)</pre></div></div></div></div></div>"
      ],
      "text/plain": [
       "TabNetClassifier(n_d=64, n_a=64, n_steps=5, gamma=1.5, cat_idxs=[], cat_dims=[], cat_emb_dim=1, n_independent=2, n_shared=2, epsilon=1e-15, momentum=0.3, lambda_sparse=0.0001, seed=0, clip_value=2.0, verbose=1, optimizer_fn=<class 'torch.optim.adam.Adam'>, optimizer_params={'lr': 0.02}, scheduler_fn=None, scheduler_params={'gamma': 0.95, 'step_size': 20}, mask_type='sparsemax', input_dim=77, output_dim=2, device_name='auto', n_shared_decoder=1, n_indep_decoder=1)"
      ]
     },
     "execution_count": 19,
     "metadata": {},
     "output_type": "execute_result"
    }
   ],
   "source": [
    "clf2"
   ]
  },
  {
   "cell_type": "code",
   "execution_count": 23,
   "metadata": {},
   "outputs": [
    {
     "name": "stdout",
     "output_type": "stream",
     "text": [
      "FINAL TEST SCORE FOR Intellizenz : 0.7939848230658187\n",
      "FINAL TEST SCORE FOR Intellizenz : 0.7939848230658187\n"
     ]
    }
   ],
   "source": [
    "# plot_loss_accuracy(clf2)\n",
    "pred_probas, y_pred, test_acc = test_prediction(clf2, X_test_clf2, y_test_clf2)\n",
    "\n",
    "# wand_log(model=clf2,pred_probas=pred_probas, y_test= y_test_clf2, y_pred=y_pred, test_accuracy=test_acc)"
   ]
  },
  {
   "attachments": {},
   "cell_type": "markdown",
   "metadata": {},
   "source": [
    "## ==============================================="
   ]
  },
  {
   "cell_type": "code",
   "execution_count": 12,
   "metadata": {},
   "outputs": [],
   "source": [
    "max_epochs = 200 if not os.getenv(\"CI\", False) else 2"
   ]
  },
  {
   "cell_type": "code",
   "execution_count": 13,
   "metadata": {},
   "outputs": [
    {
     "name": "stdout",
     "output_type": "stream",
     "text": [
      "236250\n",
      "236250\n"
     ]
    }
   ],
   "source": [
    "print(len(X_train))\n",
    "print(len(y_train))"
   ]
  },
  {
   "cell_type": "code",
   "execution_count": 14,
   "metadata": {},
   "outputs": [
    {
     "name": "stdout",
     "output_type": "stream",
     "text": [
      "tensor([25.])\n",
      "tensor([-25.])\n"
     ]
    }
   ],
   "source": [
    "x1 = torch.Tensor([-5])\n",
    "print((-x1).pow(2))\n",
    "print(-(x1).pow(2))"
   ]
  },
  {
   "cell_type": "code",
   "execution_count": 15,
   "metadata": {},
   "outputs": [
    {
     "name": "stdout",
     "output_type": "stream",
     "text": [
      "epoch 0  | loss: 1.18429 | train_accuracy: 0.48663 | valid_accuracy: 0.48895 |  0:00:13s\n",
      "epoch 1  | loss: 0.97552 | train_accuracy: 0.4659  | valid_accuracy: 0.4672  |  0:00:24s\n",
      "epoch 2  | loss: 0.88658 | train_accuracy: 0.48123 | valid_accuracy: 0.48279 |  0:00:34s\n",
      "epoch 3  | loss: 0.85136 | train_accuracy: 0.53476 | valid_accuracy: 0.53641 |  0:00:45s\n",
      "epoch 4  | loss: 0.83831 | train_accuracy: 0.53533 | valid_accuracy: 0.53701 |  0:00:55s\n",
      "epoch 5  | loss: 0.831   | train_accuracy: 0.52936 | valid_accuracy: 0.53135 |  0:01:06s\n",
      "epoch 6  | loss: 0.82667 | train_accuracy: 0.57272 | valid_accuracy: 0.57295 |  0:01:19s\n",
      "epoch 7  | loss: 0.82319 | train_accuracy: 0.56221 | valid_accuracy: 0.56462 |  0:01:42s\n",
      "epoch 8  | loss: 0.82126 | train_accuracy: 0.56571 | valid_accuracy: 0.56815 |  0:02:05s\n",
      "epoch 9  | loss: 0.81731 | train_accuracy: 0.56205 | valid_accuracy: 0.56382 |  0:02:28s\n",
      "epoch 10 | loss: 0.81282 | train_accuracy: 0.57678 | valid_accuracy: 0.5779  |  0:02:51s\n",
      "epoch 11 | loss: 0.8107  | train_accuracy: 0.57983 | valid_accuracy: 0.58089 |  0:03:14s\n",
      "epoch 12 | loss: 0.80638 | train_accuracy: 0.5861  | valid_accuracy: 0.58862 |  0:03:37s\n",
      "epoch 13 | loss: 0.80471 | train_accuracy: 0.58546 | valid_accuracy: 0.58756 |  0:04:00s\n",
      "epoch 14 | loss: 0.80201 | train_accuracy: 0.59735 | valid_accuracy: 0.59831 |  0:04:23s\n",
      "epoch 15 | loss: 0.8015  | train_accuracy: 0.60139 | valid_accuracy: 0.60169 |  0:04:46s\n",
      "epoch 16 | loss: 0.80072 | train_accuracy: 0.59454 | valid_accuracy: 0.59701 |  0:05:09s\n",
      "epoch 17 | loss: 0.79868 | train_accuracy: 0.60248 | valid_accuracy: 0.6048  |  0:05:32s\n",
      "epoch 18 | loss: 0.79663 | train_accuracy: 0.60487 | valid_accuracy: 0.60844 |  0:05:55s\n",
      "epoch 19 | loss: 0.79728 | train_accuracy: 0.61297 | valid_accuracy: 0.61446 |  0:06:17s\n",
      "epoch 20 | loss: 0.79577 | train_accuracy: 0.61222 | valid_accuracy: 0.61493 |  0:06:40s\n",
      "epoch 21 | loss: 0.79402 | train_accuracy: 0.61814 | valid_accuracy: 0.6197  |  0:07:04s\n",
      "epoch 22 | loss: 0.79218 | train_accuracy: 0.6235  | valid_accuracy: 0.62382 |  0:07:27s\n",
      "epoch 23 | loss: 0.7908  | train_accuracy: 0.6274  | valid_accuracy: 0.62853 |  0:07:51s\n",
      "epoch 24 | loss: 0.79018 | train_accuracy: 0.62566 | valid_accuracy: 0.62462 |  0:08:02s\n",
      "epoch 25 | loss: 0.78895 | train_accuracy: 0.62623 | valid_accuracy: 0.62732 |  0:08:13s\n",
      "epoch 26 | loss: 0.7878  | train_accuracy: 0.63759 | valid_accuracy: 0.63766 |  0:08:23s\n",
      "epoch 27 | loss: 0.78755 | train_accuracy: 0.63058 | valid_accuracy: 0.63034 |  0:08:34s\n",
      "epoch 28 | loss: 0.78631 | train_accuracy: 0.63854 | valid_accuracy: 0.63784 |  0:08:52s\n",
      "epoch 29 | loss: 0.78432 | train_accuracy: 0.63928 | valid_accuracy: 0.63754 |  0:09:16s\n",
      "epoch 30 | loss: 0.7838  | train_accuracy: 0.63975 | valid_accuracy: 0.63801 |  0:09:40s\n",
      "epoch 31 | loss: 0.78302 | train_accuracy: 0.63937 | valid_accuracy: 0.63665 |  0:10:04s\n",
      "epoch 32 | loss: 0.78278 | train_accuracy: 0.64226 | valid_accuracy: 0.63932 |  0:10:27s\n",
      "epoch 33 | loss: 0.78123 | train_accuracy: 0.64181 | valid_accuracy: 0.63784 |  0:10:50s\n",
      "epoch 34 | loss: 0.78013 | train_accuracy: 0.64143 | valid_accuracy: 0.63873 |  0:11:13s\n",
      "epoch 35 | loss: 0.77924 | train_accuracy: 0.64286 | valid_accuracy: 0.64003 |  0:11:35s\n",
      "epoch 36 | loss: 0.77742 | train_accuracy: 0.64137 | valid_accuracy: 0.63852 |  0:11:58s\n",
      "epoch 37 | loss: 0.77874 | train_accuracy: 0.64307 | valid_accuracy: 0.64308 |  0:12:21s\n",
      "epoch 38 | loss: 0.77646 | train_accuracy: 0.6463  | valid_accuracy: 0.64516 |  0:12:43s\n",
      "epoch 39 | loss: 0.77668 | train_accuracy: 0.63668 | valid_accuracy: 0.6376  |  0:13:07s\n",
      "epoch 40 | loss: 0.77473 | train_accuracy: 0.63356 | valid_accuracy: 0.63387 |  0:13:24s\n",
      "epoch 41 | loss: 0.7751  | train_accuracy: 0.63805 | valid_accuracy: 0.63727 |  0:13:34s\n",
      "epoch 42 | loss: 0.77429 | train_accuracy: 0.62802 | valid_accuracy: 0.62901 |  0:13:45s\n",
      "epoch 43 | loss: 0.77434 | train_accuracy: 0.64623 | valid_accuracy: 0.64554 |  0:13:55s\n",
      "epoch 44 | loss: 0.77273 | train_accuracy: 0.63804 | valid_accuracy: 0.63926 |  0:14:05s\n",
      "epoch 45 | loss: 0.77213 | train_accuracy: 0.63801 | valid_accuracy: 0.6368  |  0:14:16s\n",
      "epoch 46 | loss: 0.77106 | train_accuracy: 0.61075 | valid_accuracy: 0.61019 |  0:14:26s\n",
      "epoch 47 | loss: 0.7704  | train_accuracy: 0.61392 | valid_accuracy: 0.61313 |  0:14:37s\n",
      "epoch 48 | loss: 0.77054 | train_accuracy: 0.60505 | valid_accuracy: 0.60572 |  0:14:47s\n",
      "epoch 49 | loss: 0.76989 | train_accuracy: 0.59913 | valid_accuracy: 0.60101 |  0:14:58s\n",
      "epoch 50 | loss: 0.76942 | train_accuracy: 0.59891 | valid_accuracy: 0.60136 |  0:15:09s\n",
      "epoch 51 | loss: 0.76954 | train_accuracy: 0.61757 | valid_accuracy: 0.61816 |  0:15:20s\n",
      "epoch 52 | loss: 0.76888 | train_accuracy: 0.62146 | valid_accuracy: 0.62169 |  0:15:31s\n",
      "epoch 53 | loss: 0.76844 | train_accuracy: 0.61374 | valid_accuracy: 0.61458 |  0:15:42s\n",
      "epoch 54 | loss: 0.76662 | train_accuracy: 0.62371 | valid_accuracy: 0.62361 |  0:15:53s\n",
      "epoch 55 | loss: 0.76734 | train_accuracy: 0.62311 | valid_accuracy: 0.62587 |  0:16:04s\n",
      "epoch 56 | loss: 0.76652 | train_accuracy: 0.59971 | valid_accuracy: 0.60086 |  0:16:15s\n",
      "epoch 57 | loss: 0.76676 | train_accuracy: 0.59694 | valid_accuracy: 0.59618 |  0:16:26s\n",
      "epoch 58 | loss: 0.76587 | train_accuracy: 0.61426 | valid_accuracy: 0.61668 |  0:16:37s\n",
      "epoch 59 | loss: 0.76548 | train_accuracy: 0.58497 | valid_accuracy: 0.5856  |  0:16:48s\n",
      "epoch 60 | loss: 0.76525 | train_accuracy: 0.58019 | valid_accuracy: 0.58053 |  0:16:59s\n",
      "epoch 61 | loss: 0.76508 | train_accuracy: 0.58836 | valid_accuracy: 0.59073 |  0:17:10s\n",
      "epoch 62 | loss: 0.76239 | train_accuracy: 0.57887 | valid_accuracy: 0.58071 |  0:17:22s\n",
      "epoch 63 | loss: 0.76222 | train_accuracy: 0.56971 | valid_accuracy: 0.57209 |  0:17:32s\n",
      "epoch 64 | loss: 0.76298 | train_accuracy: 0.57581 | valid_accuracy: 0.57748 |  0:17:43s\n",
      "epoch 65 | loss: 0.7646  | train_accuracy: 0.58196 | valid_accuracy: 0.58391 |  0:17:55s\n",
      "epoch 66 | loss: 0.76336 | train_accuracy: 0.58446 | valid_accuracy: 0.5872  |  0:18:06s\n",
      "epoch 67 | loss: 0.76057 | train_accuracy: 0.59276 | valid_accuracy: 0.59244 |  0:18:17s\n",
      "epoch 68 | loss: 0.76229 | train_accuracy: 0.57793 | valid_accuracy: 0.58027 |  0:18:28s\n",
      "epoch 69 | loss: 0.76154 | train_accuracy: 0.59242 | valid_accuracy: 0.59191 |  0:18:39s\n",
      "epoch 70 | loss: 0.76014 | train_accuracy: 0.60135 | valid_accuracy: 0.60068 |  0:18:50s\n",
      "epoch 71 | loss: 0.75921 | train_accuracy: 0.58785 | valid_accuracy: 0.58761 |  0:19:01s\n",
      "epoch 72 | loss: 0.75936 | train_accuracy: 0.56184 | valid_accuracy: 0.56338 |  0:19:12s\n",
      "epoch 73 | loss: 0.75891 | train_accuracy: 0.56061 | valid_accuracy: 0.5627  |  0:19:23s\n",
      "epoch 74 | loss: 0.75795 | train_accuracy: 0.58885 | valid_accuracy: 0.59013 |  0:19:34s\n",
      "epoch 75 | loss: 0.75725 | train_accuracy: 0.59658 | valid_accuracy: 0.59887 |  0:19:45s\n",
      "epoch 76 | loss: 0.75687 | train_accuracy: 0.5937  | valid_accuracy: 0.59819 |  0:19:56s\n",
      "epoch 77 | loss: 0.75557 | train_accuracy: 0.55314 | valid_accuracy: 0.55384 |  0:20:07s\n",
      "epoch 78 | loss: 0.75537 | train_accuracy: 0.55475 | valid_accuracy: 0.55799 |  0:20:18s\n",
      "epoch 79 | loss: 0.75605 | train_accuracy: 0.56314 | valid_accuracy: 0.56587 |  0:20:29s\n",
      "epoch 80 | loss: 0.75455 | train_accuracy: 0.5359  | valid_accuracy: 0.53778 |  0:20:40s\n",
      "epoch 81 | loss: 0.75385 | train_accuracy: 0.54799 | valid_accuracy: 0.5488  |  0:20:51s\n",
      "epoch 82 | loss: 0.75359 | train_accuracy: 0.56011 | valid_accuracy: 0.56127 |  0:21:02s\n",
      "epoch 83 | loss: 0.75336 | train_accuracy: 0.55305 | valid_accuracy: 0.55156 |  0:21:13s\n",
      "epoch 84 | loss: 0.75366 | train_accuracy: 0.53067 | valid_accuracy: 0.53212 |  0:21:24s\n",
      "epoch 85 | loss: 0.75385 | train_accuracy: 0.54458 | valid_accuracy: 0.54646 |  0:21:35s\n",
      "epoch 86 | loss: 0.7521  | train_accuracy: 0.53057 | valid_accuracy: 0.53161 |  0:21:46s\n",
      "epoch 87 | loss: 0.75234 | train_accuracy: 0.53823 | valid_accuracy: 0.54116 |  0:21:57s\n",
      "epoch 88 | loss: 0.75128 | train_accuracy: 0.52511 | valid_accuracy: 0.5245  |  0:22:08s\n",
      "epoch 89 | loss: 0.75073 | train_accuracy: 0.56903 | valid_accuracy: 0.56883 |  0:22:19s\n",
      "epoch 90 | loss: 0.75002 | train_accuracy: 0.56423 | valid_accuracy: 0.5651  |  0:22:30s\n",
      "epoch 91 | loss: 0.74898 | train_accuracy: 0.57865 | valid_accuracy: 0.5811  |  0:22:41s\n",
      "epoch 92 | loss: 0.74789 | train_accuracy: 0.5746  | valid_accuracy: 0.57034 |  0:22:53s\n",
      "epoch 93 | loss: 0.74795 | train_accuracy: 0.56603 | valid_accuracy: 0.56465 |  0:23:04s\n",
      "epoch 94 | loss: 0.74763 | train_accuracy: 0.56219 | valid_accuracy: 0.56249 |  0:23:15s\n",
      "epoch 95 | loss: 0.74628 | train_accuracy: 0.56044 | valid_accuracy: 0.56456 |  0:23:26s\n",
      "epoch 96 | loss: 0.74557 | train_accuracy: 0.54881 | valid_accuracy: 0.54764 |  0:23:37s\n",
      "epoch 97 | loss: 0.74486 | train_accuracy: 0.5462  | valid_accuracy: 0.54717 |  0:23:48s\n",
      "epoch 98 | loss: 0.74489 | train_accuracy: 0.56394 | valid_accuracy: 0.56353 |  0:23:59s\n",
      "epoch 99 | loss: 0.74359 | train_accuracy: 0.55301 | valid_accuracy: 0.55396 |  0:24:11s\n",
      "epoch 100| loss: 0.74342 | train_accuracy: 0.52525 | valid_accuracy: 0.52498 |  0:24:22s\n",
      "epoch 101| loss: 0.7429  | train_accuracy: 0.49865 | valid_accuracy: 0.49668 |  0:24:38s\n",
      "epoch 102| loss: 0.74254 | train_accuracy: 0.49385 | valid_accuracy: 0.49559 |  0:25:02s\n",
      "epoch 103| loss: 0.74118 | train_accuracy: 0.46514 | valid_accuracy: 0.46501 |  0:25:25s\n",
      "epoch 104| loss: 0.74143 | train_accuracy: 0.49323 | valid_accuracy: 0.49339 |  0:25:48s\n",
      "epoch 105| loss: 0.7404  | train_accuracy: 0.52586 | valid_accuracy: 0.52519 |  0:26:11s\n",
      "epoch 106| loss: 0.74019 | train_accuracy: 0.52096 | valid_accuracy: 0.52136 |  0:26:34s\n",
      "epoch 107| loss: 0.73958 | train_accuracy: 0.53346 | valid_accuracy: 0.53147 |  0:26:57s\n",
      "epoch 108| loss: 0.73838 | train_accuracy: 0.51943 | valid_accuracy: 0.51603 |  0:27:19s\n",
      "epoch 109| loss: 0.73916 | train_accuracy: 0.50905 | valid_accuracy: 0.50607 |  0:27:42s\n",
      "epoch 110| loss: 0.73725 | train_accuracy: 0.53556 | valid_accuracy: 0.53342 |  0:28:05s\n",
      "epoch 111| loss: 0.73659 | train_accuracy: 0.5182  | valid_accuracy: 0.51985 |  0:28:29s\n",
      "epoch 112| loss: 0.73637 | train_accuracy: 0.50161 | valid_accuracy: 0.5061  |  0:28:49s\n",
      "epoch 113| loss: 0.73531 | train_accuracy: 0.5376  | valid_accuracy: 0.54201 |  0:29:00s\n",
      "epoch 114| loss: 0.73517 | train_accuracy: 0.54444 | valid_accuracy: 0.5453  |  0:29:10s\n",
      "epoch 115| loss: 0.73491 | train_accuracy: 0.51972 | valid_accuracy: 0.51914 |  0:29:21s\n",
      "epoch 116| loss: 0.73475 | train_accuracy: 0.52528 | valid_accuracy: 0.52815 |  0:29:31s\n",
      "epoch 117| loss: 0.73456 | train_accuracy: 0.56764 | valid_accuracy: 0.56871 |  0:29:42s\n",
      "epoch 118| loss: 0.73482 | train_accuracy: 0.54952 | valid_accuracy: 0.54839 |  0:29:53s\n",
      "epoch 119| loss: 0.7341  | train_accuracy: 0.55452 | valid_accuracy: 0.55499 |  0:30:04s\n",
      "epoch 120| loss: 0.75084 | train_accuracy: 0.52567 | valid_accuracy: 0.52658 |  0:30:19s\n",
      "epoch 121| loss: 0.75086 | train_accuracy: 0.50031 | valid_accuracy: 0.49956 |  0:30:42s\n",
      "epoch 122| loss: 0.74801 | train_accuracy: 0.51947 | valid_accuracy: 0.51956 |  0:31:04s\n",
      "epoch 123| loss: 0.74506 | train_accuracy: 0.49887 | valid_accuracy: 0.50261 |  0:31:27s\n",
      "epoch 124| loss: 0.74197 | train_accuracy: 0.56207 | valid_accuracy: 0.56347 |  0:31:50s\n",
      "epoch 125| loss: 0.73942 | train_accuracy: 0.56611 | valid_accuracy: 0.5637  |  0:32:00s\n",
      "epoch 126| loss: 0.74055 | train_accuracy: 0.54313 | valid_accuracy: 0.53994 |  0:32:11s\n",
      "epoch 127| loss: 0.74078 | train_accuracy: 0.54778 | valid_accuracy: 0.54601 |  0:32:21s\n",
      "epoch 128| loss: 0.74169 | train_accuracy: 0.57981 | valid_accuracy: 0.57745 |  0:32:33s\n",
      "epoch 129| loss: 0.74038 | train_accuracy: 0.55143 | valid_accuracy: 0.54945 |  0:32:44s\n",
      "epoch 130| loss: 0.7389  | train_accuracy: 0.55448 | valid_accuracy: 0.55647 |  0:32:55s\n",
      "epoch 131| loss: 0.73687 | train_accuracy: 0.56314 | valid_accuracy: 0.56332 |  0:33:06s\n",
      "epoch 132| loss: 0.73401 | train_accuracy: 0.57519 | valid_accuracy: 0.57153 |  0:33:18s\n",
      "epoch 133| loss: 0.7332  | train_accuracy: 0.58586 | valid_accuracy: 0.58421 |  0:33:29s\n",
      "epoch 134| loss: 0.74338 | train_accuracy: 0.56296 | valid_accuracy: 0.56593 |  0:33:40s\n",
      "epoch 135| loss: 0.75144 | train_accuracy: 0.54659 | valid_accuracy: 0.54809 |  0:33:52s\n",
      "epoch 136| loss: 0.74662 | train_accuracy: 0.56118 | valid_accuracy: 0.56216 |  0:34:03s\n",
      "epoch 137| loss: 0.74238 | train_accuracy: 0.53636 | valid_accuracy: 0.53896 |  0:34:14s\n",
      "epoch 138| loss: 0.74085 | train_accuracy: 0.51451 | valid_accuracy: 0.5173  |  0:34:26s\n",
      "epoch 139| loss: 0.73854 | train_accuracy: 0.53119 | valid_accuracy: 0.53416 |  0:34:37s\n",
      "epoch 140| loss: 0.73792 | train_accuracy: 0.53175 | valid_accuracy: 0.53416 |  0:34:48s\n",
      "epoch 141| loss: 0.74403 | train_accuracy: 0.57012 | valid_accuracy: 0.56963 |  0:35:00s\n",
      "epoch 142| loss: 0.73998 | train_accuracy: 0.55874 | valid_accuracy: 0.5611  |  0:35:11s\n",
      "epoch 143| loss: 0.73595 | train_accuracy: 0.56451 | valid_accuracy: 0.56622 |  0:35:22s\n",
      "\n",
      "Early stopping occurred at epoch 143 with best_epoch = 43 and best_valid_accuracy = 0.64554\n"
     ]
    },
    {
     "name": "stderr",
     "output_type": "stream",
     "text": [
      "c:\\Users\\sgopalakrish\\Downloads\\intellizenz-model-training\\Neuro-symbolic-AI\\SLASH\\TabNet\\pytorch_tabnet\\callbacks.py:172: UserWarning: Best weights from best epoch are automatically used!\n",
      "  warnings.warn(wrn_msg)\n"
     ]
    }
   ],
   "source": [
    "aug = ClassificationSMOTE(p=0.2)\n",
    "#SMOTE - Synthetic Minority Oversampling Technique\n",
    "clf.fit(\n",
    "    X_train=X_train, y_train=y_train,\n",
    "    eval_set=[(X_train, y_train), (X_valid, y_valid)],\n",
    "    eval_name=['train', 'valid'],\n",
    "    # max_epochs=max_epochs, patience=100,\n",
    "    max_epochs=max_epochs, patience=100,\n",
    "    batch_size=16384, virtual_batch_size=256,\n",
    "    augmentations=aug\n",
    ")"
   ]
  },
  {
   "cell_type": "code",
   "execution_count": 17,
   "metadata": {},
   "outputs": [
    {
     "data": {
      "text/plain": [
       "[<matplotlib.lines.Line2D at 0x286627d20a0>]"
      ]
     },
     "execution_count": 17,
     "metadata": {},
     "output_type": "execute_result"
    },
    {
     "data": {
      "image/png": "[encoded data removed]",
      "text/plain": [
       "<Figure size 640x480 with 1 Axes>"
      ]
     },
     "metadata": {},
     "output_type": "display_data"
    }
   ],
   "source": [
    "# plot losses\n",
    "plt.xlabel(\"Epoch\")\n",
    "plt.ylabel(\"Loss\")\n",
    "plt.plot(clf.history['loss'])"
   ]
  },
  {
   "cell_type": "code",
   "execution_count": 18,
   "metadata": {},
   "outputs": [
    {
     "data": {
      "text/plain": [
       "[<matplotlib.lines.Line2D at 0x28662886be0>]"
      ]
     },
     "execution_count": 18,
     "metadata": {},
     "output_type": "execute_result"
    },
    {
     "data": {
      "image/png": "[encoded data removed]",
      "text/plain": [
       "<Figure size 640x480 with 1 Axes>"
      ]
     },
     "metadata": {},
     "output_type": "display_data"
    }
   ],
   "source": [
    "# plot accuracy\n",
    "plt.plot(clf.history['train_accuracy'])\n",
    "plt.plot(clf.history['valid_accuracy'])"
   ]
  },
  {
   "cell_type": "markdown",
   "metadata": {},
   "source": [
    "### Predictions"
   ]
  },
  {
   "cell_type": "code",
   "execution_count": 19,
   "metadata": {},
   "outputs": [],
   "source": [
    "dataset_name = 'Intellizenz'"
   ]
  },
  {
   "cell_type": "code",
   "execution_count": 20,
   "metadata": {},
   "outputs": [
    {
     "name": "stdout",
     "output_type": "stream",
     "text": [
      "BEST VALID SCORE FOR Intellizenz : 0.6455407407407407\n",
      "FINAL TEST SCORE FOR Intellizenz : 0.6464333333333333\n"
     ]
    }
   ],
   "source": [
    "# To get final results you may need to use a mapping for classes \n",
    "# as you are allowed to use targets like [\"yes\", \"no\", \"maybe\", \"I don't know\"]\n",
    "\n",
    "preds_mapper = { idx : class_name for idx, class_name in enumerate(clf.classes_)}\n",
    "\n",
    "preds = clf.predict_proba(X_test)\n",
    "\n",
    "y_pred = np.vectorize(preds_mapper.get)(np.argmax(preds, axis=1))\n",
    "\n",
    "test_acc = accuracy_score(y_pred=y_pred, y_true=y_test)\n",
    "\n",
    "print(f\"BEST VALID SCORE FOR {dataset_name} : {clf.best_cost}\")\n",
    "print(f\"FINAL TEST SCORE FOR {dataset_name} : {test_acc}\")"
   ]
  },
  {
   "cell_type": "code",
   "execution_count": 21,
   "metadata": {},
   "outputs": [
    {
     "name": "stdout",
     "output_type": "stream",
     "text": [
      "FINAL TEST SCORE FOR Intellizenz : 0.6464333333333333\n"
     ]
    }
   ],
   "source": [
    "# or you can simply use the predict method\n",
    "\n",
    "y_pred = clf.predict(X_test)\n",
    "test_acc = accuracy_score(y_pred=y_pred, y_true=y_test)\n",
    "print(f\"FINAL TEST SCORE FOR {dataset_name} : {test_acc}\")"
   ]
  },
  {
   "attachments": {},
   "cell_type": "markdown",
   "metadata": {},
   "source": [
    "## Classification report"
   ]
  },
  {
   "cell_type": "code",
   "execution_count": 22,
   "metadata": {},
   "outputs": [],
   "source": [
    "from sklearn.metrics import classification_report"
   ]
  },
  {
   "cell_type": "code",
   "execution_count": 23,
   "metadata": {},
   "outputs": [
    {
     "name": "stdout",
     "output_type": "stream",
     "text": [
      "              precision    recall  f1-score   support\n",
      "\n",
      "           0       0.66      0.69      0.68     13648\n",
      "           1       0.30      0.00      0.00      2605\n",
      "           2       0.63      0.73      0.68     13747\n",
      "\n",
      "    accuracy                           0.65     30000\n",
      "   macro avg       0.53      0.47      0.45     30000\n",
      "weighted avg       0.62      0.65      0.62     30000\n",
      "\n"
     ]
    }
   ],
   "source": [
    "print(classification_report(y_test, y_pred, labels=[0, 1, 2]))"
   ]
  },
  {
   "cell_type": "code",
   "execution_count": 71,
   "metadata": {},
   "outputs": [
    {
     "name": "stdout",
     "output_type": "stream",
     "text": [
      "              precision    recall  f1-score   support\n",
      "\n",
      "           0       0.84      0.81      0.82     13648\n",
      "           1       0.43      0.02      0.04      2605\n",
      "           2       0.76      0.92      0.83     13747\n",
      "\n",
      "    accuracy                           0.79     30000\n",
      "   macro avg       0.67      0.58      0.56     30000\n",
      "weighted avg       0.76      0.79      0.76     30000\n",
      "\n"
     ]
    }
   ],
   "source": [
    "# print(classification_report(d_true, d_pred, labels=[0, 1, 2]))\n",
    "## Classification report of tabnet model training on 300k data with 78 features."
   ]
  },
  {
   "cell_type": "markdown",
   "metadata": {},
   "source": [
    "## Save and load Model"
   ]
  },
  {
   "cell_type": "code",
   "execution_count": 34,
   "metadata": {},
   "outputs": [
    {
     "name": "stdout",
     "output_type": "stream",
     "text": [
      "Successfully saved model at ./baseline_tabnet_model_clf_d300k_140feat_lr_0.02_ep200.zip\n"
     ]
    }
   ],
   "source": [
    "# save state dict\n",
    "# saving_path_name = \"./baseline_tabnet_model_test_1\"\n",
    "\n",
    "saving_path_name = \"./baseline_tabnet_model_clf_d300k_140feat_lr_0.02_ep200\"\n",
    "saved_filename = clf.save_model(saving_path_name)"
   ]
  },
  {
   "cell_type": "code",
   "execution_count": 46,
   "metadata": {},
   "outputs": [],
   "source": [
    "saving_path_name = 'baseline_tabnet_model_clf_d300k_78feat_lr_0.02_ep200'"
   ]
  },
  {
   "cell_type": "code",
   "execution_count": 47,
   "metadata": {},
   "outputs": [
    {
     "name": "stderr",
     "output_type": "stream",
     "text": [
      "c:\\Users\\sgopalakrish\\Downloads\\intellizenz-model-training\\Neuro-symbolic-AI\\SLASH\\TabNet\\pytorch_tabnet\\abstract_model.py:75: UserWarning: Device used : cuda\n",
      "  warnings.warn(f\"Device used : {self.device}\")\n"
     ]
    }
   ],
   "source": [
    "# define new model and load save parameters\n",
    "loaded_clf = TabNetClassifier()\n",
    "loaded_clf.load_model(saved_filename)"
   ]
  },
  {
   "cell_type": "code",
   "execution_count": 49,
   "metadata": {},
   "outputs": [
    {
     "ename": "RuntimeError",
     "evalue": "CUDA error: device-side assert triggered\nCUDA kernel errors might be asynchronously reported at some other API call,so the stacktrace below might be incorrect.\nFor debugging consider passing CUDA_LAUNCH_BLOCKING=1.",
     "output_type": "error",
     "traceback": [
      "\u001b[1;31m---------------------------------------------------------------------------\u001b[0m",
      "\u001b[1;31mRuntimeError\u001b[0m                              Traceback (most recent call last)",
      "Cell \u001b[1;32mIn [49], line 1\u001b[0m\n\u001b[1;32m----> 1\u001b[0m y_pred \u001b[39m=\u001b[39m loaded_clf\u001b[39m.\u001b[39;49mpredict(X_test)\n",
      "File \u001b[1;32mc:\\Users\\sgopalakrish\\Downloads\\intellizenz-model-training\\Neuro-symbolic-AI\\SLASH\\TabNet\\pytorch_tabnet\\abstract_model.py:285\u001b[0m, in \u001b[0;36mTabModel.predict\u001b[1;34m(self, X)\u001b[0m\n\u001b[0;32m    283\u001b[0m results \u001b[39m=\u001b[39m []\n\u001b[0;32m    284\u001b[0m \u001b[39mfor\u001b[39;00m batch_nb, data \u001b[39min\u001b[39;00m \u001b[39menumerate\u001b[39m(dataloader):\n\u001b[1;32m--> 285\u001b[0m     data \u001b[39m=\u001b[39m data\u001b[39m.\u001b[39;49mto(\u001b[39mself\u001b[39;49m\u001b[39m.\u001b[39;49mdevice)\u001b[39m.\u001b[39mfloat()\n\u001b[0;32m    286\u001b[0m     output, M_loss \u001b[39m=\u001b[39m \u001b[39mself\u001b[39m\u001b[39m.\u001b[39mnetwork(data)\n\u001b[0;32m    287\u001b[0m     predictions \u001b[39m=\u001b[39m output\u001b[39m.\u001b[39mcpu()\u001b[39m.\u001b[39mdetach()\u001b[39m.\u001b[39mnumpy()\n",
      "\u001b[1;31mRuntimeError\u001b[0m: CUDA error: device-side assert triggered\nCUDA kernel errors might be asynchronously reported at some other API call,so the stacktrace below might be incorrect.\nFor debugging consider passing CUDA_LAUNCH_BLOCKING=1."
     ]
    }
   ],
   "source": [
    "y_pred = loaded_clf.predict(X_test)"
   ]
  },
  {
   "cell_type": "code",
   "execution_count": 48,
   "metadata": {},
   "outputs": [
    {
     "ename": "IndexError",
     "evalue": "index 78 is out of bounds for dimension 1 with size 78",
     "output_type": "error",
     "traceback": [
      "\u001b[1;31m---------------------------------------------------------------------------\u001b[0m",
      "\u001b[1;31mIndexError\u001b[0m                                Traceback (most recent call last)",
      "Cell \u001b[1;32mIn [48], line 1\u001b[0m\n\u001b[1;32m----> 1\u001b[0m loaded_preds \u001b[39m=\u001b[39m loaded_clf\u001b[39m.\u001b[39;49mpredict_proba(X_test)\n\u001b[0;32m      2\u001b[0m loaded_y_pred \u001b[39m=\u001b[39m np\u001b[39m.\u001b[39mvectorize(preds_mapper\u001b[39m.\u001b[39mget)(np\u001b[39m.\u001b[39margmax(loaded_preds, axis\u001b[39m=\u001b[39m\u001b[39m1\u001b[39m))\n\u001b[0;32m      4\u001b[0m loaded_test_acc \u001b[39m=\u001b[39m accuracy_score(y_pred\u001b[39m=\u001b[39mloaded_y_pred, y_true\u001b[39m=\u001b[39my_test)\n",
      "File \u001b[1;32mc:\\Users\\sgopalakrish\\Downloads\\intellizenz-model-training\\Neuro-symbolic-AI\\SLASH\\TabNet\\pytorch_tabnet\\tab_model.py:102\u001b[0m, in \u001b[0;36mTabNetClassifier.predict_proba\u001b[1;34m(self, X)\u001b[0m\n\u001b[0;32m     99\u001b[0m \u001b[39mfor\u001b[39;00m batch_nb, data \u001b[39min\u001b[39;00m \u001b[39menumerate\u001b[39m(dataloader):\n\u001b[0;32m    100\u001b[0m     data \u001b[39m=\u001b[39m data\u001b[39m.\u001b[39mto(\u001b[39mself\u001b[39m\u001b[39m.\u001b[39mdevice)\u001b[39m.\u001b[39mfloat()\n\u001b[1;32m--> 102\u001b[0m     output, M_loss \u001b[39m=\u001b[39m \u001b[39mself\u001b[39;49m\u001b[39m.\u001b[39;49mnetwork(data)\n\u001b[0;32m    103\u001b[0m     predictions \u001b[39m=\u001b[39m torch\u001b[39m.\u001b[39mnn\u001b[39m.\u001b[39mSoftmax(dim\u001b[39m=\u001b[39m\u001b[39m1\u001b[39m)(output)\u001b[39m.\u001b[39mcpu()\u001b[39m.\u001b[39mdetach()\u001b[39m.\u001b[39mnumpy()\n\u001b[0;32m    104\u001b[0m     results\u001b[39m.\u001b[39mappend(predictions)\n",
      "File \u001b[1;32mc:\\Users\\sgopalakrish\\AppData\\Local\\pypoetry\\Cache\\virtualenvs\\intellizenz-model-training-LRwJb8pv-py3.9\\lib\\site-packages\\torch\\nn\\modules\\module.py:1130\u001b[0m, in \u001b[0;36mModule._call_impl\u001b[1;34m(self, *input, **kwargs)\u001b[0m\n\u001b[0;32m   1126\u001b[0m \u001b[39m# If we don't have any hooks, we want to skip the rest of the logic in\u001b[39;00m\n\u001b[0;32m   1127\u001b[0m \u001b[39m# this function, and just call forward.\u001b[39;00m\n\u001b[0;32m   1128\u001b[0m \u001b[39mif\u001b[39;00m \u001b[39mnot\u001b[39;00m (\u001b[39mself\u001b[39m\u001b[39m.\u001b[39m_backward_hooks \u001b[39mor\u001b[39;00m \u001b[39mself\u001b[39m\u001b[39m.\u001b[39m_forward_hooks \u001b[39mor\u001b[39;00m \u001b[39mself\u001b[39m\u001b[39m.\u001b[39m_forward_pre_hooks \u001b[39mor\u001b[39;00m _global_backward_hooks\n\u001b[0;32m   1129\u001b[0m         \u001b[39mor\u001b[39;00m _global_forward_hooks \u001b[39mor\u001b[39;00m _global_forward_pre_hooks):\n\u001b[1;32m-> 1130\u001b[0m     \u001b[39mreturn\u001b[39;00m forward_call(\u001b[39m*\u001b[39m\u001b[39minput\u001b[39m, \u001b[39m*\u001b[39m\u001b[39m*\u001b[39mkwargs)\n\u001b[0;32m   1131\u001b[0m \u001b[39m# Do not call functions when jit is used\u001b[39;00m\n\u001b[0;32m   1132\u001b[0m full_backward_hooks, non_full_backward_hooks \u001b[39m=\u001b[39m [], []\n",
      "File \u001b[1;32mc:\\Users\\sgopalakrish\\Downloads\\intellizenz-model-training\\Neuro-symbolic-AI\\SLASH\\TabNet\\pytorch_tabnet\\tab_network.py:585\u001b[0m, in \u001b[0;36mTabNet.forward\u001b[1;34m(self, x)\u001b[0m\n\u001b[0;32m    584\u001b[0m \u001b[39mdef\u001b[39;00m \u001b[39mforward\u001b[39m(\u001b[39mself\u001b[39m, x):\n\u001b[1;32m--> 585\u001b[0m     x \u001b[39m=\u001b[39m \u001b[39mself\u001b[39;49m\u001b[39m.\u001b[39;49membedder(x)\n\u001b[0;32m    586\u001b[0m     \u001b[39mreturn\u001b[39;00m \u001b[39mself\u001b[39m\u001b[39m.\u001b[39mtabnet(x)\n",
      "File \u001b[1;32mc:\\Users\\sgopalakrish\\AppData\\Local\\pypoetry\\Cache\\virtualenvs\\intellizenz-model-training-LRwJb8pv-py3.9\\lib\\site-packages\\torch\\nn\\modules\\module.py:1130\u001b[0m, in \u001b[0;36mModule._call_impl\u001b[1;34m(self, *input, **kwargs)\u001b[0m\n\u001b[0;32m   1126\u001b[0m \u001b[39m# If we don't have any hooks, we want to skip the rest of the logic in\u001b[39;00m\n\u001b[0;32m   1127\u001b[0m \u001b[39m# this function, and just call forward.\u001b[39;00m\n\u001b[0;32m   1128\u001b[0m \u001b[39mif\u001b[39;00m \u001b[39mnot\u001b[39;00m (\u001b[39mself\u001b[39m\u001b[39m.\u001b[39m_backward_hooks \u001b[39mor\u001b[39;00m \u001b[39mself\u001b[39m\u001b[39m.\u001b[39m_forward_hooks \u001b[39mor\u001b[39;00m \u001b[39mself\u001b[39m\u001b[39m.\u001b[39m_forward_pre_hooks \u001b[39mor\u001b[39;00m _global_backward_hooks\n\u001b[0;32m   1129\u001b[0m         \u001b[39mor\u001b[39;00m _global_forward_hooks \u001b[39mor\u001b[39;00m _global_forward_pre_hooks):\n\u001b[1;32m-> 1130\u001b[0m     \u001b[39mreturn\u001b[39;00m forward_call(\u001b[39m*\u001b[39m\u001b[39minput\u001b[39m, \u001b[39m*\u001b[39m\u001b[39m*\u001b[39mkwargs)\n\u001b[0;32m   1131\u001b[0m \u001b[39m# Do not call functions when jit is used\u001b[39;00m\n\u001b[0;32m   1132\u001b[0m full_backward_hooks, non_full_backward_hooks \u001b[39m=\u001b[39m [], []\n",
      "File \u001b[1;32mc:\\Users\\sgopalakrish\\Downloads\\intellizenz-model-training\\Neuro-symbolic-AI\\SLASH\\TabNet\\pytorch_tabnet\\tab_network.py:861\u001b[0m, in \u001b[0;36mEmbeddingGenerator.forward\u001b[1;34m(self, x)\u001b[0m\n\u001b[0;32m    858\u001b[0m         cols\u001b[39m.\u001b[39mappend(x[:, feat_init_idx]\u001b[39m.\u001b[39mfloat()\u001b[39m.\u001b[39mview(\u001b[39m-\u001b[39m\u001b[39m1\u001b[39m, \u001b[39m1\u001b[39m))\n\u001b[0;32m    859\u001b[0m     \u001b[39melse\u001b[39;00m:\n\u001b[0;32m    860\u001b[0m         cols\u001b[39m.\u001b[39mappend(\n\u001b[1;32m--> 861\u001b[0m             \u001b[39mself\u001b[39m\u001b[39m.\u001b[39membeddings[cat_feat_counter](x[:, feat_init_idx]\u001b[39m.\u001b[39mlong())\n\u001b[0;32m    862\u001b[0m         )\n\u001b[0;32m    863\u001b[0m         cat_feat_counter \u001b[39m+\u001b[39m\u001b[39m=\u001b[39m \u001b[39m1\u001b[39m\n\u001b[0;32m    864\u001b[0m \u001b[39m# concat\u001b[39;00m\n",
      "\u001b[1;31mIndexError\u001b[0m: index 78 is out of bounds for dimension 1 with size 78"
     ]
    }
   ],
   "source": [
    "loaded_preds = loaded_clf.predict_proba(X_test)\n",
    "loaded_y_pred = np.vectorize(preds_mapper.get)(np.argmax(loaded_preds, axis=1))\n",
    "\n",
    "loaded_test_acc = accuracy_score(y_pred=loaded_y_pred, y_true=y_test)\n",
    "\n",
    "print(f\"FINAL TEST SCORE FOR {dataset_name} : {loaded_test_acc}\")"
   ]
  },
  {
   "cell_type": "code",
   "execution_count": 37,
   "metadata": {},
   "outputs": [
    {
     "name": "stderr",
     "output_type": "stream",
     "text": [
      "Failed to detect the name of this notebook, you can set it manually with the WANDB_NOTEBOOK_NAME environment variable to enable code saving.\n",
      "\u001b[34m\u001b[1mwandb\u001b[0m: Currently logged in as: \u001b[33melsaravana\u001b[0m. Use \u001b[1m`wandb login --relogin`\u001b[0m to force relogin\n"
     ]
    },
    {
     "data": {
      "application/vnd.jupyter.widget-view+json": {
       "model_id": "5ba082eba1c54391ab1453ec1d147573",
       "version_major": 2,
       "version_minor": 0
      },
      "text/plain": [
       "VBox(children=(Label(value='Waiting for wandb.init()...\\r'), FloatProgress(value=0.016933333332417533, max=1.0…"
      ]
     },
     "metadata": {},
     "output_type": "display_data"
    },
    {
     "data": {
      "text/html": [
       "wandb version 0.13.9 is available!  To upgrade, please run:\n",
       " $ pip install wandb --upgrade"
      ],
      "text/plain": [
       "<IPython.core.display.HTML object>"
      ]
     },
     "metadata": {},
     "output_type": "display_data"
    },
    {
     "data": {
      "text/html": [
       "Tracking run with wandb version 0.13.5"
      ],
      "text/plain": [
       "<IPython.core.display.HTML object>"
      ]
     },
     "metadata": {},
     "output_type": "display_data"
    },
    {
     "data": {
      "text/html": [
       "Run data is saved locally in <code>c:\\Users\\sgopalakrish\\Downloads\\intellizenz-model-training\\Neuro-symbolic-AI\\SLASH\\TabNet\\wandb\\run-20230117_042701-3q7jo6s2</code>"
      ],
      "text/plain": [
       "<IPython.core.display.HTML object>"
      ]
     },
     "metadata": {},
     "output_type": "display_data"
    },
    {
     "data": {
      "text/html": [
       "Syncing run <strong><a href=\"https://wandb.ai/elsaravana/Intellizenz/runs/3q7jo6s2\" target=\"_blank\">bumbling-hill-209</a></strong> to <a href=\"https://wandb.ai/elsaravana/Intellizenz\" target=\"_blank\">Weights & Biases</a> (<a href=\"https://wandb.me/run\" target=\"_blank\">docs</a>)<br/>"
      ],
      "text/plain": [
       "<IPython.core.display.HTML object>"
      ]
     },
     "metadata": {},
     "output_type": "display_data"
    },
    {
     "name": "stderr",
     "output_type": "stream",
     "text": [
      "\u001b[34m\u001b[1mwandb\u001b[0m: \u001b[33mWARNING\u001b[0m wandb uses only 10000 data points to create the plots.\n"
     ]
    }
   ],
   "source": [
    "import wandb\n",
    "\n",
    "wandb.init(project=\"Intellizenz\", entity=\"elsaravana\")\n",
    "wandb.config = {\n",
    "    \"learning_rate\": 0.02,\n",
    "    \"epochs\": 200,\n",
    "    \"batch_size\": 16384\n",
    "}\n",
    "\n",
    "wandb.log({\"conf_mat\" : wandb.plot.confusion_matrix(probs=None,\n",
    "                    preds=loaded_y_pred, y_true=y_test,\n",
    "                    class_names=[0, 1, 2])})\n",
    "wandb.log({\"pr\" : wandb.plot.pr_curve(y_true=y_test, y_probas=loaded_preds,\n",
    "             labels=['Segment 0-50€', 'Segment 50-100€', 'Segment >100€'], classes_to_plot=[0, 1, 2])})\n",
    "wandb.log({\"roc\" : wandb.plot.roc_curve(y_true=y_test, y_probas=loaded_preds,\n",
    "                labels=['Segment 0-50€', 'Segment 50-100€', 'Segment >100€'], classes_to_plot=[0, 1, 2])})\n",
    "\n",
    "train_loss = clf.history['loss']\n",
    "train_accuracy = clf.history['train_accuracy']\n",
    "validation_accuracy = clf.history['valid_accuracy']\n",
    "for i,loss in enumerate(train_loss):\n",
    "    wandb.log({\"train_loss\": loss, \n",
    "        \"train_accuracy\": train_accuracy[i],\n",
    "        \"validation_accuracy\": validation_accuracy[i]})"
   ]
  },
  {
   "cell_type": "code",
   "execution_count": 38,
   "metadata": {},
   "outputs": [],
   "source": [
    "# wandb.summary[\"test_accuracy\"] = loaded_test_acc\n",
    "wandb.log({\"test_accuracy\": loaded_test_acc})"
   ]
  },
  {
   "cell_type": "code",
   "execution_count": 39,
   "metadata": {},
   "outputs": [],
   "source": [
    "assert(test_acc == loaded_test_acc)"
   ]
  },
  {
   "cell_type": "code",
   "execution_count": 40,
   "metadata": {},
   "outputs": [
    {
     "data": {
      "text/html": [
       "Waiting for W&B process to finish... <strong style=\"color:green\">(success).</strong>"
      ],
      "text/plain": [
       "<IPython.core.display.HTML object>"
      ]
     },
     "metadata": {},
     "output_type": "display_data"
    },
    {
     "data": {
      "text/html": [
       "<style>\n",
       "    table.wandb td:nth-child(1) { padding: 0 10px; text-align: left ; width: auto;} td:nth-child(2) {text-align: left ; width: 100%}\n",
       "    .wandb-row { display: flex; flex-direction: row; flex-wrap: wrap; justify-content: flex-start; width: 100% }\n",
       "    .wandb-col { display: flex; flex-direction: column; flex-basis: 100%; flex: 1; padding: 10px; }\n",
       "    </style>\n",
       "<div class=\"wandb-row\"><div class=\"wandb-col\"><h3>Run history:</h3><br/><table class=\"wandb\"><tr><td>test_accuracy</td><td>▁</td></tr><tr><td>train_accuracy</td><td>▁▄▅▅▆▇▇▇█████▇▇▇▆▆▆▆▅▄▄▄▄▅▅▄▂▃▃▄▅▂▂▄▅▄▄▅</td></tr><tr><td>train_loss</td><td>█▄▄▃▃▃▃▃▂▂▂▂▂▂▂▂▂▂▂▂▂▂▂▂▂▁▁▁▁▁▁▁▁▁▁▁▁▁▁▁</td></tr><tr><td>validation_accuracy</td><td>▁▄▅▅▆▇▇▇█████▇▇▇▆▆▆▆▅▄▄▄▄▅▅▄▂▃▃▄▅▂▂▄▅▄▄▅</td></tr></table><br/></div><div class=\"wandb-col\"><h3>Run summary:</h3><br/><table class=\"wandb\"><tr><td>test_accuracy</td><td>0.64643</td></tr><tr><td>train_accuracy</td><td>0.56451</td></tr><tr><td>train_loss</td><td>0.73595</td></tr><tr><td>validation_accuracy</td><td>0.56622</td></tr></table><br/></div></div>"
      ],
      "text/plain": [
       "<IPython.core.display.HTML object>"
      ]
     },
     "metadata": {},
     "output_type": "display_data"
    },
    {
     "data": {
      "text/html": [
       "Synced <strong style=\"color:#cdcd00\">bumbling-hill-209</strong>: <a href=\"https://wandb.ai/elsaravana/Intellizenz/runs/3q7jo6s2\" target=\"_blank\">https://wandb.ai/elsaravana/Intellizenz/runs/3q7jo6s2</a><br/>Synced 5 W&B file(s), 3 media file(s), 3 artifact file(s) and 0 other file(s)"
      ],
      "text/plain": [
       "<IPython.core.display.HTML object>"
      ]
     },
     "metadata": {},
     "output_type": "display_data"
    },
    {
     "data": {
      "text/html": [
       "Find logs at: <code>.\\wandb\\run-20230117_042701-3q7jo6s2\\logs</code>"
      ],
      "text/plain": [
       "<IPython.core.display.HTML object>"
      ]
     },
     "metadata": {},
     "output_type": "display_data"
    }
   ],
   "source": [
    "# exit_code 0, to finish a successful run\n",
    "wandb.finish(0)"
   ]
  },
  {
   "cell_type": "markdown",
   "metadata": {},
   "source": [
    "## Global explainability: feature importance summing to 1"
   ]
  },
  {
   "cell_type": "code",
   "execution_count": 41,
   "metadata": {},
   "outputs": [
    {
     "data": {
      "text/plain": [
       "array([0.00000000e+00, 2.10643698e-02, 0.00000000e+00, 1.64264212e-07,\n",
       "       0.00000000e+00, 0.00000000e+00, 0.00000000e+00, 1.36690251e-01,\n",
       "       0.00000000e+00, 8.59264621e-08, 0.00000000e+00, 0.00000000e+00,\n",
       "       0.00000000e+00, 0.00000000e+00, 0.00000000e+00, 1.48906630e-07,\n",
       "       1.48675966e-03, 0.00000000e+00, 6.79421350e-06, 0.00000000e+00,\n",
       "       1.08364009e-02, 0.00000000e+00, 0.00000000e+00, 0.00000000e+00,\n",
       "       0.00000000e+00, 2.11248307e-04, 0.00000000e+00, 0.00000000e+00,\n",
       "       0.00000000e+00, 4.09456074e-03, 0.00000000e+00, 0.00000000e+00,\n",
       "       0.00000000e+00, 9.04016911e-02, 0.00000000e+00, 0.00000000e+00,\n",
       "       0.00000000e+00, 0.00000000e+00, 0.00000000e+00, 0.00000000e+00,\n",
       "       0.00000000e+00, 0.00000000e+00, 0.00000000e+00, 0.00000000e+00,\n",
       "       1.47142230e-07, 0.00000000e+00, 0.00000000e+00, 0.00000000e+00,\n",
       "       2.78974153e-07, 0.00000000e+00, 0.00000000e+00, 0.00000000e+00,\n",
       "       0.00000000e+00, 0.00000000e+00, 0.00000000e+00, 4.92397352e-04,\n",
       "       4.33746353e-07, 0.00000000e+00, 0.00000000e+00, 0.00000000e+00,\n",
       "       0.00000000e+00, 0.00000000e+00, 0.00000000e+00, 0.00000000e+00,\n",
       "       0.00000000e+00, 0.00000000e+00, 0.00000000e+00, 0.00000000e+00,\n",
       "       2.79768892e-05, 6.76319275e-01, 5.83546454e-02, 0.00000000e+00,\n",
       "       0.00000000e+00, 0.00000000e+00, 0.00000000e+00, 1.23706229e-05,\n",
       "       0.00000000e+00, 0.00000000e+00])"
      ]
     },
     "execution_count": 41,
     "metadata": {},
     "output_type": "execute_result"
    }
   ],
   "source": [
    "clf.feature_importances_"
   ]
  },
  {
   "cell_type": "markdown",
   "metadata": {},
   "source": [
    "## Local explainability and masks"
   ]
  },
  {
   "cell_type": "code",
   "execution_count": 42,
   "metadata": {},
   "outputs": [],
   "source": [
    "explain_matrix, masks = clf.explain(X_test)"
   ]
  },
  {
   "cell_type": "code",
   "execution_count": 43,
   "metadata": {},
   "outputs": [
    {
     "data": {
      "image/png": "[encoded data removed]",
      "text/plain": [
       "<Figure size 2000x2000 with 5 Axes>"
      ]
     },
     "metadata": {},
     "output_type": "display_data"
    }
   ],
   "source": [
    "fig, axs = plt.subplots(1, 5, figsize=(20,20))\n",
    "\n",
    "for i in range(5):\n",
    "    axs[i].imshow(masks[i][:50])\n",
    "    axs[i].set_title(f\"mask {i}\")"
   ]
  },
  {
   "cell_type": "code",
   "execution_count": null,
   "metadata": {},
   "outputs": [],
   "source": []
  },
  {
   "attachments": {},
   "cell_type": "markdown",
   "metadata": {},
   "source": [
    "### Plot PR curve"
   ]
  },
  {
   "cell_type": "code",
   "execution_count": 24,
   "metadata": {},
   "outputs": [],
   "source": [
    "from sklearn.preprocessing import label_binarize\n",
    "from sklearn.metrics import precision_recall_curve,roc_curve\n",
    "\n",
    "n_classes = 3"
   ]
  },
  {
   "cell_type": "code",
   "execution_count": 25,
   "metadata": {},
   "outputs": [],
   "source": [
    "# Convert the True labels and Prediction to One hot encoded representation such as: if true - 0, then [1 0 0], \n",
    "# if true - 1, then [0 1 0]\n",
    "y_true_binarize = label_binarize(y_test, classes=[*range(n_classes)])\n",
    "y_pred_binarize = label_binarize(y_pred, classes=[*range(n_classes)])"
   ]
  },
  {
   "cell_type": "code",
   "execution_count": 26,
   "metadata": {},
   "outputs": [
    {
     "data": {
      "image/png": "[encoded data removed]",
      "text/plain": [
       "<Figure size 640x480 with 1 Axes>"
      ]
     },
     "metadata": {},
     "output_type": "display_data"
    }
   ],
   "source": [
    "# precision recall curve\n",
    "precision = dict()\n",
    "recall = dict()\n",
    "for i in range(n_classes):\n",
    "    label = ''\n",
    "    if i == 0:\n",
    "        label = 'Class 0(0-50€)'\n",
    "    elif i == 1:\n",
    "        label = 'Class 1(50-100€)'\n",
    "    else:\n",
    "        label = 'Class 2(>100€)'\n",
    "\n",
    "    precision[i], recall[i], _ = precision_recall_curve(y_true_binarize[:, i],\n",
    "                                                        y_pred_binarize[:, i])\n",
    "    plt.plot(recall[i], precision[i], lw=2, label=label)\n",
    "    \n",
    "plt.xlabel(\"Recall\")\n",
    "plt.ylabel(\"Precision\")\n",
    "plt.legend(loc=\"best\")\n",
    "# plt.title(\"Precision vs recall curve\")\n",
    "plt.show()\n"
   ]
  },
  {
   "attachments": {},
   "cell_type": "markdown",
   "metadata": {},
   "source": [
    "## ROC Curve"
   ]
  },
  {
   "cell_type": "code",
   "execution_count": 27,
   "metadata": {},
   "outputs": [
    {
     "data": {
      "image/png": "[encoded data removed]",
      "text/plain": [
       "<Figure size 640x480 with 1 Axes>"
      ]
     },
     "metadata": {},
     "output_type": "display_data"
    }
   ],
   "source": [
    "# ROC curve\n",
    "fpr = dict()\n",
    "tpr = dict()\n",
    "for i in range(n_classes):\n",
    "    label = ''\n",
    "    if i == 0:\n",
    "        label = 'Class 0(0-50€)'\n",
    "    elif i == 1:\n",
    "        label = 'Class 1(50-100€)'\n",
    "    else:\n",
    "        label = 'Class 2(>100€)'\n",
    "\n",
    "    fpr[i], tpr[i], _ = roc_curve(y_true_binarize[:, i],\n",
    "                                  y_pred_binarize[:, i])\n",
    "    plt.plot(fpr[i], tpr[i], lw=2, label=label)\n",
    "    \n",
    "plt.xlabel(\"False positive rate\")\n",
    "plt.ylabel(\"True positive rate\")\n",
    "plt.legend(loc=\"best\")\n",
    "# plt.title(\"Precision vs recall curve\")\n",
    "plt.show()"
   ]
  },
  {
   "cell_type": "code",
   "execution_count": 30,
   "metadata": {},
   "outputs": [],
   "source": [
    "from sklearn.metrics import multilabel_confusion_matrix, confusion_matrix\n",
    "\n",
    "# mul_c = multilabel_confusion_matrix(y_true_binarize, y_pred_binarize, labels=['Class 0(0-50€)', 'Class 1(50-100€)', 'Class 2(>100€)'])\n",
    "# mul_c\n"
   ]
  },
  {
   "cell_type": "code",
   "execution_count": 31,
   "metadata": {},
   "outputs": [],
   "source": [
    "cm = confusion_matrix(y_test, y_pred)\n",
    "cm_df = pd.DataFrame(cm, index = ['Class 0(0-50€)', 'Class 1(50-100€)', 'Class 2(>100€)'], columns= ['Class 0(0-50€)', 'Class 1(50-100€)', 'Class 2(>100€)'])\n"
   ]
  },
  {
   "cell_type": "code",
   "execution_count": 32,
   "metadata": {},
   "outputs": [],
   "source": [
    "import seaborn as sns"
   ]
  },
  {
   "cell_type": "code",
   "execution_count": 33,
   "metadata": {},
   "outputs": [
    {
     "data": {
      "image/png": "[encoded data removed]",
      "text/plain": [
       "<Figure size 500x400 with 2 Axes>"
      ]
     },
     "metadata": {},
     "output_type": "display_data"
    }
   ],
   "source": [
    "plt.figure(figsize=(5,4))\n",
    "sns.heatmap(cm_df, annot=True)\n",
    "plt.xlabel('Actual values')\n",
    "plt.ylabel('Predicted values')\n",
    "plt.show()"
   ]
  },
  {
   "cell_type": "code",
   "execution_count": null,
   "metadata": {},
   "outputs": [],
   "source": []
  }
 ],
 "metadata": {
  "kernelspec": {
   "display_name": "Python 3.9.13 ('intellizenz-model-training-LRwJb8pv-py3.9')",
   "language": "python",
   "name": "python3"
  },
  "language_info": {
   "codemirror_mode": {
    "name": "ipython",
    "version": 3
   },
   "file_extension": ".py",
   "mimetype": "text/x-python",
   "name": "python",
   "nbconvert_exporter": "python",
   "pygments_lexer": "ipython3",
   "version": "3.9.13 (tags/v3.9.13:6de2ca5, May 17 2022, 16:36:42) [MSC v.1929 64 bit (AMD64)]"
  },
  "orig_nbformat": 4,
  "vscode": {
   "interpreter": {
    "hash": "17ce7e5e80fa8847c13f468233b8349b1468d0a77f7c99a15d53db37f56b8200"
   }
  }
 },
 "nbformat": 4,
 "nbformat_minor": 2
}
