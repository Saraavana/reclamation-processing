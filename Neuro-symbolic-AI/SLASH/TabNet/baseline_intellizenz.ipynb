{
 "cells": [
  {
   "cell_type": "code",
   "execution_count": 4,
   "metadata": {},
   "outputs": [],
   "source": [
    "from pytorch_tabnet.tab_model import TabNetClassifier\n",
    "\n",
    "import torch\n",
    "from sklearn.metrics import accuracy_score\n",
    "from sklearn.model_selection import train_test_split\n",
    "import pandas as pd\n",
    "import numpy as np\n",
    "np.random.seed(0)\n",
    "\n",
    "import os, sys; \n",
    "column_path = os.path.dirname(os.path.realpath('C:/Users/sgopalakrish/Downloads/intellizenz-model-training/Neuro-symbolic-AI/column.py'))\n",
    "if sys.path.__contains__(column_path)==False:\n",
    "    sys.path.append(column_path)\n",
    "\n",
    "import column\n",
    "\n",
    "from matplotlib import pyplot as plt\n",
    "%matplotlib inline"
   ]
  },
  {
   "cell_type": "markdown",
   "metadata": {},
   "source": [
    "## Load data and split"
   ]
  },
  {
   "cell_type": "code",
   "execution_count": 5,
   "metadata": {},
   "outputs": [],
   "source": [
    "target = \"veranst_segment\"\n",
    "feature_columns = column.features_v5  #143 features\n",
    "\n",
    "data_path = column.data_path_2016_2020_v3\n",
    "df = pd.read_parquet(data_path)\n",
    "df = df[feature_columns]\n",
    "\n",
    "df = df.loc[:,~df.columns.isin(['vg_inkasso', 'tarif_bez'])] #141 features\n",
    "df = df.fillna(-1) # Fill the Empty NaN values in all the cells with -1"
   ]
  },
  {
   "cell_type": "code",
   "execution_count": 6,
   "metadata": {},
   "outputs": [],
   "source": [
    "n_total = len(df)\n",
    "\n",
    "# Train, val and test split follows\n",
    "# Rory Mitchell, Andrey Adinets, Thejaswi Rao, and Eibe Frank.\n",
    "# Xgboost: Scalable GPU accelerated learning. arXiv:1806.11248, 2018.\n",
    "\n",
    "#Train set = 53%, test set = 20%, valid set = 26%\n",
    "train_val_indices, test_indices = train_test_split(\n",
    "    range(n_total), test_size=0.2, random_state=0)\n",
    "train_indices, valid_indices = train_test_split(\n",
    "    train_val_indices, test_size=0.2 / 0.6, random_state=0) #valid split = 33%(0.2/0.6)"
   ]
  },
  {
   "cell_type": "code",
   "execution_count": 19,
   "metadata": {},
   "outputs": [],
   "source": [
    "unused_feat = []\n",
    "features = [ col for col in df.columns if col not in unused_feat+[target]] "
   ]
  },
  {
   "cell_type": "markdown",
   "metadata": {},
   "source": [
    "## Network parameters"
   ]
  },
  {
   "cell_type": "code",
   "execution_count": 20,
   "metadata": {},
   "outputs": [
    {
     "name": "stderr",
     "output_type": "stream",
     "text": [
      "c:\\Users\\sgopalakrish\\Downloads\\intellizenz-model-training\\Neuro-symbolic-AI\\SLASH\\TabNet\\pytorch_tabnet\\abstract_model.py:75: UserWarning: Device used : cuda\n",
      "  warnings.warn(f\"Device used : {self.device}\")\n"
     ]
    }
   ],
   "source": [
    "clf = TabNetClassifier(\n",
    "    n_d=64, n_a=64, n_steps=5,\n",
    "    gamma=1.5, n_independent=2, n_shared=2,\n",
    "    cat_emb_dim=1,\n",
    "    lambda_sparse=1e-4, momentum=0.3, clip_value=2.,\n",
    "    optimizer_fn=torch.optim.Adam,\n",
    "    optimizer_params=dict(lr=2e-2),\n",
    "    scheduler_params = {\"gamma\": 0.95,\n",
    "                     \"step_size\": 20},\n",
    "    scheduler_fn=torch.optim.lr_scheduler.StepLR, epsilon=1e-15\n",
    ")"
   ]
  },
  {
   "cell_type": "markdown",
   "metadata": {},
   "source": [
    "## Training"
   ]
  },
  {
   "cell_type": "code",
   "execution_count": 21,
   "metadata": {},
   "outputs": [],
   "source": [
    "if os.getenv(\"CI\", False):\n",
    "# Take only a subsample to run CI\n",
    "    X_train = df[features].values[train_indices][:1000,:]\n",
    "    y_train = df[target].values[train_indices][:1000]\n",
    "else:\n",
    "    X_train = df[features].values[train_indices]\n",
    "    y_train = df[target].values[train_indices]\n",
    "\n",
    "X_valid = df[features].values[valid_indices]\n",
    "y_valid = df[target].values[valid_indices]\n",
    "\n",
    "X_test = df[features].values[test_indices]\n",
    "y_test = df[target].values[test_indices]"
   ]
  },
  {
   "cell_type": "code",
   "execution_count": 22,
   "metadata": {},
   "outputs": [],
   "source": [
    "max_epochs = 50 if not os.getenv(\"CI\", False) else 2"
   ]
  },
  {
   "cell_type": "code",
   "execution_count": 23,
   "metadata": {},
   "outputs": [
    {
     "name": "stdout",
     "output_type": "stream",
     "text": [
      "epoch 0  | loss: 1.08151 | train_accuracy: 0.49013 | valid_accuracy: 0.49245 |  0:00:53s\n",
      "epoch 1  | loss: 0.93927 | train_accuracy: 0.48786 | valid_accuracy: 0.49006 |  0:01:58s\n",
      "epoch 2  | loss: 0.91963 | train_accuracy: 0.51716 | valid_accuracy: 0.51636 |  0:08:26s\n",
      "epoch 3  | loss: 0.90065 | train_accuracy: 0.52672 | valid_accuracy: 0.52669 |  0:09:07s\n",
      "epoch 4  | loss: 0.8925  | train_accuracy: 0.54819 | valid_accuracy: 0.54788 |  0:09:55s\n",
      "epoch 5  | loss: 0.88646 | train_accuracy: 0.55577 | valid_accuracy: 0.5565  |  0:11:05s\n",
      "epoch 6  | loss: 0.87949 | train_accuracy: 0.5633  | valid_accuracy: 0.56391 |  0:11:49s\n",
      "epoch 7  | loss: 0.87545 | train_accuracy: 0.57406 | valid_accuracy: 0.57408 |  0:12:32s\n",
      "epoch 8  | loss: 0.87182 | train_accuracy: 0.57964 | valid_accuracy: 0.58001 |  0:13:17s\n",
      "epoch 9  | loss: 0.87227 | train_accuracy: 0.57462 | valid_accuracy: 0.57517 |  0:14:02s\n",
      "epoch 10 | loss: 0.87107 | train_accuracy: 0.5823  | valid_accuracy: 0.58296 |  0:14:45s\n",
      "epoch 11 | loss: 0.86617 | train_accuracy: 0.58715 | valid_accuracy: 0.58641 |  0:15:31s\n",
      "epoch 12 | loss: 0.86399 | train_accuracy: 0.58409 | valid_accuracy: 0.58414 |  0:16:17s\n",
      "epoch 13 | loss: 0.86017 | train_accuracy: 0.59085 | valid_accuracy: 0.59068 |  0:17:02s\n",
      "epoch 14 | loss: 0.86484 | train_accuracy: 0.58575 | valid_accuracy: 0.5853  |  0:17:47s\n",
      "epoch 15 | loss: 0.86707 | train_accuracy: 0.58778 | valid_accuracy: 0.58802 |  0:18:34s\n",
      "epoch 16 | loss: 0.8619  | train_accuracy: 0.59173 | valid_accuracy: 0.59163 |  0:19:18s\n",
      "epoch 17 | loss: 0.8582  | train_accuracy: 0.59477 | valid_accuracy: 0.59489 |  0:20:03s\n",
      "epoch 18 | loss: 0.85594 | train_accuracy: 0.59293 | valid_accuracy: 0.59289 |  0:20:49s\n",
      "epoch 19 | loss: 0.8559  | train_accuracy: 0.59495 | valid_accuracy: 0.59461 |  0:21:33s\n",
      "epoch 20 | loss: 0.85194 | train_accuracy: 0.59749 | valid_accuracy: 0.59641 |  0:22:16s\n",
      "epoch 21 | loss: 0.84976 | train_accuracy: 0.59861 | valid_accuracy: 0.59764 |  0:23:04s\n",
      "epoch 22 | loss: 0.84852 | train_accuracy: 0.60068 | valid_accuracy: 0.59994 |  0:24:32s\n",
      "epoch 23 | loss: 0.84625 | train_accuracy: 0.60141 | valid_accuracy: 0.60078 |  0:25:46s\n",
      "epoch 24 | loss: 0.84492 | train_accuracy: 0.60173 | valid_accuracy: 0.60129 |  0:26:30s\n",
      "epoch 25 | loss: 0.84334 | train_accuracy: 0.60122 | valid_accuracy: 0.60048 |  0:27:16s\n",
      "epoch 26 | loss: 0.84231 | train_accuracy: 0.60249 | valid_accuracy: 0.60185 |  0:28:01s\n",
      "epoch 27 | loss: 0.84055 | train_accuracy: 0.60384 | valid_accuracy: 0.60295 |  0:28:46s\n",
      "epoch 28 | loss: 0.83933 | train_accuracy: 0.60482 | valid_accuracy: 0.60359 |  0:29:31s\n",
      "epoch 29 | loss: 0.83773 | train_accuracy: 0.60519 | valid_accuracy: 0.60399 |  0:30:14s\n",
      "epoch 30 | loss: 0.83652 | train_accuracy: 0.6062  | valid_accuracy: 0.60437 |  0:31:01s\n",
      "epoch 31 | loss: 0.83459 | train_accuracy: 0.60572 | valid_accuracy: 0.60448 |  0:31:46s\n",
      "epoch 32 | loss: 0.83464 | train_accuracy: 0.60755 | valid_accuracy: 0.60561 |  0:32:31s\n",
      "epoch 33 | loss: 0.83326 | train_accuracy: 0.60802 | valid_accuracy: 0.60666 |  0:33:15s\n",
      "epoch 34 | loss: 0.83233 | train_accuracy: 0.60782 | valid_accuracy: 0.60552 |  0:34:00s\n",
      "epoch 35 | loss: 0.83088 | train_accuracy: 0.60905 | valid_accuracy: 0.60666 |  0:34:43s\n",
      "epoch 36 | loss: 0.83031 | train_accuracy: 0.60934 | valid_accuracy: 0.60661 |  0:35:29s\n",
      "epoch 37 | loss: 0.82857 | train_accuracy: 0.6106  | valid_accuracy: 0.60835 |  0:36:40s\n",
      "epoch 38 | loss: 0.82728 | train_accuracy: 0.61083 | valid_accuracy: 0.60842 |  0:38:02s\n",
      "epoch 39 | loss: 0.82939 | train_accuracy: 0.60543 | valid_accuracy: 0.60368 |  0:39:26s\n",
      "epoch 40 | loss: 0.83103 | train_accuracy: 0.60956 | valid_accuracy: 0.60682 |  0:40:50s\n",
      "epoch 41 | loss: 0.84063 | train_accuracy: 0.60583 | valid_accuracy: 0.60426 |  0:42:15s\n",
      "epoch 42 | loss: 0.84218 | train_accuracy: 0.59279 | valid_accuracy: 0.59206 |  0:43:47s\n",
      "epoch 43 | loss: 0.85843 | train_accuracy: 0.59291 | valid_accuracy: 0.59241 |  0:45:08s\n",
      "epoch 44 | loss: 0.85416 | train_accuracy: 0.59464 | valid_accuracy: 0.59432 |  0:45:49s\n",
      "epoch 45 | loss: 0.86714 | train_accuracy: 0.58731 | valid_accuracy: 0.5876  |  0:46:33s\n",
      "epoch 46 | loss: 0.87675 | train_accuracy: 0.57832 | valid_accuracy: 0.5788  |  0:47:19s\n",
      "epoch 47 | loss: 0.88169 | train_accuracy: 0.56141 | valid_accuracy: 0.56246 |  0:48:01s\n",
      "epoch 48 | loss: 0.87181 | train_accuracy: 0.57541 | valid_accuracy: 0.57647 |  0:48:45s\n",
      "epoch 49 | loss: 0.86371 | train_accuracy: 0.57972 | valid_accuracy: 0.57981 |  0:49:27s\n",
      "Stop training because you reached max_epochs = 50 with best_epoch = 38 and best_valid_accuracy = 0.60842\n"
     ]
    },
    {
     "name": "stderr",
     "output_type": "stream",
     "text": [
      "c:\\Users\\sgopalakrish\\Downloads\\intellizenz-model-training\\Neuro-symbolic-AI\\SLASH\\TabNet\\pytorch_tabnet\\callbacks.py:172: UserWarning: Best weights from best epoch are automatically used!\n",
      "  warnings.warn(wrn_msg)\n"
     ]
    }
   ],
   "source": [
    "from pytorch_tabnet.augmentations import ClassificationSMOTE\n",
    "\n",
    "aug = ClassificationSMOTE(p=0.2)\n",
    "\n",
    "clf.fit(\n",
    "    X_train=X_train, y_train=y_train,\n",
    "    eval_set=[(X_train, y_train), (X_valid, y_valid)],\n",
    "    eval_name=['train', 'valid'],\n",
    "    max_epochs=max_epochs, patience=100,\n",
    "    batch_size=16384, virtual_batch_size=256,\n",
    "    augmentations=aug\n",
    ")"
   ]
  },
  {
   "cell_type": "code",
   "execution_count": 24,
   "metadata": {},
   "outputs": [
    {
     "data": {
      "text/plain": [
       "[<matplotlib.lines.Line2D at 0x2316a65b340>]"
      ]
     },
     "execution_count": 24,
     "metadata": {},
     "output_type": "execute_result"
    },
    {
     "data": {
      "image/png": "[encoded data removed]",
      "text/plain": [
       "<Figure size 640x480 with 1 Axes>"
      ]
     },
     "metadata": {},
     "output_type": "display_data"
    }
   ],
   "source": [
    "# plot losses\n",
    "plt.plot(clf.history['loss'])"
   ]
  },
  {
   "cell_type": "code",
   "execution_count": 25,
   "metadata": {},
   "outputs": [
    {
     "data": {
      "text/plain": [
       "[<matplotlib.lines.Line2D at 0x23152301f40>]"
      ]
     },
     "execution_count": 25,
     "metadata": {},
     "output_type": "execute_result"
    },
    {
     "data": {
      "image/png": "[encoded data removed]",
      "text/plain": [
       "<Figure size 640x480 with 1 Axes>"
      ]
     },
     "metadata": {},
     "output_type": "display_data"
    }
   ],
   "source": [
    "# plot accuracy\n",
    "plt.plot(clf.history['train_accuracy'])\n",
    "plt.plot(clf.history['valid_accuracy'])"
   ]
  },
  {
   "cell_type": "markdown",
   "metadata": {},
   "source": [
    "### Predictions"
   ]
  },
  {
   "cell_type": "code",
   "execution_count": 26,
   "metadata": {},
   "outputs": [],
   "source": [
    "dataset_name = 'Intellizenz'"
   ]
  },
  {
   "cell_type": "code",
   "execution_count": 27,
   "metadata": {},
   "outputs": [
    {
     "name": "stdout",
     "output_type": "stream",
     "text": [
      "BEST VALID SCORE FOR Intellizenz : 0.6084191086257442\n",
      "FINAL TEST SCORE FOR Intellizenz : 0.6082395821375273\n"
     ]
    }
   ],
   "source": [
    "# To get final results you may need to use a mapping for classes \n",
    "# as you are allowed to use targets like [\"yes\", \"no\", \"maybe\", \"I don't know\"]\n",
    "\n",
    "preds_mapper = { idx : class_name for idx, class_name in enumerate(clf.classes_)}\n",
    "\n",
    "preds = clf.predict_proba(X_test)\n",
    "\n",
    "y_pred = np.vectorize(preds_mapper.get)(np.argmax(preds, axis=1))\n",
    "\n",
    "test_acc = accuracy_score(y_pred=y_pred, y_true=y_test)\n",
    "\n",
    "print(f\"BEST VALID SCORE FOR {dataset_name} : {clf.best_cost}\")\n",
    "print(f\"FINAL TEST SCORE FOR {dataset_name} : {test_acc}\")"
   ]
  },
  {
   "cell_type": "code",
   "execution_count": 28,
   "metadata": {},
   "outputs": [
    {
     "name": "stdout",
     "output_type": "stream",
     "text": [
      "FINAL TEST SCORE FOR Intellizenz : 0.6082395821375273\n"
     ]
    }
   ],
   "source": [
    "# or you can simply use the predict method\n",
    "\n",
    "y_pred = clf.predict(X_test)\n",
    "test_acc = accuracy_score(y_pred=y_pred, y_true=y_test)\n",
    "print(f\"FINAL TEST SCORE FOR {dataset_name} : {test_acc}\")"
   ]
  },
  {
   "cell_type": "markdown",
   "metadata": {},
   "source": [
    "## Save and load Model"
   ]
  },
  {
   "cell_type": "code",
   "execution_count": 34,
   "metadata": {},
   "outputs": [
    {
     "name": "stdout",
     "output_type": "stream",
     "text": [
      "Successfully saved model at ./baseline_tabnet_model_test_1.zip\n"
     ]
    }
   ],
   "source": [
    "# save state dict\n",
    "saving_path_name = \"./baseline_tabnet_model_test_1\"\n",
    "saved_filename = clf.save_model(saving_path_name)"
   ]
  },
  {
   "cell_type": "code",
   "execution_count": 35,
   "metadata": {},
   "outputs": [
    {
     "name": "stderr",
     "output_type": "stream",
     "text": [
      "c:\\Users\\sgopalakrish\\Downloads\\intellizenz-model-training\\Neuro-symbolic-AI\\SLASH\\TabNet\\pytorch_tabnet\\abstract_model.py:75: UserWarning: Device used : cuda\n",
      "  warnings.warn(f\"Device used : {self.device}\")\n"
     ]
    }
   ],
   "source": [
    "# define new model and load save parameters\n",
    "loaded_clf = TabNetClassifier()\n",
    "loaded_clf.load_model(saved_filename)"
   ]
  },
  {
   "cell_type": "code",
   "execution_count": 36,
   "metadata": {},
   "outputs": [
    {
     "name": "stdout",
     "output_type": "stream",
     "text": [
      "FINAL TEST SCORE FOR Intellizenz : 0.6082395821375273\n"
     ]
    }
   ],
   "source": [
    "loaded_preds = loaded_clf.predict_proba(X_test)\n",
    "loaded_y_pred = np.vectorize(preds_mapper.get)(np.argmax(loaded_preds, axis=1))\n",
    "\n",
    "loaded_test_acc = accuracy_score(y_pred=loaded_y_pred, y_true=y_test)\n",
    "\n",
    "print(f\"FINAL TEST SCORE FOR {dataset_name} : {loaded_test_acc}\")"
   ]
  },
  {
   "cell_type": "code",
   "execution_count": 38,
   "metadata": {},
   "outputs": [
    {
     "name": "stderr",
     "output_type": "stream",
     "text": [
      "Failed to detect the name of this notebook, you can set it manually with the WANDB_NOTEBOOK_NAME environment variable to enable code saving.\n",
      "\u001b[34m\u001b[1mwandb\u001b[0m: Currently logged in as: \u001b[33melsaravana\u001b[0m. Use \u001b[1m`wandb login --relogin`\u001b[0m to force relogin\n"
     ]
    },
    {
     "data": {
      "text/html": [
       "Tracking run with wandb version 0.13.5"
      ],
      "text/plain": [
       "<IPython.core.display.HTML object>"
      ]
     },
     "metadata": {},
     "output_type": "display_data"
    },
    {
     "data": {
      "text/html": [
       "Run data is saved locally in <code>c:\\Users\\sgopalakrish\\Downloads\\intellizenz-model-training\\Neuro-symbolic-AI\\SLASH\\TabNet\\wandb\\run-20221117_140717-1ask20ne</code>"
      ],
      "text/plain": [
       "<IPython.core.display.HTML object>"
      ]
     },
     "metadata": {},
     "output_type": "display_data"
    },
    {
     "data": {
      "text/html": [
       "Syncing run <strong><a href=\"https://wandb.ai/elsaravana/Intellizenz/runs/1ask20ne\" target=\"_blank\">helpful-disco-127</a></strong> to <a href=\"https://wandb.ai/elsaravana/Intellizenz\" target=\"_blank\">Weights & Biases</a> (<a href=\"https://wandb.me/run\" target=\"_blank\">docs</a>)<br/>"
      ],
      "text/plain": [
       "<IPython.core.display.HTML object>"
      ]
     },
     "metadata": {},
     "output_type": "display_data"
    },
    {
     "name": "stderr",
     "output_type": "stream",
     "text": [
      "\u001b[34m\u001b[1mwandb\u001b[0m: \u001b[33mWARNING\u001b[0m wandb uses only 10000 data points to create the plots.\n"
     ]
    }
   ],
   "source": [
    "import wandb\n",
    "\n",
    "wandb.init(project=\"Intellizenz\", entity=\"elsaravana\")\n",
    "wandb.config = {\n",
    "    \"learning_rate\": 0.02,\n",
    "    \"epochs\": 50,\n",
    "    \"batch_size\": 16384\n",
    "}\n",
    "\n",
    "wandb.log({\"conf_mat\" : wandb.plot.confusion_matrix(probs=None,\n",
    "                    preds=loaded_y_pred, y_true=y_test,\n",
    "                    class_names=[0, 1, 2])})\n",
    "wandb.log({\"pr\" : wandb.plot.pr_curve(y_true=y_test, y_probas=loaded_preds,\n",
    "             labels=['Segment 0-50€', 'Segment 50-100€', 'Segment >100€'], classes_to_plot=[0, 1, 2])})\n",
    "wandb.log({\"roc\" : wandb.plot.roc_curve(y_true=y_test, y_probas=loaded_preds,\n",
    "                labels=['Segment 0-50€', 'Segment 50-100€', 'Segment >100€'], classes_to_plot=[0, 1, 2])})\n",
    "\n",
    "train_loss = clf.history['loss']\n",
    "train_accuracy = clf.history['train_accuracy']\n",
    "validation_accuracy = clf.history['valid_accuracy']\n",
    "for i,loss in enumerate(train_loss):\n",
    "    wandb.log({\"train_loss\": loss, \n",
    "        \"train_accuracy\": train_accuracy[i],\n",
    "        \"validation_accuracy\": validation_accuracy[i]})"
   ]
  },
  {
   "cell_type": "code",
   "execution_count": 37,
   "metadata": {},
   "outputs": [],
   "source": [
    "assert(test_acc == loaded_test_acc)"
   ]
  },
  {
   "cell_type": "code",
   "execution_count": 60,
   "metadata": {},
   "outputs": [
    {
     "data": {
      "text/html": [
       "Waiting for W&B process to finish... <strong style=\"color:green\">(success).</strong>"
      ],
      "text/plain": [
       "<IPython.core.display.HTML object>"
      ]
     },
     "metadata": {},
     "output_type": "display_data"
    },
    {
     "data": {
      "text/html": [
       "<style>\n",
       "    table.wandb td:nth-child(1) { padding: 0 10px; text-align: left ; width: auto;} td:nth-child(2) {text-align: left ; width: 100%}\n",
       "    .wandb-row { display: flex; flex-direction: row; flex-wrap: wrap; justify-content: flex-start; width: 100% }\n",
       "    .wandb-col { display: flex; flex-direction: column; flex-basis: 100%; flex: 1; padding: 10px; }\n",
       "    </style>\n",
       "<div class=\"wandb-row\"><div class=\"wandb-col\"><h3>Run history:</h3><br/><table class=\"wandb\"><tr><td>test_accuracy</td><td>▁</td></tr><tr><td>train_accuracy</td><td>▁▁▃▃▅▅▆▆▆▇▆▇▇▇▇▇▇▇▇▇▇█████████████▇▇▇▆▅▆</td></tr><tr><td>train_loss</td><td>█▄▄▃▃▂▂▂▂▂▂▂▂▂▂▂▂▂▂▂▁▁▁▁▁▁▁▁▁▁▁▁▁▁▁▂▂▂▂▂</td></tr><tr><td>validation_accuracy</td><td>▁▁▃▃▅▅▆▆▆▇▇▇▇▇▇▇▇▇▇███████████████▇▇▇▆▅▆</td></tr></table><br/></div><div class=\"wandb-col\"><h3>Run summary:</h3><br/><table class=\"wandb\"><tr><td>test_accuracy</td><td>0.60824</td></tr><tr><td>train_accuracy</td><td>0.57972</td></tr><tr><td>train_loss</td><td>0.86371</td></tr><tr><td>validation_accuracy</td><td>0.57981</td></tr></table><br/></div></div>"
      ],
      "text/plain": [
       "<IPython.core.display.HTML object>"
      ]
     },
     "metadata": {},
     "output_type": "display_data"
    },
    {
     "data": {
      "text/html": [
       "Synced <strong style=\"color:#cdcd00\">helpful-disco-127</strong>: <a href=\"https://wandb.ai/elsaravana/Intellizenz/runs/1ask20ne\" target=\"_blank\">https://wandb.ai/elsaravana/Intellizenz/runs/1ask20ne</a><br/>Synced 5 W&B file(s), 3 media file(s), 3 artifact file(s) and 0 other file(s)"
      ],
      "text/plain": [
       "<IPython.core.display.HTML object>"
      ]
     },
     "metadata": {},
     "output_type": "display_data"
    },
    {
     "data": {
      "text/html": [
       "Find logs at: <code>.\\wandb\\run-20221117_140717-1ask20ne\\logs</code>"
      ],
      "text/plain": [
       "<IPython.core.display.HTML object>"
      ]
     },
     "metadata": {},
     "output_type": "display_data"
    }
   ],
   "source": [
    "# exit_code 0, to finish a successful run\n",
    "wandb.finish(0)"
   ]
  },
  {
   "cell_type": "markdown",
   "metadata": {},
   "source": [
    "## Global explainability: feature importance summing to 1"
   ]
  },
  {
   "cell_type": "code",
   "execution_count": 29,
   "metadata": {},
   "outputs": [
    {
     "data": {
      "text/plain": [
       "array([6.09143881e-06, 2.90801378e-04, 1.29410707e-08, 2.56261435e-04,\n",
       "       2.94613363e-03, 1.87062980e-04, 2.69692726e-03, 7.38474554e-04,\n",
       "       3.92920564e-04, 1.21372292e-03, 0.00000000e+00, 3.91393566e-02,\n",
       "       4.97668376e-05, 1.12618881e-06, 9.13612217e-04, 6.84925761e-04,\n",
       "       1.41449303e-03, 3.66908097e-05, 2.43815747e-03, 1.31114672e-03,\n",
       "       8.25719374e-04, 4.04154153e-03, 8.65563150e-08, 1.05823872e-03,\n",
       "       7.98051556e-04, 1.01869987e-02, 6.51549500e-04, 4.55468941e-03,\n",
       "       2.11926939e-07, 1.06716976e-03, 4.86455782e-05, 4.29325933e-02,\n",
       "       1.33752015e-01, 7.42527945e-03, 1.62068173e-01, 4.14176062e-03,\n",
       "       1.93547156e-05, 2.06699324e-02, 6.21938642e-08, 5.38349156e-06,\n",
       "       1.95887519e-03, 1.25750885e-02, 5.50957617e-03, 1.79402971e-05,\n",
       "       2.04800059e-02, 1.33321367e-05, 3.45893008e-03, 3.95814731e-05,\n",
       "       5.23198492e-03, 4.86357135e-07, 0.00000000e+00, 2.13115329e-07,\n",
       "       2.82069567e-03, 3.06517097e-04, 7.61952664e-03, 4.22531128e-04,\n",
       "       1.07560404e-01, 1.90244806e-06, 3.49618766e-04, 2.43475427e-04,\n",
       "       3.66093604e-06, 2.27002340e-03, 3.18764708e-07, 1.70510405e-03,\n",
       "       7.33831479e-06, 4.74493032e-06, 3.18663200e-03, 2.12335797e-02,\n",
       "       9.31221570e-06, 3.95418149e-04, 4.68894543e-06, 1.91429096e-02,\n",
       "       1.17685238e-07, 8.16644141e-03, 1.10926047e-02, 6.07575854e-04,\n",
       "       1.08232925e-03, 2.06679544e-04, 8.17394290e-05, 1.29083864e-02,\n",
       "       2.63045844e-03, 1.38874851e-03, 9.82069270e-04, 1.25257989e-03,\n",
       "       4.16833928e-03, 3.40380825e-06, 6.91065678e-04, 2.58700154e-04,\n",
       "       3.67355396e-03, 7.12746721e-04, 1.27122742e-02, 0.00000000e+00,\n",
       "       3.61767148e-02, 5.55590783e-03, 2.25299402e-03, 1.61818395e-03,\n",
       "       3.13518008e-02, 1.29549689e-02, 1.76244475e-04, 3.28875533e-03,\n",
       "       2.63316250e-03, 2.90372735e-05, 1.38188830e-06, 1.38277455e-04,\n",
       "       8.96658568e-03, 1.48533431e-03, 1.04430264e-02, 2.49929166e-03,\n",
       "       1.90369743e-03, 1.59568313e-02, 1.64599151e-02, 1.42368284e-02,\n",
       "       0.00000000e+00, 3.40468993e-04, 3.86451163e-04, 7.92225934e-04,\n",
       "       3.54616769e-05, 8.57168315e-07, 4.47169036e-03, 5.32386006e-03,\n",
       "       4.21014228e-03, 5.21774134e-02, 1.04370095e-03, 7.59403631e-04,\n",
       "       7.86819805e-03, 2.48379243e-03, 3.10027646e-03, 3.84655763e-03,\n",
       "       8.01176271e-04, 1.11078958e-03, 9.39464828e-05, 6.16321079e-04,\n",
       "       4.93290353e-04, 1.09059410e-02, 1.48639403e-03, 9.37159171e-04,\n",
       "       1.73691496e-04, 2.87683789e-05, 1.42964089e-04, 8.07451985e-05])"
      ]
     },
     "execution_count": 29,
     "metadata": {},
     "output_type": "execute_result"
    }
   ],
   "source": [
    "clf.feature_importances_"
   ]
  },
  {
   "cell_type": "markdown",
   "metadata": {},
   "source": [
    "## Local explainability and masks"
   ]
  },
  {
   "cell_type": "code",
   "execution_count": 30,
   "metadata": {},
   "outputs": [],
   "source": [
    "explain_matrix, masks = clf.explain(X_test)"
   ]
  },
  {
   "cell_type": "code",
   "execution_count": 31,
   "metadata": {},
   "outputs": [
    {
     "data": {
      "image/png": "[encoded data removed]",
      "text/plain": [
       "<Figure size 2000x2000 with 5 Axes>"
      ]
     },
     "metadata": {},
     "output_type": "display_data"
    }
   ],
   "source": [
    "fig, axs = plt.subplots(1, 5, figsize=(20,20))\n",
    "\n",
    "for i in range(5):\n",
    "    axs[i].imshow(masks[i][:50])\n",
    "    axs[i].set_title(f\"mask {i}\")"
   ]
  },
  {
   "cell_type": "code",
   "execution_count": null,
   "metadata": {},
   "outputs": [],
   "source": []
  }
 ],
 "metadata": {
  "kernelspec": {
   "display_name": "Python 3.9.13 ('intellizenz-model-training-LRwJb8pv-py3.9')",
   "language": "python",
   "name": "python3"
  },
  "language_info": {
   "codemirror_mode": {
    "name": "ipython",
    "version": 3
   },
   "file_extension": ".py",
   "mimetype": "text/x-python",
   "name": "python",
   "nbconvert_exporter": "python",
   "pygments_lexer": "ipython3",
   "version": "3.9.13"
  },
  "orig_nbformat": 4,
  "vscode": {
   "interpreter": {
    "hash": "17ce7e5e80fa8847c13f468233b8349b1468d0a77f7c99a15d53db37f56b8200"
   }
  }
 },
 "nbformat": 4,
 "nbformat_minor": 2
}
