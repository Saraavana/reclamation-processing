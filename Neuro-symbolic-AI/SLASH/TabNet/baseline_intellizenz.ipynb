{
 "cells": [
  {
   "cell_type": "code",
   "execution_count": 1,
   "metadata": {},
   "outputs": [],
   "source": [
    "from pytorch_tabnet.tab_model import TabNetClassifier\n",
    "\n",
    "import torch\n",
    "from sklearn.metrics import accuracy_score\n",
    "from sklearn.model_selection import train_test_split\n",
    "import pandas as pd\n",
    "import numpy as np\n",
    "np.random.seed(0)\n",
    "\n",
    "import os, sys; \n",
    "column_path = os.path.dirname(os.path.realpath('C:/Users/sgopalakrish/Downloads/intellizenz-model-training/Neuro-symbolic-AI/column.py'))\n",
    "if sys.path.__contains__(column_path)==False:\n",
    "    sys.path.append(column_path)\n",
    "\n",
    "import column\n",
    "\n",
    "from matplotlib import pyplot as plt\n",
    "%matplotlib inline"
   ]
  },
  {
   "cell_type": "markdown",
   "metadata": {},
   "source": [
    "## Load data and split"
   ]
  },
  {
   "cell_type": "code",
   "execution_count": 2,
   "metadata": {},
   "outputs": [],
   "source": [
    "target = \"veranst_segment\"\n",
    "feature_columns = column.features_v5  #143 features\n",
    "\n",
    "data_path = column.data_path_2016_2020_v3\n",
    "df = pd.read_parquet(data_path)\n",
    "\n",
    "\n",
    "class_frequency = df.groupby('veranst_segment')['veranst_segment'].transform('count')\n",
    "df_sampled = df.sample(n=70000, weights=class_frequency, random_state=2)\n",
    "\n",
    "df_sampled = df_sampled[feature_columns]\n",
    "\n",
    "df_sampled = df_sampled.loc[:,~df_sampled.columns.isin(['vg_inkasso', 'tarif_bez'])] #141 features\n",
    "df_sampled = df_sampled.fillna(-1) # Fill the Empty NaN values in all the cells with -1"
   ]
  },
  {
   "cell_type": "code",
   "execution_count": 3,
   "metadata": {},
   "outputs": [],
   "source": [
    "n_total = len(df_sampled)\n",
    "\n",
    "# Train, val and test split follows\n",
    "# Rory Mitchell, Andrey Adinets, Thejaswi Rao, and Eibe Frank.\n",
    "# Xgboost: Scalable GPU accelerated learning. arXiv:1806.11248, 2018.\n",
    "\n",
    "#Train set = 53%, test set = 20%, valid set = 26%\n",
    "train_val_indices, test_indices = train_test_split(\n",
    "    range(n_total), test_size=0.2, random_state=0)\n",
    "train_indices, valid_indices = train_test_split(\n",
    "    train_val_indices, test_size=0.2 / 0.6, random_state=0) #valid split = 33%(0.2/0.6)"
   ]
  },
  {
   "cell_type": "code",
   "execution_count": 4,
   "metadata": {},
   "outputs": [],
   "source": [
    "unused_feat = []\n",
    "features = [ col for col in df_sampled.columns if col not in unused_feat+[target]] "
   ]
  },
  {
   "cell_type": "markdown",
   "metadata": {},
   "source": [
    "## Network parameters"
   ]
  },
  {
   "cell_type": "code",
   "execution_count": 5,
   "metadata": {},
   "outputs": [
    {
     "name": "stderr",
     "output_type": "stream",
     "text": [
      "c:\\Users\\sgopalakrish\\Downloads\\intellizenz-model-training\\Neuro-symbolic-AI\\SLASH\\TabNet\\pytorch_tabnet\\abstract_model.py:75: UserWarning: Device used : cuda\n",
      "  warnings.warn(f\"Device used : {self.device}\")\n"
     ]
    }
   ],
   "source": [
    "clf = TabNetClassifier(\n",
    "    n_d=64, n_a=64, n_steps=5,\n",
    "    gamma=1.5, n_independent=2, n_shared=2,\n",
    "    cat_emb_dim=1,\n",
    "    lambda_sparse=1e-4, momentum=0.3, clip_value=2.,\n",
    "    optimizer_fn=torch.optim.Adam,\n",
    "    optimizer_params=dict(lr=2e-2),\n",
    "    scheduler_params = {\"gamma\": 0.95,\n",
    "                     \"step_size\": 20},\n",
    "    scheduler_fn=torch.optim.lr_scheduler.StepLR, epsilon=1e-15\n",
    ")"
   ]
  },
  {
   "cell_type": "markdown",
   "metadata": {},
   "source": [
    "## Training"
   ]
  },
  {
   "cell_type": "code",
   "execution_count": 6,
   "metadata": {},
   "outputs": [],
   "source": [
    "if os.getenv(\"CI\", False):\n",
    "# Take only a subsample to run CI\n",
    "    X_train = df_sampled[features].values[train_indices][:1000,:]\n",
    "    y_train = df_sampled[target].values[train_indices][:1000]\n",
    "else:\n",
    "    X_train = df_sampled[features].values[train_indices]\n",
    "    y_train = df_sampled[target].values[train_indices]\n",
    "\n",
    "X_valid = df_sampled[features].values[valid_indices]\n",
    "y_valid = df_sampled[target].values[valid_indices]\n",
    "\n",
    "X_test = df_sampled[features].values[test_indices]\n",
    "y_test = df_sampled[target].values[test_indices]"
   ]
  },
  {
   "cell_type": "code",
   "execution_count": 7,
   "metadata": {},
   "outputs": [],
   "source": [
    "max_epochs = 200 if not os.getenv(\"CI\", False) else 2"
   ]
  },
  {
   "cell_type": "code",
   "execution_count": 8,
   "metadata": {},
   "outputs": [
    {
     "name": "stdout",
     "output_type": "stream",
     "text": [
      "epoch 0  | loss: 1.43982 | train_accuracy: 0.46109 | valid_accuracy: 0.46188 |  0:00:03s\n",
      "epoch 1  | loss: 1.22453 | train_accuracy: 0.45343 | valid_accuracy: 0.45792 |  0:00:05s\n",
      "epoch 2  | loss: 1.12585 | train_accuracy: 0.32832 | valid_accuracy: 0.32839 |  0:00:07s\n",
      "epoch 3  | loss: 1.08216 | train_accuracy: 0.44687 | valid_accuracy: 0.44769 |  0:00:08s\n",
      "epoch 4  | loss: 1.01592 | train_accuracy: 0.48847 | valid_accuracy: 0.49071 |  0:00:10s\n",
      "epoch 5  | loss: 0.99997 | train_accuracy: 0.45228 | valid_accuracy: 0.45508 |  0:00:12s\n",
      "epoch 6  | loss: 0.98287 | train_accuracy: 0.5407  | valid_accuracy: 0.53651 |  0:00:14s\n",
      "epoch 7  | loss: 0.96751 | train_accuracy: 0.51528 | valid_accuracy: 0.51171 |  0:00:16s\n",
      "epoch 8  | loss: 0.94626 | train_accuracy: 0.52407 | valid_accuracy: 0.52194 |  0:00:17s\n",
      "epoch 9  | loss: 0.92158 | train_accuracy: 0.5227  | valid_accuracy: 0.51808 |  0:00:19s\n",
      "epoch 10 | loss: 0.90404 | train_accuracy: 0.53974 | valid_accuracy: 0.53206 |  0:00:21s\n",
      "epoch 11 | loss: 0.88881 | train_accuracy: 0.54003 | valid_accuracy: 0.53581 |  0:00:23s\n",
      "epoch 12 | loss: 0.8898  | train_accuracy: 0.53778 | valid_accuracy: 0.53587 |  0:00:24s\n",
      "epoch 13 | loss: 0.87906 | train_accuracy: 0.55318 | valid_accuracy: 0.54781 |  0:00:26s\n",
      "epoch 14 | loss: 0.87617 | train_accuracy: 0.51989 | valid_accuracy: 0.51744 |  0:00:28s\n",
      "epoch 15 | loss: 0.87572 | train_accuracy: 0.53248 | valid_accuracy: 0.53185 |  0:00:29s\n",
      "epoch 16 | loss: 0.87389 | train_accuracy: 0.52166 | valid_accuracy: 0.52451 |  0:00:31s\n",
      "epoch 17 | loss: 0.86855 | train_accuracy: 0.52482 | valid_accuracy: 0.52794 |  0:00:33s\n",
      "epoch 18 | loss: 0.85124 | train_accuracy: 0.50845 | valid_accuracy: 0.50919 |  0:00:35s\n",
      "epoch 19 | loss: 0.85611 | train_accuracy: 0.52875 | valid_accuracy: 0.52949 |  0:00:36s\n",
      "epoch 20 | loss: 0.85203 | train_accuracy: 0.50684 | valid_accuracy: 0.50929 |  0:00:38s\n",
      "epoch 21 | loss: 0.84678 | train_accuracy: 0.52484 | valid_accuracy: 0.52681 |  0:00:40s\n",
      "epoch 22 | loss: 0.84226 | train_accuracy: 0.51509 | valid_accuracy: 0.51942 |  0:00:41s\n",
      "epoch 23 | loss: 0.84074 | train_accuracy: 0.51809 | valid_accuracy: 0.52145 |  0:00:43s\n",
      "epoch 24 | loss: 0.83358 | train_accuracy: 0.54464 | valid_accuracy: 0.54658 |  0:00:45s\n",
      "epoch 25 | loss: 0.83497 | train_accuracy: 0.53036 | valid_accuracy: 0.53495 |  0:00:47s\n",
      "epoch 26 | loss: 0.83199 | train_accuracy: 0.52342 | valid_accuracy: 0.5251  |  0:00:48s\n",
      "epoch 27 | loss: 0.82738 | train_accuracy: 0.55468 | valid_accuracy: 0.55944 |  0:00:50s\n",
      "epoch 28 | loss: 0.82365 | train_accuracy: 0.52198 | valid_accuracy: 0.52462 |  0:00:52s\n",
      "epoch 29 | loss: 0.82628 | train_accuracy: 0.52235 | valid_accuracy: 0.52445 |  0:00:53s\n",
      "epoch 30 | loss: 0.82164 | train_accuracy: 0.54092 | valid_accuracy: 0.5431  |  0:00:55s\n",
      "epoch 31 | loss: 0.8237  | train_accuracy: 0.53162 | valid_accuracy: 0.53404 |  0:00:57s\n",
      "epoch 32 | loss: 0.82211 | train_accuracy: 0.52803 | valid_accuracy: 0.53067 |  0:00:58s\n",
      "epoch 33 | loss: 0.81928 | train_accuracy: 0.53082 | valid_accuracy: 0.53367 |  0:01:00s\n",
      "epoch 34 | loss: 0.81754 | train_accuracy: 0.54201 | valid_accuracy: 0.54604 |  0:01:02s\n",
      "epoch 35 | loss: 0.81806 | train_accuracy: 0.53103 | valid_accuracy: 0.53512 |  0:01:03s\n",
      "epoch 36 | loss: 0.8162  | train_accuracy: 0.55699 | valid_accuracy: 0.55735 |  0:01:05s\n",
      "epoch 37 | loss: 0.81226 | train_accuracy: 0.55286 | valid_accuracy: 0.5552  |  0:01:07s\n",
      "epoch 38 | loss: 0.8086  | train_accuracy: 0.56197 | valid_accuracy: 0.56158 |  0:01:08s\n",
      "epoch 39 | loss: 0.81142 | train_accuracy: 0.55211 | valid_accuracy: 0.55638 |  0:01:10s\n",
      "epoch 40 | loss: 0.80925 | train_accuracy: 0.54405 | valid_accuracy: 0.54845 |  0:01:11s\n",
      "epoch 41 | loss: 0.80709 | train_accuracy: 0.5459  | valid_accuracy: 0.55162 |  0:01:13s\n",
      "epoch 42 | loss: 0.80715 | train_accuracy: 0.54359 | valid_accuracy: 0.54829 |  0:01:15s\n",
      "epoch 43 | loss: 0.80712 | train_accuracy: 0.55784 | valid_accuracy: 0.56185 |  0:01:16s\n",
      "epoch 44 | loss: 0.80226 | train_accuracy: 0.54796 | valid_accuracy: 0.55199 |  0:01:18s\n",
      "epoch 45 | loss: 0.79997 | train_accuracy: 0.53794 | valid_accuracy: 0.54203 |  0:01:20s\n",
      "epoch 46 | loss: 0.80161 | train_accuracy: 0.55059 | valid_accuracy: 0.5536  |  0:01:21s\n",
      "epoch 47 | loss: 0.79641 | train_accuracy: 0.56577 | valid_accuracy: 0.5672  |  0:01:23s\n",
      "epoch 48 | loss: 0.80099 | train_accuracy: 0.53109 | valid_accuracy: 0.53517 |  0:01:25s\n",
      "epoch 49 | loss: 0.7985  | train_accuracy: 0.56138 | valid_accuracy: 0.56276 |  0:01:26s\n",
      "epoch 50 | loss: 0.79721 | train_accuracy: 0.55388 | valid_accuracy: 0.55681 |  0:01:28s\n",
      "epoch 51 | loss: 0.79663 | train_accuracy: 0.55061 | valid_accuracy: 0.55301 |  0:01:29s\n",
      "epoch 52 | loss: 0.79526 | train_accuracy: 0.56473 | valid_accuracy: 0.56656 |  0:01:31s\n",
      "epoch 53 | loss: 0.79768 | train_accuracy: 0.52621 | valid_accuracy: 0.53003 |  0:01:33s\n",
      "epoch 54 | loss: 0.79693 | train_accuracy: 0.54434 | valid_accuracy: 0.54556 |  0:01:34s\n",
      "epoch 55 | loss: 0.79532 | train_accuracy: 0.54809 | valid_accuracy: 0.5507  |  0:01:36s\n",
      "epoch 56 | loss: 0.79422 | train_accuracy: 0.54041 | valid_accuracy: 0.54556 |  0:01:37s\n",
      "epoch 57 | loss: 0.78946 | train_accuracy: 0.55316 | valid_accuracy: 0.55526 |  0:01:39s\n",
      "epoch 58 | loss: 0.79212 | train_accuracy: 0.55337 | valid_accuracy: 0.55317 |  0:01:41s\n",
      "epoch 59 | loss: 0.79576 | train_accuracy: 0.5565  | valid_accuracy: 0.5559  |  0:01:42s\n",
      "epoch 60 | loss: 0.79346 | train_accuracy: 0.55192 | valid_accuracy: 0.55156 |  0:01:44s\n",
      "epoch 61 | loss: 0.7908  | train_accuracy: 0.55321 | valid_accuracy: 0.55199 |  0:01:45s\n",
      "epoch 62 | loss: 0.79124 | train_accuracy: 0.5362  | valid_accuracy: 0.53908 |  0:01:47s\n",
      "epoch 63 | loss: 0.78934 | train_accuracy: 0.56875 | valid_accuracy: 0.57122 |  0:01:49s\n",
      "epoch 64 | loss: 0.79392 | train_accuracy: 0.56044 | valid_accuracy: 0.5612  |  0:01:50s\n",
      "epoch 65 | loss: 0.79039 | train_accuracy: 0.56256 | valid_accuracy: 0.56479 |  0:01:52s\n",
      "epoch 66 | loss: 0.7864  | train_accuracy: 0.5565  | valid_accuracy: 0.56072 |  0:01:54s\n",
      "epoch 67 | loss: 0.78735 | train_accuracy: 0.5662  | valid_accuracy: 0.56442 |  0:01:55s\n",
      "epoch 68 | loss: 0.78723 | train_accuracy: 0.55886 | valid_accuracy: 0.56179 |  0:01:57s\n",
      "epoch 69 | loss: 0.78749 | train_accuracy: 0.56384 | valid_accuracy: 0.56828 |  0:01:59s\n",
      "epoch 70 | loss: 0.7883  | train_accuracy: 0.5741  | valid_accuracy: 0.57572 |  0:02:01s\n",
      "epoch 71 | loss: 0.78513 | train_accuracy: 0.56928 | valid_accuracy: 0.57176 |  0:02:02s\n",
      "epoch 72 | loss: 0.7842  | train_accuracy: 0.57673 | valid_accuracy: 0.57931 |  0:02:04s\n",
      "epoch 73 | loss: 0.78233 | train_accuracy: 0.57456 | valid_accuracy: 0.58001 |  0:02:06s\n",
      "epoch 74 | loss: 0.78379 | train_accuracy: 0.57638 | valid_accuracy: 0.58242 |  0:02:08s\n",
      "epoch 75 | loss: 0.78469 | train_accuracy: 0.58109 | valid_accuracy: 0.58258 |  0:02:10s\n",
      "epoch 76 | loss: 0.78261 | train_accuracy: 0.57322 | valid_accuracy: 0.57556 |  0:02:11s\n",
      "epoch 77 | loss: 0.78374 | train_accuracy: 0.58042 | valid_accuracy: 0.58028 |  0:02:13s\n",
      "epoch 78 | loss: 0.78135 | train_accuracy: 0.57911 | valid_accuracy: 0.58413 |  0:02:15s\n",
      "epoch 79 | loss: 0.78363 | train_accuracy: 0.57817 | valid_accuracy: 0.5822  |  0:02:17s\n",
      "epoch 80 | loss: 0.78527 | train_accuracy: 0.58292 | valid_accuracy: 0.58445 |  0:02:18s\n",
      "epoch 81 | loss: 0.78129 | train_accuracy: 0.58541 | valid_accuracy: 0.58611 |  0:02:20s\n",
      "epoch 82 | loss: 0.78086 | train_accuracy: 0.57943 | valid_accuracy: 0.5851  |  0:02:22s\n",
      "epoch 83 | loss: 0.78041 | train_accuracy: 0.58468 | valid_accuracy: 0.58606 |  0:02:24s\n",
      "epoch 84 | loss: 0.78322 | train_accuracy: 0.57467 | valid_accuracy: 0.57792 |  0:02:25s\n",
      "epoch 85 | loss: 0.78096 | train_accuracy: 0.58541 | valid_accuracy: 0.58445 |  0:02:27s\n",
      "epoch 86 | loss: 0.77848 | train_accuracy: 0.5793  | valid_accuracy: 0.58017 |  0:02:29s\n",
      "epoch 87 | loss: 0.77855 | train_accuracy: 0.58254 | valid_accuracy: 0.58445 |  0:02:31s\n",
      "epoch 88 | loss: 0.77766 | train_accuracy: 0.58061 | valid_accuracy: 0.58306 |  0:02:32s\n",
      "epoch 89 | loss: 0.78154 | train_accuracy: 0.57654 | valid_accuracy: 0.58328 |  0:02:34s\n",
      "epoch 90 | loss: 0.78032 | train_accuracy: 0.58431 | valid_accuracy: 0.58654 |  0:02:36s\n",
      "epoch 91 | loss: 0.78131 | train_accuracy: 0.58734 | valid_accuracy: 0.5874  |  0:02:38s\n",
      "epoch 92 | loss: 0.78049 | train_accuracy: 0.58509 | valid_accuracy: 0.58938 |  0:02:40s\n",
      "epoch 93 | loss: 0.77979 | train_accuracy: 0.58661 | valid_accuracy: 0.58611 |  0:02:41s\n",
      "epoch 94 | loss: 0.77942 | train_accuracy: 0.58626 | valid_accuracy: 0.5881  |  0:02:43s\n",
      "epoch 95 | loss: 0.78173 | train_accuracy: 0.58959 | valid_accuracy: 0.58847 |  0:02:45s\n",
      "epoch 96 | loss: 0.78181 | train_accuracy: 0.59141 | valid_accuracy: 0.59099 |  0:02:47s\n",
      "epoch 97 | loss: 0.78059 | train_accuracy: 0.59248 | valid_accuracy: 0.58992 |  0:02:48s\n",
      "epoch 98 | loss: 0.77871 | train_accuracy: 0.59109 | valid_accuracy: 0.58761 |  0:02:50s\n",
      "epoch 99 | loss: 0.77775 | train_accuracy: 0.58608 | valid_accuracy: 0.58445 |  0:02:52s\n",
      "epoch 100| loss: 0.77507 | train_accuracy: 0.58675 | valid_accuracy: 0.58853 |  0:02:53s\n",
      "epoch 101| loss: 0.77765 | train_accuracy: 0.58233 | valid_accuracy: 0.58344 |  0:02:55s\n",
      "epoch 102| loss: 0.77507 | train_accuracy: 0.58466 | valid_accuracy: 0.58483 |  0:02:57s\n",
      "epoch 103| loss: 0.77787 | train_accuracy: 0.59162 | valid_accuracy: 0.59131 |  0:02:58s\n",
      "epoch 104| loss: 0.77293 | train_accuracy: 0.59277 | valid_accuracy: 0.59185 |  0:03:00s\n",
      "epoch 105| loss: 0.77163 | train_accuracy: 0.58669 | valid_accuracy: 0.5867  |  0:03:02s\n",
      "epoch 106| loss: 0.7752  | train_accuracy: 0.59189 | valid_accuracy: 0.5927  |  0:03:03s\n",
      "epoch 107| loss: 0.7747  | train_accuracy: 0.59816 | valid_accuracy: 0.59394 |  0:03:05s\n",
      "epoch 108| loss: 0.77454 | train_accuracy: 0.58886 | valid_accuracy: 0.58997 |  0:03:07s\n",
      "epoch 109| loss: 0.77507 | train_accuracy: 0.59746 | valid_accuracy: 0.59876 |  0:03:09s\n",
      "epoch 110| loss: 0.77502 | train_accuracy: 0.59395 | valid_accuracy: 0.59517 |  0:03:10s\n",
      "epoch 111| loss: 0.77404 | train_accuracy: 0.59765 | valid_accuracy: 0.59576 |  0:03:12s\n",
      "epoch 112| loss: 0.77111 | train_accuracy: 0.5909  | valid_accuracy: 0.58879 |  0:03:13s\n",
      "epoch 113| loss: 0.77309 | train_accuracy: 0.59615 | valid_accuracy: 0.59249 |  0:03:15s\n",
      "epoch 114| loss: 0.77266 | train_accuracy: 0.59326 | valid_accuracy: 0.58992 |  0:03:17s\n",
      "epoch 115| loss: 0.77214 | train_accuracy: 0.58988 | valid_accuracy: 0.58885 |  0:03:19s\n",
      "epoch 116| loss: 0.77133 | train_accuracy: 0.59403 | valid_accuracy: 0.59169 |  0:03:21s\n",
      "epoch 117| loss: 0.77376 | train_accuracy: 0.60009 | valid_accuracy: 0.59892 |  0:03:22s\n",
      "epoch 118| loss: 0.77081 | train_accuracy: 0.59459 | valid_accuracy: 0.58729 |  0:03:24s\n",
      "epoch 119| loss: 0.77085 | train_accuracy: 0.59125 | valid_accuracy: 0.58842 |  0:03:26s\n",
      "epoch 120| loss: 0.77105 | train_accuracy: 0.58758 | valid_accuracy: 0.58461 |  0:03:28s\n",
      "epoch 121| loss: 0.77081 | train_accuracy: 0.59942 | valid_accuracy: 0.59067 |  0:03:29s\n",
      "epoch 122| loss: 0.77068 | train_accuracy: 0.59288 | valid_accuracy: 0.59142 |  0:03:31s\n",
      "epoch 123| loss: 0.77369 | train_accuracy: 0.6022  | valid_accuracy: 0.59276 |  0:03:33s\n",
      "epoch 124| loss: 0.76898 | train_accuracy: 0.59508 | valid_accuracy: 0.59474 |  0:03:35s\n",
      "epoch 125| loss: 0.77145 | train_accuracy: 0.60485 | valid_accuracy: 0.59961 |  0:03:36s\n",
      "epoch 126| loss: 0.77137 | train_accuracy: 0.59334 | valid_accuracy: 0.59324 |  0:03:38s\n",
      "epoch 127| loss: 0.76799 | train_accuracy: 0.6007  | valid_accuracy: 0.59886 |  0:03:40s\n",
      "epoch 128| loss: 0.77062 | train_accuracy: 0.60748 | valid_accuracy: 0.60379 |  0:03:42s\n",
      "epoch 129| loss: 0.76767 | train_accuracy: 0.59915 | valid_accuracy: 0.59704 |  0:03:44s\n",
      "epoch 130| loss: 0.76566 | train_accuracy: 0.60183 | valid_accuracy: 0.59495 |  0:03:45s\n",
      "epoch 131| loss: 0.76756 | train_accuracy: 0.60365 | valid_accuracy: 0.59854 |  0:03:47s\n",
      "epoch 132| loss: 0.76784 | train_accuracy: 0.60212 | valid_accuracy: 0.59854 |  0:03:49s\n",
      "epoch 133| loss: 0.76636 | train_accuracy: 0.60175 | valid_accuracy: 0.59881 |  0:03:51s\n",
      "epoch 134| loss: 0.76689 | train_accuracy: 0.6089  | valid_accuracy: 0.60379 |  0:03:53s\n",
      "epoch 135| loss: 0.76682 | train_accuracy: 0.60818 | valid_accuracy: 0.60031 |  0:03:54s\n",
      "epoch 136| loss: 0.76697 | train_accuracy: 0.60689 | valid_accuracy: 0.60036 |  0:03:56s\n",
      "epoch 137| loss: 0.76651 | train_accuracy: 0.61305 | valid_accuracy: 0.60615 |  0:03:58s\n",
      "epoch 138| loss: 0.76688 | train_accuracy: 0.60973 | valid_accuracy: 0.60417 |  0:03:59s\n",
      "epoch 139| loss: 0.76474 | train_accuracy: 0.61144 | valid_accuracy: 0.60647 |  0:04:01s\n",
      "epoch 140| loss: 0.76558 | train_accuracy: 0.61337 | valid_accuracy: 0.60336 |  0:04:03s\n",
      "epoch 141| loss: 0.76898 | train_accuracy: 0.59872 | valid_accuracy: 0.59597 |  0:04:05s\n",
      "epoch 142| loss: 0.76798 | train_accuracy: 0.61369 | valid_accuracy: 0.60492 |  0:04:07s\n",
      "epoch 143| loss: 0.76457 | train_accuracy: 0.60148 | valid_accuracy: 0.59522 |  0:04:09s\n",
      "epoch 144| loss: 0.76706 | train_accuracy: 0.60743 | valid_accuracy: 0.60379 |  0:04:10s\n",
      "epoch 145| loss: 0.76491 | train_accuracy: 0.61535 | valid_accuracy: 0.60797 |  0:04:12s\n",
      "epoch 146| loss: 0.76218 | train_accuracy: 0.60721 | valid_accuracy: 0.60149 |  0:04:14s\n",
      "epoch 147| loss: 0.76472 | train_accuracy: 0.61495 | valid_accuracy: 0.6054  |  0:04:16s\n",
      "epoch 148| loss: 0.76451 | train_accuracy: 0.61227 | valid_accuracy: 0.60535 |  0:04:17s\n",
      "epoch 149| loss: 0.76471 | train_accuracy: 0.61608 | valid_accuracy: 0.60942 |  0:04:19s\n",
      "epoch 150| loss: 0.76309 | train_accuracy: 0.61643 | valid_accuracy: 0.60867 |  0:04:21s\n",
      "epoch 151| loss: 0.76227 | train_accuracy: 0.61618 | valid_accuracy: 0.61102 |  0:04:22s\n",
      "epoch 152| loss: 0.76411 | train_accuracy: 0.62009 | valid_accuracy: 0.61279 |  0:04:24s\n",
      "epoch 153| loss: 0.76097 | train_accuracy: 0.61868 | valid_accuracy: 0.60942 |  0:04:26s\n",
      "epoch 154| loss: 0.76469 | train_accuracy: 0.61013 | valid_accuracy: 0.60149 |  0:04:27s\n",
      "epoch 155| loss: 0.76143 | train_accuracy: 0.61176 | valid_accuracy: 0.60299 |  0:04:29s\n",
      "epoch 156| loss: 0.76112 | train_accuracy: 0.61029 | valid_accuracy: 0.60277 |  0:04:31s\n",
      "epoch 157| loss: 0.76246 | train_accuracy: 0.61806 | valid_accuracy: 0.60695 |  0:04:32s\n",
      "epoch 158| loss: 0.76077 | train_accuracy: 0.619   | valid_accuracy: 0.61081 |  0:04:34s\n",
      "epoch 159| loss: 0.76207 | train_accuracy: 0.61613 | valid_accuracy: 0.60695 |  0:04:36s\n",
      "epoch 160| loss: 0.76294 | train_accuracy: 0.61945 | valid_accuracy: 0.60845 |  0:04:37s\n",
      "epoch 161| loss: 0.76217 | train_accuracy: 0.61225 | valid_accuracy: 0.60577 |  0:04:39s\n",
      "epoch 162| loss: 0.76058 | train_accuracy: 0.62776 | valid_accuracy: 0.61488 |  0:04:41s\n",
      "epoch 163| loss: 0.76113 | train_accuracy: 0.62023 | valid_accuracy: 0.60813 |  0:04:42s\n",
      "epoch 164| loss: 0.7599  | train_accuracy: 0.62253 | valid_accuracy: 0.6114  |  0:04:44s\n",
      "epoch 165| loss: 0.76474 | train_accuracy: 0.61602 | valid_accuracy: 0.60792 |  0:04:46s\n",
      "epoch 166| loss: 0.7598  | train_accuracy: 0.62018 | valid_accuracy: 0.60915 |  0:04:47s\n",
      "epoch 167| loss: 0.76088 | train_accuracy: 0.62245 | valid_accuracy: 0.61188 |  0:04:49s\n",
      "epoch 168| loss: 0.75784 | train_accuracy: 0.62441 | valid_accuracy: 0.61499 |  0:04:53s\n",
      "epoch 169| loss: 0.76096 | train_accuracy: 0.62221 | valid_accuracy: 0.61344 |  0:04:57s\n",
      "epoch 170| loss: 0.75995 | train_accuracy: 0.62518 | valid_accuracy: 0.61783 |  0:05:02s\n",
      "epoch 171| loss: 0.75892 | train_accuracy: 0.62738 | valid_accuracy: 0.61467 |  0:05:05s\n",
      "epoch 172| loss: 0.76206 | train_accuracy: 0.62342 | valid_accuracy: 0.61713 |  0:05:09s\n",
      "epoch 173| loss: 0.75894 | train_accuracy: 0.62618 | valid_accuracy: 0.61536 |  0:05:13s\n",
      "epoch 174| loss: 0.76008 | train_accuracy: 0.62642 | valid_accuracy: 0.61681 |  0:05:17s\n",
      "epoch 175| loss: 0.76228 | train_accuracy: 0.62826 | valid_accuracy: 0.61654 |  0:05:21s\n",
      "epoch 176| loss: 0.76048 | train_accuracy: 0.62636 | valid_accuracy: 0.61494 |  0:05:25s\n",
      "epoch 177| loss: 0.75836 | train_accuracy: 0.61685 | valid_accuracy: 0.61011 |  0:05:29s\n",
      "epoch 178| loss: 0.75693 | train_accuracy: 0.62773 | valid_accuracy: 0.61606 |  0:05:33s\n",
      "epoch 179| loss: 0.75887 | train_accuracy: 0.62762 | valid_accuracy: 0.62013 |  0:05:36s\n",
      "epoch 180| loss: 0.75719 | train_accuracy: 0.62824 | valid_accuracy: 0.61777 |  0:05:40s\n",
      "epoch 181| loss: 0.75705 | train_accuracy: 0.6318  | valid_accuracy: 0.62179 |  0:05:44s\n",
      "epoch 182| loss: 0.75596 | train_accuracy: 0.62344 | valid_accuracy: 0.61729 |  0:05:48s\n",
      "epoch 183| loss: 0.75987 | train_accuracy: 0.62984 | valid_accuracy: 0.61547 |  0:05:52s\n",
      "epoch 184| loss: 0.75674 | train_accuracy: 0.62904 | valid_accuracy: 0.61944 |  0:05:56s\n",
      "epoch 185| loss: 0.75664 | train_accuracy: 0.62877 | valid_accuracy: 0.62404 |  0:06:00s\n",
      "epoch 186| loss: 0.75679 | train_accuracy: 0.63378 | valid_accuracy: 0.62319 |  0:06:04s\n",
      "epoch 187| loss: 0.75752 | train_accuracy: 0.62802 | valid_accuracy: 0.61986 |  0:06:08s\n",
      "epoch 188| loss: 0.75637 | train_accuracy: 0.63086 | valid_accuracy: 0.62072 |  0:06:12s\n",
      "epoch 189| loss: 0.75429 | train_accuracy: 0.63193 | valid_accuracy: 0.62136 |  0:06:16s\n",
      "epoch 190| loss: 0.75658 | train_accuracy: 0.63659 | valid_accuracy: 0.62619 |  0:06:20s\n",
      "epoch 191| loss: 0.75467 | train_accuracy: 0.63306 | valid_accuracy: 0.6211  |  0:06:25s\n",
      "epoch 192| loss: 0.75555 | train_accuracy: 0.63448 | valid_accuracy: 0.62238 |  0:06:29s\n",
      "epoch 193| loss: 0.75638 | train_accuracy: 0.63593 | valid_accuracy: 0.62554 |  0:06:33s\n",
      "epoch 194| loss: 0.75478 | train_accuracy: 0.6325  | valid_accuracy: 0.61997 |  0:06:37s\n",
      "epoch 195| loss: 0.7563  | train_accuracy: 0.63558 | valid_accuracy: 0.62495 |  0:06:41s\n",
      "epoch 196| loss: 0.75502 | train_accuracy: 0.63504 | valid_accuracy: 0.6234  |  0:06:45s\n",
      "epoch 197| loss: 0.75689 | train_accuracy: 0.63614 | valid_accuracy: 0.62335 |  0:06:49s\n",
      "epoch 198| loss: 0.75778 | train_accuracy: 0.63445 | valid_accuracy: 0.62495 |  0:06:53s\n",
      "epoch 199| loss: 0.75574 | train_accuracy: 0.63893 | valid_accuracy: 0.62731 |  0:06:57s\n",
      "Stop training because you reached max_epochs = 200 with best_epoch = 199 and best_valid_accuracy = 0.62731\n"
     ]
    },
    {
     "name": "stderr",
     "output_type": "stream",
     "text": [
      "c:\\Users\\sgopalakrish\\Downloads\\intellizenz-model-training\\Neuro-symbolic-AI\\SLASH\\TabNet\\pytorch_tabnet\\callbacks.py:172: UserWarning: Best weights from best epoch are automatically used!\n",
      "  warnings.warn(wrn_msg)\n"
     ]
    }
   ],
   "source": [
    "from pytorch_tabnet.augmentations import ClassificationSMOTE\n",
    "\n",
    "aug = ClassificationSMOTE(p=0.2)\n",
    "\n",
    "clf.fit(\n",
    "    X_train=X_train, y_train=y_train,\n",
    "    eval_set=[(X_train, y_train), (X_valid, y_valid)],\n",
    "    eval_name=['train', 'valid'],\n",
    "    max_epochs=max_epochs, patience=100,\n",
    "    batch_size=16384, virtual_batch_size=256,\n",
    "    augmentations=aug\n",
    ")"
   ]
  },
  {
   "cell_type": "code",
   "execution_count": 9,
   "metadata": {},
   "outputs": [
    {
     "data": {
      "text/plain": [
       "[<matplotlib.lines.Line2D at 0x1aa23477490>]"
      ]
     },
     "execution_count": 9,
     "metadata": {},
     "output_type": "execute_result"
    },
    {
     "data": {
      "image/png": "[encoded data removed]",
      "text/plain": [
       "<Figure size 640x480 with 1 Axes>"
      ]
     },
     "metadata": {},
     "output_type": "display_data"
    }
   ],
   "source": [
    "# plot losses\n",
    "plt.plot(clf.history['loss'])"
   ]
  },
  {
   "cell_type": "code",
   "execution_count": 10,
   "metadata": {},
   "outputs": [
    {
     "data": {
      "text/plain": [
       "[<matplotlib.lines.Line2D at 0x1aa235a7610>]"
      ]
     },
     "execution_count": 10,
     "metadata": {},
     "output_type": "execute_result"
    },
    {
     "data": {
      "image/png": "[encoded data removed]",
      "text/plain": [
       "<Figure size 640x480 with 1 Axes>"
      ]
     },
     "metadata": {},
     "output_type": "display_data"
    }
   ],
   "source": [
    "# plot accuracy\n",
    "plt.plot(clf.history['train_accuracy'])\n",
    "plt.plot(clf.history['valid_accuracy'])"
   ]
  },
  {
   "cell_type": "markdown",
   "metadata": {},
   "source": [
    "### Predictions"
   ]
  },
  {
   "cell_type": "code",
   "execution_count": 11,
   "metadata": {},
   "outputs": [],
   "source": [
    "dataset_name = 'Intellizenz'"
   ]
  },
  {
   "cell_type": "code",
   "execution_count": 12,
   "metadata": {},
   "outputs": [
    {
     "name": "stdout",
     "output_type": "stream",
     "text": [
      "BEST VALID SCORE FOR Intellizenz : 0.6273102266030963\n",
      "FINAL TEST SCORE FOR Intellizenz : 0.6249285714285714\n"
     ]
    }
   ],
   "source": [
    "# To get final results you may need to use a mapping for classes \n",
    "# as you are allowed to use targets like [\"yes\", \"no\", \"maybe\", \"I don't know\"]\n",
    "\n",
    "preds_mapper = { idx : class_name for idx, class_name in enumerate(clf.classes_)}\n",
    "\n",
    "preds = clf.predict_proba(X_test)\n",
    "\n",
    "y_pred = np.vectorize(preds_mapper.get)(np.argmax(preds, axis=1))\n",
    "\n",
    "test_acc = accuracy_score(y_pred=y_pred, y_true=y_test)\n",
    "\n",
    "print(f\"BEST VALID SCORE FOR {dataset_name} : {clf.best_cost}\")\n",
    "print(f\"FINAL TEST SCORE FOR {dataset_name} : {test_acc}\")"
   ]
  },
  {
   "cell_type": "code",
   "execution_count": 13,
   "metadata": {},
   "outputs": [
    {
     "name": "stdout",
     "output_type": "stream",
     "text": [
      "FINAL TEST SCORE FOR Intellizenz : 0.6249285714285714\n"
     ]
    }
   ],
   "source": [
    "# or you can simply use the predict method\n",
    "\n",
    "y_pred = clf.predict(X_test)\n",
    "test_acc = accuracy_score(y_pred=y_pred, y_true=y_test)\n",
    "print(f\"FINAL TEST SCORE FOR {dataset_name} : {test_acc}\")"
   ]
  },
  {
   "cell_type": "markdown",
   "metadata": {},
   "source": [
    "## Save and load Model"
   ]
  },
  {
   "cell_type": "code",
   "execution_count": 14,
   "metadata": {},
   "outputs": [
    {
     "name": "stdout",
     "output_type": "stream",
     "text": [
      "Successfully saved model at ./baseline_tabnet_model_test_1.zip\n"
     ]
    }
   ],
   "source": [
    "# save state dict\n",
    "saving_path_name = \"./baseline_tabnet_model_test_1\"\n",
    "saved_filename = clf.save_model(saving_path_name)"
   ]
  },
  {
   "cell_type": "code",
   "execution_count": 15,
   "metadata": {},
   "outputs": [
    {
     "name": "stderr",
     "output_type": "stream",
     "text": [
      "c:\\Users\\sgopalakrish\\Downloads\\intellizenz-model-training\\Neuro-symbolic-AI\\SLASH\\TabNet\\pytorch_tabnet\\abstract_model.py:75: UserWarning: Device used : cuda\n",
      "  warnings.warn(f\"Device used : {self.device}\")\n"
     ]
    }
   ],
   "source": [
    "# define new model and load save parameters\n",
    "loaded_clf = TabNetClassifier()\n",
    "loaded_clf.load_model(saved_filename)"
   ]
  },
  {
   "cell_type": "code",
   "execution_count": 16,
   "metadata": {},
   "outputs": [
    {
     "name": "stdout",
     "output_type": "stream",
     "text": [
      "FINAL TEST SCORE FOR Intellizenz : 0.6249285714285714\n"
     ]
    }
   ],
   "source": [
    "loaded_preds = loaded_clf.predict_proba(X_test)\n",
    "loaded_y_pred = np.vectorize(preds_mapper.get)(np.argmax(loaded_preds, axis=1))\n",
    "\n",
    "loaded_test_acc = accuracy_score(y_pred=loaded_y_pred, y_true=y_test)\n",
    "\n",
    "print(f\"FINAL TEST SCORE FOR {dataset_name} : {loaded_test_acc}\")"
   ]
  },
  {
   "cell_type": "code",
   "execution_count": 17,
   "metadata": {},
   "outputs": [
    {
     "name": "stderr",
     "output_type": "stream",
     "text": [
      "Failed to detect the name of this notebook, you can set it manually with the WANDB_NOTEBOOK_NAME environment variable to enable code saving.\n",
      "\u001b[34m\u001b[1mwandb\u001b[0m: Currently logged in as: \u001b[33melsaravana\u001b[0m. Use \u001b[1m`wandb login --relogin`\u001b[0m to force relogin\n"
     ]
    },
    {
     "data": {
      "text/html": [
       "Tracking run with wandb version 0.13.5"
      ],
      "text/plain": [
       "<IPython.core.display.HTML object>"
      ]
     },
     "metadata": {},
     "output_type": "display_data"
    },
    {
     "data": {
      "text/html": [
       "Run data is saved locally in <code>c:\\Users\\sgopalakrish\\Downloads\\intellizenz-model-training\\Neuro-symbolic-AI\\SLASH\\TabNet\\wandb\\run-20221118_121353-3jw5boui</code>"
      ],
      "text/plain": [
       "<IPython.core.display.HTML object>"
      ]
     },
     "metadata": {},
     "output_type": "display_data"
    },
    {
     "data": {
      "text/html": [
       "Syncing run <strong><a href=\"https://wandb.ai/elsaravana/Intellizenz/runs/3jw5boui\" target=\"_blank\">dainty-fog-136</a></strong> to <a href=\"https://wandb.ai/elsaravana/Intellizenz\" target=\"_blank\">Weights & Biases</a> (<a href=\"https://wandb.me/run\" target=\"_blank\">docs</a>)<br/>"
      ],
      "text/plain": [
       "<IPython.core.display.HTML object>"
      ]
     },
     "metadata": {},
     "output_type": "display_data"
    },
    {
     "name": "stderr",
     "output_type": "stream",
     "text": [
      "\u001b[34m\u001b[1mwandb\u001b[0m: \u001b[33mWARNING\u001b[0m wandb uses only 10000 data points to create the plots.\n"
     ]
    }
   ],
   "source": [
    "import wandb\n",
    "\n",
    "wandb.init(project=\"Intellizenz\", entity=\"elsaravana\")\n",
    "wandb.config = {\n",
    "    \"learning_rate\": 0.02,\n",
    "    \"epochs\": 50,\n",
    "    \"batch_size\": 16384\n",
    "}\n",
    "\n",
    "wandb.log({\"conf_mat\" : wandb.plot.confusion_matrix(probs=None,\n",
    "                    preds=loaded_y_pred, y_true=y_test,\n",
    "                    class_names=[0, 1, 2])})\n",
    "wandb.log({\"pr\" : wandb.plot.pr_curve(y_true=y_test, y_probas=loaded_preds,\n",
    "             labels=['Segment 0-50€', 'Segment 50-100€', 'Segment >100€'], classes_to_plot=[0, 1, 2])})\n",
    "wandb.log({\"roc\" : wandb.plot.roc_curve(y_true=y_test, y_probas=loaded_preds,\n",
    "                labels=['Segment 0-50€', 'Segment 50-100€', 'Segment >100€'], classes_to_plot=[0, 1, 2])})\n",
    "\n",
    "train_loss = clf.history['loss']\n",
    "train_accuracy = clf.history['train_accuracy']\n",
    "validation_accuracy = clf.history['valid_accuracy']\n",
    "for i,loss in enumerate(train_loss):\n",
    "    wandb.log({\"train_loss\": loss, \n",
    "        \"train_accuracy\": train_accuracy[i],\n",
    "        \"validation_accuracy\": validation_accuracy[i]})"
   ]
  },
  {
   "cell_type": "code",
   "execution_count": 18,
   "metadata": {},
   "outputs": [],
   "source": [
    "wandb.summary[\"test_accuracy\"] = loaded_test_acc"
   ]
  },
  {
   "cell_type": "code",
   "execution_count": 19,
   "metadata": {},
   "outputs": [],
   "source": [
    "assert(test_acc == loaded_test_acc)"
   ]
  },
  {
   "cell_type": "code",
   "execution_count": 20,
   "metadata": {},
   "outputs": [
    {
     "data": {
      "text/html": [
       "Waiting for W&B process to finish... <strong style=\"color:green\">(success).</strong>"
      ],
      "text/plain": [
       "<IPython.core.display.HTML object>"
      ]
     },
     "metadata": {},
     "output_type": "display_data"
    },
    {
     "data": {
      "text/html": [
       "<style>\n",
       "    table.wandb td:nth-child(1) { padding: 0 10px; text-align: left ; width: auto;} td:nth-child(2) {text-align: left ; width: 100%}\n",
       "    .wandb-row { display: flex; flex-direction: row; flex-wrap: wrap; justify-content: flex-start; width: 100% }\n",
       "    .wandb-col { display: flex; flex-direction: column; flex-basis: 100%; flex: 1; padding: 10px; }\n",
       "    </style>\n",
       "<div class=\"wandb-row\"><div class=\"wandb-col\"><h3>Run history:</h3><br/><table class=\"wandb\"><tr><td>train_accuracy</td><td>▁▁▄▄▄▄▄▄▅▄▅▅▅▅▅▆▆▆▆▆▆▆▆▇▇▇▇▇▇▇▇▇▇▇█▇████</td></tr><tr><td>train_loss</td><td>█▅▃▃▂▂▂▂▂▂▂▂▂▁▁▁▁▁▁▁▁▁▁▁▁▁▁▁▁▁▁▁▁▁▁▁▁▁▁▁</td></tr><tr><td>validation_accuracy</td><td>▁▁▄▄▄▄▄▄▅▅▅▅▅▅▆▆▆▆▆▆▆▇▇▇▇▇▇▇▇▇▇▇▇▇█▇████</td></tr></table><br/></div><div class=\"wandb-col\"><h3>Run summary:</h3><br/><table class=\"wandb\"><tr><td>test_accuracy</td><td>0.62493</td></tr><tr><td>train_accuracy</td><td>0.63893</td></tr><tr><td>train_loss</td><td>0.75574</td></tr><tr><td>validation_accuracy</td><td>0.62731</td></tr></table><br/></div></div>"
      ],
      "text/plain": [
       "<IPython.core.display.HTML object>"
      ]
     },
     "metadata": {},
     "output_type": "display_data"
    },
    {
     "data": {
      "text/html": [
       "Synced <strong style=\"color:#cdcd00\">dainty-fog-136</strong>: <a href=\"https://wandb.ai/elsaravana/Intellizenz/runs/3jw5boui\" target=\"_blank\">https://wandb.ai/elsaravana/Intellizenz/runs/3jw5boui</a><br/>Synced 5 W&B file(s), 3 media file(s), 3 artifact file(s) and 0 other file(s)"
      ],
      "text/plain": [
       "<IPython.core.display.HTML object>"
      ]
     },
     "metadata": {},
     "output_type": "display_data"
    },
    {
     "data": {
      "text/html": [
       "Find logs at: <code>.\\wandb\\run-20221118_121353-3jw5boui\\logs</code>"
      ],
      "text/plain": [
       "<IPython.core.display.HTML object>"
      ]
     },
     "metadata": {},
     "output_type": "display_data"
    }
   ],
   "source": [
    "# exit_code 0, to finish a successful run\n",
    "wandb.finish(0)"
   ]
  },
  {
   "cell_type": "markdown",
   "metadata": {},
   "source": [
    "## Global explainability: feature importance summing to 1"
   ]
  },
  {
   "cell_type": "code",
   "execution_count": 21,
   "metadata": {},
   "outputs": [
    {
     "data": {
      "text/plain": [
       "array([1.29800796e-02, 8.99929967e-03, 2.77126649e-04, 1.31857540e-03,\n",
       "       4.36899913e-03, 3.20680340e-04, 1.70480613e-02, 2.33316228e-03,\n",
       "       0.00000000e+00, 2.22478031e-03, 4.37768031e-04, 6.87510574e-03,\n",
       "       9.62343146e-06, 2.73163736e-02, 3.38128024e-03, 8.09705031e-03,\n",
       "       6.08471337e-03, 1.14677413e-03, 4.84247674e-05, 1.78928320e-04,\n",
       "       7.07828280e-03, 9.78208040e-04, 1.07216282e-06, 1.31322215e-03,\n",
       "       1.64015586e-03, 4.01765486e-06, 1.28223406e-03, 1.24742364e-06,\n",
       "       0.00000000e+00, 3.80586432e-03, 2.39235305e-04, 2.13604627e-02,\n",
       "       6.90295547e-02, 3.44062791e-02, 3.82471634e-02, 1.84557302e-04,\n",
       "       0.00000000e+00, 4.62572790e-03, 4.15777075e-02, 8.87777359e-05,\n",
       "       3.92700723e-03, 1.91013999e-02, 5.66619863e-06, 4.26296314e-03,\n",
       "       7.94230884e-03, 1.63174681e-04, 5.06064263e-04, 4.17517470e-05,\n",
       "       1.72610532e-03, 3.55512642e-04, 1.07906810e-02, 8.79344538e-08,\n",
       "       1.78749718e-02, 1.45711849e-02, 1.16739458e-02, 5.75033558e-04,\n",
       "       2.24602837e-01, 1.60312377e-03, 2.31461816e-03, 4.44958518e-03,\n",
       "       2.65582653e-03, 9.40535361e-07, 4.08132138e-03, 6.72482431e-08,\n",
       "       7.77597404e-03, 5.75741001e-06, 7.85674877e-03, 2.37904901e-04,\n",
       "       2.03382583e-04, 3.77238561e-04, 1.54826401e-03, 1.84757524e-03,\n",
       "       7.70937332e-07, 9.04423258e-04, 5.43129086e-05, 7.09283753e-06,\n",
       "       2.90944958e-03, 1.63086566e-04, 2.03222792e-03, 4.11695909e-07,\n",
       "       2.71646900e-04, 1.11779248e-04, 8.69939397e-03, 2.31350801e-04,\n",
       "       3.48017123e-05, 8.15765861e-04, 2.58857625e-04, 1.10335650e-02,\n",
       "       0.00000000e+00, 1.47397900e-06, 3.36099113e-02, 1.02985125e-03,\n",
       "       9.99258933e-06, 7.22927472e-06, 2.66502751e-04, 1.59984107e-05,\n",
       "       6.95233582e-03, 1.82538019e-02, 2.39338108e-02, 3.64785856e-03,\n",
       "       3.64063093e-04, 1.05057353e-04, 3.64293130e-06, 2.36409275e-06,\n",
       "       5.23052298e-03, 2.71153576e-05, 8.38533998e-02, 8.09572667e-03,\n",
       "       1.30951269e-03, 3.35201710e-02, 1.34176980e-04, 2.73947365e-03,\n",
       "       6.15266505e-04, 6.60874984e-06, 2.26590087e-04, 0.00000000e+00,\n",
       "       3.23343719e-03, 8.76247788e-06, 3.49273755e-07, 2.64642402e-03,\n",
       "       2.18013297e-03, 1.50150056e-03, 6.72662699e-04, 1.90893830e-02,\n",
       "       3.84737776e-04, 0.00000000e+00, 1.33157051e-04, 2.98447658e-06,\n",
       "       3.21236037e-03, 3.99796469e-06, 1.08116911e-02, 1.68188064e-04,\n",
       "       6.49823083e-06, 1.49431812e-02, 4.21216527e-04, 5.72365872e-03,\n",
       "       3.62109155e-05, 9.38468667e-04, 0.00000000e+00, 0.00000000e+00])"
      ]
     },
     "execution_count": 21,
     "metadata": {},
     "output_type": "execute_result"
    }
   ],
   "source": [
    "clf.feature_importances_"
   ]
  },
  {
   "cell_type": "markdown",
   "metadata": {},
   "source": [
    "## Local explainability and masks"
   ]
  },
  {
   "cell_type": "code",
   "execution_count": 22,
   "metadata": {},
   "outputs": [],
   "source": [
    "explain_matrix, masks = clf.explain(X_test)"
   ]
  },
  {
   "cell_type": "code",
   "execution_count": 23,
   "metadata": {},
   "outputs": [
    {
     "data": {
      "image/png": "[encoded data removed]",
      "text/plain": [
       "<Figure size 2000x2000 with 5 Axes>"
      ]
     },
     "metadata": {},
     "output_type": "display_data"
    }
   ],
   "source": [
    "fig, axs = plt.subplots(1, 5, figsize=(20,20))\n",
    "\n",
    "for i in range(5):\n",
    "    axs[i].imshow(masks[i][:50])\n",
    "    axs[i].set_title(f\"mask {i}\")"
   ]
  },
  {
   "cell_type": "code",
   "execution_count": null,
   "metadata": {},
   "outputs": [],
   "source": []
  }
 ],
 "metadata": {
  "kernelspec": {
   "display_name": "Python 3.9.13 ('intellizenz-model-training-LRwJb8pv-py3.9')",
   "language": "python",
   "name": "python3"
  },
  "language_info": {
   "codemirror_mode": {
    "name": "ipython",
    "version": 3
   },
   "file_extension": ".py",
   "mimetype": "text/x-python",
   "name": "python",
   "nbconvert_exporter": "python",
   "pygments_lexer": "ipython3",
   "version": "3.9.13"
  },
  "orig_nbformat": 4,
  "vscode": {
   "interpreter": {
    "hash": "17ce7e5e80fa8847c13f468233b8349b1468d0a77f7c99a15d53db37f56b8200"
   }
  }
 },
 "nbformat": 4,
 "nbformat_minor": 2
}
