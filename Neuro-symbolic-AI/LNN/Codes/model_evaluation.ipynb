{
 "cells": [
  {
   "cell_type": "code",
   "execution_count": 11,
   "metadata": {},
   "outputs": [],
   "source": [
    "import pandas as pd\n",
    "import torch\n",
    "from utils.train import * "
   ]
  },
  {
   "cell_type": "code",
   "execution_count": 4,
   "metadata": {},
   "outputs": [],
   "source": [
    "df_test = pd.read_parquet('C:\\Saravana\\Projects\\Intellizenz\\intellizenz-model-training\\data\\export_testing_features_2016_2020.parquet.gzip')"
   ]
  },
  {
   "cell_type": "code",
   "execution_count": 5,
   "metadata": {},
   "outputs": [],
   "source": [
    "# Allow only maximum of 2 NaN per row or remove the rows with more than 2 NaN values Eg: band_std = NaN and promoter_std = NaN\n",
    "df_test.dropna(axis=0, thresh=154, inplace=True) \n",
    "\n",
    "X_test = df_test.loc[:,~df_test.columns.isin(['veranst_segment','vg_inkasso'])] # 152 features \n",
    "y_test = df_test['veranst_segment']"
   ]
  },
  {
   "cell_type": "markdown",
   "metadata": {},
   "source": [
    "Load model"
   ]
  },
  {
   "cell_type": "code",
   "execution_count": 4,
   "metadata": {},
   "outputs": [],
   "source": [
    "model = torch.load('C:/Saravana/Projects/Intellizenz/intellizenz-model-training/Neuro-symbolic-AI/LNN/Codes/utils/bestmodel.pkl')"
   ]
  },
  {
   "cell_type": "code",
   "execution_count": 17,
   "metadata": {},
   "outputs": [
    {
     "data": {
      "text/plain": [
       "tensor(3.6524, grad_fn=<AddBackward0>)"
      ]
     },
     "execution_count": 17,
     "metadata": {},
     "output_type": "execute_result"
    }
   ],
   "source": [
    "model.Const_loss()"
   ]
  },
  {
   "cell_type": "code",
   "execution_count": 5,
   "metadata": {},
   "outputs": [
    {
     "data": {
      "text/plain": [
       "TL_NN1()"
      ]
     },
     "execution_count": 5,
     "metadata": {},
     "output_type": "execute_result"
    }
   ],
   "source": [
    "model.eval()"
   ]
  },
  {
   "cell_type": "code",
   "execution_count": 12,
   "metadata": {},
   "outputs": [
    {
     "name": "stdout",
     "output_type": "stream",
     "text": [
      "******************** Training model for dataset data ********************\n",
      "\n",
      "X Train Data shape:\n",
      " (195254, 152)\n",
      "\n",
      "X Test Data shape:\n",
      " (151287, 152)\n",
      "\n",
      "Y Train Data shape:\n",
      " (195254,)\n",
      "\n",
      "Y Test Data shape:\n",
      " (151287,)\n",
      "The pronodenum:  0\n",
      "The maxnodenum:  0\n",
      "Model number :1 and Epochs :100\n",
      "Model number :2 and Epochs :100\n",
      "Model number :3 and Epochs :100\n",
      "Model number :4 and Epochs :100\n",
      "Model number :5 and Epochs :100\n",
      "Model number :6 and Epochs :100\n",
      "The pronodenum:  1\n",
      "The maxnodenum:  1\n",
      "Model number :1 and Epochs :100\n",
      "Model number :2 and Epochs :100\n",
      "Model number :3 and Epochs :100\n",
      "Model number :4 and Epochs :100\n",
      "Model number :5 and Epochs :100\n",
      "Model number :6 and Epochs :100\n",
      "The pronodenum:  2\n",
      "The maxnodenum:  2\n",
      "Model number :1 and Epochs :100\n",
      "Model number :2 and Epochs :100\n",
      "Model number :3 and Epochs :100\n",
      "Model number :4 and Epochs :100\n",
      "Model number :5 and Epochs :100\n",
      "Model number :6 and Epochs :100\n",
      "The pronodenum:  3\n",
      "The maxnodenum:  3\n",
      "Model number :1 and Epochs :100\n",
      "Model number :2 and Epochs :100\n",
      "Model number :3 and Epochs :100\n",
      "Model number :4 and Epochs :100\n",
      "Model number :5 and Epochs :100\n",
      "Model number :6 and Epochs :100\n",
      "The pronodenum:  4\n",
      "The maxnodenum:  4\n",
      "Model number :1 and Epochs :100\n",
      "Model number :2 and Epochs :100\n",
      "Model number :3 and Epochs :100\n",
      "Model number :4 and Epochs :100\n",
      "Model number :5 and Epochs :100\n",
      "Model number :6 and Epochs :100\n",
      "The pronodenum:  5\n",
      "The maxnodenum:  6\n",
      "Model number :1 and Epochs :100\n",
      "Model number :2 and Epochs :100\n",
      "Model number :3 and Epochs :100\n",
      "Model number :4 and Epochs :100\n",
      "Model number :5 and Epochs :100\n",
      "Model number :6 and Epochs :100\n",
      "The pronodenum:  6\n",
      "The maxnodenum:  7\n",
      "Model number :1 and Epochs :100\n",
      "Model number :2 and Epochs :100\n",
      "Model number :3 and Epochs :100\n",
      "Model number :4 and Epochs :100\n",
      "Model number :5 and Epochs :100\n",
      "Model number :6 and Epochs :100\n",
      "The pronodenum:  7\n",
      "The maxnodenum:  8\n",
      "Model number :1 and Epochs :100\n",
      "Model number :2 and Epochs :100\n",
      "Model number :3 and Epochs :100\n",
      "Model number :4 and Epochs :100\n",
      "Model number :5 and Epochs :100\n",
      "Model number :6 and Epochs :100\n",
      "The pronodenum:  8\n",
      "The maxnodenum:  9\n",
      "Model number :1 and Epochs :100\n",
      "Model number :2 and Epochs :100\n",
      "Model number :3 and Epochs :100\n",
      "Model number :4 and Epochs :100\n",
      "Model number :5 and Epochs :100\n",
      "Model number :6 and Epochs :100\n",
      "The pronodenum:  9\n",
      "The maxnodenum:  10\n",
      "Model number :1 and Epochs :100\n",
      "Model number :2 and Epochs :100\n",
      "Model number :3 and Epochs :100\n",
      "Model number :4 and Epochs :100\n",
      "Model number :5 and Epochs :100\n",
      "Model number :6 and Epochs :100\n",
      "The pronodenum:  10\n",
      "The maxnodenum:  11\n",
      "Model number :1 and Epochs :100\n",
      "Model number :2 and Epochs :100\n",
      "Model number :3 and Epochs :100\n",
      "Model number :4 and Epochs :100\n",
      "Model number :5 and Epochs :100\n",
      "Model number :6 and Epochs :100\n",
      "The pronodenum:  11\n",
      "The maxnodenum:  12\n",
      "Model number :1 and Epochs :100\n",
      "Model number :2 and Epochs :100\n",
      "Model number :3 and Epochs :100\n",
      "Model number :4 and Epochs :100\n",
      "Model number :5 and Epochs :100\n",
      "Model number :6 and Epochs :100\n",
      "The pronodenum:  12\n",
      "The maxnodenum:  13\n",
      "Model number :1 and Epochs :100\n",
      "Model number :2 and Epochs :100\n",
      "Model number :3 and Epochs :100\n",
      "Model number :4 and Epochs :100\n",
      "Model number :5 and Epochs :100\n",
      "Model number :6 and Epochs :100\n",
      "The pronodenum:  13\n",
      "The maxnodenum:  14\n",
      "Model number :1 and Epochs :100\n",
      "Model number :2 and Epochs :100\n",
      "Model number :3 and Epochs :100\n",
      "Model number :4 and Epochs :100\n",
      "Model number :5 and Epochs :100\n",
      "Model number :6 and Epochs :100\n",
      "The pronodenum:  14\n",
      "The maxnodenum:  16\n",
      "Model number :1 and Epochs :100\n",
      "Model number :2 and Epochs :100\n",
      "Model number :3 and Epochs :100\n",
      "Model number :4 and Epochs :100\n",
      "Model number :5 and Epochs :100\n",
      "Model number :6 and Epochs :100\n",
      "The pronodenum:  15\n",
      "The maxnodenum:  17\n",
      "Model number :1 and Epochs :100\n",
      "Model number :2 and Epochs :100\n",
      "Model number :3 and Epochs :100\n",
      "Model number :4 and Epochs :100\n",
      "Model number :5 and Epochs :100\n",
      "Model number :6 and Epochs :100\n",
      "The pronodenum:  16\n",
      "The maxnodenum:  19\n",
      "The pronodenum:  17\n",
      "The maxnodenum:  19\n",
      "Model number :1 and Epochs :100\n",
      "Model number :2 and Epochs :100\n",
      "Model number :3 and Epochs :100\n",
      "Model number :4 and Epochs :100\n",
      "Model number :5 and Epochs :100\n",
      "Model number :6 and Epochs :100\n",
      "The pronodenum:  18\n",
      "The maxnodenum:  20\n",
      "Model number :1 and Epochs :100\n",
      "Model number :2 and Epochs :100\n",
      "Model number :3 and Epochs :100\n",
      "Model number :4 and Epochs :100\n",
      "Model number :5 and Epochs :100\n",
      "Model number :6 and Epochs :100\n",
      "The pronodenum:  19\n",
      "The maxnodenum:  22\n",
      "The pronodenum:  20\n",
      "The maxnodenum:  22\n",
      "Model number :1 and Epochs :100\n",
      "Model number :2 and Epochs :100\n",
      "Model number :3 and Epochs :100\n",
      "Model number :4 and Epochs :100\n",
      "Model number :5 and Epochs :100\n",
      "Model number :6 and Epochs :100\n",
      "The pronodenum:  21\n",
      "The maxnodenum:  24\n",
      "The pronodenum:  22\n",
      "The maxnodenum:  24\n",
      "Model number :1 and Epochs :100\n",
      "Model number :2 and Epochs :100\n",
      "Model number :3 and Epochs :100\n",
      "Model number :4 and Epochs :100\n",
      "Model number :5 and Epochs :100\n",
      "Model number :6 and Epochs :100\n",
      "The pronodenum:  23\n",
      "The maxnodenum:  26\n",
      "Model number :1 and Epochs :100\n",
      "Model number :2 and Epochs :100\n",
      "Model number :3 and Epochs :100\n",
      "Model number :4 and Epochs :100\n",
      "Model number :5 and Epochs :100\n",
      "Model number :6 and Epochs :100\n",
      "The pronodenum:  24\n",
      "The maxnodenum:  27\n",
      "Model number :1 and Epochs :100\n",
      "Model number :2 and Epochs :100\n",
      "Model number :3 and Epochs :100\n",
      "Model number :4 and Epochs :100\n",
      "Model number :5 and Epochs :100\n",
      "Model number :6 and Epochs :100\n",
      "The pronodenum:  25\n",
      "The maxnodenum:  28\n",
      "The pronodenum:  26\n",
      "The maxnodenum:  28\n",
      "The pronodenum:  27\n",
      "The maxnodenum:  28\n",
      "Model number :1 and Epochs :100\n",
      "Model number :2 and Epochs :100\n",
      "Model number :3 and Epochs :100\n",
      "Model number :4 and Epochs :100\n",
      "Model number :5 and Epochs :100\n",
      "Model number :6 and Epochs :100\n",
      "The pronodenum:  28\n",
      "The maxnodenum:  29\n",
      "Model number :1 and Epochs :100\n",
      "Model number :2 and Epochs :100\n",
      "Model number :3 and Epochs :100\n",
      "Model number :4 and Epochs :100\n",
      "Model number :5 and Epochs :100\n",
      "Model number :6 and Epochs :100\n",
      "The pronodenum:  29\n",
      "The maxnodenum:  31\n",
      "Model number :1 and Epochs :100\n",
      "Model number :2 and Epochs :100\n",
      "Model number :3 and Epochs :100\n",
      "Model number :4 and Epochs :100\n",
      "Model number :5 and Epochs :100\n",
      "Model number :6 and Epochs :100\n",
      "The pronodenum:  30\n",
      "The maxnodenum:  32\n",
      "The pronodenum:  31\n",
      "The maxnodenum:  32\n",
      "The pronodenum:  32\n",
      "The maxnodenum:  32\n",
      "Model number :1 and Epochs :100\n",
      "Model number :2 and Epochs :100\n",
      "Model number :3 and Epochs :100\n",
      "Model number :4 and Epochs :100\n",
      "Model number :5 and Epochs :100\n",
      "Model number :6 and Epochs :100\n"
     ]
    }
   ],
   "source": [
    "Filepath = 'C:/Saravana/Projects/Intellizenz/intellizenz-model-training/'\n",
    "dataset_map = [(\"data\", 1)]\n",
    "\n",
    "normalize_dataset = True\n",
    "Max_epoch = 100\n",
    "tree = {}\n",
    "for dname, did in dataset_map:\n",
    "    print('*' * 20, \"Training model for dataset %s\" % (dname), '*' * 20)\n",
    "    dataset_name_ = Filepath + dname\n",
    "    tree = train_model(did, dataset_name_, dname, epochs=Max_epoch, \\\n",
    "                normalize_timeseries=normalize_dataset)"
   ]
  },
  {
   "cell_type": "code",
   "execution_count": 13,
   "metadata": {},
   "outputs": [
    {
     "name": "stdout",
     "output_type": "stream",
     "text": [
      "{0: <utils.train_utils.Node object at 0x0000017DD9F19DF0>, 1: <utils.train_utils.Node object at 0x0000017D9F7AE910>, 2: <utils.train_utils.Node object at 0x0000017D9F7148B0>, 3: <utils.train_utils.Node object at 0x0000017DD9C7B8B0>, 4: <utils.train_utils.Node object at 0x0000017D9F714340>, 5: <utils.train_utils.Node object at 0x0000017D9F890D90>, 6: <utils.train_utils.Node object at 0x0000017D9F890E80>, 7: <utils.train_utils.Node object at 0x0000017D9F890F70>, 8: <utils.train_utils.Node object at 0x0000017D9F890E50>, 9: <utils.train_utils.Node object at 0x0000017D9F890CA0>, 10: <utils.train_utils.Node object at 0x0000017D9F890AC0>, 11: <utils.train_utils.Node object at 0x0000017D9F890F40>, 12: <utils.train_utils.Node object at 0x0000017D9F890A30>, 13: <utils.train_utils.Node object at 0x0000017D9F890FD0>, 14: <utils.train_utils.Node object at 0x0000017D9F890D30>, 15: <utils.train_utils.Node object at 0x0000017D9F890AF0>, 16: <utils.train_utils.Node object at 0x0000017D9F890A90>, 17: <utils.train_utils.Node object at 0x0000017D9F890DF0>, 18: <utils.train_utils.Node object at 0x0000017D9F890BB0>, 19: <utils.train_utils.Node object at 0x0000017D9F890FA0>, 20: <utils.train_utils.Node object at 0x0000017D9F890EE0>, 21: <utils.train_utils.Node object at 0x0000017D9F890DC0>, 22: <utils.train_utils.Node object at 0x0000017D9FA41490>, 23: <utils.train_utils.Node object at 0x0000017D9FA414F0>, 24: <utils.train_utils.Node object at 0x0000017D9FA417F0>, 25: <utils.train_utils.Node object at 0x0000017D9FA418E0>, 26: <utils.train_utils.Node object at 0x0000017D9FA41BB0>, 27: <utils.train_utils.Node object at 0x0000017D9FA41040>, 28: <utils.train_utils.Node object at 0x0000017D9FA410D0>, 29: <utils.train_utils.Node object at 0x0000017D9FA411C0>, 30: <utils.train_utils.Node object at 0x0000017D9FA41670>, 31: <utils.train_utils.Node object at 0x0000017D9FA41CA0>, 32: <utils.train_utils.Node object at 0x0000017D9FA41190>}\n"
     ]
    }
   ],
   "source": [
    "print(tree)"
   ]
  },
  {
   "cell_type": "code",
   "execution_count": 30,
   "metadata": {},
   "outputs": [
    {
     "data": {
      "text/plain": [
       "2"
      ]
     },
     "execution_count": 30,
     "metadata": {},
     "output_type": "execute_result"
    }
   ],
   "source": [
    "tree[32].trainidx[1]"
   ]
  },
  {
   "cell_type": "code",
   "execution_count": 29,
   "metadata": {},
   "outputs": [
    {
     "data": {
      "text/plain": [
       "[]"
      ]
     },
     "execution_count": 29,
     "metadata": {},
     "output_type": "execute_result"
    }
   ],
   "source": [
    "tree[32].testidx"
   ]
  },
  {
   "cell_type": "code",
   "execution_count": 11,
   "metadata": {},
   "outputs": [
    {
     "ename": "AttributeError",
     "evalue": "'TL_NN1' object has no attribute 'predict'",
     "output_type": "error",
     "traceback": [
      "\u001b[1;31m---------------------------------------------------------------------------\u001b[0m",
      "\u001b[1;31mAttributeError\u001b[0m                            Traceback (most recent call last)",
      "\u001b[1;32mc:\\Saravana\\Projects\\Intellizenz\\intellizenz-model-training\\Neuro-symbolic-AI\\LNN\\Codes\\model_evaluation.ipynb Zelle 7\u001b[0m in \u001b[0;36m<cell line: 1>\u001b[1;34m()\u001b[0m\n\u001b[1;32m----> <a href='vscode-notebook-cell:/c%3A/Saravana/Projects/Intellizenz/intellizenz-model-training/Neuro-symbolic-AI/LNN/Codes/model_evaluation.ipynb#W5sZmlsZQ%3D%3D?line=0'>1</a>\u001b[0m model\u001b[39m.\u001b[39;49mpredict(X_test)\n",
      "File \u001b[1;32mc:\\Saravana\\Projects\\Intellizenz\\intellizenz-model-training\\.venv\\lib\\site-packages\\torch\\nn\\modules\\module.py:1207\u001b[0m, in \u001b[0;36mModule.__getattr__\u001b[1;34m(self, name)\u001b[0m\n\u001b[0;32m   1205\u001b[0m     \u001b[39mif\u001b[39;00m name \u001b[39min\u001b[39;00m modules:\n\u001b[0;32m   1206\u001b[0m         \u001b[39mreturn\u001b[39;00m modules[name]\n\u001b[1;32m-> 1207\u001b[0m \u001b[39mraise\u001b[39;00m \u001b[39mAttributeError\u001b[39;00m(\u001b[39m\"\u001b[39m\u001b[39m'\u001b[39m\u001b[39m{}\u001b[39;00m\u001b[39m'\u001b[39m\u001b[39m object has no attribute \u001b[39m\u001b[39m'\u001b[39m\u001b[39m{}\u001b[39;00m\u001b[39m'\u001b[39m\u001b[39m\"\u001b[39m\u001b[39m.\u001b[39mformat(\n\u001b[0;32m   1208\u001b[0m     \u001b[39mtype\u001b[39m(\u001b[39mself\u001b[39m)\u001b[39m.\u001b[39m\u001b[39m__name__\u001b[39m, name))\n",
      "\u001b[1;31mAttributeError\u001b[0m: 'TL_NN1' object has no attribute 'predict'"
     ]
    }
   ],
   "source": [
    "model.predict(X_test)"
   ]
  },
  {
   "cell_type": "code",
   "execution_count": null,
   "metadata": {},
   "outputs": [],
   "source": [
    "trainidx = Nodes[pronum].trainidx    \n",
    "Xori = X[trainidx,:]\n",
    "yori = y[trainidx]\n",
    "\n",
    "\n",
    "N, T = len(yori), int(Xori.shape[1]/3)\n",
    "\n",
    "\n",
    "Xpred, accu, trueidx, falseidx = Cpt_Accuracy(model,\\\n",
    "                                Xori, yori, T)\n",
    "Xpredv, accuv, trueidxv, falseidxv = Cpt_Accuracy(model,\\\n",
    "                                Xvori, yvori, T)"
   ]
  }
 ],
 "metadata": {
  "kernelspec": {
   "display_name": "intellizenz-model-training-LRwJb8pv-py3.9",
   "language": "python",
   "name": "python3"
  },
  "language_info": {
   "codemirror_mode": {
    "name": "ipython",
    "version": 3
   },
   "file_extension": ".py",
   "mimetype": "text/x-python",
   "name": "python",
   "nbconvert_exporter": "python",
   "pygments_lexer": "ipython3",
   "version": "3.9.13 (tags/v3.9.13:6de2ca5, May 17 2022, 16:36:42) [MSC v.1929 64 bit (AMD64)]"
  },
  "orig_nbformat": 4,
  "vscode": {
   "interpreter": {
    "hash": "17ce7e5e80fa8847c13f468233b8349b1468d0a77f7c99a15d53db37f56b8200"
   }
  }
 },
 "nbformat": 4,
 "nbformat_minor": 2
}
