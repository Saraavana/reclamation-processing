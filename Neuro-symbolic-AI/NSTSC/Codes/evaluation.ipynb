{
 "cells": [
  {
   "cell_type": "code",
   "execution_count": null,
   "metadata": {},
   "outputs": [],
   "source": [
    "from Models_node import *\n",
    "from utils.datautils import *\n",
    "from utils.train_utils import *"
   ]
  },
  {
   "cell_type": "code",
   "execution_count": null,
   "metadata": {},
   "outputs": [],
   "source": [
    "Dataset_name = \"Intellizenz\"\n",
    "print('Start Training ---' + str(Dataset_name) + ' ---dataset\\n')\n",
    "dataset_path_ = 'C:/Saravana/Projects/Intellizenz/intellizenz-model-training/data'\n",
    "\n",
    "normalize_dataset = True\n",
    "Max_epoch = 100\n",
    "# model training\n",
    "Xtrain_raw, ytrain_raw, Xval_raw, yval_raw, Xtest_raw, ytest_raw \\\n",
    "    = Readdataset(dataset_path_, Dataset_name)\n",
    "Xtrain, Xval, Xtest = Multi_view(Xtrain_raw, Xval_raw, Xtest_raw)\n",
    "N, T = calculate_dataset_metrics(Xtrain)\n",
    "Tree = Train_model(Xtrain, Xval, ytrain_raw, yval_raw, epochs = Max_epoch,\\\n",
    "                    normalize_timeseries = normalize_dataset)"
   ]
  },
  {
   "cell_type": "code",
   "execution_count": null,
   "metadata": {},
   "outputs": [],
   "source": [
    "# model testing\n",
    "testaccu = Evaluate_model(Tree, Xtest, ytest_raw)\n",
    "print(\"Test accuracy for dataset {} is --- {}\".format(Dataset_name, testaccu))"
   ]
  },
  {
   "cell_type": "code",
   "execution_count": null,
   "metadata": {},
   "outputs": [],
   "source": []
  }
 ],
 "metadata": {
  "kernelspec": {
   "display_name": "intellizenz-model-training-LRwJb8pv-py3.9",
   "language": "python",
   "name": "python3"
  },
  "language_info": {
   "codemirror_mode": {
    "name": "ipython",
    "version": 3
   },
   "file_extension": ".py",
   "mimetype": "text/x-python",
   "name": "python",
   "nbconvert_exporter": "python",
   "pygments_lexer": "ipython3",
   "version": "3.9.13 (tags/v3.9.13:6de2ca5, May 17 2022, 16:36:42) [MSC v.1929 64 bit (AMD64)]"
  },
  "orig_nbformat": 4,
  "vscode": {
   "interpreter": {
    "hash": "17ce7e5e80fa8847c13f468233b8349b1468d0a77f7c99a15d53db37f56b8200"
   }
  }
 },
 "nbformat": 4,
 "nbformat_minor": 2
}
